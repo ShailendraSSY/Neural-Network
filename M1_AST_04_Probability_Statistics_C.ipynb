{
  "nbformat": 4,
  "nbformat_minor": 0,
  "metadata": {
    "colab": {
      "name": "M1_AST_04_Probability_Statistics_C.ipynb",
      "provenance": [],
      "collapsed_sections": [],
      "toc_visible": true,
      "include_colab_link": true
    },
    "kernelspec": {
      "name": "python3",
      "display_name": "Python 3"
    },
    "language_info": {
      "name": "python"
    },
    "accelerator": "TPU"
  },
  "cells": [
    {
      "cell_type": "markdown",
      "metadata": {
        "id": "view-in-github",
        "colab_type": "text"
      },
      "source": [
        "<a href=\"https://colab.research.google.com/github/ShailendraSSY/Neural-Network/blob/master/M1_AST_04_Probability_Statistics_C.ipynb\" target=\"_parent\"><img src=\"https://colab.research.google.com/assets/colab-badge.svg\" alt=\"Open In Colab\"/></a>"
      ]
    },
    {
      "cell_type": "markdown",
      "metadata": {
        "id": "DCgpE0GSFT8a"
      },
      "source": [
        "# Advanced Certification Program in Deep Learning\n",
        "## A program by IISc and TalentSprint\n",
        "### Assignment 4: Probability and Statistics "
      ]
    },
    {
      "cell_type": "markdown",
      "metadata": {
        "id": "pr0NVbjeFYi5"
      },
      "source": [
        "## Learning Objectives"
      ]
    },
    {
      "cell_type": "markdown",
      "metadata": {
        "id": "qwcb4wBybvSm"
      },
      "source": [
        "At the end of the experiment, you will be able to\n",
        "\n",
        "* get a broad exposure of the estimators and the way to deal them.\n",
        "* understand the terms like parameter estimation, bias estimator, and consistency.\n",
        "\n",
        "* understand the difference between dependent and independent events.\n",
        "* understand the concepts of mean squared error, hypothesis testing and maximum likelihood estimation.\n",
        "*   understand the bayesian inference with prior and posterior distributions.\n",
        "*   understand bayesian point estimators with map estimator."
      ]
    },
    {
      "cell_type": "markdown",
      "metadata": {
        "id": "BNLA8HiKxQhc"
      },
      "source": [
        "### Setup Steps:"
      ]
    },
    {
      "cell_type": "code",
      "metadata": {
        "id": "2YzfoPvJDiTX"
      },
      "source": [
        "#@title Please enter your registration id to start: { run: \"auto\", display-mode: \"form\" }\n",
        "Id = \"2200023\" #@param {type:\"string\"}"
      ],
      "execution_count": 1,
      "outputs": []
    },
    {
      "cell_type": "code",
      "metadata": {
        "id": "rEzlYL4CDrmE"
      },
      "source": [
        "#@title Please enter your password (normally your phone number) to continue: { run: \"auto\", display-mode: \"form\" }\n",
        "password = \"9910549998\" #@param {type:\"string\"}"
      ],
      "execution_count": 2,
      "outputs": []
    },
    {
      "cell_type": "code",
      "metadata": {
        "id": "WBPPuGmBlDIN",
        "cellView": "form",
        "colab": {
          "base_uri": "https://localhost:8080/",
          "height": 34
        },
        "outputId": "17106a2f-b536-4196-9356-bc842f5e1689"
      },
      "source": [
        "#@title Run this cell to complete the setup for this Notebook\n",
        "from IPython import get_ipython\n",
        "\n",
        "ipython = get_ipython()\n",
        "  \n",
        "notebook= \"M1_AST_04_Probability_Statistics_C\" #name of the notebook\n",
        "\n",
        "def setup():\n",
        "#  ipython.magic(\"sx pip3 install torch\")  \n",
        "    from IPython.display import HTML, display\n",
        "    display(HTML('<script src=\"https://dashboard.talentsprint.com/aiml/record_ip.html?traineeId={0}&recordId={1}\"></script>'.format(getId(),submission_id)))\n",
        "    print(\"Setup completed successfully\")\n",
        "    return\n",
        "\n",
        "def submit_notebook():\n",
        "    ipython.magic(\"notebook -e \"+ notebook + \".ipynb\")\n",
        "    \n",
        "    import requests, json, base64, datetime\n",
        "\n",
        "    url = \"https://dashboard.talentsprint.com/xp/app/save_notebook_attempts\"\n",
        "    if not submission_id:\n",
        "      data = {\"id\" : getId(), \"notebook\" : notebook, \"mobile\" : getPassword()}\n",
        "      r = requests.post(url, data = data)\n",
        "      r = json.loads(r.text)\n",
        "\n",
        "      if r[\"status\"] == \"Success\":\n",
        "          return r[\"record_id\"]\n",
        "      elif \"err\" in r:        \n",
        "        print(r[\"err\"])\n",
        "        return None        \n",
        "      else:\n",
        "        print (\"Something is wrong, the notebook will not be submitted for grading\")\n",
        "        return None\n",
        "    \n",
        "    elif getAnswer1() and getAnswer2() and getComplexity() and getAdditional() and getConcepts() and getComments() and getMentorSupport():\n",
        "      f = open(notebook + \".ipynb\", \"rb\")\n",
        "      file_hash = base64.b64encode(f.read())\n",
        "\n",
        "      data = {\"complexity\" : Complexity, \"additional\" :Additional, \n",
        "              \"concepts\" : Concepts, \"record_id\" : submission_id, \n",
        "              \"answer1\" : Answer1, \"answer2\" : Answer2, \"id\" : Id, \"file_hash\" : file_hash,\n",
        "              \"notebook\" : notebook,\n",
        "              \"feedback_experiments_input\" : Comments,\n",
        "              \"feedback_mentor_support\": Mentor_support}\n",
        "      r = requests.post(url, data = data)\n",
        "      r = json.loads(r.text)\n",
        "      if \"err\" in r:        \n",
        "        print(r[\"err\"])\n",
        "        return None   \n",
        "      else:\n",
        "        print(\"Your submission is successful.\")\n",
        "        print(\"Ref Id:\", submission_id)\n",
        "        print(\"Date of submission: \", r[\"date\"])\n",
        "        print(\"Time of submission: \", r[\"time\"])\n",
        "        print(\"View your submissions: https://dlfa.iisc.talentsprint.com/notebook_submissions\")\n",
        "        #print(\"For any queries/discrepancies, please connect with mentors through the chat icon in LMS dashboard.\")\n",
        "        return submission_id\n",
        "    else: submission_id\n",
        "    \n",
        "\n",
        "def getAdditional():\n",
        "  try:\n",
        "    if not Additional: \n",
        "      raise NameError\n",
        "    else:\n",
        "      return Additional  \n",
        "  except NameError:\n",
        "    print (\"Please answer Additional Question\")\n",
        "    return None\n",
        "\n",
        "def getComplexity():\n",
        "  try:\n",
        "    if not Complexity:\n",
        "      raise NameError\n",
        "    else:\n",
        "      return Complexity\n",
        "  except NameError:\n",
        "    print (\"Please answer Complexity Question\")\n",
        "    return None\n",
        "  \n",
        "def getConcepts():\n",
        "  try:\n",
        "    if not Concepts:\n",
        "      raise NameError\n",
        "    else:\n",
        "      return Concepts\n",
        "  except NameError:\n",
        "    print (\"Please answer Concepts Question\")\n",
        "    return None\n",
        "  \n",
        "  \n",
        "# def getWalkthrough():\n",
        "#   try:\n",
        "#     if not Walkthrough:\n",
        "#       raise NameError\n",
        "#     else:\n",
        "#       return Walkthrough\n",
        "#   except NameError:\n",
        "#     print (\"Please answer Walkthrough Question\")\n",
        "#     return None\n",
        "  \n",
        "def getComments():\n",
        "  try:\n",
        "    if not Comments:\n",
        "      raise NameError\n",
        "    else:\n",
        "      return Comments\n",
        "  except NameError:\n",
        "    print (\"Please answer Comments Question\")\n",
        "    return None\n",
        "  \n",
        "\n",
        "def getMentorSupport():\n",
        "  try:\n",
        "    if not Mentor_support:\n",
        "      raise NameError\n",
        "    else:\n",
        "      return Mentor_support\n",
        "  except NameError:\n",
        "    print (\"Please answer Mentor support Question\")\n",
        "    return None\n",
        "\n",
        "def getAnswer1():\n",
        "  try:\n",
        "    if not Answer1:\n",
        "      raise NameError \n",
        "    else: \n",
        "      return Answer1\n",
        "  except NameError:\n",
        "    print (\"Please answer Question 1\")\n",
        "    return None\n",
        "\n",
        "def getAnswer2():\n",
        "  try:\n",
        "    if not Answer2:\n",
        "      raise NameError \n",
        "    else: \n",
        "      return Answer2\n",
        "  except NameError:\n",
        "    print (\"Please answer Question 2\")\n",
        "    return None\n",
        "  \n",
        "\n",
        "def getId():\n",
        "  try: \n",
        "    return Id if Id else None\n",
        "  except NameError:\n",
        "    return None\n",
        "\n",
        "def getPassword():\n",
        "  try:\n",
        "    return password if password else None\n",
        "  except NameError:\n",
        "    return None\n",
        "\n",
        "submission_id = None\n",
        "### Setup \n",
        "if getPassword() and getId():\n",
        "  submission_id = submit_notebook()\n",
        "  if submission_id:\n",
        "    setup() \n",
        "else:\n",
        "  print (\"Please complete Id and Password cells before running setup\")\n",
        "\n"
      ],
      "execution_count": 3,
      "outputs": [
        {
          "output_type": "display_data",
          "data": {
            "text/html": [
              "<script src=\"https://dashboard.talentsprint.com/aiml/record_ip.html?traineeId=2200023&recordId=2281\"></script>"
            ],
            "text/plain": [
              "<IPython.core.display.HTML object>"
            ]
          },
          "metadata": {}
        },
        {
          "output_type": "stream",
          "name": "stdout",
          "text": [
            "Setup completed successfully\n"
          ]
        }
      ]
    },
    {
      "cell_type": "markdown",
      "metadata": {
        "id": "fuXwHNEXFntd"
      },
      "source": [
        "#### Importing required packages"
      ]
    },
    {
      "cell_type": "code",
      "metadata": {
        "id": "vJnhXhDAFTHj"
      },
      "source": [
        "import numpy as np\n",
        "import pandas as pd\n",
        "import math\n",
        "import seaborn as sns\n",
        "from scipy import stats\n",
        "import scipy.stats as st\n",
        "import scipy\n",
        "from scipy.stats import gmean, hmean\n",
        "from numpy import random\n",
        "import matplotlib.pyplot as plt\n",
        "import seaborn as sns\n",
        "%matplotlib inline\n",
        "sns.set(style='ticks', palette='Set2')"
      ],
      "execution_count": 4,
      "outputs": []
    },
    {
      "cell_type": "markdown",
      "metadata": {
        "id": "xg6jsSvUFruG"
      },
      "source": [
        " **1.** The scores of five people playing golf are 3, 4, 4, 5 and 7. Find the mean, median and mode for the scores."
      ]
    },
    {
      "cell_type": "code",
      "metadata": {
        "id": "u4YsrjW3FxK_"
      },
      "source": [
        "l = [3, 4, 4, 5, 7]"
      ],
      "execution_count": 5,
      "outputs": []
    },
    {
      "cell_type": "code",
      "metadata": {
        "id": "ONGHsFaIF1HP",
        "colab": {
          "base_uri": "https://localhost:8080/"
        },
        "outputId": "39565cf4-b5b0-44a6-e57b-bbe555c89792"
      },
      "source": [
        "np.mean(l)"
      ],
      "execution_count": 6,
      "outputs": [
        {
          "output_type": "execute_result",
          "data": {
            "text/plain": [
              "4.6"
            ]
          },
          "metadata": {},
          "execution_count": 6
        }
      ]
    },
    {
      "cell_type": "code",
      "metadata": {
        "id": "krv4nbacF3sN",
        "colab": {
          "base_uri": "https://localhost:8080/"
        },
        "outputId": "be211c47-8b07-4d4d-f23f-abfddaa57a17"
      },
      "source": [
        "np.median(l)"
      ],
      "execution_count": 7,
      "outputs": [
        {
          "output_type": "execute_result",
          "data": {
            "text/plain": [
              "4.0"
            ]
          },
          "metadata": {},
          "execution_count": 7
        }
      ]
    },
    {
      "cell_type": "code",
      "metadata": {
        "id": "Eh0n1MyWF6c2",
        "colab": {
          "base_uri": "https://localhost:8080/"
        },
        "outputId": "3b5f6a21-894d-43fd-f700-0cb4e85658ab"
      },
      "source": [
        "stats.mode(l)"
      ],
      "execution_count": 8,
      "outputs": [
        {
          "output_type": "execute_result",
          "data": {
            "text/plain": [
              "ModeResult(mode=array([4]), count=array([2]))"
            ]
          },
          "metadata": {},
          "execution_count": 8
        }
      ]
    },
    {
      "cell_type": "markdown",
      "metadata": {
        "id": "MWb5Sw6AG3Dg"
      },
      "source": [
        "**2.**  The length of crystals from a solutions are: 9, 2, 5, 4, 12, 7, 8 and 11. Calculate the standard deviation of the length of the crystals."
      ]
    },
    {
      "cell_type": "code",
      "metadata": {
        "id": "qF7PmKvMHAHA",
        "colab": {
          "base_uri": "https://localhost:8080/"
        },
        "outputId": "e7674559-a260-499f-8bf0-306818ab56c4"
      },
      "source": [
        "k = [9, 2, 5, 4, 12, 7, 8, 11]\n",
        "np.std(k)"
      ],
      "execution_count": 9,
      "outputs": [
        {
          "output_type": "execute_result",
          "data": {
            "text/plain": [
              "3.2307119958300214"
            ]
          },
          "metadata": {},
          "execution_count": 9
        }
      ]
    },
    {
      "cell_type": "markdown",
      "metadata": {
        "id": "ZuzPSz6nKazP"
      },
      "source": [
        " **3.** Calculate the variance of salaries for the dataframe given below:\n",
        " \n",
        " dataframe = ({'salaries': [33219, 36254, 38801, 46335, 46840, 47596, 55130, 56863, 78070, 88830]})"
      ]
    },
    {
      "cell_type": "code",
      "metadata": {
        "id": "2ifZleFJLN8P",
        "colab": {
          "base_uri": "https://localhost:8080/"
        },
        "outputId": "d062f782-ce57-4338-82f9-20226b47465f"
      },
      "source": [
        "data = pd.DataFrame({'salaries': [33219, 36254, 38801, 46335, 46840, \n",
        "                                            47596, 55130, 56863, 78070, 88830]})\n",
        "\n",
        "data.salaries.mean() "
      ],
      "execution_count": 10,
      "outputs": [
        {
          "output_type": "execute_result",
          "data": {
            "text/plain": [
              "52793.8"
            ]
          },
          "metadata": {},
          "execution_count": 10
        }
      ]
    },
    {
      "cell_type": "code",
      "metadata": {
        "id": "IdSqRe5wLZW1",
        "colab": {
          "base_uri": "https://localhost:8080/"
        },
        "outputId": "36b22bf5-7379-427a-a4c6-1e7b28f1ab92"
      },
      "source": [
        "data.salaries.var()"
      ],
      "execution_count": 11,
      "outputs": [
        {
          "output_type": "execute_result",
          "data": {
            "text/plain": [
              "324025267.0666667"
            ]
          },
          "metadata": {},
          "execution_count": 11
        }
      ]
    },
    {
      "cell_type": "markdown",
      "metadata": {
        "id": "DddVmMG_Lpye"
      },
      "source": [
        " **4.**  The scores of five people playing golf are 3, 4, 4, 5 and 7. Find Harmonic and Geometric mean for the scores.\n",
        "\n",
        "**Hint:** To know more about Harmonic and Geometric mean click\n",
        "  [here](https://medium.com/@sharmi.v.murali/arithmetic-mean-vs-geometric-mean-vs-harmonic-mean-b956cf1b2b3f)"
      ]
    },
    {
      "cell_type": "code",
      "metadata": {
        "id": "9UOp7zp8LiCy",
        "colab": {
          "base_uri": "https://localhost:8080/"
        },
        "outputId": "e337596c-85af-4f8f-fb9f-7511fa1bf091"
      },
      "source": [
        "l = [3, 4, 4, 5, 7]\n",
        "print(\"The geometric mean is :\",gmean(l))\n",
        "print(\"The harmonic mean is :\",hmean(l))"
      ],
      "execution_count": 12,
      "outputs": [
        {
          "output_type": "stream",
          "name": "stdout",
          "text": [
            "The geometric mean is : 4.416333444896913\n",
            "The harmonic mean is : 4.251012145748988\n"
          ]
        }
      ]
    },
    {
      "cell_type": "markdown",
      "metadata": {
        "id": "4OMitShRMLp5"
      },
      "source": [
        "**5.** Calculate the correlation between Salary and Experience(In Years) columns for the below dataframe:\n",
        "\n",
        "dataframe = (\n",
        "\n",
        "{'Name': ['Dan', 'Joann', 'Pedro', 'Rosie', 'Ethan', 'Vicky', 'Frederic'],\n",
        "\n",
        "'Salary':[50000, 54000, 50000, 189000, 55000, 40000, 59000],\n",
        "\n",
        "'Hours':[41,40,36,17,35,39,40],\n",
        "\n",
        "'Experience(In Years)':[2, 2, 3, 7, 5, 2, 4]})"
      ]
    },
    {
      "cell_type": "code",
      "metadata": {
        "id": "mLRHnAdSGLj4"
      },
      "source": [
        "df = pd.DataFrame({'Name': ['Dan', 'Joann', 'Pedro', 'Rosie', 'Ethan', 'Vicky', 'Frederic'],\n",
        "                   'Salary':[50000,54000,50000,189000,55000,40000,59000],\n",
        "                   'Hours':[41,40,36,17,35,39,40],\n",
        "                   'Experience(In Years)':[2, 2, 3, 7, 5, 2, 4]})"
      ],
      "execution_count": 13,
      "outputs": []
    },
    {
      "cell_type": "code",
      "metadata": {
        "id": "AqBloFehMU42",
        "colab": {
          "base_uri": "https://localhost:8080/"
        },
        "outputId": "60ca27b9-b26f-4aa4-970c-b5544109c133"
      },
      "source": [
        "# Calculating the correlation between Salary and Experience(In Years)\n",
        "print(df['Experience(In Years)'].corr(df['Salary']))"
      ],
      "execution_count": 14,
      "outputs": [
        {
          "output_type": "stream",
          "name": "stdout",
          "text": [
            "0.8314219298762264\n"
          ]
        }
      ]
    },
    {
      "cell_type": "markdown",
      "metadata": {
        "id": "H5s-vNYRM115"
      },
      "source": [
        " **6.** Find the quartile thresholds for the weekly hours worked by the employees for the below-mentioned dataframe.\n",
        "\n",
        "dataframe = (\n",
        "\n",
        "{'Name': ['Dan', 'Joann', 'Pedro', 'Rosie', 'Ethan', 'Vicky', 'Frederic'],\n",
        "\n",
        "'Salary':[50000, 54000, 50000, 189000, 55000, 40000, 59000],\n",
        "\n",
        "'Hours':[41,40,36,17,35,39,40],\n",
        "\n",
        "'Experience(In Years)':[2, 2, 3, 7, 5, 2, 4]})"
      ]
    },
    {
      "cell_type": "code",
      "metadata": {
        "id": "Y_OLR6jpGSih"
      },
      "source": [
        "df = pd.DataFrame({'Name': ['Dan', 'Joann', 'Pedro', 'Rosie', 'Ethan', 'Vicky', 'Frederic'],\n",
        "                   'Salary':[50000,54000,50000,189000,55000,40000,59000],\n",
        "                   'Hours':[41,40,36,17,35,39,40],\n",
        "                   'Experience(In Years)':[2, 2, 3, 7, 5, 2, 4]})"
      ],
      "execution_count": 15,
      "outputs": []
    },
    {
      "cell_type": "code",
      "metadata": {
        "id": "fIJnRxjNNIvk",
        "colab": {
          "base_uri": "https://localhost:8080/"
        },
        "outputId": "2a6f4a6e-5566-4e91-d698-c2d34b0f02ce"
      },
      "source": [
        "print(\"The quartile threshold values are\",df['Hours'].quantile([0.25, 0.5, 0.75]))"
      ],
      "execution_count": 16,
      "outputs": [
        {
          "output_type": "stream",
          "name": "stdout",
          "text": [
            "The quartile threshold values are 0.25    35.5\n",
            "0.50    39.0\n",
            "0.75    40.0\n",
            "Name: Hours, dtype: float64\n"
          ]
        }
      ]
    },
    {
      "cell_type": "markdown",
      "metadata": {
        "id": "W4N56ItzNVE1"
      },
      "source": [
        "### Parameter Estimation"
      ]
    },
    {
      "cell_type": "markdown",
      "metadata": {
        "id": "ps5EQE0TNXQm"
      },
      "source": [
        "**Parameter Estimation:** Parameters are defined as the characteristics of the given data. Estimators are defined as the predictions of values with the help of the dataset.\n",
        "\n",
        "Any function of a random sample that is used to estimate the values of the parameter of a given dataset is called Parameter Estimation.\n",
        "\n",
        "If $x_1,x_2,x_3,....x_n$ is the sample size of size n, then\n",
        "\n",
        "$T_n(x_1,x_2,x_3,....x_n)$ will be the estimator of parameter."
      ]
    },
    {
      "cell_type": "markdown",
      "metadata": {
        "id": "jvZ-1Wj5NZrp"
      },
      "source": [
        "**7.** Find the mean, median and standard deviation for the dataframe that is given below.\n",
        "\n",
        "dataframe = {'age' : [ 23, 34, 23, 55, 43, 29, 34, 35, 49, 59 ],\n",
        "\n",
        "  'weight': [ 45, 56, 67, 78, 89, 90, 94, 95, 88, 67 ],\n",
        "\n",
        "  'height': [ 171, 182, 154, 169, 182, 154, 196, 169, 178, 152 ]}"
      ]
    },
    {
      "cell_type": "code",
      "metadata": {
        "id": "j01fMjXXNcGq",
        "colab": {
          "base_uri": "https://localhost:8080/"
        },
        "outputId": "3700f96b-a28c-4990-a322-a65b08340a58"
      },
      "source": [
        "data = {'age' :[23,34,23,55,43,29,34,35,49,59],\n",
        "        'weight':[45,56,67,78,89,90,94,95,88,67],\n",
        "        'height':[171,182,154,169,182,154,196,169,178,152]}\n",
        "df= pd.DataFrame(data)\n",
        "\n",
        "print(\"The mean for the dataset is:\",df.mean())\n",
        "print(\"The median for the dataset is:\",df.median())\n",
        "print(\"The standard deviation for the dataset is:\",df.std())"
      ],
      "execution_count": 17,
      "outputs": [
        {
          "output_type": "stream",
          "name": "stdout",
          "text": [
            "The mean for the dataset is: age        38.4\n",
            "weight     76.9\n",
            "height    170.7\n",
            "dtype: float64\n",
            "The median for the dataset is: age        34.5\n",
            "weight     83.0\n",
            "height    170.0\n",
            "dtype: float64\n",
            "The standard deviation for the dataset is: age       12.677189\n",
            "weight    17.361836\n",
            "height    14.384019\n",
            "dtype: float64\n"
          ]
        }
      ]
    },
    {
      "cell_type": "markdown",
      "metadata": {
        "id": "FDwUsYHnNgOw"
      },
      "source": [
        "### Bias Estimation"
      ]
    },
    {
      "cell_type": "markdown",
      "metadata": {
        "id": "TnTNYElJNiMU"
      },
      "source": [
        "**Bias Estimation:**  Bias is a term that refers to any type of error or distortion that is found with the use of analysis. Bias Estimation is the difference between the parameter to be estimated and the mathematical expectation of the estimator.\n",
        "\n",
        "$bias(\\hatθ_n)$ = $E[\\hatθ_n]- \\hatθ_n$\n",
        "\n",
        "The estimator is said to be unbiased when expected parameter and the original parameter are same i.e $E[θ_n^|] = θ_n^|.$"
      ]
    },
    {
      "cell_type": "markdown",
      "metadata": {
        "id": "WjXvsuicNkjC"
      },
      "source": [
        "**8.** Calculate the bias for the below given dataframe.\n",
        "\n",
        "dataframe = {\n",
        "'Expected_parameter':[2,3,1,5,6,7,8,9,6,5,4,3,2],\n",
        "\n",
        "'Original_parameter':[3,4,3,2,2,4,5,6,9,6,6,4,5]\n",
        "}"
      ]
    },
    {
      "cell_type": "code",
      "metadata": {
        "id": "xzterEgxNoii",
        "colab": {
          "base_uri": "https://localhost:8080/"
        },
        "outputId": "ba340397-cb2a-4e7b-d258-fe0db7cfa31a"
      },
      "source": [
        "data = {\n",
        "    'Expected_parameter':[2,3,1,5,6,7,8,9,6,5,4,3,2],\n",
        "    'Original_parameter':[3,4,3,2,2,4,5,6,9,6,6,4,5]\n",
        "}\n",
        "df= pd.DataFrame(data)\n",
        "df['Bias'] = df['Expected_parameter'] - df[\"Original_parameter\"] #Calculating the bias according to the formula\n",
        "print(\"The bias is\",df[\"Bias\"])"
      ],
      "execution_count": 18,
      "outputs": [
        {
          "output_type": "stream",
          "name": "stdout",
          "text": [
            "The bias is 0    -1\n",
            "1    -1\n",
            "2    -2\n",
            "3     3\n",
            "4     4\n",
            "5     3\n",
            "6     3\n",
            "7     3\n",
            "8    -3\n",
            "9    -1\n",
            "10   -2\n",
            "11   -1\n",
            "12   -3\n",
            "Name: Bias, dtype: int64\n"
          ]
        }
      ]
    },
    {
      "cell_type": "markdown",
      "metadata": {
        "id": "7z5CKXI3NzeI"
      },
      "source": [
        "### Mean Squared Error"
      ]
    },
    {
      "cell_type": "markdown",
      "metadata": {
        "id": "zoqp2f84Nnz6"
      },
      "source": [
        "**Mean Squared Error :** \n",
        "\n",
        "\n",
        "Let $\\hat{X}=g(Y)$ be an estimator of the random variable $X$, given that we have observed the random variable $Y$. The mean squared error (MSE) of this estimator is defined as\n",
        "\n",
        "$E[(X−\\hat{X})^2]=E[(X−g(Y))^2].$\n"
      ]
    },
    {
      "cell_type": "markdown",
      "metadata": {
        "id": "LheFxGveN3mK"
      },
      "source": [
        "**9.** Calculate the Mean Squared Error for the Y_true with values [1,1,2,2,4] and Y_pred with values [0.6,1.29,1.99,2.69,3.4]"
      ]
    },
    {
      "cell_type": "code",
      "metadata": {
        "id": "5KiW-bNsN9_0",
        "colab": {
          "base_uri": "https://localhost:8080/"
        },
        "outputId": "58ad7a67-e833-42c5-f4df-41c76167632f"
      },
      "source": [
        "# Defining Y_true and Y_pred values\n",
        "Y_true = [1,1,2,2,4]\n",
        "Y_pred = [0.6,1.29,1.99,2.69,3.4]  \n",
        "\n",
        "# Calculating Mean Squared Error\n",
        "MSE = np.square(np.subtract(Y_true,Y_pred)).mean()\n",
        "print(\"The mean Square Error is \",MSE)"
      ],
      "execution_count": 19,
      "outputs": [
        {
          "output_type": "stream",
          "name": "stdout",
          "text": [
            "The mean Square Error is  0.21606\n"
          ]
        }
      ]
    },
    {
      "cell_type": "markdown",
      "metadata": {
        "id": "l6ZMBUuEN_zf"
      },
      "source": [
        "### Maximum Likelihood Estimation"
      ]
    },
    {
      "cell_type": "markdown",
      "metadata": {
        "id": "VjGSs8O9OBwc"
      },
      "source": [
        "**Maximum Likelihood Estimation:** Maximum likelihood estimation is a method that determines maximum values for the parameter of a model."
      ]
    },
    {
      "cell_type": "markdown",
      "metadata": {
        "id": "ZZz5fFwOOEdp"
      },
      "source": [
        "**10.** Build 100 data points from the normal distribution with  mean=1 and standard deviation = 5. Estimate their maximum likelihood of mean, variance, and standard deviation from the data."
      ]
    },
    {
      "cell_type": "code",
      "metadata": {
        "id": "WNLcwPvYOGdS",
        "colab": {
          "base_uri": "https://localhost:8080/",
          "height": 339
        },
        "outputId": "6f735eff-e866-4244-d005-a3a1e4e67673"
      },
      "source": [
        "# Building the distributed data from mean and standard deviation\n",
        "mean = 1\n",
        "std = 5\n",
        "N_points = 100\n",
        "#  Finding the random normal distributed data \n",
        "data = np.random.normal(mean, std, N_points)\n",
        "sns.distplot(data, hist = False)"
      ],
      "execution_count": 20,
      "outputs": [
        {
          "output_type": "stream",
          "name": "stderr",
          "text": [
            "/usr/local/lib/python3.7/dist-packages/seaborn/distributions.py:2619: FutureWarning: `distplot` is a deprecated function and will be removed in a future version. Please adapt your code to use either `displot` (a figure-level function with similar flexibility) or `kdeplot` (an axes-level function for kernel density plots).\n",
            "  warnings.warn(msg, FutureWarning)\n"
          ]
        },
        {
          "output_type": "execute_result",
          "data": {
            "text/plain": [
              "<matplotlib.axes._subplots.AxesSubplot at 0x7fc73c3f5a50>"
            ]
          },
          "metadata": {},
          "execution_count": 20
        },
        {
          "output_type": "display_data",
          "data": {
            "image/png": "[encoded data removed]",
            "text/plain": [
              "<Figure size 432x288 with 1 Axes>"
            ]
          },
          "metadata": {}
        }
      ]
    },
    {
      "cell_type": "code",
      "metadata": {
        "id": "Inp5af9gOIau",
        "colab": {
          "base_uri": "https://localhost:8080/"
        },
        "outputId": "41040486-8d81-4717-ae4c-030dfde73c35"
      },
      "source": [
        "# Printing the original mean and variance\n",
        "print('Original mean is '+str(mean) + ', variance is ' + str(std**2),\" and standard deviation is \" +str(std))"
      ],
      "execution_count": 21,
      "outputs": [
        {
          "output_type": "stream",
          "name": "stdout",
          "text": [
            "Original mean is 1, variance is 25  and standard deviation is 5\n"
          ]
        }
      ]
    },
    {
      "cell_type": "code",
      "metadata": {
        "id": "JAxlMkzvONuV",
        "colab": {
          "base_uri": "https://localhost:8080/"
        },
        "outputId": "bdecc4e3-f41a-4ef8-b16e-9302a03e7c20"
      },
      "source": [
        "# Calculating the mean from the data\n",
        "mu_ML = 1/N_points*sum(data)\n",
        "print('Maximum likelihood estimation of mean from the normal distributed data is '+str(mu_ML))"
      ],
      "execution_count": 22,
      "outputs": [
        {
          "output_type": "stream",
          "name": "stdout",
          "text": [
            "Maximum likelihood estimation of mean from the normal distributed data is 2.1378630937433645\n"
          ]
        }
      ]
    },
    {
      "cell_type": "code",
      "metadata": {
        "id": "frylF700OPSA",
        "colab": {
          "base_uri": "https://localhost:8080/"
        },
        "outputId": "724d21c6-b736-4d73-96fd-9bafafef7e81"
      },
      "source": [
        "# Calculating the variance from the data\n",
        "var_ML = (1/(N_points-1))*sum([(x-mu_ML)**2 for x in data])\n",
        "print('Maximum likelihood estimation of variance from the normal distributed data is ' + str(var_ML))"
      ],
      "execution_count": 23,
      "outputs": [
        {
          "output_type": "stream",
          "name": "stdout",
          "text": [
            "Maximum likelihood estimation of variance from the normal distributed data is 25.038406259953213\n"
          ]
        }
      ]
    },
    {
      "cell_type": "code",
      "metadata": {
        "id": "CyJ8_Yi6ORds",
        "colab": {
          "base_uri": "https://localhost:8080/"
        },
        "outputId": "3b283a44-712c-4ec5-df94-7ecd07a69295"
      },
      "source": [
        "# Calculating the standard deviation from the data\n",
        "std_ML = math.sqrt(var_ML)\n",
        "print(\"Maximum likelihood estimation of standard deviation from the normal distributed data is  \"+str(std_ML))"
      ],
      "execution_count": 24,
      "outputs": [
        {
          "output_type": "stream",
          "name": "stdout",
          "text": [
            "Maximum likelihood estimation of standard deviation from the normal distributed data is  5.003839152086447\n"
          ]
        }
      ]
    },
    {
      "cell_type": "markdown",
      "metadata": {
        "id": "oBGn2dPCapoZ"
      },
      "source": [
        "### Bayesian inference"
      ]
    },
    {
      "cell_type": "markdown",
      "metadata": {
        "id": "jLsEzKdcar0Q"
      },
      "source": [
        "**Bayesian inference :**- Bayesian inference is a method of statistical inference in which Bayes' theorem is used to update the probability for a hypothesis as more evidence or information becomes available. Bayesian inference is an important technique in statistics, and especially in mathematical statistics  \n",
        "\n",
        "The components of Bayesian inference are:\n",
        "\n",
        "1.$ p(Θ)$ is the set of prior distributions for parameter set $Θ$ and it uses probability as a means of quantifying uncertainty about $Θ$ before taking the data into account.\n",
        "\n",
        "\n",
        "2.$p(y|Θ)$ is the likelihood or likelihood function, in which all variables are related in a full probability model.\n",
        "\n",
        "\n",
        "3.$p(Θ|y)$ is the joint posterior distribution that expresses uncertainty about parameter set $Θ$ after taking both the prior and the data into account. If parameter set $Θ$ is partitioned into a single parameter of interest $φ$ and the remaining parameters are considered noise parameters, then $p(φ|y)$ is the marginal posterior distribution."
      ]
    },
    {
      "cell_type": "markdown",
      "metadata": {
        "id": "LeqpePDLaveP"
      },
      "source": [
        "**11.** Bob is selecting one marble from two bowls of marbles. The first bowl has 75 red marbles and 25 blue marbles. The second bowl has 50 red marbles and 50 blue marbles. Given that Bob is equally likely to choose from either bowl and does not discriminate between the marbles themselves, Bob in fact chooses a red marble. What is the probability Bob picked the marble from bowl 1 and bowl 2? "
      ]
    },
    {
      "cell_type": "code",
      "metadata": {
        "id": "g6-fP5raayPb",
        "colab": {
          "base_uri": "https://localhost:8080/"
        },
        "outputId": "7f01b1e9-e9d6-4240-c573-d3188ed9b758"
      },
      "source": [
        "# Probability of fetching the marble from bowl\n",
        "P_H_1=P_H_2 =0.5  \n",
        "# Probability of fetching the red marble from first bowl\n",
        "P_E_H_1 = 75/100\n",
        "# Probability of fetching the marble from second bowl\n",
        "P_E_H_2= 50/100\n",
        "# Applying the Bayesian formula to pick the red marble from first bowl\n",
        "P_H_1_E = (P_E_H_1*P_H_1)/((P_E_H_1*P_H_1)+(P_E_H_2*P_H_2))\n",
        "P_H_2_E = (P_E_H_2*P_H_2)/((P_E_H_1*P_H_1)+(P_E_H_2*P_H_2))\n",
        "print(\"The probability of fetching the red marble from bowl one is \"+str(P_H_1_E)+ \" and from bowl 2 is \"+str(P_H_2_E))"
      ],
      "execution_count": 25,
      "outputs": [
        {
          "output_type": "stream",
          "name": "stdout",
          "text": [
            "The probability of fetching the red marble from bowl one is 0.6 and from bowl 2 is 0.4\n"
          ]
        }
      ]
    },
    {
      "cell_type": "markdown",
      "metadata": {
        "id": "bTCNpvaZa16i"
      },
      "source": [
        "### Prior and Posterior distribution"
      ]
    },
    {
      "cell_type": "markdown",
      "metadata": {
        "id": "I-2iTwz8a57C"
      },
      "source": [
        "**Prior distribution:** \n",
        "A Prior distribution represents your belief about the true or false value of a parameter. It shows your “best guess.”"
      ]
    },
    {
      "cell_type": "markdown",
      "metadata": {
        "id": "ZvgASXe4a77D"
      },
      "source": [
        "**Posterior distribution:**  The posterior distribution summarizes what you know after the data has been observed. The summary of the evidence from the new observations is the likelihood function.\n",
        "It is represented as $Posterior$ $Distribution$ $=$ $Prior$ $Distribution + Likelihood$ $Function (“new$ $evidence”)$"
      ]
    },
    {
      "cell_type": "markdown",
      "metadata": {
        "id": "Q0vkPqqia-RK"
      },
      "source": [
        "**12.** Construct a prior and posterior distribution with some binominal random distribution techniques."
      ]
    },
    {
      "cell_type": "code",
      "metadata": {
        "id": "8DQzNpiRbBXD"
      },
      "source": [
        "def bern_post(n_params=1000, n_sample=1000, true_p=.5, prior_p=.5, n_prior=1000):\n",
        "    # Creating the samples   \n",
        "    params = np.linspace(0, 1, n_params)\n",
        "    sample = np.random.binomial(n=1, p=true_p, size=n_sample)\n",
        "\n",
        "    # Calculating the Likelihood\n",
        "    likelihood = np.array([np.product(st.bernoulli.pmf(sample, p)) for p in params])\n",
        "    likelihood = likelihood / np.sum(likelihood)\n",
        "\n",
        "    # Prior sample\n",
        "    prior_sample = np.random.binomial(n=1, p=prior_p, size=n_prior)\n",
        "    prior = np.array([np.product(st.bernoulli.pmf(prior_sample, p)) for p in params])\n",
        "    prior = prior / np.sum(prior)\n",
        "\n",
        "    # Finding the posterior  \n",
        "    posterior = [prior[i] * likelihood[i] for i in range(prior.shape[0])]\n",
        "    posterior = posterior / np.sum(posterior)\n",
        "    \n",
        "    # Plotting the graph\n",
        "    fig, axes = plt.subplots(3, 1, sharex=True, figsize=(8,8))\n",
        "    axes[0].plot(params, likelihood)\n",
        "    axes[0].set_title(\"Sampling Distribution\")\n",
        "    axes[1].plot(params, prior)\n",
        "    axes[1].set_title(\"Prior Distribution\")\n",
        "    axes[2].plot(params, posterior)\n",
        "    axes[2].set_title(\"Posterior Distribution\")\n",
        "    sns.despine()\n",
        "    plt.tight_layout()\n",
        "     \n",
        "    return posterior"
      ],
      "execution_count": 26,
      "outputs": []
    },
    {
      "cell_type": "code",
      "metadata": {
        "id": "U9eRUzYobFcP",
        "colab": {
          "base_uri": "https://localhost:8080/",
          "height": 581
        },
        "outputId": "39b332c9-6e66-45a4-ff0b-cd2e5b45ae18"
      },
      "source": [
        "moredata_post = bern_post(n_sample=1000)"
      ],
      "execution_count": 27,
      "outputs": [
        {
          "output_type": "display_data",
          "data": {
            "image/png": "[encoded data removed]",
            "text/plain": [
              "<Figure size 576x576 with 3 Axes>"
            ]
          },
          "metadata": {}
        }
      ]
    },
    {
      "cell_type": "markdown",
      "metadata": {
        "id": "DGpUdYwLu8PI"
      },
      "source": [
        "### Covariance"
      ]
    },
    {
      "cell_type": "markdown",
      "metadata": {
        "id": "n9fq21hFvy3p"
      },
      "source": [
        "**Covariance:**Covariance is a measure of the relationship between two random variables. The metric evaluates how much - to what extent – the variables change together. In other words, it is essentially a measure of the variance between two variables. However, the metric does not assess the dependency between variables.\n",
        "\n",
        " $Cov(X,Y) =  \\frac{∑ [(X_i - X_m) * (Y_j - Y_m)]} {(n - 1)}$\n",
        "\n",
        "Where:\n",
        "\n",
        "* $X_i$ – the values of the $X$-variable\n",
        "* $Y_j$ – the values of the $Y$-variable\n",
        "* $X_m$ – the mean (average) of the $X$-variable\n",
        "* $Y_m$ – the mean (average) of the $Y$-variable\n",
        "* $n$ – the number of data points\n",
        "  \n",
        " \n",
        " It can also be represented as :\n",
        " $Cov(X,Y)=E[(X−E(X))(Y−E(Y))]=E[XY]−(E(X))(E(Y))$."
      ]
    },
    {
      "cell_type": "markdown",
      "metadata": {
        "id": "Drzgkn_la6hc"
      },
      "source": [
        "### Variance "
      ]
    },
    {
      "cell_type": "markdown",
      "metadata": {
        "id": "T7f_nxYTa_cM"
      },
      "source": [
        "**Variance:**The variance is the average of the squared differences from the mean.\n",
        "It is represented as $S^2$. the formula for variance is :\n",
        "\n",
        "$S^2 = \\frac {\\Sigma(x_i - x_m)^2}{(n-1)}$\n",
        "where:\n",
        "$x_i$ are the values of $x$.\n",
        "$x_m$ is the mean of $x$ \n",
        "$n$ is the number of data points. "
      ]
    },
    {
      "cell_type": "markdown",
      "metadata": {
        "id": "U1sE7fmfzuwG"
      },
      "source": [
        "**13.** Create a random integer matrix of size 3x3 and find the variance and covariance of it."
      ]
    },
    {
      "cell_type": "code",
      "metadata": {
        "id": "wjULHfCRzZPt",
        "colab": {
          "base_uri": "https://localhost:8080/"
        },
        "outputId": "163afe49-d238-49bc-cb69-22e5dc62fdd9"
      },
      "source": [
        "matrix = np.random.randint(10, size=(3, 3))\n",
        "print(\"The matrix is:\", matrix)\n",
        "cov_matrix = np.cov(matrix)\n",
        "var_matrix = np.var(matrix, dtype = np.float64)\n",
        "print(\"The covariance of the matrix is :\",cov_matrix)\n",
        "print(\"\\n Variance of array is : \", var_matrix) "
      ],
      "execution_count": 28,
      "outputs": [
        {
          "output_type": "stream",
          "name": "stdout",
          "text": [
            "The matrix is: [[7 4 8]\n",
            " [0 0 6]\n",
            " [6 5 7]]\n",
            "The covariance of the matrix is : [[ 4.33333333  5.          2.        ]\n",
            " [ 5.         12.          3.        ]\n",
            " [ 2.          3.          1.        ]]\n",
            "\n",
            " Variance of array is :  7.728395061728394\n"
          ]
        }
      ]
    },
    {
      "cell_type": "markdown",
      "metadata": {
        "id": "VHfHdGCP_n6Y"
      },
      "source": [
        "### Please answer the questions below to complete the experiment:\n",
        "\n",
        "\n"
      ]
    },
    {
      "cell_type": "code",
      "metadata": {
        "id": "kmvdJ4aNmGjR"
      },
      "source": [
        "#@title Q.1. Select the best option that describes the property of covariance for a matrix X of size mxn? { run: \"auto\", form-width: \"500px\", display-mode: \"form\" }\n",
        "Answer1 = \"\" #@param [\"\",\"positive semidefinite\", \"symmetric\", \"Its main diagonal contains variances\", \"All the above\", \"None of the above\"]"
      ],
      "execution_count": 29,
      "outputs": []
    },
    {
      "cell_type": "code",
      "metadata": {
        "id": "UX24XAeIJ6Nf"
      },
      "source": [
        "#@title Q.2. If X is a continuous random variable with pdf f(x), then what is the relationship between Variance and the Expected value of X? { run: \"auto\", form-width: \"500px\", display-mode: \"form\" }\n",
        "Answer2 = \"\" #@param [\"\",\"E[X]**2 - E[X**2]\", \"E[X**2] - E[X]**2\", \"E[X**2] - XE[X]\", \"None of the above\"]"
      ],
      "execution_count": 30,
      "outputs": []
    },
    {
      "cell_type": "code",
      "metadata": {
        "id": "NMzKSbLIgFzQ"
      },
      "source": [
        "#@title How was the experiment? { run: \"auto\", form-width: \"500px\", display-mode: \"form\" }\n",
        "Complexity = \"\" #@param [\"\",\"Too Simple, I am wasting time\", \"Good, But Not Challenging for me\", \"Good and Challenging for me\", \"Was Tough, but I did it\", \"Too Difficult for me\"]\n"
      ],
      "execution_count": 31,
      "outputs": []
    },
    {
      "cell_type": "code",
      "metadata": {
        "id": "DjcH1VWSFI2l"
      },
      "source": [
        "#@title If it was too easy, what more would you have liked to be added? If it was very difficult, what would you have liked to have been removed? { run: \"auto\", display-mode: \"form\" }\n",
        "Additional = \"\" #@param {type:\"string\"}\n"
      ],
      "execution_count": 32,
      "outputs": []
    },
    {
      "cell_type": "code",
      "metadata": {
        "id": "4VBk_4VTAxCM"
      },
      "source": [
        "#@title Can you identify the concepts from the lecture which this experiment covered? { run: \"auto\", vertical-output: true, display-mode: \"form\" }\n",
        "Concepts = \"\" #@param [\"\",\"Yes\", \"No\"]\n"
      ],
      "execution_count": 33,
      "outputs": []
    },
    {
      "cell_type": "code",
      "metadata": {
        "id": "XH91cL1JWH7m"
      },
      "source": [
        "#@title  Text and image description/explanation and code comments within the experiment: { run: \"auto\", vertical-output: true, display-mode: \"form\" }\n",
        "Comments = \"\" #@param [\"\",\"Very Useful\", \"Somewhat Useful\", \"Not Useful\", \"Didn't use\"]\n"
      ],
      "execution_count": 34,
      "outputs": []
    },
    {
      "cell_type": "code",
      "metadata": {
        "id": "z8xLqj7VWIKW"
      },
      "source": [
        "#@title Mentor Support: { run: \"auto\", vertical-output: true, display-mode: \"form\" }\n",
        "Mentor_support = \"\" #@param [\"\",\"Very Useful\", \"Somewhat Useful\", \"Not Useful\", \"Didn't use\"]\n"
      ],
      "execution_count": 35,
      "outputs": []
    },
    {
      "cell_type": "code",
      "metadata": {
        "id": "FzAZHt1zw-Y-",
        "cellView": "form",
        "colab": {
          "base_uri": "https://localhost:8080/"
        },
        "outputId": "4533fb54-6707-4c01-fe4f-1b742ff126d6"
      },
      "source": [
        "#@title Run this cell to submit your notebook for grading { vertical-output: true }\n",
        "try:\n",
        "  if submission_id:\n",
        "      return_id = submit_notebook()\n",
        "      if return_id : submission_id = return_id\n",
        "  else:\n",
        "      print(\"Please complete the setup first.\")\n",
        "except NameError:\n",
        "  print (\"Please complete the setup first.\")"
      ],
      "execution_count": 36,
      "outputs": [
        {
          "output_type": "stream",
          "name": "stdout",
          "text": [
            "Please answer Question 1\n"
          ]
        }
      ]
    }
  ]
}