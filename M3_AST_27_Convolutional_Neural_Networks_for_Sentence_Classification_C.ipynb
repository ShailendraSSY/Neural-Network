{
  "nbformat": 4,
  "nbformat_minor": 0,
  "metadata": {
    "colab": {
      "name": "M3_AST_27_Convolutional_Neural_Networks_for_Sentence_Classification_C.ipynb",
      "provenance": [],
      "collapsed_sections": [],
      "include_colab_link": true
    },
    "kernelspec": {
      "name": "python3",
      "display_name": "Python 3"
    },
    "language_info": {
      "name": "python"
    }
  },
  "cells": [
    {
      "cell_type": "markdown",
      "metadata": {
        "id": "view-in-github",
        "colab_type": "text"
      },
      "source": [
        "<a href=\"https://colab.research.google.com/github/ShailendraSSY/Neural-Network/blob/master/M3_AST_27_Convolutional_Neural_Networks_for_Sentence_Classification_C.ipynb\" target=\"_parent\"><img src=\"https://colab.research.google.com/assets/colab-badge.svg\" alt=\"Open In Colab\"/></a>"
      ]
    },
    {
      "cell_type": "markdown",
      "metadata": {
        "id": "p4Nwm4FK3wgU"
      },
      "source": [
        "# Advanced Programme in Deep Learning (Foundations and Applications)\n",
        "## A Program by IISc and TalentSprint\n",
        "### Assignment 27: Natural Language Processing - II (Convolutional Neural Networks for Sentence Classification)"
      ]
    },
    {
      "cell_type": "markdown",
      "metadata": {
        "id": "qu26Vq9jDTpj"
      },
      "source": [
        "### Learning Objectives:\n",
        "\n",
        "At the end of the experiment, you will be able to:\n",
        " \n",
        "*  represent words in the sentences using pretrained word embeddings\n",
        "*  generate vector representation of words in the sentence using Glove\n",
        "*  build a convolutional Neural Network for Sentence Classification\n"
      ]
    },
    {
      "cell_type": "markdown",
      "metadata": {
        "id": "MtOp3EVPL-0o"
      },
      "source": [
        "### Dataset\n",
        "\n",
        "#### Description\n",
        "\n",
        "\n",
        "The SICK(Sentences Involving Compositional Knowledge) dataset contains 9840 English sentence pairs:\n",
        "\n",
        "- two sentences, SentenceA and SentenceB\n",
        "- their relation to each other from SentenceA to SentenceB and from SentenceB to SentenceA (entailment, contradiction, neutral)\n",
        "\n",
        "For more details about the dataset refer to the following [link](https://zenodo.org/record/2787612#.YbA5pCbhU8o)"
      ]
    },
    {
      "cell_type": "markdown",
      "metadata": {
        "id": "7C-eklopT0q0"
      },
      "source": [
        "### Problem Statement\n",
        "\n",
        "The aim of this assignment is to study the use of a Siamese neural network for solving the textual\n",
        "entailment problem. We will use the CNN based\n",
        "architecture for sentence representation.\n",
        "\n",
        "Every instance of this dataset consists of two sentences (A and B) and the information whether the sentence (A/B)\n",
        "contradicts/neutral/entails the sentence (B/A). We treat this as a seven-category classification problem\n",
        "and design a Siamese neural network for solving this classification problem. Note that the input to\n",
        "the Siamese network will be two sentences and the output could be a 7-dimensional vector for the\n",
        "7 classes."
      ]
    },
    {
      "cell_type": "markdown",
      "metadata": {
        "id": "BNLA8HiKxQhc"
      },
      "source": [
        "### Setup Steps:"
      ]
    },
    {
      "cell_type": "code",
      "metadata": {
        "id": "2YzfoPvJDiTX"
      },
      "source": [
        "#@title Please enter your registration id to start: { run: \"auto\", display-mode: \"form\" }\n",
        "Id = \"2200023\" #@param {type:\"string\"}"
      ],
      "execution_count": 1,
      "outputs": []
    },
    {
      "cell_type": "code",
      "metadata": {
        "id": "rEzlYL4CDrmE"
      },
      "source": [
        "#@title Please enter your password (normally your phone number) to continue: { run: \"auto\", display-mode: \"form\" }\n",
        "password = \"9910549998\" #@param {type:\"string\"}"
      ],
      "execution_count": 2,
      "outputs": []
    },
    {
      "cell_type": "code",
      "metadata": {
        "id": "WBPPuGmBlDIN",
        "cellView": "form",
        "colab": {
          "base_uri": "https://localhost:8080/",
          "height": 34
        },
        "outputId": "71944819-acce-4784-8564-43df4553ab74"
      },
      "source": [
        "#@title Run this cell to complete the setup for this Notebook\n",
        "from IPython import get_ipython\n",
        "import warnings\n",
        "warnings.filterwarnings(\"ignore\")\n",
        "\n",
        "ipython = get_ipython()\n",
        "  \n",
        "notebook= \"M3_AST_27_Convolutional_Neural_Networks_for_Sentence_Classification_C\" #name of the notebook\n",
        "\n",
        "def setup():\n",
        "#  ipython.magic(\"sx pip3 install torch\") \n",
        "    ipython.magic(\"sx wget -qq https://cdn.iiith.talentsprint.com/aiml/Experiment_related_data/glove.6B.zip\")\n",
        "    ipython.magic(\"sx unzip glove.6B.zip\")\n",
        "    ipython.magic(\"sx wget https://cdn.iisc.talentsprint.com/DLFA/Experiment_related_data/sententence_data.csv\")\n",
        "\n",
        "\n",
        "    from IPython.display import HTML, display\n",
        "    display(HTML('<script src=\"https://dashboard.talentsprint.com/aiml/record_ip.html?traineeId={0}&recordId={1}\"></script>'.format(getId(),submission_id)))\n",
        "    print(\"Setup completed successfully\")\n",
        "    return\n",
        "\n",
        "def submit_notebook():\n",
        "    ipython.magic(\"notebook -e \"+ notebook + \".ipynb\")\n",
        "    \n",
        "    import requests, json, base64, datetime\n",
        "\n",
        "    url = \"https://dashboard.talentsprint.com/xp/app/save_notebook_attempts\"\n",
        "    if not submission_id:\n",
        "      data = {\"id\" : getId(), \"notebook\" : notebook, \"mobile\" : getPassword()}\n",
        "      r = requests.post(url, data = data)\n",
        "      r = json.loads(r.text)\n",
        "\n",
        "      if r[\"status\"] == \"Success\":\n",
        "          return r[\"record_id\"]\n",
        "      elif \"err\" in r:        \n",
        "        print(r[\"err\"])\n",
        "        return None        \n",
        "      else:\n",
        "        print (\"Something is wrong, the notebook will not be submitted for grading\")\n",
        "        return None\n",
        "    \n",
        "    elif getAnswer1() and getAnswer2() and getComplexity() and getAdditional() and getConcepts() and getComments() and getMentorSupport():\n",
        "      f = open(notebook + \".ipynb\", \"rb\")\n",
        "      file_hash = base64.b64encode(f.read())\n",
        "\n",
        "      data = {\"complexity\" : Complexity, \"additional\" :Additional, \n",
        "              \"concepts\" : Concepts, \"record_id\" : submission_id, \n",
        "              \"answer1\" : Answer1, \"answer2\" : Answer2, \"id\" : Id, \"file_hash\" : file_hash,\n",
        "              \"notebook\" : notebook,\n",
        "              \"feedback_experiments_input\" : Comments,\n",
        "              \"feedback_mentor_support\": Mentor_support}\n",
        "      r = requests.post(url, data = data)\n",
        "      r = json.loads(r.text)\n",
        "      if \"err\" in r:        \n",
        "        print(r[\"err\"])\n",
        "        return None   \n",
        "      else:\n",
        "        print(\"Your submission is successful.\")\n",
        "        print(\"Ref Id:\", submission_id)\n",
        "        print(\"Date of submission: \", r[\"date\"])\n",
        "        print(\"Time of submission: \", r[\"time\"])\n",
        "        print(\"View your submissions: https://dlfa.iisc.talentsprint.com/notebook_submissions\")\n",
        "        #print(\"For any queries/discrepancies, please connect with mentors through the chat icon in LMS dashboard.\")\n",
        "        return submission_id\n",
        "    else: submission_id\n",
        "    \n",
        "\n",
        "def getAdditional():\n",
        "  try:\n",
        "    if not Additional: \n",
        "      raise NameError\n",
        "    else:\n",
        "      return Additional  \n",
        "  except NameError:\n",
        "    print (\"Please answer Additional Question\")\n",
        "    return None\n",
        "\n",
        "def getComplexity():\n",
        "  try:\n",
        "    if not Complexity:\n",
        "      raise NameError\n",
        "    else:\n",
        "      return Complexity\n",
        "  except NameError:\n",
        "    print (\"Please answer Complexity Question\")\n",
        "    return None\n",
        "  \n",
        "def getConcepts():\n",
        "  try:\n",
        "    if not Concepts:\n",
        "      raise NameError\n",
        "    else:\n",
        "      return Concepts\n",
        "  except NameError:\n",
        "    print (\"Please answer Concepts Question\")\n",
        "    return None\n",
        "  \n",
        "  \n",
        "# def getWalkthrough():\n",
        "#   try:\n",
        "#     if not Walkthrough:\n",
        "#       raise NameError\n",
        "#     else:\n",
        "#       return Walkthrough\n",
        "#   except NameError:\n",
        "#     print (\"Please answer Walkthrough Question\")\n",
        "#     return None\n",
        "  \n",
        "def getComments():\n",
        "  try:\n",
        "    if not Comments:\n",
        "      raise NameError\n",
        "    else:\n",
        "      return Comments\n",
        "  except NameError:\n",
        "    print (\"Please answer Comments Question\")\n",
        "    return None\n",
        "  \n",
        "\n",
        "def getMentorSupport():\n",
        "  try:\n",
        "    if not Mentor_support:\n",
        "      raise NameError\n",
        "    else:\n",
        "      return Mentor_support\n",
        "  except NameError:\n",
        "    print (\"Please answer Mentor support Question\")\n",
        "    return None\n",
        "\n",
        "def getAnswer1():\n",
        "  try:\n",
        "    if not Answer1:\n",
        "      raise NameError \n",
        "    else: \n",
        "      return Answer1\n",
        "  except NameError:\n",
        "    print (\"Please answer Question 1\")\n",
        "    return None\n",
        "\n",
        "def getAnswer2():\n",
        "  try:\n",
        "    if not Answer2:\n",
        "      raise NameError \n",
        "    else: \n",
        "      return Answer2\n",
        "  except NameError:\n",
        "    print (\"Please answer Question 2\")\n",
        "    return None\n",
        "  \n",
        "\n",
        "def getId():\n",
        "  try: \n",
        "    return Id if Id else None\n",
        "  except NameError:\n",
        "    return None\n",
        "\n",
        "def getPassword():\n",
        "  try:\n",
        "    return password if password else None\n",
        "  except NameError:\n",
        "    return None\n",
        "\n",
        "submission_id = None\n",
        "### Setup \n",
        "if getPassword() and getId():\n",
        "  submission_id = submit_notebook()\n",
        "  if submission_id:\n",
        "    setup() \n",
        "else:\n",
        "  print (\"Please complete Id and Password cells before running setup\")\n",
        "\n"
      ],
      "execution_count": 3,
      "outputs": [
        {
          "output_type": "display_data",
          "data": {
            "text/html": [
              "<script src=\"https://dashboard.talentsprint.com/aiml/record_ip.html?traineeId=2200023&recordId=3171\"></script>"
            ],
            "text/plain": [
              "<IPython.core.display.HTML object>"
            ]
          },
          "metadata": {}
        },
        {
          "output_type": "stream",
          "name": "stdout",
          "text": [
            "Setup completed successfully\n"
          ]
        }
      ]
    },
    {
      "cell_type": "markdown",
      "metadata": {
        "id": "nVM_u_Czx_jZ"
      },
      "source": [
        "### Importing required packages"
      ]
    },
    {
      "cell_type": "code",
      "metadata": {
        "id": "Mjtacz2UCmuX"
      },
      "source": [
        "import pandas as pd\n",
        "import numpy as np\n",
        "\n",
        "import keras\n",
        "from keras.preprocessing.text import Tokenizer\n",
        "from keras.preprocessing.sequence import pad_sequences\n",
        "from sklearn.preprocessing import LabelEncoder\n",
        "\n",
        "from keras.models import Model\n",
        "from keras.layers import Input, Embedding, concatenate, Dense, Bidirectional, Dropout, Flatten, Conv1D, MaxPooling1D"
      ],
      "execution_count": 4,
      "outputs": []
    },
    {
      "cell_type": "markdown",
      "metadata": {
        "id": "dEyie_w3yEq_"
      },
      "source": [
        "### Loading the dataset"
      ]
    },
    {
      "cell_type": "code",
      "metadata": {
        "id": "I2fGPg1t4_ZP"
      },
      "source": [
        "def load_data(dataset):\n",
        "  data = pd.read_csv(dataset)\n",
        "  sentence_data = data.drop('pair_ID', axis=1)\n",
        "  return sentence_data"
      ],
      "execution_count": 5,
      "outputs": []
    },
    {
      "cell_type": "code",
      "metadata": {
        "id": "KSFQA3ic5Y4o"
      },
      "source": [
        "# Load the dataset\n",
        "sentence_data = load_data('sententence_data.csv')"
      ],
      "execution_count": 6,
      "outputs": []
    },
    {
      "cell_type": "code",
      "metadata": {
        "id": "VgxfwLT55b8-",
        "colab": {
          "base_uri": "https://localhost:8080/",
          "height": 206
        },
        "outputId": "b0ee99d3-bd10-4227-edeb-e29bb6856460"
      },
      "source": [
        "# Print the first 5 rows from the data\n",
        "sentence_data.head()"
      ],
      "execution_count": 7,
      "outputs": [
        {
          "output_type": "execute_result",
          "data": {
            "text/html": [
              "\n",
              "  <div id=\"df-0779d05b-b2f4-41de-a9ee-6d9044e0974c\">\n",
              "    <div class=\"colab-df-container\">\n",
              "      <div>\n",
              "<style scoped>\n",
              "    .dataframe tbody tr th:only-of-type {\n",
              "        vertical-align: middle;\n",
              "    }\n",
              "\n",
              "    .dataframe tbody tr th {\n",
              "        vertical-align: top;\n",
              "    }\n",
              "\n",
              "    .dataframe thead th {\n",
              "        text-align: right;\n",
              "    }\n",
              "</style>\n",
              "<table border=\"1\" class=\"dataframe\">\n",
              "  <thead>\n",
              "    <tr style=\"text-align: right;\">\n",
              "      <th></th>\n",
              "      <th>sentence_A</th>\n",
              "      <th>sentence_B</th>\n",
              "      <th>entailment_AB</th>\n",
              "      <th>entailment_BA</th>\n",
              "    </tr>\n",
              "  </thead>\n",
              "  <tbody>\n",
              "    <tr>\n",
              "      <th>0</th>\n",
              "      <td>A group of kids is playing in a yard and an ol...</td>\n",
              "      <td>A group of boys in a yard is playing and a man...</td>\n",
              "      <td>A_neutral_B</td>\n",
              "      <td>B_neutral_A</td>\n",
              "    </tr>\n",
              "    <tr>\n",
              "      <th>1</th>\n",
              "      <td>A group of children is playing in the house an...</td>\n",
              "      <td>A group of kids is playing in a yard and an ol...</td>\n",
              "      <td>A_contradicts_B</td>\n",
              "      <td>B_neutral_A</td>\n",
              "    </tr>\n",
              "    <tr>\n",
              "      <th>2</th>\n",
              "      <td>The young boys are playing outdoors and the ma...</td>\n",
              "      <td>The kids are playing outdoors near a man with ...</td>\n",
              "      <td>A_entails_B</td>\n",
              "      <td>B_entails_A</td>\n",
              "    </tr>\n",
              "    <tr>\n",
              "      <th>3</th>\n",
              "      <td>The young boys are playing outdoors and the ma...</td>\n",
              "      <td>There is no boy playing outdoors and there is ...</td>\n",
              "      <td>A_contradicts_B</td>\n",
              "      <td>B_contradicts_A</td>\n",
              "    </tr>\n",
              "    <tr>\n",
              "      <th>4</th>\n",
              "      <td>The kids are playing outdoors near a man with ...</td>\n",
              "      <td>A group of kids is playing in a yard and an ol...</td>\n",
              "      <td>A_neutral_B</td>\n",
              "      <td>B_neutral_A</td>\n",
              "    </tr>\n",
              "  </tbody>\n",
              "</table>\n",
              "</div>\n",
              "      <button class=\"colab-df-convert\" onclick=\"convertToInteractive('df-0779d05b-b2f4-41de-a9ee-6d9044e0974c')\"\n",
              "              title=\"Convert this dataframe to an interactive table.\"\n",
              "              style=\"display:none;\">\n",
              "        \n",
              "  <svg xmlns=\"http://www.w3.org/2000/svg\" height=\"24px\"viewBox=\"0 0 24 24\"\n",
              "       width=\"24px\">\n",
              "    <path d=\"M0 0h24v24H0V0z\" fill=\"none\"/>\n",
              "    <path d=\"M18.56 5.44l.94 2.06.94-2.06 2.06-.94-2.06-.94-.94-2.06-.94 2.06-2.06.94zm-11 1L8.5 8.5l.94-2.06 2.06-.94-2.06-.94L8.5 2.5l-.94 2.06-2.06.94zm10 10l.94 2.06.94-2.06 2.06-.94-2.06-.94-.94-2.06-.94 2.06-2.06.94z\"/><path d=\"M17.41 7.96l-1.37-1.37c-.4-.4-.92-.59-1.43-.59-.52 0-1.04.2-1.43.59L10.3 9.45l-7.72 7.72c-.78.78-.78 2.05 0 2.83L4 21.41c.39.39.9.59 1.41.59.51 0 1.02-.2 1.41-.59l7.78-7.78 2.81-2.81c.8-.78.8-2.07 0-2.86zM5.41 20L4 18.59l7.72-7.72 1.47 1.35L5.41 20z\"/>\n",
              "  </svg>\n",
              "      </button>\n",
              "      \n",
              "  <style>\n",
              "    .colab-df-container {\n",
              "      display:flex;\n",
              "      flex-wrap:wrap;\n",
              "      gap: 12px;\n",
              "    }\n",
              "\n",
              "    .colab-df-convert {\n",
              "      background-color: #E8F0FE;\n",
              "      border: none;\n",
              "      border-radius: 50%;\n",
              "      cursor: pointer;\n",
              "      display: none;\n",
              "      fill: #1967D2;\n",
              "      height: 32px;\n",
              "      padding: 0 0 0 0;\n",
              "      width: 32px;\n",
              "    }\n",
              "\n",
              "    .colab-df-convert:hover {\n",
              "      background-color: #E2EBFA;\n",
              "      box-shadow: 0px 1px 2px rgba(60, 64, 67, 0.3), 0px 1px 3px 1px rgba(60, 64, 67, 0.15);\n",
              "      fill: #174EA6;\n",
              "    }\n",
              "\n",
              "    [theme=dark] .colab-df-convert {\n",
              "      background-color: #3B4455;\n",
              "      fill: #D2E3FC;\n",
              "    }\n",
              "\n",
              "    [theme=dark] .colab-df-convert:hover {\n",
              "      background-color: #434B5C;\n",
              "      box-shadow: 0px 1px 3px 1px rgba(0, 0, 0, 0.15);\n",
              "      filter: drop-shadow(0px 1px 2px rgba(0, 0, 0, 0.3));\n",
              "      fill: #FFFFFF;\n",
              "    }\n",
              "  </style>\n",
              "\n",
              "      <script>\n",
              "        const buttonEl =\n",
              "          document.querySelector('#df-0779d05b-b2f4-41de-a9ee-6d9044e0974c button.colab-df-convert');\n",
              "        buttonEl.style.display =\n",
              "          google.colab.kernel.accessAllowed ? 'block' : 'none';\n",
              "\n",
              "        async function convertToInteractive(key) {\n",
              "          const element = document.querySelector('#df-0779d05b-b2f4-41de-a9ee-6d9044e0974c');\n",
              "          const dataTable =\n",
              "            await google.colab.kernel.invokeFunction('convertToInteractive',\n",
              "                                                     [key], {});\n",
              "          if (!dataTable) return;\n",
              "\n",
              "          const docLinkHtml = 'Like what you see? Visit the ' +\n",
              "            '<a target=\"_blank\" href=https://colab.research.google.com/notebooks/data_table.ipynb>data table notebook</a>'\n",
              "            + ' to learn more about interactive tables.';\n",
              "          element.innerHTML = '';\n",
              "          dataTable['output_type'] = 'display_data';\n",
              "          await google.colab.output.renderOutput(dataTable, element);\n",
              "          const docLink = document.createElement('div');\n",
              "          docLink.innerHTML = docLinkHtml;\n",
              "          element.appendChild(docLink);\n",
              "        }\n",
              "      </script>\n",
              "    </div>\n",
              "  </div>\n",
              "  "
            ],
            "text/plain": [
              "                                          sentence_A  ...    entailment_BA\n",
              "0  A group of kids is playing in a yard and an ol...  ...      B_neutral_A\n",
              "1  A group of children is playing in the house an...  ...      B_neutral_A\n",
              "2  The young boys are playing outdoors and the ma...  ...      B_entails_A\n",
              "3  The young boys are playing outdoors and the ma...  ...  B_contradicts_A\n",
              "4  The kids are playing outdoors near a man with ...  ...      B_neutral_A\n",
              "\n",
              "[5 rows x 4 columns]"
            ]
          },
          "metadata": {},
          "execution_count": 7
        }
      ]
    },
    {
      "cell_type": "code",
      "metadata": {
        "id": "hJTV_7H2CfjZ",
        "colab": {
          "base_uri": "https://localhost:8080/"
        },
        "outputId": "5b5c15a1-0ae1-46f5-b04e-2f20c57372bd"
      },
      "source": [
        "# Combining the label columns (entailment_AB, entailment_BA) to create a final labels column\n",
        "sentence_data['labels'] = sentence_data['entailment_AB'].astype(str) + 'and' + sentence_data['entailment_BA'].astype(str)\n",
        "\n",
        "# No of unique labels after combining the entailment_AB and entailment_BA\n",
        "print(len(sentence_data['labels'].unique()))"
      ],
      "execution_count": 8,
      "outputs": [
        {
          "output_type": "stream",
          "name": "stdout",
          "text": [
            "7\n"
          ]
        }
      ]
    },
    {
      "cell_type": "code",
      "metadata": {
        "id": "sZJkecxGYZPM",
        "colab": {
          "base_uri": "https://localhost:8080/"
        },
        "outputId": "b4e11ef8-0d64-46c0-9871-ff42e0f3c144"
      },
      "source": [
        "# check for the unique label combinations \n",
        "print(np.unique(sentence_data['labels']))"
      ],
      "execution_count": 9,
      "outputs": [
        {
          "output_type": "stream",
          "name": "stdout",
          "text": [
            "['A_contradicts_BandB_contradicts_A' 'A_contradicts_BandB_neutral_A'\n",
            " 'A_entails_BandB_contradicts_A' 'A_entails_BandB_entails_A'\n",
            " 'A_entails_BandB_neutral_A' 'A_neutral_BandB_contradicts_A'\n",
            " 'A_neutral_BandB_neutral_A']\n"
          ]
        }
      ]
    },
    {
      "cell_type": "code",
      "metadata": {
        "id": "0BQlbkoZDfGO",
        "colab": {
          "base_uri": "https://localhost:8080/"
        },
        "outputId": "b412b81a-b698-4eeb-ed4e-63b8a70af723"
      },
      "source": [
        "# checking for the output counts \n",
        "sentence_data['labels'].value_counts()"
      ],
      "execution_count": 10,
      "outputs": [
        {
          "output_type": "execute_result",
          "data": {
            "text/plain": [
              "A_neutral_BandB_neutral_A            4992\n",
              "A_entails_BandB_neutral_A            1513\n",
              "A_contradicts_BandB_contradicts_A    1424\n",
              "A_entails_BandB_entails_A            1300\n",
              "A_contradicts_BandB_neutral_A         327\n",
              "A_neutral_BandB_contradicts_A         276\n",
              "A_entails_BandB_contradicts_A           8\n",
              "Name: labels, dtype: int64"
            ]
          },
          "metadata": {},
          "execution_count": 10
        }
      ]
    },
    {
      "cell_type": "markdown",
      "metadata": {
        "id": "8RbrsSj2yJAt"
      },
      "source": [
        "### Label Encoding"
      ]
    },
    {
      "cell_type": "code",
      "metadata": {
        "id": "u0HUwo3qRhJo",
        "colab": {
          "base_uri": "https://localhost:8080/",
          "height": 206
        },
        "outputId": "c94a44d7-169e-49b8-fa2a-2f186065a5df"
      },
      "source": [
        "# Converting the labels from categorical to numerical\n",
        "le = LabelEncoder()\n",
        "sentence_data['labels'] = le.fit_transform(sentence_data['labels'])\n",
        "sentence_data.head()"
      ],
      "execution_count": 11,
      "outputs": [
        {
          "output_type": "execute_result",
          "data": {
            "text/html": [
              "\n",
              "  <div id=\"df-6792119f-176a-4383-8d20-990e92f9b438\">\n",
              "    <div class=\"colab-df-container\">\n",
              "      <div>\n",
              "<style scoped>\n",
              "    .dataframe tbody tr th:only-of-type {\n",
              "        vertical-align: middle;\n",
              "    }\n",
              "\n",
              "    .dataframe tbody tr th {\n",
              "        vertical-align: top;\n",
              "    }\n",
              "\n",
              "    .dataframe thead th {\n",
              "        text-align: right;\n",
              "    }\n",
              "</style>\n",
              "<table border=\"1\" class=\"dataframe\">\n",
              "  <thead>\n",
              "    <tr style=\"text-align: right;\">\n",
              "      <th></th>\n",
              "      <th>sentence_A</th>\n",
              "      <th>sentence_B</th>\n",
              "      <th>entailment_AB</th>\n",
              "      <th>entailment_BA</th>\n",
              "      <th>labels</th>\n",
              "    </tr>\n",
              "  </thead>\n",
              "  <tbody>\n",
              "    <tr>\n",
              "      <th>0</th>\n",
              "      <td>A group of kids is playing in a yard and an ol...</td>\n",
              "      <td>A group of boys in a yard is playing and a man...</td>\n",
              "      <td>A_neutral_B</td>\n",
              "      <td>B_neutral_A</td>\n",
              "      <td>6</td>\n",
              "    </tr>\n",
              "    <tr>\n",
              "      <th>1</th>\n",
              "      <td>A group of children is playing in the house an...</td>\n",
              "      <td>A group of kids is playing in a yard and an ol...</td>\n",
              "      <td>A_contradicts_B</td>\n",
              "      <td>B_neutral_A</td>\n",
              "      <td>1</td>\n",
              "    </tr>\n",
              "    <tr>\n",
              "      <th>2</th>\n",
              "      <td>The young boys are playing outdoors and the ma...</td>\n",
              "      <td>The kids are playing outdoors near a man with ...</td>\n",
              "      <td>A_entails_B</td>\n",
              "      <td>B_entails_A</td>\n",
              "      <td>3</td>\n",
              "    </tr>\n",
              "    <tr>\n",
              "      <th>3</th>\n",
              "      <td>The young boys are playing outdoors and the ma...</td>\n",
              "      <td>There is no boy playing outdoors and there is ...</td>\n",
              "      <td>A_contradicts_B</td>\n",
              "      <td>B_contradicts_A</td>\n",
              "      <td>0</td>\n",
              "    </tr>\n",
              "    <tr>\n",
              "      <th>4</th>\n",
              "      <td>The kids are playing outdoors near a man with ...</td>\n",
              "      <td>A group of kids is playing in a yard and an ol...</td>\n",
              "      <td>A_neutral_B</td>\n",
              "      <td>B_neutral_A</td>\n",
              "      <td>6</td>\n",
              "    </tr>\n",
              "  </tbody>\n",
              "</table>\n",
              "</div>\n",
              "      <button class=\"colab-df-convert\" onclick=\"convertToInteractive('df-6792119f-176a-4383-8d20-990e92f9b438')\"\n",
              "              title=\"Convert this dataframe to an interactive table.\"\n",
              "              style=\"display:none;\">\n",
              "        \n",
              "  <svg xmlns=\"http://www.w3.org/2000/svg\" height=\"24px\"viewBox=\"0 0 24 24\"\n",
              "       width=\"24px\">\n",
              "    <path d=\"M0 0h24v24H0V0z\" fill=\"none\"/>\n",
              "    <path d=\"M18.56 5.44l.94 2.06.94-2.06 2.06-.94-2.06-.94-.94-2.06-.94 2.06-2.06.94zm-11 1L8.5 8.5l.94-2.06 2.06-.94-2.06-.94L8.5 2.5l-.94 2.06-2.06.94zm10 10l.94 2.06.94-2.06 2.06-.94-2.06-.94-.94-2.06-.94 2.06-2.06.94z\"/><path d=\"M17.41 7.96l-1.37-1.37c-.4-.4-.92-.59-1.43-.59-.52 0-1.04.2-1.43.59L10.3 9.45l-7.72 7.72c-.78.78-.78 2.05 0 2.83L4 21.41c.39.39.9.59 1.41.59.51 0 1.02-.2 1.41-.59l7.78-7.78 2.81-2.81c.8-.78.8-2.07 0-2.86zM5.41 20L4 18.59l7.72-7.72 1.47 1.35L5.41 20z\"/>\n",
              "  </svg>\n",
              "      </button>\n",
              "      \n",
              "  <style>\n",
              "    .colab-df-container {\n",
              "      display:flex;\n",
              "      flex-wrap:wrap;\n",
              "      gap: 12px;\n",
              "    }\n",
              "\n",
              "    .colab-df-convert {\n",
              "      background-color: #E8F0FE;\n",
              "      border: none;\n",
              "      border-radius: 50%;\n",
              "      cursor: pointer;\n",
              "      display: none;\n",
              "      fill: #1967D2;\n",
              "      height: 32px;\n",
              "      padding: 0 0 0 0;\n",
              "      width: 32px;\n",
              "    }\n",
              "\n",
              "    .colab-df-convert:hover {\n",
              "      background-color: #E2EBFA;\n",
              "      box-shadow: 0px 1px 2px rgba(60, 64, 67, 0.3), 0px 1px 3px 1px rgba(60, 64, 67, 0.15);\n",
              "      fill: #174EA6;\n",
              "    }\n",
              "\n",
              "    [theme=dark] .colab-df-convert {\n",
              "      background-color: #3B4455;\n",
              "      fill: #D2E3FC;\n",
              "    }\n",
              "\n",
              "    [theme=dark] .colab-df-convert:hover {\n",
              "      background-color: #434B5C;\n",
              "      box-shadow: 0px 1px 3px 1px rgba(0, 0, 0, 0.15);\n",
              "      filter: drop-shadow(0px 1px 2px rgba(0, 0, 0, 0.3));\n",
              "      fill: #FFFFFF;\n",
              "    }\n",
              "  </style>\n",
              "\n",
              "      <script>\n",
              "        const buttonEl =\n",
              "          document.querySelector('#df-6792119f-176a-4383-8d20-990e92f9b438 button.colab-df-convert');\n",
              "        buttonEl.style.display =\n",
              "          google.colab.kernel.accessAllowed ? 'block' : 'none';\n",
              "\n",
              "        async function convertToInteractive(key) {\n",
              "          const element = document.querySelector('#df-6792119f-176a-4383-8d20-990e92f9b438');\n",
              "          const dataTable =\n",
              "            await google.colab.kernel.invokeFunction('convertToInteractive',\n",
              "                                                     [key], {});\n",
              "          if (!dataTable) return;\n",
              "\n",
              "          const docLinkHtml = 'Like what you see? Visit the ' +\n",
              "            '<a target=\"_blank\" href=https://colab.research.google.com/notebooks/data_table.ipynb>data table notebook</a>'\n",
              "            + ' to learn more about interactive tables.';\n",
              "          element.innerHTML = '';\n",
              "          dataTable['output_type'] = 'display_data';\n",
              "          await google.colab.output.renderOutput(dataTable, element);\n",
              "          const docLink = document.createElement('div');\n",
              "          docLink.innerHTML = docLinkHtml;\n",
              "          element.appendChild(docLink);\n",
              "        }\n",
              "      </script>\n",
              "    </div>\n",
              "  </div>\n",
              "  "
            ],
            "text/plain": [
              "                                          sentence_A  ... labels\n",
              "0  A group of kids is playing in a yard and an ol...  ...      6\n",
              "1  A group of children is playing in the house an...  ...      1\n",
              "2  The young boys are playing outdoors and the ma...  ...      3\n",
              "3  The young boys are playing outdoors and the ma...  ...      0\n",
              "4  The kids are playing outdoors near a man with ...  ...      6\n",
              "\n",
              "[5 rows x 5 columns]"
            ]
          },
          "metadata": {},
          "execution_count": 11
        }
      ]
    },
    {
      "cell_type": "markdown",
      "metadata": {
        "id": "Lf_6eWLXyUus"
      },
      "source": [
        "### Data pre-processing"
      ]
    },
    {
      "cell_type": "code",
      "metadata": {
        "id": "8mOVR-b0_7Rp"
      },
      "source": [
        "def cleaning_dataset(df):\n",
        "    \n",
        "    # Pre-Processing\n",
        "    # converat all sentences to string format\n",
        "    df['sentence_A'] = df['sentence_A'].astype(str)\n",
        "    df['sentence_B'] = df['sentence_B'].astype(str)\n",
        "    \n",
        "    # convert all sentences to lower case\n",
        "    df['sentence_A'] = df['sentence_A'].apply(lambda sentence_A: sentence_A.lower())\n",
        "    df['sentence_B'] = df['sentence_B'].apply(lambda sentence_B: sentence_B.lower())\n",
        "       \n",
        "    return df"
      ],
      "execution_count": 12,
      "outputs": []
    },
    {
      "cell_type": "code",
      "metadata": {
        "id": "IAFICGCh_-SR"
      },
      "source": [
        "sentence_data = cleaning_dataset(sentence_data)\n",
        "sentence_data = sentence_data.drop(['entailment_AB','entailment_BA'], axis=1)"
      ],
      "execution_count": 13,
      "outputs": []
    },
    {
      "cell_type": "code",
      "metadata": {
        "id": "0JJ3n_8FAkU0",
        "colab": {
          "base_uri": "https://localhost:8080/",
          "height": 206
        },
        "outputId": "8dd915aa-66d5-4eaa-aabd-bc21fc44a688"
      },
      "source": [
        "sentence_data.head()"
      ],
      "execution_count": 14,
      "outputs": [
        {
          "output_type": "execute_result",
          "data": {
            "text/html": [
              "\n",
              "  <div id=\"df-e11a9b57-44fe-44a2-8bbc-089a2de714b1\">\n",
              "    <div class=\"colab-df-container\">\n",
              "      <div>\n",
              "<style scoped>\n",
              "    .dataframe tbody tr th:only-of-type {\n",
              "        vertical-align: middle;\n",
              "    }\n",
              "\n",
              "    .dataframe tbody tr th {\n",
              "        vertical-align: top;\n",
              "    }\n",
              "\n",
              "    .dataframe thead th {\n",
              "        text-align: right;\n",
              "    }\n",
              "</style>\n",
              "<table border=\"1\" class=\"dataframe\">\n",
              "  <thead>\n",
              "    <tr style=\"text-align: right;\">\n",
              "      <th></th>\n",
              "      <th>sentence_A</th>\n",
              "      <th>sentence_B</th>\n",
              "      <th>labels</th>\n",
              "    </tr>\n",
              "  </thead>\n",
              "  <tbody>\n",
              "    <tr>\n",
              "      <th>0</th>\n",
              "      <td>a group of kids is playing in a yard and an ol...</td>\n",
              "      <td>a group of boys in a yard is playing and a man...</td>\n",
              "      <td>6</td>\n",
              "    </tr>\n",
              "    <tr>\n",
              "      <th>1</th>\n",
              "      <td>a group of children is playing in the house an...</td>\n",
              "      <td>a group of kids is playing in a yard and an ol...</td>\n",
              "      <td>1</td>\n",
              "    </tr>\n",
              "    <tr>\n",
              "      <th>2</th>\n",
              "      <td>the young boys are playing outdoors and the ma...</td>\n",
              "      <td>the kids are playing outdoors near a man with ...</td>\n",
              "      <td>3</td>\n",
              "    </tr>\n",
              "    <tr>\n",
              "      <th>3</th>\n",
              "      <td>the young boys are playing outdoors and the ma...</td>\n",
              "      <td>there is no boy playing outdoors and there is ...</td>\n",
              "      <td>0</td>\n",
              "    </tr>\n",
              "    <tr>\n",
              "      <th>4</th>\n",
              "      <td>the kids are playing outdoors near a man with ...</td>\n",
              "      <td>a group of kids is playing in a yard and an ol...</td>\n",
              "      <td>6</td>\n",
              "    </tr>\n",
              "  </tbody>\n",
              "</table>\n",
              "</div>\n",
              "      <button class=\"colab-df-convert\" onclick=\"convertToInteractive('df-e11a9b57-44fe-44a2-8bbc-089a2de714b1')\"\n",
              "              title=\"Convert this dataframe to an interactive table.\"\n",
              "              style=\"display:none;\">\n",
              "        \n",
              "  <svg xmlns=\"http://www.w3.org/2000/svg\" height=\"24px\"viewBox=\"0 0 24 24\"\n",
              "       width=\"24px\">\n",
              "    <path d=\"M0 0h24v24H0V0z\" fill=\"none\"/>\n",
              "    <path d=\"M18.56 5.44l.94 2.06.94-2.06 2.06-.94-2.06-.94-.94-2.06-.94 2.06-2.06.94zm-11 1L8.5 8.5l.94-2.06 2.06-.94-2.06-.94L8.5 2.5l-.94 2.06-2.06.94zm10 10l.94 2.06.94-2.06 2.06-.94-2.06-.94-.94-2.06-.94 2.06-2.06.94z\"/><path d=\"M17.41 7.96l-1.37-1.37c-.4-.4-.92-.59-1.43-.59-.52 0-1.04.2-1.43.59L10.3 9.45l-7.72 7.72c-.78.78-.78 2.05 0 2.83L4 21.41c.39.39.9.59 1.41.59.51 0 1.02-.2 1.41-.59l7.78-7.78 2.81-2.81c.8-.78.8-2.07 0-2.86zM5.41 20L4 18.59l7.72-7.72 1.47 1.35L5.41 20z\"/>\n",
              "  </svg>\n",
              "      </button>\n",
              "      \n",
              "  <style>\n",
              "    .colab-df-container {\n",
              "      display:flex;\n",
              "      flex-wrap:wrap;\n",
              "      gap: 12px;\n",
              "    }\n",
              "\n",
              "    .colab-df-convert {\n",
              "      background-color: #E8F0FE;\n",
              "      border: none;\n",
              "      border-radius: 50%;\n",
              "      cursor: pointer;\n",
              "      display: none;\n",
              "      fill: #1967D2;\n",
              "      height: 32px;\n",
              "      padding: 0 0 0 0;\n",
              "      width: 32px;\n",
              "    }\n",
              "\n",
              "    .colab-df-convert:hover {\n",
              "      background-color: #E2EBFA;\n",
              "      box-shadow: 0px 1px 2px rgba(60, 64, 67, 0.3), 0px 1px 3px 1px rgba(60, 64, 67, 0.15);\n",
              "      fill: #174EA6;\n",
              "    }\n",
              "\n",
              "    [theme=dark] .colab-df-convert {\n",
              "      background-color: #3B4455;\n",
              "      fill: #D2E3FC;\n",
              "    }\n",
              "\n",
              "    [theme=dark] .colab-df-convert:hover {\n",
              "      background-color: #434B5C;\n",
              "      box-shadow: 0px 1px 3px 1px rgba(0, 0, 0, 0.15);\n",
              "      filter: drop-shadow(0px 1px 2px rgba(0, 0, 0, 0.3));\n",
              "      fill: #FFFFFF;\n",
              "    }\n",
              "  </style>\n",
              "\n",
              "      <script>\n",
              "        const buttonEl =\n",
              "          document.querySelector('#df-e11a9b57-44fe-44a2-8bbc-089a2de714b1 button.colab-df-convert');\n",
              "        buttonEl.style.display =\n",
              "          google.colab.kernel.accessAllowed ? 'block' : 'none';\n",
              "\n",
              "        async function convertToInteractive(key) {\n",
              "          const element = document.querySelector('#df-e11a9b57-44fe-44a2-8bbc-089a2de714b1');\n",
              "          const dataTable =\n",
              "            await google.colab.kernel.invokeFunction('convertToInteractive',\n",
              "                                                     [key], {});\n",
              "          if (!dataTable) return;\n",
              "\n",
              "          const docLinkHtml = 'Like what you see? Visit the ' +\n",
              "            '<a target=\"_blank\" href=https://colab.research.google.com/notebooks/data_table.ipynb>data table notebook</a>'\n",
              "            + ' to learn more about interactive tables.';\n",
              "          element.innerHTML = '';\n",
              "          dataTable['output_type'] = 'display_data';\n",
              "          await google.colab.output.renderOutput(dataTable, element);\n",
              "          const docLink = document.createElement('div');\n",
              "          docLink.innerHTML = docLinkHtml;\n",
              "          element.appendChild(docLink);\n",
              "        }\n",
              "      </script>\n",
              "    </div>\n",
              "  </div>\n",
              "  "
            ],
            "text/plain": [
              "                                          sentence_A  ... labels\n",
              "0  a group of kids is playing in a yard and an ol...  ...      6\n",
              "1  a group of children is playing in the house an...  ...      1\n",
              "2  the young boys are playing outdoors and the ma...  ...      3\n",
              "3  the young boys are playing outdoors and the ma...  ...      0\n",
              "4  the kids are playing outdoors near a man with ...  ...      6\n",
              "\n",
              "[5 rows x 3 columns]"
            ]
          },
          "metadata": {},
          "execution_count": 14
        }
      ]
    },
    {
      "cell_type": "code",
      "metadata": {
        "id": "esLl2mdzBgEO"
      },
      "source": [
        "# Combining both the sentences as a corpus\n",
        "sentence_data['Sentences'] = sentence_data[['sentence_A', 'sentence_B']].apply(lambda x: str(x[0])+\" \"+str(x[1]), axis=1)"
      ],
      "execution_count": 15,
      "outputs": []
    },
    {
      "cell_type": "markdown",
      "metadata": {
        "id": "-BbSPU936D0R"
      },
      "source": [
        "### Tokenize and Pad sequences\n",
        "\n",
        "A Neural Network only accepts numeric data, so we need to encode the reviews. Here use keras.Tokenizer() to encode the reviews into integers, where each unique word is automatically indexed (using `fit_on_texts` method) calculates the frequency of each word in our corpus/messages. \n",
        "\n",
        "`texts_to_sequences` method finally converts our array of sequences of strings to list of sequences of integers (most frequent word is assigned 1 and so on).\n",
        "\n",
        "Each reviews has a different length, so we need to add padding (by adding 0) or truncating the words to the same length (in this case, it is the mean of all reviews length) using `keras.preprocessing.sequence.pad_sequences.`\n",
        "\n",
        "`post`, pad or truncate the words in the back of a sentence\n",
        "`pre`, pad or truncate the words in front of a sentence\n",
        "\n",
        "Each word is assigned an integer and that integer is placed in a list. \n",
        "\n",
        "\n",
        "For example if we have a sentence “How text to sequence and padding works”. Each word is assigned a number. We suppose how = 1, text = 2, to = 3, sequence = 4, and = 5, padding = 6, works = 7. After texts_to_sequences is called our sentence will look like [1, 2, 3, 4, 5, 6, 7 ]. Now for suppose our MAX_SEQUENCE_LENGTH = 10. After padding our sentence will look like `pre` = [0, 0, 0, 1, 2, 3, 4, 5, 6, 7 ], `post` = [1, 2, 3, 4, 5, 6, 7, 0, 0, 0]"
      ]
    },
    {
      "cell_type": "code",
      "metadata": {
        "id": "yzXMFeMbCtjp"
      },
      "source": [
        "# Tokenizer class from the keras.preprocessing.text module creates a word-to-index integer dictionary\n",
        "# Vectorize the text samples\n",
        "tokenizer = Tokenizer()\n",
        "tokenizer.fit_on_texts(sentence_data['Sentences'])"
      ],
      "execution_count": 16,
      "outputs": []
    },
    {
      "cell_type": "code",
      "metadata": {
        "id": "D-KVB44PDGkA"
      },
      "source": [
        "sen_seq_A = tokenizer.texts_to_sequences(sentence_data['sentence_A'])\n",
        "sen_seq_B = tokenizer.texts_to_sequences(sentence_data['sentence_B'])"
      ],
      "execution_count": 17,
      "outputs": []
    },
    {
      "cell_type": "code",
      "metadata": {
        "id": "UymMrZNJDR2M"
      },
      "source": [
        "max_len = 50\n",
        "\n",
        "sen_seq_A = pad_sequences(sen_seq_A, maxlen=max_len, padding='post')\n",
        "sen_seq_B = pad_sequences(sen_seq_B, maxlen=max_len, padding='post')"
      ],
      "execution_count": 18,
      "outputs": []
    },
    {
      "cell_type": "code",
      "metadata": {
        "id": "lkg7rw3VEWsJ",
        "colab": {
          "base_uri": "https://localhost:8080/"
        },
        "outputId": "6122411f-ecc9-4986-d220-bb45d53d8f41"
      },
      "source": [
        "print(sen_seq_A)"
      ],
      "execution_count": 19,
      "outputs": [
        {
          "output_type": "stream",
          "name": "stdout",
          "text": [
            "[[ 1 66 10 ...  0  0  0]\n",
            " [ 1 66 10 ...  0  0  0]\n",
            " [ 3 38 94 ...  0  0  0]\n",
            " ...\n",
            " [ 3  4  2 ...  0  0  0]\n",
            " [ 1  4  5 ...  0  0  0]\n",
            " [76 60  7 ...  0  0  0]]\n"
          ]
        }
      ]
    },
    {
      "cell_type": "code",
      "metadata": {
        "id": "TpXRJXBRDgCW",
        "colab": {
          "base_uri": "https://localhost:8080/"
        },
        "outputId": "45c948b8-25b0-42ba-a565-57299857fc48"
      },
      "source": [
        "print(sen_seq_A.shape, sen_seq_B.shape)"
      ],
      "execution_count": 20,
      "outputs": [
        {
          "output_type": "stream",
          "name": "stdout",
          "text": [
            "(9840, 50) (9840, 50)\n"
          ]
        }
      ]
    },
    {
      "cell_type": "markdown",
      "metadata": {
        "id": "7xMZ9Hb1l-gd"
      },
      "source": [
        "### Load the GloVe word embeddings\n",
        "\n",
        "**What is GloVe?**\n",
        "\n",
        "GloVe stands for global vectors for word representation. It is an unsupervised learning algorithm developed by Stanford for generating word embeddings by aggregating global word-word co-occurrence matrix from a corpus. Word embeddings are basically a form of word representation that bridges the human understanding of language to that of a machine. Meaning that two similar words are represented by almost similar vectors that are very closely placed in a vector space. These are essential for solving most Natural language processing problems.The resulting embeddings show interesting linear substructures of the word in vector space.\n",
        "\n",
        "Thus when using word embeddings, all individual words are represented as real-valued vectors in a predefined vector space. Each word is mapped to one vector and the vector values are learned in a way that resembles a neural network.\n",
        "\n",
        "Now, let us load the 50-dimensional GloVe embeddings."
      ]
    },
    {
      "cell_type": "code",
      "metadata": {
        "id": "gNHXa8G4DMcm",
        "colab": {
          "base_uri": "https://localhost:8080/"
        },
        "outputId": "249e87db-caf1-4284-c94f-8bb0bda6f4a3"
      },
      "source": [
        "embeddings_index = {}\n",
        "# Loading the 300-dimensional vector of the model\n",
        "f = open('/content/glove.6B.50d.txt')\n",
        "for line in f:\n",
        "    values = line.split()\n",
        "    word = values[0]\n",
        "    coefs = np.asarray(values[1:], dtype='float32')\n",
        "    embeddings_index[word] = coefs\n",
        "f.close()\n",
        "\n",
        "print('Found %s word vectors.' % len(embeddings_index))"
      ],
      "execution_count": 21,
      "outputs": [
        {
          "output_type": "stream",
          "name": "stdout",
          "text": [
            "Found 400000 word vectors.\n"
          ]
        }
      ]
    },
    {
      "cell_type": "code",
      "metadata": {
        "id": "rbUbiAQ1D5HI",
        "colab": {
          "base_uri": "https://localhost:8080/"
        },
        "outputId": "d7332ed9-f111-428e-e5a9-de0ad6e9e129"
      },
      "source": [
        "# Adding 1 because of reversed 0 index\n",
        "words_not_found = []\n",
        "vocab_size = len(tokenizer.word_index) + 1\n",
        "print('Loaded %s word vectors.' % len(embeddings_index))\n",
        "\n",
        "embedding_dim = 50\n",
        "\n",
        "# Create a weight matrix for words in the training data\n",
        "embedding_matrix = np.zeros((vocab_size, embedding_dim))\n",
        "for word, i in tokenizer.word_index.items():\n",
        "    if i >= vocab_size:\n",
        "        continue\n",
        "    embedding_vector = embeddings_index.get(word)\n",
        "    if (embedding_vector is not None) and len(embedding_vector) > 0:\n",
        "                embedding_matrix[i] = embedding_vector\n",
        "    else:\n",
        "        words_not_found.append(word)"
      ],
      "execution_count": 22,
      "outputs": [
        {
          "output_type": "stream",
          "name": "stdout",
          "text": [
            "Loaded 400000 word vectors.\n"
          ]
        }
      ]
    },
    {
      "cell_type": "code",
      "metadata": {
        "id": "ZoOwxlsFEFdH",
        "colab": {
          "base_uri": "https://localhost:8080/"
        },
        "outputId": "01349b68-c05d-46a2-cabe-5fa1dc549685"
      },
      "source": [
        "print(tokenizer.word_index)"
      ],
      "execution_count": 23,
      "outputs": [
        {
          "output_type": "stream",
          "name": "stdout",
          "text": [
            "{'a': 1, 'is': 2, 'the': 3, 'man': 4, 'in': 5, 'and': 6, 'are': 7, 'on': 8, 'woman': 9, 'of': 10, 'dog': 11, 'playing': 12, 'with': 13, 'two': 14, 'no': 15, 'person': 16, 'by': 17, 'there': 18, 'standing': 19, 'girl': 20, 'black': 21, 'an': 22, 'being': 23, 'boy': 24, 'white': 25, 'wearing': 26, 'at': 27, 'running': 28, 'people': 29, 'water': 30, 'riding': 31, 'sitting': 32, 'into': 33, 'jumping': 34, 'brown': 35, 'some': 36, 'not': 37, 'young': 38, 'walking': 39, 'guitar': 40, 'to': 41, 'ball': 42, 'grass': 43, 'red': 44, 'blue': 45, 'men': 46, 'through': 47, 'slicing': 48, 'one': 49, 'looking': 50, 'down': 51, 'shirt': 52, 'front': 53, 'little': 54, 'child': 55, 'dancing': 56, 'holding': 57, 'near': 58, 'cutting': 59, 'dogs': 60, 'green': 61, 'small': 62, 'bike': 63, 'for': 64, 'up': 65, 'group': 66, 'horse': 67, 'children': 68, 'which': 69, 'from': 70, 'yellow': 71, 'snow': 72, 'large': 73, 'over': 74, 'cat': 75, 'three': 76, 'its': 77, 'her': 78, 'beach': 79, 'his': 80, 'eating': 81, 'car': 82, 'field': 83, 'hat': 84, 'that': 85, 'climbing': 86, 'singing': 87, 'air': 88, 'who': 89, 'doing': 90, 'off': 91, 'someone': 92, 'bowl': 93, 'boys': 94, 'pink': 95, 'putting': 96, 'camera': 97, 'another': 98, 'potato': 99, 'outside': 100, 'soccer': 101, 'lady': 102, 'wall': 103, 'street': 104, 'motorcycle': 105, 'flute': 106, 'road': 107, 'dirt': 108, 'onion': 109, 'talking': 110, 'women': 111, 'baby': 112, 'lying': 113, 'piano': 114, 'tree': 115, 'toy': 116, 'next': 117, 'out': 118, 'other': 119, 'mouth': 120, 'park': 121, 'rock': 122, 'bicycle': 123, 'hair': 124, 'rope': 125, 'kids': 126, 'player': 127, 'jacket': 128, 'played': 129, 'eggs': 130, 'around': 131, 'performing': 132, 'swimming': 133, 'carrying': 134, 'big': 135, 'pool': 136, 'watching': 137, 'taking': 138, 'across': 139, 'football': 140, 'meat': 141, 'has': 142, 'purple': 143, 'sand': 144, 'kid': 145, 'hill': 146, 'trick': 147, 'animal': 148, 'four': 149, 'top': 150, 'tennis': 151, 'pouring': 152, 'coat': 153, 'chasing': 154, 'fighting': 155, 'crowd': 156, \"isn't\": 157, 'monkey': 158, 'pot': 159, 'behind': 160, 'dressed': 161, 'ocean': 162, 'ground': 163, 'along': 164, 'race': 165, 'racing': 166, 'fish': 167, 'driving': 168, 'together': 169, 'kicking': 170, 'hand': 171, 'track': 172, 'sidewalk': 173, 'several': 174, 'orange': 175, 'made': 176, 'table': 177, 'oil': 178, 'outdoors': 179, 'food': 180, 'making': 181, 'stage': 182, 'area': 183, 'posing': 184, 'chopping': 185, 'pieces': 186, 'away': 187, 'rocky': 188, 'piece': 189, 'colored': 190, 'uniform': 191, 'face': 192, 'beside': 193, 'building': 194, 'keyboard': 195, 'each': 196, 'carrot': 197, 'girls': 198, 'rider': 199, 'covered': 200, 'it': 201, 'getting': 202, 'dress': 203, 'peeling': 204, 'leaves': 205, 'side': 206, 'bench': 207, 'city': 208, 'background': 209, 'snowy': 210, 'drinking': 211, 'smiling': 212, 'inside': 213, 'catching': 214, 'garlic': 215, 'something': 216, 'sliced': 217, 'pan': 218, 'bridge': 219, 'frying': 220, 'knife': 221, 'game': 222, 'room': 223, 'full': 224, 'tomato': 225, 'hands': 226, 'rocks': 227, 'helmet': 228, 'under': 229, 'lake': 230, 'sign': 231, 'drawing': 232, 'colorful': 233, 'bread': 234, 'pants': 235, 'ridden': 236, 'tan': 237, 'plastic': 238, 'grey': 239, 'butter': 240, 'wood': 241, 'sunglasses': 242, 'light': 243, 'cooking': 244, 'nobody': 245, 'couple': 246, 'phone': 247, 'mountain': 248, 'paper': 249, 'opening': 250, 'machine': 251, 'few': 252, 'surfer': 253, 'practicing': 254, 'floor': 255, 'against': 256, 'motorbike': 257, 'fence': 258, 'cracking': 259, 'pulling': 260, 'instrument': 261, 'old': 262, 'gun': 263, 'wave': 264, 'laughing': 265, 'flying': 266, 'splashing': 267, 'fountain': 268, 'throwing': 269, 'wooden': 270, 'bird': 271, 'blond': 272, 'gear': 273, 'sliding': 274, 'river': 275, 'path': 276, 'leaping': 277, 'rolling': 278, 'waterfall': 279, 'back': 280, 'sandy': 281, 'stirring': 282, 'container': 283, 'cut': 284, 'box': 285, 'grassy': 286, 'mixing': 287, 'band': 288, 'falling': 289, 'their': 290, 'body': 291, 'speaking': 292, 'family': 293, 'resting': 294, 'between': 295, 'slide': 296, 'golden': 297, 'quickly': 298, 'shirtless': 299, 'using': 300, 'jersey': 301, 'bag': 302, 'dark': 303, 'onto': 304, 'lawn': 305, 'rhino': 306, 'yard': 307, 'waiting': 308, 'tall': 309, 'wheel': 310, 'five': 311, 'asian': 312, 'lot': 313, 'hanging': 314, 'milk': 315, 'trampoline': 316, 'arms': 317, 'breaking': 318, 'mud': 319, 'high': 320, 'pencil': 321, 'bottle': 322, 'suit': 323, 'scooter': 324, 'pushing': 325, 'them': 326, 'going': 327, 'picture': 328, 'striped': 329, 'stone': 330, 'baseball': 331, 'pointing': 332, 't': 333, 'nose': 334, 'edge': 335, 'jump': 336, 'leaning': 337, 'wet': 338, 'motocross': 339, 'gray': 340, 'cheese': 341, 'panda': 342, 'bed': 343, 'parking': 344, 'still': 345, 'ice': 346, 'ceiling': 347, 'sword': 348, 'vegetables': 349, 'reading': 350, 'adults': 351, 'writing': 352, 'fishing': 353, 'long': 354, 'snowboarder': 355, 'picking': 356, 'tiger': 357, 'players': 358, 'violin': 359, 'goal': 360, 'ingredients': 361, 'egg': 362, 'trunk': 363, 'couch': 364, 'jeans': 365, 'biker': 366, 'stick': 367, 'trees': 368, 'makeup': 369, 'hitting': 370, 'very': 371, 'fur': 372, 'onions': 373, 'shorts': 374, 'ledge': 375, 'surrounded': 376, 'head': 377, 'dyed': 378, 'cyclist': 379, 'brushing': 380, 'clothes': 381, 'happily': 382, 'boat': 383, 'seasoning': 384, 'kangaroo': 385, 'tricks': 386, 'costumes': 387, 'deer': 388, 'crowded': 389, 'break': 390, 'ramp': 391, 'biting': 392, 'open': 393, 'puddle': 394, 'microphone': 395, 'blonde': 396, 'paint': 397, 'topless': 398, 'dropping': 399, 'funny': 400, 'adding': 401, 'carefully': 402, 'guy': 403, 'skillet': 404, 'shooting': 405, 'concrete': 406, 'surfboard': 407, 'bikini': 408, 'dirty': 409, 'wheelie': 410, 'woods': 411, 'held': 412, 'pepper': 413, 'pizza': 414, 'clothing': 415, 'swing': 416, 'forest': 417, 'glasses': 418, 'train': 419, 'hiking': 420, 'window': 421, 'boiling': 422, 'distance': 423, 'raft': 424, 'restaurant': 425, 'cars': 426, 'shallow': 427, 'door': 428, 'removing': 429, 'rain': 430, 'seated': 431, 'banana': 432, 'chair': 433, 'waves': 434, 'staring': 435, 'potatoes': 436, 'bull': 437, 'jeep': 438, 'statue': 439, 'house': 440, 'uniforms': 441, 'cliff': 442, 'day': 443, 'sun': 444, 'snake': 445, 'showing': 446, 'sound': 447, 'shore': 448, 'snowboarding': 449, 'chef': 450, 'sunset': 451, 'toddler': 452, 'preparing': 453, 'legs': 454, 'board': 455, 'bunny': 456, 'bicyclist': 457, 'frisbee': 458, 'court': 459, 'surfing': 460, 'father': 461, 'soda': 462, 'arm': 463, 'skateboard': 464, 'puppy': 465, 'bamboo': 466, 'mushrooms': 467, 'hay': 468, 'mask': 469, 'trail': 470, 'leash': 471, 'basketball': 472, 'moving': 473, 'exercising': 474, 'pen': 475, 'tail': 476, 'eyelid': 477, 'cow': 478, 'drums': 479, 'calendar': 480, 'middle': 481, 'sticking': 482, 'different': 483, 'worn': 484, 'equipment': 485, 'mother': 486, 'eyes': 487, 'adult': 488, 'flowers': 489, 'slowly': 490, 'landing': 491, 'circles': 492, 'sky': 493, 'close': 494, 'after': 495, 'students': 496, 'sauce': 497, 'can': 498, 'licking': 499, 'cage': 500, 'noodles': 501, 'clouds': 502, 'ears': 503, 'bikers': 504, 'net': 505, 'gym': 506, 'cowboy': 507, 'cats': 508, 'built': 509, 'cheerfully': 510, 'skating': 511, 'trumpet': 512, 'drunk': 513, 'target': 514, 'axe': 515, 'roof': 516, 'brush': 517, 'stream': 518, 'lemur': 519, 'money': 520, 'pond': 521, 'beads': 522, 'leaving': 523, 'blowing': 524, 'eaten': 525, 'electric': 526, 'tomatoes': 527, 'kitten': 528, 'tofu': 529, 'cleaning': 530, 'blanket': 531, 'crawling': 532, 'pork': 533, 'exercises': 534, 'dry': 535, 'costume': 536, 'tables': 537, 'teenage': 538, 'sunny': 539, 'passionately': 540, 'barefoot': 541, 'following': 542, 'hole': 543, 'elephant': 544, 'acoustic': 545, 'night': 546, 'shirts': 547, 'indoors': 548, 'raising': 549, 'bikes': 550, 'bunch': 551, 'fire': 552, 'plate': 553, 'paddling': 554, 'crossing': 555, 'martial': 556, 'arts': 557, 'squirrel': 558, 'chop': 559, 'folding': 560, 'harp': 561, 'scissors': 562, 'cap': 563, 'barking': 564, 'umbrella': 565, 'rugby': 566, 'fallen': 567, 'teams': 568, 'wading': 569, 'used': 570, 'towards': 571, 'combing': 572, 'frog': 573, 'applying': 574, 'clown': 575, 'octopus': 576, 'cheerleaders': 577, 'gold': 578, 'swim': 579, 'looks': 580, 'seat': 581, 'vehicle': 582, 'somebody': 583, 'feet': 584, 'past': 585, 'device': 586, 'karate': 587, 'keyboards': 588, 'dicing': 589, 'having': 590, 'sprinkling': 591, 'oriental': 592, 'vegetable': 593, 'gloves': 594, 'line': 595, 'electronic': 596, 'grazing': 597, 'kitchen': 598, 'strip': 599, 'email': 600, 'view': 601, 'tongue': 602, 'sheep': 603, 'vest': 604, 'collar': 605, 'same': 606, 'empty': 607, 'have': 608, 'knees': 609, 'comfortably': 610, 'tossing': 611, 'classroom': 612, 'keeping': 613, 'outdoor': 614, 'horses': 615, 'shaking': 616, 'mouse': 617, 'lion': 618, 'kittens': 619, 'runners': 620, 'boxing': 621, 'plane': 622, 'eyeshadow': 623, 'herd': 624, 'juice': 625, 'officer': 626, 'store': 627, 'firing': 628, 'marching': 629, 'leather': 630, 'skateboarder': 631, 'chairs': 632, 'hurdle': 633, 'platform': 634, 'sweater': 635, 'bmx': 636, 'missing': 637, 'sleeping': 638, 'competing': 639, 'scarf': 640, 'biking': 641, 'turtle': 642, 'setting': 643, 'tapping': 644, 'mechanical': 645, 'wind': 646, 'bouncing': 647, 'crouching': 648, 'photo': 649, 'motorcyclist': 650, 'cold': 651, 'sea': 652, 'him': 653, 'stopping': 654, 'daughter': 655, 'protective': 656, 'swinging': 657, 'tortilla': 658, 'spread': 659, 'broccoli': 660, 'feeding': 661, 'recklessly': 662, 'parrot': 663, 'crocodile': 664, 'airplane': 665, 'lemon': 666, 'recruits': 667, 'reindeer': 668, 'structure': 669, 'american': 670, 'gathering': 671, \"man's\": 672, 'bride': 673, 'mowing': 674, 'cell': 675, 'microwave': 676, 'knives': 677, 'swiftly': 678, 'zucchini': 679, 'painting': 680, 'diving': 681, 'military': 682, 'tattoo': 683, 'pacing': 684, 'attached': 685, 'bubble': 686, 'both': 687, 'wooded': 688, 'typing': 689, 'slices': 690, 'turning': 691, 'cheetah': 692, 'prey': 693, 'beating': 694, 'dish': 695, 'placing': 696, 'packing': 697, 'nail': 698, 'eye': 699, 'waving': 700, 'okra': 701, 'suitcases': 702, 'case': 703, 'straw': 704, 'cigarette': 705, 'muddy': 706, 'airborne': 707, 'binoculars': 708, 'faces': 709, 'angels': 710, 'headdress': 711, 'barrel': 712, 'kissing': 713, 'low': 714, 'trotting': 715, 'climbed': 716, 'watched': 717, 'brick': 718, 'corndogs': 719, 'mixer': 720, 'glass': 721, 'cameras': 722, 'bear': 723, 'log': 724, 'perched': 725, 'curiously': 726, 'swimmers': 727, 'scrubbing': 728, 'metal': 729, 'spraying': 730, 'steps': 731, 'tuxedos': 732, 'only': 733, 'elderly': 734, 'volleyball': 735, 'dangerously': 736, 'pedestrians': 737, 'coming': 738, 'peacefully': 739, 'huge': 740, 'event': 741, 'toward': 742, 'put': 743, 'knocking': 744, 'burning': 745, 'garage': 746, 'stove': 747, 'breaded': 748, 'wilderness': 749, 'male': 750, 'begging': 751, 'swimsuit': 752, 'shining': 753, 'skinned': 754, 'right': 755, 'dead': 756, 'mid': 757, 'smoking': 758, 'beer': 759, 'rest': 760, 'kickboxing': 761, 'weapon': 762, 'above': 763, 'lounging': 764, 'poles': 765, 'stand': 766, 'naked': 767, 'persons': 768, 'operating': 769, 'wedding': 770, 'obstacle': 771, 'newspapers': 772, 'plants': 773, 'singer': 774, 'pictures': 775, 'attentively': 776, 'cereal': 777, 'hard': 778, 'games': 779, 'mixture': 780, 'penciling': 781, 'lamp': 782, 'rabbit': 783, 'cement': 784, 'saddle': 785, 'frolicking': 786, 'christmas': 787, 'headband': 788, 'tank': 789, 'female': 790, 'steep': 791, 'sport': 792, 'pair': 793, 'post': 794, 'buckets': 795, 'sparring': 796, 'many': 797, 'painted': 798, 'busy': 799, 'squirt': 800, 'catch': 801, 'about': 802, 'furry': 803, 'snowboard': 804, 'desert': 805, 'telephone': 806, 'vending': 807, 'badger': 808, 'digging': 809, 'cook': 810, 'animals': 811, 'fingers': 812, 'watermelon': 813, 'shredded': 814, 'blow': 815, 'gnawing': 816, 'tray': 817, 'silencer': 818, 'paws': 819, 'boot': 820, 'half': 821, 'pipe': 822, 'beautiful': 823, 'bank': 824, 'bee': 825, 'flower': 826, 'sniffing': 827, 'duck': 828, 'drinks': 829, 'cart': 830, 'cardboard': 831, 'tunnel': 832, 'mat': 833, 'racer': 834, 'pyramid': 835, 'balcony': 836, 'blocks': 837, 'hugging': 838, 'direction': 839, 'backbends': 840, 'friends': 841, 'wild': 842, 'corner': 843, 'far': 844, 'silver': 845, 'leading': 846, 'steadily': 847, 'mountains': 848, 'package': 849, 'headphones': 850, 'driven': 851, 'fan': 852, 'chopped': 853, 'spitting': 854, 'peeled': 855, 'carelessly': 856, 'cricket': 857, 'corn': 858, 'video': 859, 'ferrets': 860, 'clove': 861, 'guinea': 862, 'pig': 863, 'lifting': 864, 'cosmetics': 865, 'carrots': 866, 'buttering': 867, 'volleyballs': 868, 'upside': 869, 'ring': 870, 'erasing': 871, 'doll': 872, 'sink': 873, 'curb': 874, 'drawer': 875, 'deep': 876, 'language': 877, 'chili': 878, 'clear': 879, 'landscape': 880, 'cans': 881, 'inline': 882, 'skates': 883, 'outfit': 884, 'wings': 885, 'kayak': 886, 'approaching': 887, 'photographers': 888, 'suits': 889, 'baskets': 890, 'blankets': 891, 'terrain': 892, 'dock': 893, 'skiing': 894, 'rollerbladers': 895, 'rail': 896, 'sled': 897, 'gift': 898, 'tongues': 899, 'backpack': 900, 'chaps': 901, 'tambourines': 902, 'camel': 903, 'carriage': 904, 'jumper': 905, 'garden': 906, 'studying': 907, 'song': 908, 'stuck': 909, 'end': 910, 'rinsing': 911, 'steak': 912, 'logs': 913, 'chicken': 914, 'tiredly': 915, 'silent': 916, 'counter': 917, 'cupcake': 918, 'floats': 919, 'hind': 920, 'bikinis': 921, 'wetsuit': 922, 'eastern': 923, 'sports': 924, 'winter': 925, 'bearded': 926, 'ear': 927, 'base': 928, 'pole': 929, 'construction': 930, 'wrestling': 931, 'basket': 932, 'alone': 933, 'or': 934, 'strange': 935, 'branch': 936, 'floating': 937, 'difficulty': 938, 'placed': 939, 'facing': 940, 'completely': 941, 'clumsily': 942, 'shrimp': 943, 'measuring': 944, 'sharpening': 945, 'sawing': 946, 'emptying': 947, 'teens': 948, 'whisk': 949, 'closing': 950, 'fist': 951, 'thick': 952, 'drilling': 953, 'petting': 954, 'beige': 955, 'left': 956, 'leg': 957, 'others': 958, 'flapping': 959, 'gravel': 960, 'unicycle': 961, 'beers': 962, 'handstand': 963, 'atvs': 964, 'bathing': 965, 'cheerleader': 966, 'older': 967, 'hillside': 968, 'without': 969, 'raised': 970, 'object': 971, 'trying': 972, 'backyard': 973, 'climber': 974, 'fearful': 975, 'competition': 976, 'filling': 977, 'excitedly': 978, 'really': 979, 'laying': 980, 'furiously': 981, 'patterned': 982, 'chimp': 983, 'magic': 984, 'set': 985, 'sewing': 986, \"somebody's\": 987, 'pandas': 988, 'shotgun': 989, 'pack': 990, 'birdcage': 991, 'hockey': 992, 'go': 993, 'underwater': 994, 'nearby': 995, 'helping': 996, 'dunking': 997, 'asia': 998, 'size': 999, 'droplets': 1000, 'vertical': 1001, 'cheering': 1002, 'mostly': 1003, 'barren': 1004, 'jockeys': 1005, 'racers': 1006, 'shrimps': 1007, 'card': 1008, 'strumming': 1009, 'stenograph': 1010, 'buttons': 1011, 'loudly': 1012, 'as': 1013, 'himself': 1014, 'wire': 1015, 'hungrily': 1016, 'inflatable': 1017, 'lens': 1018, 'idling': 1019, 'grand': 1020, 'squeezing': 1021, 'cooked': 1022, 'rising': 1023, 'waking': 1024, 'patient': 1025, 'doctor': 1026, 'zoo': 1027, 'rifle': 1028, 'grabbing': 1029, 'muzzle': 1030, 'speeding': 1031, 'barrier': 1032, 'crossed': 1033, 'darkened': 1034, 'balls': 1035, 'eyebrows': 1036, 'veil': 1037, 'map': 1038, 'smile': 1039, 'bellbottoms': 1040, 'necklace': 1041, 'sweatshirt': 1042, 'earrings': 1043, 'artificially': 1044, 'breeds': 1045, 'groom': 1046, 'bottom': 1047, 'camouflage': 1048, 'pony': 1049, 'rink': 1050, 'toddlers': 1051, 'wagon': 1052, 'amphitheater': 1053, 'stairs': 1054, \"person's\": 1055, 'hunting': 1056, 'podium': 1057, 'spanking': 1058, 'stirred': 1059, 'poured': 1060, 'fed': 1061, 'play': 1062, 'peppers': 1063, 'trays': 1064, 'knocked': 1065, 'book': 1066, 'playfully': 1067, 'cabinet': 1068, 'skit': 1069, 'work': 1070, 'cub': 1071, 'show': 1072, 'great': 1073, 'homeless': 1074, 'police': 1075, 'kart': 1076, 'official': 1077, 'spectators': 1078, 'match': 1079, 'hut': 1080, 'rodeo': 1081, 'gate': 1082, 'sprinting': 1083, 'ignoring': 1084, 'subject': 1085, 'coats': 1086, 'surprised': 1087, 'rescue': 1088, 'performed': 1089, 'laid': 1090, 'contains': 1091, 'dipping': 1092, 'call': 1093, 'cute': 1094, 'spreading': 1095, 'happy': 1096, 'slice': 1097, 'raw': 1098, 'internet': 1099, 'tearing': 1100, 'buttered': 1101, 'banging': 1102, 'thin': 1103, 'torch': 1104, 'aimlessly': 1105, 'trainer': 1106, 'pasture': 1107, 'wiping': 1108, 'thinking': 1109, 'dropped': 1110, 'exploding': 1111, 'swamp': 1112, 'panel': 1113, 'styling': 1114, 'teasing': 1115, 'block': 1116, 'finger': 1117, 'pile': 1118, 'parade': 1119, 'palm': 1120, 'pavement': 1121, 'rides': 1122, 'helmets': 1123, 'leafless': 1124, 'surface': 1125, 'seeking': 1126, 'tackling': 1127, 'purse': 1128, 'hills': 1129, 'dim': 1130, 'spout': 1131, 'tube': 1132, 'columns': 1133, 'shiny': 1134, 'elegant': 1135, 'llama': 1136, 'tee': 1137, 'coverall': 1138, 'gathered': 1139, 'various': 1140, 'lights': 1141, 'lit': 1142, 'egyptian': 1143, 'indian': 1144, 'friend': 1145, 'tattoos': 1146, 'boa': 1147, 'tying': 1148, 'angrily': 1149, 'married': 1150, 'aisle': 1151, 'watering': 1152, 'provide': 1153, 'protection': 1154, 'jumpsuit': 1155, 'boots': 1156, 'pose': 1157, 'related': 1158, 'windows': 1159, 'concert': 1160, 'ping': 1161, 'pong': 1162, 'listening': 1163, 'mixed': 1164, 'bell': 1165, 'cleaned': 1166, 'intensely': 1167, 'interview': 1168, 'cord': 1169, 'float': 1170, 'teenager': 1171, 'hammer': 1172, 'boulder': 1173, 'travelling': 1174, 'folded': 1175, 'checking': 1176, 'boards': 1177, 'blades': 1178, 'fun': 1179, 'furniture': 1180, 'added': 1181, \"dog's\": 1182, 'canoe': 1183, 'fireplace': 1184, 'cop': 1185, 'shoeless': 1186, 'lavender': 1187, 'toys': 1188, 'donations': 1189, 'monument': 1190, 'participating': 1191, 'playground': 1192, 'candles': 1193, 'bare': 1194, 'almost': 1195, 'sponsor': 1196, 'logos': 1197, 'eyeing': 1198, 'country': 1199, 'snowsuits': 1200, 'lone': 1201, 'stands': 1202, 'cowgirl': 1203, 'nude': 1204, 'rubbing': 1205, 'note': 1206, 'trip': 1207, 'owner': 1208, \"aren't\": 1209, 'launching': 1210, 'midair': 1211, 'probably': 1212, 'pine': 1213, 'bucket': 1214, 'they': 1215, 'makes': 1216, 'videos': 1217, 'snapping': 1218, 'equipped': 1219, 'joyfully': 1220, 'kissed': 1221, 'jumps': 1222, 'batter': 1223, 'peel': 1224, 'music': 1225, 'mimes': 1226, 'earth': 1227, 'cautiously': 1228, 'pushed': 1229, 'breathlessly': 1230, 'clean': 1231, 'truck': 1232, 'webcam': 1233, 'saucer': 1234, 'loaves': 1235, 'sugar': 1236, 'practitioner': 1237, 'kick': 1238, 'olive': 1239, 'barbells': 1240, 'weights': 1241, 'cattle': 1242, 'gloved': 1243, 'tape': 1244, 'fried': 1245, 'tricycle': 1246, 'spinning': 1247, 'creek': 1248, 'boxer': 1249, 'tiles': 1250, 'flipping': 1251, 'tires': 1252, 'tractor': 1253, 'doctors': 1254, 'drill': 1255, 'fitting': 1256, 'acrobatics': 1257, 'instruments': 1258, 'poking': 1259, 'skewers': 1260, 'rack': 1261, 'figures': 1262, 'sledgehammer': 1263, 'skateboarding': 1264, 'market': 1265, 'pocket': 1266, 'crane': 1267, 'guided': 1268, 'kiddies': 1269, 'muzzles': 1270, 'policeman': 1271, 'parading': 1272, 'rushing': 1273, 'vast': 1274, 'glacial': 1275, 'numbers': 1276, 'pet': 1277, 'dresses': 1278, 'bars': 1279, 'seabird': 1280, 'shopping': 1281, 'warm': 1282, 'opponent': 1283, 'rollerblader': 1284, 'carpeted': 1285, 'bent': 1286, 'fluorescent': 1287, 'tower': 1288, 'ribbon': 1289, 'hose': 1290, 'touchdown': 1291, 'tights': 1292, 'hopping': 1293, 'super': 1294, 'soaker': 1295, 'new': 1296, 'squatting': 1297, 'poodles': 1298, 'traffic': 1299, 'jam': 1300, 'buildings': 1301, 'shaped': 1302, 'rainbow': 1303, 'afghan': 1304, 'below': 1305, 'bandanna': 1306, 'heart': 1307, 'accessories': 1308, 'veteran': 1309, 'things': 1310, 'war': 1311, 'rags': 1312, 'cross': 1313, 'workers': 1314, 'heels': 1315, 'shade': 1316, 'fetching': 1317, 'paintbrush': 1318, \"artist's\": 1319, 'easel': 1320, 'splashed': 1321, 'attacking': 1322, 'current': 1323, 'safety': 1324, 'preservers': 1325, 'murals': 1326, 'roadway': 1327, 'plant': 1328, 'hiker': 1329, 'position': 1330, 'bald': 1331, 'perching': 1332, 'she': 1333, 'limb': 1334, 'cloak': 1335, 'extravagant': 1336, 'presentation': 1337, 'stump': 1338, 'ponytail': 1339, 'guys': 1340, 'enjoying': 1341, 'color': 1342, 'eyebrow': 1343, 'space': 1344, 'reserved': 1345, 'handicapped': 1346, 'giving': 1347, 'bun': 1348, 'whacking': 1349, 'ankle': 1350, 'crying': 1351, 'dough': 1352, 'sharp': 1353, 'liquid': 1354, 'stenography': 1355, 'footbag': 1356, 'sailing': 1357, 'fresh': 1358, 'rapidly': 1359, 'smearing': 1360, 'trash': 1361, 'eagerly': 1362, 'strongly': 1363, 'granting': 1364, 'waterskiing': 1365, 'hammering': 1366, 'town': 1367, 'cob': 1368, 'shelf': 1369, 'capsicum': 1370, 'caribous': 1371, 'liner': 1372, 'sneezing': 1373, 'rod': 1374, 'coating': 1375, 'south': 1376, 'african': 1377, 'herbs': 1378, 'runner': 1379, 'drum': 1380, 'handling': 1381, 'pitcher': 1382, 'mug': 1383, 'make': 1384, 'striking': 1385, 'broken': 1386, 'jetski': 1387, 'seadoo': 1388, 'eggplant': 1389, 'praying': 1390, 'stroking': 1391, 'shoe': 1392, 'tire': 1393, 'alligator': 1394, 'content': 1395, 'crocheting': 1396, 'cucumbers': 1397, 'ginger': 1398, 'loading': 1399, 'bullets': 1400, 'meal': 1401, 'sumo': 1402, 'waste': 1403, 'bin': 1404, 'sticky': 1405, 'goo': 1406, 'pasta': 1407, 'hot': 1408, 'stuffed': 1409, 'cucumber': 1410, 'audience': 1411, 'skunk': 1412, 'working': 1413, 'sledge': 1414, 'severing': 1415, 'toe': 1416, 'soup': 1417, 'spoon': 1418, 'skull': 1419, 'leaf': 1420, 'rowing': 1421, 'fingernails': 1422, 'bedroom': 1423, 'slipper': 1424, 'driver': 1425, 'scenic': 1426, 'flag': 1427, 'drag': 1428, 'flames': 1429, 'starting': 1430, 'rough': 1431, 'flowing': 1432, 'dusty': 1433, 'farm': 1434, 'sheepdog': 1435, 'grouping': 1436, 'patio': 1437, 'dune': 1438, 'incline': 1439, 'lots': 1440, 'treading': 1441, 'kneeling': 1442, 'spots': 1443, 'teammates': 1444, 'plywood': 1445, 'screen': 1446, 'class': 1447, 'grotto': 1448, 'interior': 1449, 'sides': 1450, 'staircase': 1451, 'snowball': 1452, 'books': 1453, 'elaborate': 1454, 'rusty': 1455, 'flip': 1456, 'mound': 1457, 'mantel': 1458, 'twin': 1459, 'preteen': 1460, 'tugging': 1461, 'bus': 1462, 'weather': 1463, 'kayaking': 1464, 'gentle': 1465, 'waters': 1466, 'footballer': 1467, 'armbands': 1468, 'excitement': 1469, 'bottles': 1470, 'skirt': 1471, 'leotard': 1472, 'flaring': 1473, 'frame': 1474, 'accident': 1475, 'fake': 1476, 'snowdrift': 1477, 'muscular': 1478, 'cylindrical': 1479, 'bale': 1480, 'vehicles': 1481, 'rally': 1482, 'bend': 1483, 'athletes': 1484, 'stadium': 1485, 'scrambling': 1486, 'dangling': 1487, 'straps': 1488, 'gymnastic': 1489, 'ropes': 1490, 'racket': 1491, 'racquet': 1492, 'bib': 1493, 'laden': 1494, 'goggles': 1495, 'outfits': 1496, 'smeared': 1497, 'substance': 1498, 'arcade': 1499, 'knee': 1500, 'mitt': 1501, 'number': 1502, 'faucet': 1503, 'seating': 1504, 'arrangement': 1505, 'patches': 1506, 'cheeks': 1507, 'aged': 1508, 'boardwalk': 1509, 'chubby': 1510, 'faced': 1511, 'ramps': 1512, 'skyline': 1513, 'porch': 1514, 'skier': 1515, 'tiny': 1516, 'bit': 1517, 'slip': 1518, 'pinwheel': 1519, 'multicolor': 1520, 'shoulders': 1521, 'scarves': 1522, 'silky': 1523, 'spotting': 1524, 'countertop': 1525, 'arabic': 1526, 'beret': 1527, 'recreation': 1528, 'beard': 1529, 'bay': 1530, 'calculating': 1531, 'route': 1532, 'fair': 1533, 'formation': 1534, 'beak': 1535, 'puppies': 1536, 'wheeled': 1537, 'mountainside': 1538, 'skipping': 1539, 'bonfire': 1540, 'all': 1541, 'blooming': 1542, 'motorbikes': 1543, 'art': 1544, 'gallery': 1545, 'males': 1546, 'stack': 1547, 'holiday': 1548, 'reaching': 1549, 'pebbly': 1550, 'hats': 1551, 'jewelry': 1552, 'henna': 1553, 'paperwork': 1554, 'circular': 1555, 'pursuing': 1556, 'classic': 1557, 'overlooking': 1558, 'kennel': 1559, 'railing': 1560, 'grinding': 1561, 'dusk': 1562, 'pristine': 1563, 'headlights': 1564, 'woven': 1565, 'walls': 1566, 'village': 1567, 'foamy': 1568, 'hooded': 1569, 'khaki': 1570, 'state': 1571, 'maneuvering': 1572, 'spotted': 1573, 'basement': 1574, 'foreground': 1575, 'camels': 1576, 'pajamas': 1577, 'emerging': 1578, 'escorting': 1579, 'tie': 1580, 'infant': 1581, 'practice': 1582, 'range': 1583, 'like': 1584, 'dance': 1585, 'mouths': 1586, 'sofa': 1587, 'sprayed': 1588, 'be': 1589, 'roped': 1590, 'rose': 1591, 'gracefully': 1592, 'cup': 1593, 'spices': 1594, 'boiled': 1595, 'skillfully': 1596, 'deboning': 1597, 'reviving': 1598, 'power': 1599, 'pistol': 1600, 'pulled': 1601, 'hedgehog': 1602, 'famous': 1603, 'noses': 1604, 'celebrating': 1605, 'malnourished': 1606, 'fancy': 1607, 'tackled': 1608, 'extended': 1609, 'outward': 1610, 'mittened': 1611, 'twirling': 1612, 'experiencing': 1613, 'world': 1614, 'piercings': 1615, 'drummer': 1616, 'moustache': 1617, 'fly': 1618, 'metallic': 1619, 'serious': 1620, 'flyaway': 1621, 'scouts': 1622, 'helmeted': 1623, 'revealing': 1624, 'fearlessly': 1625, 'looked': 1626, \"doesn't\": 1627, 'courageously': 1628, 'suspiciously': 1629, 'marsh': 1630, 'onstage': 1631, 'repeatedly': 1632, 'shaving': 1633, 'screaming': 1634, 'burrowing': 1635, 'shrewdly': 1636, 'whisking': 1637, 'wakeboarding': 1638, 'rocking': 1639, 'scoring': 1640, 'animated': 1641, 'lifted': 1642, 'trekking': 1643, 'strolling': 1644, 'collecting': 1645, 'tap': 1646, 'flips': 1647, 'scratching': 1648, 'belly': 1649, 'guns': 1650, 'jet': 1651, 'patting': 1652, 'lipstick': 1653, 'massaging': 1654, 'screwing': 1655, 'policewomen': 1656, 'karaoke': 1657, 'hamster': 1658, 'fixing': 1659, 'filing': 1660, 'nails': 1661, 'pull': 1662, 'ups': 1663, 'hardwood': 1664, 'wok': 1665, 'peddling': 1666, 'ringers': 1667, 'cleaner': 1668, 'saying': 1669, 'toad': 1670, 'communicating': 1671, 'sausages': 1672, 'digital': 1673, 'erase': 1674, 'laptop': 1675, 'slab': 1676, 'kettle': 1677, 'monitor': 1678, 'swimsuits': 1679, 'herding': 1680, 'guarding': 1681, 'peering': 1682, 'uphill': 1683, 'alongside': 1684, 'fashion': 1685, 'dueling': 1686, 'sticks': 1687, 'skate': 1688, 'checkered': 1689, 'sleeved': 1690, 'squirting': 1691, 'lunging': 1692, 'photograph': 1693, 'blurry': 1694, 'purchasing': 1695, 'spotlight': 1696, 'backwards': 1697, 'masonry': 1698, 'splash': 1699, 'pausing': 1700, 'carnival': 1701, 'lining': 1702, 'hikers': 1703, 'clustered': 1704, 'fast': 1705, 'retrieving': 1706, 'dunes': 1707, 'touching': 1708, 'upwards': 1709, 'distant': 1710, 'school': 1711, 'surf': 1712, 'swimmer': 1713, 'church': 1714, 'maracas': 1715, 'retriever': 1716, 'indoor': 1717, 'scattering': 1718, \"woman's\": 1719, 'corners': 1720, 'plays': 1721, 'hit': 1722, 'storing': 1723, 'upon': 1724, 'tricking': 1725, 'bricks': 1726, 'lowering': 1727, 'performer': 1728, 'planting': 1729, 'drying': 1730, 'bowling': 1731, 'wildly': 1732, 'enthusiastically': 1733, 'denying': 1734, 'taken': 1735, 'cracked': 1736, 'funnily': 1737, 'beautifully': 1738, 'staging': 1739, 'scaring': 1740, 'seashore': 1741, 'shop': 1742, 'goalkeeper': 1743, 'defending': 1744, 'caught': 1745, 'chased': 1746, 'tattered': 1747, 'investigating': 1748, 'this': 1749, 'dancer': 1750, 'sedan': 1751, 'daschunds': 1752, 'abruptly': 1753, 'prawn': 1754, 'cyclone': 1755, 'absently': 1756, 'grating': 1757, 'serving': 1758, 'handing': 1759, 'opened': 1760, 'word': 1761, 'aiming': 1762, 'font': 1763, 'clinging': 1764, 'n': 1765, 'square': 1766, 'lookers': 1767, 'cluster': 1768, 'paved': 1769, 'heavily': 1770, 'graphitized': 1771, 'skilled': 1772, 'dunked': 1773, 'fight': 1774, 'cornering': 1775, 'during': 1776, 'slowing': 1777, 'dyeing': 1778, 'riders': 1779, 'likes': 1780, 'age': 1781, 'suited': 1782, 'failing': 1783, 'perform': 1784, 'look': 1785, 'hiding': 1786, \"boy's\": 1787, 'fasting': 1788, 'amusedly': 1789, 'seriously': 1790, 'given': 1791, 'peaceful': 1792, 'difficultly': 1793, 'arranging': 1794, 'hungry': 1795, 'drink': 1796, 'cards': 1797, 'sad': 1798, 'washing': 1799, 'musician': 1800, 'shaken': 1801, 'whole': 1802, 'walk': 1803, 'loud': 1804, 'diced': 1805, 'magician': 1806, 'ruffling': 1807, 'ladies': 1808, 'thrown': 1809, 'nailing': 1810, 'piecing': 1811, 'repairing': 1812, 'followed': 1813, 'motionless': 1814, 'before': 1815, 'automobile': 1816, 'conversation': 1817, 'cows': 1818, 'unfolding': 1819, 'freeing': 1820, 'perch': 1821, 'asleep': 1822, 'blade': 1823, 'drawn': 1824, 'fruit': 1825, 'land': 1826, 'phoning': 1827, 'musical': 1828, 'battling': 1829, 'toddling': 1830, 'carried': 1831, 'holes': 1832, \"someone's\": 1833, 'calmly': 1834, 'charity': 1835, 'fiercely': 1836, 'designed': 1837, 'closed': 1838, 'surrounding': 1839, 'shades': 1840, 'covering': 1841, 'relaxing': 1842, 'midspeech': 1843, 'wears': 1844, 'fountains': 1845, 'steel': 1846, 'onlookers': 1847, 'arguing': 1848, 'contain': 1849, 'telephonic': 1850, 'shrewd': 1851, 'hiring': 1852, 'stitched': 1853, 'walks': 1854, 'crocodiles': 1855, 'wrapping': 1856, 'untying': 1857, 'confidently': 1858, 'frightening': 1859, 'heartily': 1860, 'shouting': 1861, 'roaring': 1862, 'splashes': 1863, 'delightedly': 1864, 'clung': 1865, 'stretching': 1866, 'deleting': 1867, 'roping': 1868, 'buying': 1869, 'he': 1870, 'insect': 1871, 'shown': 1872, 'rollerblades': 1873, 'consists': 1874, 'dunks': 1875, 'masked': 1876, 'directions': 1877, 'vicinity': 1878, 'groups': 1879, \"child's\": 1880, 'none': 1881, 'enclosure': 1882, 'fences': 1883, 'colors': 1884, 'eat': 1885, 'customers': 1886, 'patiently': 1887, 'joyful': 1888, 'uncomfortable': 1889, 'guitarist': 1890, 'mothers': 1891, 'schoolgirl': 1892, 'cramped': 1893, 'midst': 1894, 'tattooed': 1895, 'explorers': 1896, 'camping': 1897, 'tackle': 1898, 'tools': 1899, 'blonds': 1900, 'while': 1901, 'stunts': 1902, 'sprays': 1903, 'barks': 1904, 'owns': 1905, 'quitting': 1906, 'comfortable': 1907, 'discussion': 1908, 'you': 1909, 'cannot': 1910, 'sit': 1911, 'pedestrian': 1912, 'bicycles': 1913, 'gears': 1914, 'rocker': 1915, 'quiet': 1916, 'apparel': 1917, 'concealing': 1918, 'teenagers': 1919, 'effortlessly': 1920, 'rescues': 1921, 'dad': 1922, 'daughters': 1923, 'launch': 1924, 'coin': 1925, 'descending': 1926, 'social': 1927, 'program': 1928, 'climbers': 1929, 'streets': 1930, 'nothing': 1931, 'benches': 1932, 'bringing': 1933, 'rear': 1934, 'lead': 1935, 'competitions': 1936, 'studied': 1937, 'study': 1938, 'marriage': 1939, 'arriving': 1940, 'just': 1941, 'got': 1942, 'isle': 1943, 'priest': 1944, 'marry': 1945, 'attended': 1946, 'snap': 1947, 'depicting': 1948, 'provides': 1949, 'unprotective': 1950, 'harmlessly': 1951, 'dodge': 1952, 'pigtails': 1953, 'tailing': 1954, 'skater': 1955, 'cheers': 1956, 'suffering': 1957, 'courageous': 1958, 'filming': 1959, 'done': 1960, 'throng': 1961, 'blew': 1962, \"girl's\": 1963, 'rubber': 1964, 'targeted': 1965, 'playful': 1966, 'dying': 1967, 'tossed': 1968, 'cover': 1969, 'talk': 1970, 'races': 1971, 'furious': 1972, 'yelling': 1973, 'newspaper': 1974, 'featuring': 1975, 'sized': 1976, 'pattern': 1977, 'falls': 1978, 'leap': 1979, 'greatly': 1980, 'appealing': 1981, 'snowboarders': 1982, 'tirelessly': 1983, 'found': 1984, 'teach': 1985, 'run': 1986, 'prawns': 1987, 'areas': 1988, 'speech': 1989, 'where': 1990, 'tanking': 1991, 'frightened': 1992, 'amalgamating': 1993, 'measured': 1994, 'sharpened': 1995, 'shaved': 1996, 'pianist': 1997, 'rinsed': 1998, 'scared': 1999, 'radio': 2000, 'lumping': 2001, 'physical': 2002, 'activity': 2003, 'circle': 2004, 'acting': 2005, 'picked': 2006, 'burrowed': 2007, 'needs': 2008, 'operate': 2009, 'poor': 2010, 'snakes': 2011, 'mice': 2012, 'austerely': 2013, 'separated': 2014, 'vigorously': 2015, 'riskily': 2016, 'quietly': 2017, 'anchored': 2018, \"boat's\": 2019, 'sail': 2020, 'reflected': 2021, 'pours': 2022, 'milking': 2023, \"kitten's\": 2024, 'anyone': 2025, 'powering': 2026, 'lovely': 2027, 'way': 2028, 'tough': 2029, 'tiring': 2030, 'everyone': 2031, 'able': 2032, 'allowed': 2033, 'dices': 2034, 'cast': 2035, 'win': 2036, 'bells': 2037, 'ringing': 2038, 'melting': 2039, \"pony's\": 2040, 'flavored': 2041, 'amazingly': 2042, 'muted': 2043, 'speaker': 2044, 'parrots': 2045, 'advertisement': 2046, 'loves': 2047, 'meeting': 2048, 'polished': 2049, 'time': 2050, \"driver's\": 2051, 'parked': 2052, 'angry': 2053, 'targeting': 2054, 'oiled': 2055, 'greedily': 2056, 'casually': 2057, 'unwarily': 2058, 'loving': 2059, 'intense': 2060, 'ride': 2061, 'extracting': 2062, 'dangerous': 2063, 'sold': 2064, 'requires': 2065, 'amusing': 2066, 'precisely': 2067, 'chatting': 2068, 'via': 2069, 'whisked': 2070, 'strong': 2071, 'granted': 2072, 'interviewer': 2073, 'mindlessly': 2074, 'lick': 2075, 'helps': 2076, \"cat's\": 2077, 'hunger': 2078, 'scolding': 2079, 'takes': 2080, 'unstitching': 2081, 'crack': 2082, 'nervously': 2083, 'desk': 2084, 'bitten': 2085, 'jar': 2086, 'bangs': 2087, 'hammered': 2088, 'cuts': 2089, 'burned': 2090, 'part': 2091, 'impetuously': 2092, 'shunning': 2093, 'youngling': 2094, 'brightly': 2095, 'climb': 2096, 'caged': 2097, 'frantically': 2098, 'aim': 2099, 'brushed': 2100, 'tv': 2101, 'hurriedly': 2102, 'olives': 2103, 'restraining': 2104, 'walked': 2105, 'devouring': 2106, 'cartoon': 2107, 'lovingly': 2108, 'teaming': 2109, 'team': 2110, 'athletically': 2111, 'animatedly': 2112, 'combed': 2113, 'flooring': 2114, 'glove': 2115, 'trained': 2116, 'powerfully': 2117, 'taping': 2118, 'squeezed': 2119, 'bored': 2120, 'fearfully': 2121, 'stopped': 2122, 'grated': 2123, 'stationed': 2124, 'cleansing': 2125, 'dirtying': 2126, 'speedily': 2127, 'cane': 2128, 'harping': 2129, 'receiving': 2130, 'handed': 2131, 'jotting': 2132, 'crazily': 2133, 'circling': 2134, 'disassembling': 2135, 'lazing': 2136, 'floored': 2137, 'immobile': 2138, 'handled': 2139, 'staying': 2140, 'filled': 2141, 'nicely': 2142, 'raining': 2143, 'packed': 2144, 'dashing': 2145, 'jumpers': 2146, 'talented': 2147, 'shredding': 2148, 'peppering': 2149, 'concentrated': 2150, 'rid': 2151, 'lazily': 2152, 'escaping': 2153, 'exercise': 2154, 'divinely': 2155, 'boring': 2156, 'fists': 2157, 'fencing': 2158, 'awakening': 2159, 'refrigerating': 2160, 'hurling': 2161, 'dismantling': 2162, 'fervently': 2163, 'stroked': 2164, 'voraciously': 2165, 'sung': 2166, 'costumed': 2167, 'aircraft': 2168, 'sketch': 2169, 'noisily': 2170, 'sheets': 2171, 'patted': 2172, 'punching': 2173, 'healing': 2174, 'helped': 2175, 'massaged': 2176, 'screwed': 2177, 'policewoman': 2178, 'shortening': 2179, 'carving': 2180, 'exhibiting': 2181, 'kicked': 2182, 'roasting': 2183, 'teased': 2184, \"monkey's\": 2185, 'manicure': 2186, 'messing': 2187, 'parquet': 2188, 'soldiers': 2189, 'selling': 2190, 'read': 2191, 'ham': 2192, 'prepared': 2193, 'discarding': 2194, 'wrestlers': 2195, 'petted': 2196, 'sheet': 2197, 'cubs': 2198, 'bears': 2199, 'mowed': 2200, 'computer': 2201, 'cake': 2202, 'licked': 2203, 'reloading': 2204, 'lunch': 2205, 'puking': 2206, 'bow': 2207, 'training': 2208, 'fully': 2209, 'walker': 2210, 'cowboys': 2211, 'watered': 2212, 'holders': 2213, 'pitifully': 2214, 'refusing': 2215, 'closely': 2216, 'cementing': 2217, 'sadly': 2218, 'nosing': 2219, 'bred': 2220, 'surfboards': 2221, 'themselves': 2222, 'heads': 2223, 'celebrated': 2224, 'ship': 2225, 'healthy': 2226, 'sunshine': 2227, 'gamer': 2228, 'dispersing': 2229, 'rafting': 2230, 'guarded': 2231, 'challengingly': 2232, 'leapt': 2233, 'home': 2234, 'absentmindedly': 2235, 'relaxed': 2236, 'flight': 2237, 'smashing': 2238, 'pleasantly': 2239, 'sniffed': 2240, 'elegantly': 2241, 'ducks': 2242, 'flies': 2243, 'downhill': 2244, 'listlessly': 2245, 'casual': 2246, 'differently': 2247, 'uninterestedly': 2248, 'heavy': 2249, 'silently': 2250, 'bmxs': 2251, 'watch': 2252, 'spilling': 2253, 'backs': 2254, 'motionlessly': 2255, 'carpet': 2256, 'feathers': 2257, 'anxiously': 2258, 'smoked': 2259, 'sleeves': 2260, 'absent': 2261, 'mindedly': 2262, 'summer': 2263, \"water's\": 2264, 'losing': 2265, 'lap': 2266, 'hairy': 2267, 'swings': 2268, 'boredom': 2269, 'exciting': 2270, 'bright': 2271, 'blokes': 2272, 'twirled': 2273, 'spouting': 2274, 'striping': 2275, 'snowing': 2276, 'removed': 2277, 'boulders': 2278, 'chested': 2279, 'proudly': 2280, 'frowning': 2281, 'squirted': 2282, 'let': 2283, 'amazedly': 2284, 'grabbed': 2285, 'soft': 2286, 'photographer': 2287, 'ruined': 2288, 'jumped': 2289, 'passing': 2290, 'stair': 2291, 'grouped': 2292, 'round': 2293, 'spyglass': 2294, 'occidental': 2295, 'rainy': 2296, 'investigate': 2297, 'spray': 2298, 'showed': 2299, 'short': 2300, 'console': 2301, 'morning': 2302, 'moustaches': 2303, 'guide': 2304, 'signboard': 2305, 'suite': 2306, 'touched': 2307, 'downwards': 2308, 'palace': 2309, 'enemies': 2310, 'european': 2311, 'model': 2312, 'stuntman': 2313, 'nap': 2314, 'living': 2315, 'cloth': 2316, \"building's\": 2317, 'guitars': 2318, 'elder': 2319, 'stars': 2320, 'golf': 2321, 'graffiti': 2322, 'violently': 2323, 'stupidly': 2324, 'tied': 2325}\n"
          ]
        }
      ]
    },
    {
      "cell_type": "code",
      "metadata": {
        "id": "AQmtuo7MEIm4",
        "colab": {
          "base_uri": "https://localhost:8080/"
        },
        "outputId": "0b5839e3-b80b-4bbf-d506-7b2c63154a8b"
      },
      "source": [
        "print(len(tokenizer.word_index))"
      ],
      "execution_count": 24,
      "outputs": [
        {
          "output_type": "stream",
          "name": "stdout",
          "text": [
            "2325\n"
          ]
        }
      ]
    },
    {
      "cell_type": "markdown",
      "metadata": {
        "id": "W4P8bwYey5MD"
      },
      "source": [
        "### Splitting the data into train and test sets"
      ]
    },
    {
      "cell_type": "code",
      "metadata": {
        "id": "Cv6ilxXpqgSB"
      },
      "source": [
        "X = np.stack((sen_seq_A, sen_seq_B), axis=1)\n",
        "Y = sentence_data['labels']"
      ],
      "execution_count": 25,
      "outputs": []
    },
    {
      "cell_type": "code",
      "metadata": {
        "id": "Q4doSO5lrTP5"
      },
      "source": [
        "from sklearn.model_selection import train_test_split\n",
        "X_train, X_test, y_train, y_test = train_test_split(X, Y, stratify=Y, test_size=0.25, shuffle=True)"
      ],
      "execution_count": 26,
      "outputs": []
    },
    {
      "cell_type": "code",
      "metadata": {
        "id": "XW8SvDBF-oqt",
        "colab": {
          "base_uri": "https://localhost:8080/"
        },
        "outputId": "d69c5c9f-36f5-4e56-c7e8-cd1d08827827"
      },
      "source": [
        "# Check for the shape of train and test sets\n",
        "print(X_train.shape, X_test.shape, y_train.shape, y_test.shape)"
      ],
      "execution_count": 27,
      "outputs": [
        {
          "output_type": "stream",
          "name": "stdout",
          "text": [
            "(7380, 2, 50) (2460, 2, 50) (7380,) (2460,)\n"
          ]
        }
      ]
    },
    {
      "cell_type": "code",
      "metadata": {
        "id": "E4FP8JBWs5kk"
      },
      "source": [
        "# Storing the sentence_A and sentence_B data seperately for training\n",
        "train_s1 = X_train[:,0]\n",
        "train_s2 = X_train[:,1]\n",
        "test_s1 = X_test[:,0]\n",
        "test_s2 = X_test[:,1]"
      ],
      "execution_count": 28,
      "outputs": []
    },
    {
      "cell_type": "code",
      "metadata": {
        "id": "XzlEd11evA_k"
      },
      "source": [
        "# Converting labels to array\n",
        "y_train = np.array(y_train)\n",
        "y_test = np.array(y_test)"
      ],
      "execution_count": 29,
      "outputs": []
    },
    {
      "cell_type": "code",
      "metadata": {
        "id": "txmoVPF3S119"
      },
      "source": [
        "# one-hot encode the labels\n",
        "from keras.utils.np_utils import to_categorical\n",
        "y_train = to_categorical(y_train)\n",
        "y_test = to_categorical(y_test)"
      ],
      "execution_count": 30,
      "outputs": []
    },
    {
      "cell_type": "code",
      "metadata": {
        "id": "6Juw0huFTD2A",
        "colab": {
          "base_uri": "https://localhost:8080/"
        },
        "outputId": "94b1ca19-4fff-4fd4-af95-b29fe631b9d3"
      },
      "source": [
        "print(y_train.shape)"
      ],
      "execution_count": 31,
      "outputs": [
        {
          "output_type": "stream",
          "name": "stdout",
          "text": [
            "(7380, 7)\n"
          ]
        }
      ]
    },
    {
      "cell_type": "markdown",
      "metadata": {
        "id": "A4wid6RBzVEs"
      },
      "source": [
        "### Define the Convolutional Neural Network (CNN) model\n",
        "\n",
        "<center>\n",
        "<img src=\"https://cdn.iisc.talentsprint.com/DLFA/Experiment_related_data/CNN_Sentence.png\" width=800px/>\n",
        "</center>\n",
        "<br><br>\n",
        "\n",
        "\n",
        "Deep learning models have achieved remarkable results in  computer  vision and speech recognition in recent years.  Within natural language processing,  much of the work with deep learning methods has involved learning word vector representations through neural language models and performing composition over the learned word vectors for classification .Word vectors, wherein words are projected from a sparse, 1-of-V encoding (here V is the vocabularysize) onto a lower dimensional vector space via a hidden layer, are essentially feature extractors that encode semantic features of words in their dimensions.\n",
        "\n",
        "Convolutional neural networks (CNN) utilize layers  with  convolving filters that are  applied to local  features.   Originally invented for computer vision, CNN models have subsequently been shown to be effective for NLP and  have  achieved  excellent results in semantic parsing, search query retrieval, sentence  modeling, and other traditional NLP tasks.\n",
        "\n",
        "In the present work, we train a simple CNN with one layer of convolution on top of word vectors obtained from  an  unsupervised neural language model. These vectors were trained on 100 billion words of Google News, and are publicly available. We initially keep the word vectors static and learn only the other parameters of the model.\n",
        "\n",
        "From the above figure we can observe that the inputs are words. Each word is represented by a vector of size (50, 100, 200, 300).\n",
        "Apply different filters on the word vectors to create convolutional feature map. Choose the maximum value of the result from each filter vector for pooled representation and then\n",
        "apply softmax to perform classification.\n",
        "\n",
        "\n",
        "We have seen the process by which one feature is extracted  from one filter. The  model uses multiple filters (with varying window sizes) to obtain multiple features. These features form the penultimate layer and are passed to a fully connected and then softmax is used to perform classification.\n",
        "\n",
        "#### 1-D Convolutions over text\n",
        "\n",
        "The application of convolutional neural networks is the same as in image data. The only difference is that 1D convolutions are applied instead of 2D convolutions. In images, the kernel slides in 2D but in sequence data like text data the kernel slides in one dimension. \n",
        "\n",
        "Let’s now take a look at how this CNN can be built. \n",
        "\n",
        "The convolution network will be made of of the following: \n",
        "\n",
        "* An embedding layer that turns the data into dense vectors of fixed size. \n",
        "\n",
        "* A `Conv1D` with no of filter units and the `relu` activation function.\n",
        "\n",
        "* A `MaxPooling1D` layer that downsamples the input by taking the maximum value. The pooling operation is used to combine the vectors resulting from different convolution windows into a single $l$-dimensional vector. This is done again by taking the max or the average value observed in resulting vector from the convolutions. Ideally this vector will capture the most relevant features of the sentence/document.\n",
        "\n",
        "* A `Dense` layer with hidden units for the fully connected layer.\n",
        "    \n",
        "* An output layer with the softmax activation function.\n",
        "\n",
        "\n",
        "\n",
        "**Note:** Refer to the following [link](https://cezannec.github.io/CNN_Text_Classification/) for more details of CNN in Text classification."
      ]
    },
    {
      "cell_type": "code",
      "metadata": {
        "id": "_Zx8Y4hlSngF"
      },
      "source": [
        "# Define a function which takes the input sequence and generate the vectors using the pretrained word embeddings\n",
        "# The pass it through the convolutional layers and then the max pooling layer\n",
        "def cnn_model(input_shape, vocab_size, embeddings, embedding_dim):\n",
        "  # Input as max sequence length\n",
        "  model_input = Input(shape=(input_shape,))\n",
        "\n",
        "  # Embedding layer\n",
        "  layer = Embedding(vocab_size, \n",
        "                 embedding_dim, \n",
        "                 weights=[embedding_matrix], \n",
        "                 input_length=max_len, \n",
        "                 trainable=False)(model_input)\n",
        "                 \n",
        "  # Convolutional layer              \n",
        "  layer = Conv1D(filters=16, kernel_size=3, activation='relu')(layer)\n",
        "  # MaxPool layer\n",
        "  layer = MaxPooling1D(pool_size=2)(layer)\n",
        "  output = Flatten()(layer)\n",
        "\n",
        "  model = Model(inputs=model_input, outputs=output)\n",
        "  model.summary()\n",
        "  return model"
      ],
      "execution_count": 32,
      "outputs": []
    },
    {
      "cell_type": "markdown",
      "metadata": {
        "id": "cZgmRlisQqsQ"
      },
      "source": [
        "#### CNN for Sentence Classification\n",
        "\n",
        "<center>\n",
        "<img src=\"https://cdn.iisc.talentsprint.com/DLFA/Experiment_related_data/CNN_sentence_classification.png\" width=900px/>\n",
        "</center>\n",
        "<br><br>\n",
        "\n",
        "Here, we tokenize the sentences (sentence_A and sentence_B) into words and then map the text to sequences and for the input sequences we build the word embedding with the pretrained(word2vec, Glove, FastText) models.\n",
        "\n",
        "We pass the two sentence(A and B) to the CNN model which shares the same weight parameters, which provides the enocoded representation of the sentences. Then, we concatenate the output sentences(A and B) vectors pass it to the fully connected layers of neural networks to train the model and perform the classification at the final layer.\n",
        "\n",
        "\n"
      ]
    },
    {
      "cell_type": "code",
      "metadata": {
        "id": "y_uLufiSUbuE",
        "colab": {
          "base_uri": "https://localhost:8080/"
        },
        "outputId": "ceb259a9-b060-4cfc-dbf6-e874670e978a"
      },
      "source": [
        "# Call the CNN model with max sequence length, embeddings and word embedding dimensions\n",
        "cnn_model = cnn_model(max_len, vocab_size, embedding_matrix, embedding_dim)\n",
        "\n",
        "# sentence_A and sentence_B inputs as a max sequence length\n",
        "input_s1 = Input(shape=(max_len,),dtype='int32')\n",
        "input_s2 = Input(shape=(max_len,), dtype='int32')\n",
        "\n",
        "# pass the input sentences to the CNN model which share the same weight parameters\n",
        "left_out = cnn_model(input_s1)\n",
        "right_out = cnn_model(input_s2)"
      ],
      "execution_count": 33,
      "outputs": [
        {
          "output_type": "stream",
          "name": "stdout",
          "text": [
            "Model: \"model\"\n",
            "_________________________________________________________________\n",
            " Layer (type)                Output Shape              Param #   \n",
            "=================================================================\n",
            " input_1 (InputLayer)        [(None, 50)]              0         \n",
            "                                                                 \n",
            " embedding (Embedding)       (None, 50, 50)            116300    \n",
            "                                                                 \n",
            " conv1d (Conv1D)             (None, 48, 16)            2416      \n",
            "                                                                 \n",
            " max_pooling1d (MaxPooling1D  (None, 24, 16)           0         \n",
            " )                                                               \n",
            "                                                                 \n",
            " flatten (Flatten)           (None, 384)               0         \n",
            "                                                                 \n",
            "=================================================================\n",
            "Total params: 118,716\n",
            "Trainable params: 2,416\n",
            "Non-trainable params: 116,300\n",
            "_________________________________________________________________\n"
          ]
        }
      ]
    },
    {
      "cell_type": "code",
      "metadata": {
        "id": "snqfQtB8eMO8"
      },
      "source": [
        "# Concatenate the sentence_A and sentence_B output vectors from the CNN model\n",
        "merge = concatenate([left_out, right_out], axis=1)"
      ],
      "execution_count": 34,
      "outputs": []
    },
    {
      "cell_type": "code",
      "metadata": {
        "id": "i2Ce-9cpUpVw"
      },
      "source": [
        "# Fully connected layers\n",
        "sumx = Dense(256, activation='relu')(merge)\n",
        "sumx = Dense(128, activation='relu')(sumx)\n",
        "sumx = Dense(64, activation='relu')(sumx)\n",
        "sumx = Dropout(0.5)(sumx)\n",
        "\n",
        "# Output layer for 7 class classification\n",
        "pred = Dense(7, activation='softmax')(sumx)"
      ],
      "execution_count": 35,
      "outputs": []
    },
    {
      "cell_type": "code",
      "metadata": {
        "id": "uFuwU8tl1M57",
        "colab": {
          "base_uri": "https://localhost:8080/"
        },
        "outputId": "21954f5e-96ad-4b73-b68a-28fbc2553dc2"
      },
      "source": [
        "# Creating the functional model with input sentences and outputs the 7 classes\n",
        "cnn_model = Model(inputs=[input_s1, input_s2], outputs=pred)\n",
        "cnn_model.summary()"
      ],
      "execution_count": 36,
      "outputs": [
        {
          "output_type": "stream",
          "name": "stdout",
          "text": [
            "Model: \"model_1\"\n",
            "__________________________________________________________________________________________________\n",
            " Layer (type)                   Output Shape         Param #     Connected to                     \n",
            "==================================================================================================\n",
            " input_2 (InputLayer)           [(None, 50)]         0           []                               \n",
            "                                                                                                  \n",
            " input_3 (InputLayer)           [(None, 50)]         0           []                               \n",
            "                                                                                                  \n",
            " model (Functional)             (None, 384)          118716      ['input_2[0][0]',                \n",
            "                                                                  'input_3[0][0]']                \n",
            "                                                                                                  \n",
            " concatenate (Concatenate)      (None, 768)          0           ['model[0][0]',                  \n",
            "                                                                  'model[1][0]']                  \n",
            "                                                                                                  \n",
            " dense (Dense)                  (None, 256)          196864      ['concatenate[0][0]']            \n",
            "                                                                                                  \n",
            " dense_1 (Dense)                (None, 128)          32896       ['dense[0][0]']                  \n",
            "                                                                                                  \n",
            " dense_2 (Dense)                (None, 64)           8256        ['dense_1[0][0]']                \n",
            "                                                                                                  \n",
            " dropout (Dropout)              (None, 64)           0           ['dense_2[0][0]']                \n",
            "                                                                                                  \n",
            " dense_3 (Dense)                (None, 7)            455         ['dropout[0][0]']                \n",
            "                                                                                                  \n",
            "==================================================================================================\n",
            "Total params: 357,187\n",
            "Trainable params: 240,887\n",
            "Non-trainable params: 116,300\n",
            "__________________________________________________________________________________________________\n"
          ]
        }
      ]
    },
    {
      "cell_type": "markdown",
      "metadata": {
        "id": "w8wo9lrl1PKC"
      },
      "source": [
        "### Compile and train the model"
      ]
    },
    {
      "cell_type": "code",
      "metadata": {
        "id": "t90gkKUfULWC",
        "colab": {
          "base_uri": "https://localhost:8080/"
        },
        "outputId": "c8446e0b-dc0a-4b86-a28b-e55f136cb01d"
      },
      "source": [
        "cnn_model.compile(loss='categorical_crossentropy', optimizer='adam',\\\n",
        "              metrics=['accuracy'])\n",
        "\n",
        "# Training the CNN model\n",
        "history = cnn_model.fit([train_s1,train_s2],\n",
        "                    y_train, \n",
        "                    epochs=10,\n",
        "                    batch_size=16,\n",
        "                   validation_data=([test_s1, test_s2], y_test))"
      ],
      "execution_count": 37,
      "outputs": [
        {
          "output_type": "stream",
          "name": "stdout",
          "text": [
            "Epoch 1/10\n",
            "462/462 [==============================] - 5s 9ms/step - loss: 1.4010 - accuracy: 0.5031 - val_loss: 1.2370 - val_accuracy: 0.5419\n",
            "Epoch 2/10\n",
            "462/462 [==============================] - 4s 9ms/step - loss: 1.2178 - accuracy: 0.5527 - val_loss: 1.1799 - val_accuracy: 0.5573\n",
            "Epoch 3/10\n",
            "462/462 [==============================] - 4s 9ms/step - loss: 1.1282 - accuracy: 0.5755 - val_loss: 1.1390 - val_accuracy: 0.5687\n",
            "Epoch 4/10\n",
            "462/462 [==============================] - 4s 8ms/step - loss: 1.0562 - accuracy: 0.5963 - val_loss: 1.1447 - val_accuracy: 0.5760\n",
            "Epoch 5/10\n",
            "462/462 [==============================] - 4s 8ms/step - loss: 0.9898 - accuracy: 0.6220 - val_loss: 1.1211 - val_accuracy: 0.5789\n",
            "Epoch 6/10\n",
            "462/462 [==============================] - 4s 9ms/step - loss: 0.9151 - accuracy: 0.6564 - val_loss: 1.1497 - val_accuracy: 0.5736\n",
            "Epoch 7/10\n",
            "462/462 [==============================] - 4s 8ms/step - loss: 0.8261 - accuracy: 0.6928 - val_loss: 1.2079 - val_accuracy: 0.5606\n",
            "Epoch 8/10\n",
            "462/462 [==============================] - 4s 9ms/step - loss: 0.7325 - accuracy: 0.7274 - val_loss: 1.2522 - val_accuracy: 0.5785\n",
            "Epoch 9/10\n",
            "462/462 [==============================] - 4s 9ms/step - loss: 0.6626 - accuracy: 0.7587 - val_loss: 1.3343 - val_accuracy: 0.5752\n",
            "Epoch 10/10\n",
            "462/462 [==============================] - 4s 9ms/step - loss: 0.5754 - accuracy: 0.7924 - val_loss: 1.4795 - val_accuracy: 0.5805\n"
          ]
        }
      ]
    },
    {
      "cell_type": "code",
      "metadata": {
        "id": "s_Y3RDTfYUYX"
      },
      "source": [
        "# Get the predictions on the test set\n",
        "y_pred = cnn_model.predict([test_s1, test_s2])"
      ],
      "execution_count": 38,
      "outputs": []
    },
    {
      "cell_type": "code",
      "metadata": {
        "id": "brpATi0fYuzu",
        "colab": {
          "base_uri": "https://localhost:8080/"
        },
        "outputId": "f62ed4a1-2a1a-4b47-bbed-f59da9b7374c"
      },
      "source": [
        "yout = np.argmax(y_pred, axis=1)\n",
        "yout.shape"
      ],
      "execution_count": 39,
      "outputs": [
        {
          "output_type": "execute_result",
          "data": {
            "text/plain": [
              "(2460,)"
            ]
          },
          "metadata": {},
          "execution_count": 39
        }
      ]
    },
    {
      "cell_type": "code",
      "metadata": {
        "id": "pmzOFgfdYKuo"
      },
      "source": [
        "y_test = np.argmax(y_test, axis=1)"
      ],
      "execution_count": 40,
      "outputs": []
    },
    {
      "cell_type": "code",
      "metadata": {
        "id": "yymUpEMhZBz_",
        "colab": {
          "base_uri": "https://localhost:8080/"
        },
        "outputId": "9882034c-602e-47f4-971f-13770a1559c6"
      },
      "source": [
        "yout.shape"
      ],
      "execution_count": 41,
      "outputs": [
        {
          "output_type": "execute_result",
          "data": {
            "text/plain": [
              "(2460,)"
            ]
          },
          "metadata": {},
          "execution_count": 41
        }
      ]
    },
    {
      "cell_type": "code",
      "metadata": {
        "id": "V-cCxjEqeFTP",
        "colab": {
          "base_uri": "https://localhost:8080/"
        },
        "outputId": "f880fc9e-b3eb-4f04-aa65-d3ce74a7794a"
      },
      "source": [
        "print(y_test.shape, yout.shape)\n",
        "print(y_test[:5], yout[:5])"
      ],
      "execution_count": 42,
      "outputs": [
        {
          "output_type": "stream",
          "name": "stdout",
          "text": [
            "(2460,) (2460,)\n",
            "[4 4 3 3 6] [4 0 6 4 6]\n"
          ]
        }
      ]
    },
    {
      "cell_type": "markdown",
      "metadata": {
        "id": "VHfHdGCP_n6Y"
      },
      "source": [
        "### Please answer the questions below to complete the experiment:\n",
        "\n",
        "\n"
      ]
    },
    {
      "cell_type": "code",
      "metadata": {
        "id": "vlhryqWxbXMz",
        "cellView": "form"
      },
      "source": [
        "#@title Q.1. What does a 1D convolutional layer do in a CNN for Text Classification?\n",
        "Answer1 = \"It creates a convolution kernel that is convolved with the input layer over a single spatial dimension to produce a tensor of outputs\" #@param [\"\",\"It creates a convolution kernel that is convolved with the input layer over a single spatial dimension to produce a tensor of outputs\",\"It creates a convolution kernel that is convolved with the output layer over a multiple spatial dimension to produce a tensor of outputs\",\"It creates a convolution kernel that is convolved with the output layer over a single spatial dimension to produce a tensor of outputs\",\"It creates a convolution kernel that is convolved with the input layer over a multiple spatial dimension to produce a tensor of outputs\"]\n"
      ],
      "execution_count": 51,
      "outputs": []
    },
    {
      "cell_type": "code",
      "metadata": {
        "id": "K8R6F2KGyiwk",
        "cellView": "form"
      },
      "source": [
        "#@title Q.2. Which of the following statements is False?\n",
        "Answer2 = \"Pooling layer operates on each feature map independently\" #@param [\"\",\"Number of parameters in CNNs are usually less than the number of parameters in Feed forward Neural Networks\", \"CNNs are prone to overfitting because of less number of parameters\", \"There are no learnable parameters in Pooling layers\", \"Pooling layer operates on each feature map independently\"]\n"
      ],
      "execution_count": 52,
      "outputs": []
    },
    {
      "cell_type": "code",
      "metadata": {
        "id": "NMzKSbLIgFzQ"
      },
      "source": [
        "#@title How was the experiment? { run: \"auto\", form-width: \"500px\", display-mode: \"form\" }\n",
        "Complexity = \"Good, But Not Challenging for me\" #@param [\"\",\"Too Simple, I am wasting time\", \"Good, But Not Challenging for me\", \"Good and Challenging for me\", \"Was Tough, but I did it\", \"Too Difficult for me\"]\n"
      ],
      "execution_count": 53,
      "outputs": []
    },
    {
      "cell_type": "code",
      "metadata": {
        "id": "DjcH1VWSFI2l"
      },
      "source": [
        "#@title If it was too easy, what more would you have liked to be added? If it was very difficult, what would you have liked to have been removed? { run: \"auto\", display-mode: \"form\" }\n",
        "Additional = \"better and more questions\" #@param {type:\"string\"}\n"
      ],
      "execution_count": 54,
      "outputs": []
    },
    {
      "cell_type": "code",
      "metadata": {
        "id": "4VBk_4VTAxCM"
      },
      "source": [
        "#@title Can you identify the concepts from the lecture which this experiment covered? { run: \"auto\", vertical-output: true, display-mode: \"form\" }\n",
        "Concepts = \"Yes\" #@param [\"\",\"Yes\", \"No\"]\n"
      ],
      "execution_count": 55,
      "outputs": []
    },
    {
      "cell_type": "code",
      "metadata": {
        "id": "XH91cL1JWH7m"
      },
      "source": [
        "#@title  Text and image description/explanation and code comments within the experiment: { run: \"auto\", vertical-output: true, display-mode: \"form\" }\n",
        "Comments = \"Somewhat Useful\" #@param [\"\",\"Very Useful\", \"Somewhat Useful\", \"Not Useful\", \"Didn't use\"]\n"
      ],
      "execution_count": 56,
      "outputs": []
    },
    {
      "cell_type": "code",
      "metadata": {
        "id": "z8xLqj7VWIKW"
      },
      "source": [
        "#@title Mentor Support: { run: \"auto\", vertical-output: true, display-mode: \"form\" }\n",
        "Mentor_support = \"Somewhat Useful\" #@param [\"\",\"Very Useful\", \"Somewhat Useful\", \"Not Useful\", \"Didn't use\"]\n"
      ],
      "execution_count": 57,
      "outputs": []
    },
    {
      "cell_type": "code",
      "metadata": {
        "cellView": "form",
        "id": "FzAZHt1zw-Y-",
        "colab": {
          "base_uri": "https://localhost:8080/"
        },
        "outputId": "d2ccb152-dc29-45fa-a4bb-915ef3afa96c"
      },
      "source": [
        "#@title Run this cell to submit your notebook for grading { vertical-output: true }\n",
        "try:\n",
        "  if submission_id:\n",
        "      return_id = submit_notebook()\n",
        "      if return_id : submission_id = return_id\n",
        "  else:\n",
        "      print(\"Please complete the setup first.\")\n",
        "except NameError:\n",
        "  print (\"Please complete the setup first.\")"
      ],
      "execution_count": 58,
      "outputs": [
        {
          "output_type": "stream",
          "name": "stdout",
          "text": [
            "Your submission is successful.\n",
            "Ref Id: 3171\n",
            "Date of submission:  26 Dec 2021\n",
            "Time of submission:  12:03:18\n",
            "View your submissions: https://dlfa.iisc.talentsprint.com/notebook_submissions\n"
          ]
        }
      ]
    }
  ]
}