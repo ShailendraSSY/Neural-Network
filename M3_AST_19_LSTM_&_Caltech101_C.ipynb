{
  "nbformat": 4,
  "nbformat_minor": 0,
  "metadata": {
    "colab": {
      "name": "M3_AST_19_LSTM_&_Caltech101_C.ipynb",
      "provenance": [],
      "collapsed_sections": [],
      "include_colab_link": true
    },
    "kernelspec": {
      "display_name": "Python 3",
      "name": "python3"
    },
    "language_info": {
      "name": "python"
    },
    "accelerator": "GPU",
    "widgets": {
      "application/vnd.jupyter.widget-state+json": {
        "e1d011697f27417abf450e859eb34997": {
          "model_module": "@jupyter-widgets/controls",
          "model_name": "HBoxModel",
          "model_module_version": "1.5.0",
          "state": {
            "_view_name": "HBoxView",
            "_dom_classes": [],
            "_model_name": "HBoxModel",
            "_view_module": "@jupyter-widgets/controls",
            "_model_module_version": "1.5.0",
            "_view_count": null,
            "_view_module_version": "1.5.0",
            "box_style": "",
            "layout": "IPY_MODEL_8ce0823e77a846fcbebd1b4a4d867d30",
            "_model_module": "@jupyter-widgets/controls",
            "children": [
              "IPY_MODEL_91614f8bb7ef431d97d3e08aa461d731",
              "IPY_MODEL_282ba24a975c46c3a23203f8c5f36754",
              "IPY_MODEL_723bab4e0315435c88804f671883c55b"
            ]
          }
        },
        "8ce0823e77a846fcbebd1b4a4d867d30": {
          "model_module": "@jupyter-widgets/base",
          "model_name": "LayoutModel",
          "model_module_version": "1.2.0",
          "state": {
            "_view_name": "LayoutView",
            "grid_template_rows": null,
            "right": null,
            "justify_content": null,
            "_view_module": "@jupyter-widgets/base",
            "overflow": null,
            "_model_module_version": "1.2.0",
            "_view_count": null,
            "flex_flow": null,
            "width": null,
            "min_width": null,
            "border": null,
            "align_items": null,
            "bottom": null,
            "_model_module": "@jupyter-widgets/base",
            "top": null,
            "grid_column": null,
            "overflow_y": null,
            "overflow_x": null,
            "grid_auto_flow": null,
            "grid_area": null,
            "grid_template_columns": null,
            "flex": null,
            "_model_name": "LayoutModel",
            "justify_items": null,
            "grid_row": null,
            "max_height": null,
            "align_content": null,
            "visibility": null,
            "align_self": null,
            "height": null,
            "min_height": null,
            "padding": null,
            "grid_auto_rows": null,
            "grid_gap": null,
            "max_width": null,
            "order": null,
            "_view_module_version": "1.2.0",
            "grid_template_areas": null,
            "object_position": null,
            "object_fit": null,
            "grid_auto_columns": null,
            "margin": null,
            "display": null,
            "left": null
          }
        },
        "91614f8bb7ef431d97d3e08aa461d731": {
          "model_module": "@jupyter-widgets/controls",
          "model_name": "HTMLModel",
          "model_module_version": "1.5.0",
          "state": {
            "_view_name": "HTMLView",
            "style": "IPY_MODEL_a676d43d6a9e4b998fe4994ad6e6ae66",
            "_dom_classes": [],
            "description": "",
            "_model_name": "HTMLModel",
            "placeholder": "​",
            "_view_module": "@jupyter-widgets/controls",
            "_model_module_version": "1.5.0",
            "value": "100%",
            "_view_count": null,
            "_view_module_version": "1.5.0",
            "description_tooltip": null,
            "_model_module": "@jupyter-widgets/controls",
            "layout": "IPY_MODEL_1244e527897443bd8421a925673957da"
          }
        },
        "282ba24a975c46c3a23203f8c5f36754": {
          "model_module": "@jupyter-widgets/controls",
          "model_name": "FloatProgressModel",
          "model_module_version": "1.5.0",
          "state": {
            "_view_name": "ProgressView",
            "style": "IPY_MODEL_5a73a8005fd04441b233231de9cc0316",
            "_dom_classes": [],
            "description": "",
            "_model_name": "FloatProgressModel",
            "bar_style": "success",
            "max": 46830571,
            "_view_module": "@jupyter-widgets/controls",
            "_model_module_version": "1.5.0",
            "value": 46830571,
            "_view_count": null,
            "_view_module_version": "1.5.0",
            "orientation": "horizontal",
            "min": 0,
            "description_tooltip": null,
            "_model_module": "@jupyter-widgets/controls",
            "layout": "IPY_MODEL_54c9aa3d37984125939dc8b8b8e968bf"
          }
        },
        "723bab4e0315435c88804f671883c55b": {
          "model_module": "@jupyter-widgets/controls",
          "model_name": "HTMLModel",
          "model_module_version": "1.5.0",
          "state": {
            "_view_name": "HTMLView",
            "style": "IPY_MODEL_4c509d3b1e23466bb342fb01878db104",
            "_dom_classes": [],
            "description": "",
            "_model_name": "HTMLModel",
            "placeholder": "​",
            "_view_module": "@jupyter-widgets/controls",
            "_model_module_version": "1.5.0",
            "value": " 44.7M/44.7M [00:00&lt;00:00, 98.7MB/s]",
            "_view_count": null,
            "_view_module_version": "1.5.0",
            "description_tooltip": null,
            "_model_module": "@jupyter-widgets/controls",
            "layout": "IPY_MODEL_36f4777b8672429b9306145cbab7b7ee"
          }
        },
        "a676d43d6a9e4b998fe4994ad6e6ae66": {
          "model_module": "@jupyter-widgets/controls",
          "model_name": "DescriptionStyleModel",
          "model_module_version": "1.5.0",
          "state": {
            "_view_name": "StyleView",
            "_model_name": "DescriptionStyleModel",
            "description_width": "",
            "_view_module": "@jupyter-widgets/base",
            "_model_module_version": "1.5.0",
            "_view_count": null,
            "_view_module_version": "1.2.0",
            "_model_module": "@jupyter-widgets/controls"
          }
        },
        "1244e527897443bd8421a925673957da": {
          "model_module": "@jupyter-widgets/base",
          "model_name": "LayoutModel",
          "model_module_version": "1.2.0",
          "state": {
            "_view_name": "LayoutView",
            "grid_template_rows": null,
            "right": null,
            "justify_content": null,
            "_view_module": "@jupyter-widgets/base",
            "overflow": null,
            "_model_module_version": "1.2.0",
            "_view_count": null,
            "flex_flow": null,
            "width": null,
            "min_width": null,
            "border": null,
            "align_items": null,
            "bottom": null,
            "_model_module": "@jupyter-widgets/base",
            "top": null,
            "grid_column": null,
            "overflow_y": null,
            "overflow_x": null,
            "grid_auto_flow": null,
            "grid_area": null,
            "grid_template_columns": null,
            "flex": null,
            "_model_name": "LayoutModel",
            "justify_items": null,
            "grid_row": null,
            "max_height": null,
            "align_content": null,
            "visibility": null,
            "align_self": null,
            "height": null,
            "min_height": null,
            "padding": null,
            "grid_auto_rows": null,
            "grid_gap": null,
            "max_width": null,
            "order": null,
            "_view_module_version": "1.2.0",
            "grid_template_areas": null,
            "object_position": null,
            "object_fit": null,
            "grid_auto_columns": null,
            "margin": null,
            "display": null,
            "left": null
          }
        },
        "5a73a8005fd04441b233231de9cc0316": {
          "model_module": "@jupyter-widgets/controls",
          "model_name": "ProgressStyleModel",
          "model_module_version": "1.5.0",
          "state": {
            "_view_name": "StyleView",
            "_model_name": "ProgressStyleModel",
            "description_width": "",
            "_view_module": "@jupyter-widgets/base",
            "_model_module_version": "1.5.0",
            "_view_count": null,
            "_view_module_version": "1.2.0",
            "bar_color": null,
            "_model_module": "@jupyter-widgets/controls"
          }
        },
        "54c9aa3d37984125939dc8b8b8e968bf": {
          "model_module": "@jupyter-widgets/base",
          "model_name": "LayoutModel",
          "model_module_version": "1.2.0",
          "state": {
            "_view_name": "LayoutView",
            "grid_template_rows": null,
            "right": null,
            "justify_content": null,
            "_view_module": "@jupyter-widgets/base",
            "overflow": null,
            "_model_module_version": "1.2.0",
            "_view_count": null,
            "flex_flow": null,
            "width": null,
            "min_width": null,
            "border": null,
            "align_items": null,
            "bottom": null,
            "_model_module": "@jupyter-widgets/base",
            "top": null,
            "grid_column": null,
            "overflow_y": null,
            "overflow_x": null,
            "grid_auto_flow": null,
            "grid_area": null,
            "grid_template_columns": null,
            "flex": null,
            "_model_name": "LayoutModel",
            "justify_items": null,
            "grid_row": null,
            "max_height": null,
            "align_content": null,
            "visibility": null,
            "align_self": null,
            "height": null,
            "min_height": null,
            "padding": null,
            "grid_auto_rows": null,
            "grid_gap": null,
            "max_width": null,
            "order": null,
            "_view_module_version": "1.2.0",
            "grid_template_areas": null,
            "object_position": null,
            "object_fit": null,
            "grid_auto_columns": null,
            "margin": null,
            "display": null,
            "left": null
          }
        },
        "4c509d3b1e23466bb342fb01878db104": {
          "model_module": "@jupyter-widgets/controls",
          "model_name": "DescriptionStyleModel",
          "model_module_version": "1.5.0",
          "state": {
            "_view_name": "StyleView",
            "_model_name": "DescriptionStyleModel",
            "description_width": "",
            "_view_module": "@jupyter-widgets/base",
            "_model_module_version": "1.5.0",
            "_view_count": null,
            "_view_module_version": "1.2.0",
            "_model_module": "@jupyter-widgets/controls"
          }
        },
        "36f4777b8672429b9306145cbab7b7ee": {
          "model_module": "@jupyter-widgets/base",
          "model_name": "LayoutModel",
          "model_module_version": "1.2.0",
          "state": {
            "_view_name": "LayoutView",
            "grid_template_rows": null,
            "right": null,
            "justify_content": null,
            "_view_module": "@jupyter-widgets/base",
            "overflow": null,
            "_model_module_version": "1.2.0",
            "_view_count": null,
            "flex_flow": null,
            "width": null,
            "min_width": null,
            "border": null,
            "align_items": null,
            "bottom": null,
            "_model_module": "@jupyter-widgets/base",
            "top": null,
            "grid_column": null,
            "overflow_y": null,
            "overflow_x": null,
            "grid_auto_flow": null,
            "grid_area": null,
            "grid_template_columns": null,
            "flex": null,
            "_model_name": "LayoutModel",
            "justify_items": null,
            "grid_row": null,
            "max_height": null,
            "align_content": null,
            "visibility": null,
            "align_self": null,
            "height": null,
            "min_height": null,
            "padding": null,
            "grid_auto_rows": null,
            "grid_gap": null,
            "max_width": null,
            "order": null,
            "_view_module_version": "1.2.0",
            "grid_template_areas": null,
            "object_position": null,
            "object_fit": null,
            "grid_auto_columns": null,
            "margin": null,
            "display": null,
            "left": null
          }
        }
      }
    }
  },
  "cells": [
    {
      "cell_type": "markdown",
      "metadata": {
        "id": "view-in-github",
        "colab_type": "text"
      },
      "source": [
        "<a href=\"https://colab.research.google.com/github/ShailendraSSY/Neural-Network/blob/master/M3_AST_19_LSTM_%26_Caltech101_C.ipynb\" target=\"_parent\"><img src=\"https://colab.research.google.com/assets/colab-badge.svg\" alt=\"Open In Colab\"/></a>"
      ]
    },
    {
      "cell_type": "markdown",
      "metadata": {
        "id": "p4Nwm4FK3wgU"
      },
      "source": [
        "# Advanced Programme in Deep Learning (Foundations and Applications)\n",
        "## A Program by IISc and TalentSprint\n",
        "### Assignment 19: Prediction of IBM stock price using LSTM & Classification of Caltech 101 images using CNN"
      ]
    },
    {
      "cell_type": "markdown",
      "metadata": {
        "id": "Gxx6U-UOap7k"
      },
      "source": [
        "## Learning Objectives"
      ]
    },
    {
      "cell_type": "markdown",
      "metadata": {
        "id": "xxBNbT2kbDJq"
      },
      "source": [
        "   \n",
        "  At the end of the experiment, you will be able to understand:\n",
        "  * How to make predictions on time series data (IBM Stock Price) using LSTM    \n",
        "  * How to implement CNN on Caltech 101 Dataset\n",
        "  * CNN for Image Classification\n",
        "  * How to use CNN for Computer Vision tasks\n"
      ]
    },
    {
      "cell_type": "markdown",
      "metadata": {
        "id": "BNLA8HiKxQhc"
      },
      "source": [
        "### Setup Steps:"
      ]
    },
    {
      "cell_type": "code",
      "metadata": {
        "id": "2YzfoPvJDiTX"
      },
      "source": [
        "#@title Please enter your registration id to start: { run: \"auto\", display-mode: \"form\" }\n",
        "Id = \"2200023\" #@param {type:\"string\"}"
      ],
      "execution_count": 1,
      "outputs": []
    },
    {
      "cell_type": "code",
      "metadata": {
        "id": "rEzlYL4CDrmE"
      },
      "source": [
        "#@title Please enter your password (normally your phone number) to continue: { run: \"auto\", display-mode: \"form\" }\n",
        "password = \"9910549998\" #@param {type:\"string\"}"
      ],
      "execution_count": 2,
      "outputs": []
    },
    {
      "cell_type": "code",
      "metadata": {
        "id": "WBPPuGmBlDIN",
        "cellView": "form",
        "outputId": "bbd2477e-0731-43d8-cda8-b80c7dcb2b69",
        "colab": {
          "base_uri": "https://localhost:8080/",
          "height": 34
        }
      },
      "source": [
        "#@title Run this cell to complete the setup for this Notebook\n",
        "from IPython import get_ipython\n",
        "\n",
        "ipython = get_ipython()\n",
        "  \n",
        "notebook= \"M3_AST_19_LSTM_&_Caltech101_C\" #name of the notebook\n",
        "\n",
        "def setup():\n",
        "#  ipython.magic(\"sx pip3 install torch\")  \n",
        "    from IPython.display import HTML, display\n",
        "    ipython.magic(\"sx wget https://cdn.iisc.talentsprint.com/DLFA/Experiment_related_data/IBM_2006-01-01_to_2018-01-01.csv\")\n",
        "    display(HTML('<script src=\"https://dashboard.talentsprint.com/aiml/record_ip.html?traineeId={0}&recordId={1}\"></script>'.format(getId(),submission_id)))\n",
        "    print(\"Setup completed successfully\")\n",
        "    return\n",
        "\n",
        "def submit_notebook():\n",
        "    ipython.magic(\"notebook -e \"+ notebook + \".ipynb\")\n",
        "    \n",
        "    import requests, json, base64, datetime\n",
        "\n",
        "    url = \"https://dashboard.talentsprint.com/xp/app/save_notebook_attempts\"\n",
        "    if not submission_id:\n",
        "      data = {\"id\" : getId(), \"notebook\" : notebook, \"mobile\" : getPassword()}\n",
        "      r = requests.post(url, data = data)\n",
        "      r = json.loads(r.text)\n",
        "\n",
        "      if r[\"status\"] == \"Success\":\n",
        "          return r[\"record_id\"]\n",
        "      elif \"err\" in r:        \n",
        "        print(r[\"err\"])\n",
        "        return None        \n",
        "      else:\n",
        "        print (\"Something is wrong, the notebook will not be submitted for grading\")\n",
        "        return None\n",
        "    \n",
        "    elif getAnswer1() and getAnswer2() and getComplexity() and getAdditional() and getConcepts() and getComments() and getMentorSupport():\n",
        "      f = open(notebook + \".ipynb\", \"rb\")\n",
        "      file_hash = base64.b64encode(f.read())\n",
        "\n",
        "      data = {\"complexity\" : Complexity, \"additional\" :Additional, \n",
        "              \"concepts\" : Concepts, \"record_id\" : submission_id, \n",
        "              \"answer1\" : Answer1, \"answer2\" : Answer2, \"id\" : Id, \"file_hash\" : file_hash,\n",
        "              \"notebook\" : notebook,\n",
        "              \"feedback_experiments_input\" : Comments,\n",
        "              \"feedback_mentor_support\": Mentor_support}\n",
        "      r = requests.post(url, data = data)\n",
        "      r = json.loads(r.text)\n",
        "      if \"err\" in r:        \n",
        "        print(r[\"err\"])\n",
        "        return None   \n",
        "      else:\n",
        "        print(\"Your submission is successful.\")\n",
        "        print(\"Ref Id:\", submission_id)\n",
        "        print(\"Date of submission: \", r[\"date\"])\n",
        "        print(\"Time of submission: \", r[\"time\"])\n",
        "        print(\"View your submissions: https://dlfa.iisc.talentsprint.com/notebook_submissions\")\n",
        "        #print(\"For any queries/discrepancies, please connect with mentors through the chat icon in LMS dashboard.\")\n",
        "        return submission_id\n",
        "    else: submission_id\n",
        "    \n",
        "\n",
        "def getAdditional():\n",
        "  try:\n",
        "    if not Additional: \n",
        "      raise NameError\n",
        "    else:\n",
        "      return Additional  \n",
        "  except NameError:\n",
        "    print (\"Please answer Additional Question\")\n",
        "    return None\n",
        "\n",
        "def getComplexity():\n",
        "  try:\n",
        "    if not Complexity:\n",
        "      raise NameError\n",
        "    else:\n",
        "      return Complexity\n",
        "  except NameError:\n",
        "    print (\"Please answer Complexity Question\")\n",
        "    return None\n",
        "  \n",
        "def getConcepts():\n",
        "  try:\n",
        "    if not Concepts:\n",
        "      raise NameError\n",
        "    else:\n",
        "      return Concepts\n",
        "  except NameError:\n",
        "    print (\"Please answer Concepts Question\")\n",
        "    return None\n",
        "  \n",
        "  \n",
        "# def getWalkthrough():\n",
        "#   try:\n",
        "#     if not Walkthrough:\n",
        "#       raise NameError\n",
        "#     else:\n",
        "#       return Walkthrough\n",
        "#   except NameError:\n",
        "#     print (\"Please answer Walkthrough Question\")\n",
        "#     return None\n",
        "  \n",
        "def getComments():\n",
        "  try:\n",
        "    if not Comments:\n",
        "      raise NameError\n",
        "    else:\n",
        "      return Comments\n",
        "  except NameError:\n",
        "    print (\"Please answer Comments Question\")\n",
        "    return None\n",
        "  \n",
        "\n",
        "def getMentorSupport():\n",
        "  try:\n",
        "    if not Mentor_support:\n",
        "      raise NameError\n",
        "    else:\n",
        "      return Mentor_support\n",
        "  except NameError:\n",
        "    print (\"Please answer Mentor support Question\")\n",
        "    return None\n",
        "\n",
        "def getAnswer1():\n",
        "  try:\n",
        "    if not Answer1:\n",
        "      raise NameError \n",
        "    else: \n",
        "      return Answer1\n",
        "  except NameError:\n",
        "    print (\"Please answer Question 1\")\n",
        "    return None\n",
        "\n",
        "def getAnswer2():\n",
        "  try:\n",
        "    if not Answer2:\n",
        "      raise NameError \n",
        "    else: \n",
        "      return Answer2\n",
        "  except NameError:\n",
        "    print (\"Please answer Question 2\")\n",
        "    return None\n",
        "  \n",
        "\n",
        "def getId():\n",
        "  try: \n",
        "    return Id if Id else None\n",
        "  except NameError:\n",
        "    return None\n",
        "\n",
        "def getPassword():\n",
        "  try:\n",
        "    return password if password else None\n",
        "  except NameError:\n",
        "    return None\n",
        "\n",
        "submission_id = None\n",
        "### Setup \n",
        "if getPassword() and getId():\n",
        "  submission_id = submit_notebook()\n",
        "  if submission_id:\n",
        "    setup() \n",
        "else:\n",
        "  print (\"Please complete Id and Password cells before running setup\")\n",
        "\n"
      ],
      "execution_count": 3,
      "outputs": [
        {
          "output_type": "display_data",
          "data": {
            "text/html": [
              "<script src=\"https://dashboard.talentsprint.com/aiml/record_ip.html?traineeId=2200023&recordId=2366\"></script>"
            ],
            "text/plain": [
              "<IPython.core.display.HTML object>"
            ]
          },
          "metadata": {}
        },
        {
          "output_type": "stream",
          "name": "stdout",
          "text": [
            "Setup completed successfully\n"
          ]
        }
      ]
    },
    {
      "cell_type": "markdown",
      "metadata": {
        "id": "rlfhVGmy95YI"
      },
      "source": [
        "### Dataset Description for IBM Stock Prices\n",
        "\n",
        "The dataset contains 12 years of stock data (in the range 2006-01-01 to 2017-12-29). \n",
        "\n",
        "Note: On 30th and 31st December 2017, the days were saturday and sunday when market is closed. \n",
        "\n",
        "Moreover,the dataset contains the following columns:\n",
        "\n",
        "1. **Date** - in format: yy-mm-dd\n",
        "\n",
        "2. **Open** - price of the stock at market open (this is NYSE data so all in USD)\n",
        "\n",
        "3. **High** - Highest price reached in the day\n",
        "\n",
        "4. **Low** - Lowest price reached in the day\n",
        "\n",
        "5. **Volume** - Number of shares traded\n",
        "\n",
        "6. **Name** - the stock's ticker name"
      ]
    },
    {
      "cell_type": "markdown",
      "metadata": {
        "id": "og1EHpbjgrHP"
      },
      "source": [
        "### Problem Statement\n",
        "Given the historical data of IBM stock prices(2006-2018), we need to predict the price of stock for the next day. This task can help us with better readiness with a picture of what can come next in the stock market.\n",
        "\n",
        "**Note** : To train our model, we will take past 60 days data as **Input** and predict the price of stock for the next day."
      ]
    },
    {
      "cell_type": "markdown",
      "metadata": {
        "id": "commercial-operation"
      },
      "source": [
        "### Introduction\n",
        "\n",
        "Sequence prediction problems have been around for a long time. They are considered as one of the hardest problems to solve in the data science industry. These include a wide range of problems; from predicting sales to finding patterns in stock markets’ data, from understanding movie plots to recognizing your way of speech, from language translations to predicting your next word on your iPhone’s keyboard.\n",
        "\n",
        "With the recent breakthroughs that have been happening in data science, it is found that for almost all of these sequence prediction problems, Long short Term Memory networks, a.k.a LSTMs have been observed as the most effective solution.\n",
        "\n",
        "LSTMs have an edge over conventional feed-forward neural networks and RNN in many ways. This is because of their property of selectively remembering patterns for long durations of time.\n",
        "\n",
        "**Long Short-Term Memory** units (LSTM) deal with the vanishing gradient problem encountered by traditional RNNs and able to remember a piece of information and keep it saved for many timesteps. This is a behavior required in complex problem domains like machine translation, speech recognition, and more.\n"
      ]
    },
    {
      "cell_type": "markdown",
      "metadata": {
        "id": "W4t7tx4r7q2Y"
      },
      "source": [
        "#### Importing required packages and library"
      ]
    },
    {
      "cell_type": "code",
      "metadata": {
        "id": "J5BV40n7Lc6s"
      },
      "source": [
        "import numpy as np\n",
        "import matplotlib.pyplot as plt\n",
        "plt.style.use('fivethirtyeight')\n",
        "import pandas as pd\n",
        "from sklearn.preprocessing import MinMaxScaler\n",
        "from keras.models import Sequential\n",
        "from keras.layers import Dense, LSTM, Dropout\n",
        "#from keras.optimizers import SGD\n",
        "from tensorflow.keras.optimizers import SGD \n",
        "import math\n",
        "from keras import optimizers\n",
        "from sklearn.metrics import mean_squared_error"
      ],
      "execution_count": 4,
      "outputs": []
    },
    {
      "cell_type": "markdown",
      "metadata": {
        "id": "Z99_itE5J7Ec"
      },
      "source": [
        "### Loading the dataset"
      ]
    },
    {
      "cell_type": "code",
      "metadata": {
        "id": "35LduRuRLlqK"
      },
      "source": [
        "dataset = pd.read_csv('/content/IBM_2006-01-01_to_2018-01-01.csv', index_col='Date', parse_dates=['Date'])"
      ],
      "execution_count": 5,
      "outputs": []
    },
    {
      "cell_type": "markdown",
      "metadata": {
        "id": "FTRCGjC7KWOo"
      },
      "source": [
        "Let us look at few of the values from the dataset."
      ]
    },
    {
      "cell_type": "code",
      "metadata": {
        "id": "V5UFKFHlKTqu",
        "outputId": "9e8f4f2b-2cb2-4aa3-f3d7-d1e271a1042c",
        "colab": {
          "base_uri": "https://localhost:8080/",
          "height": 235
        }
      },
      "source": [
        "# Getting the first five values\n",
        "dataset.head()"
      ],
      "execution_count": 6,
      "outputs": [
        {
          "output_type": "execute_result",
          "data": {
            "text/html": [
              "<div>\n",
              "<style scoped>\n",
              "    .dataframe tbody tr th:only-of-type {\n",
              "        vertical-align: middle;\n",
              "    }\n",
              "\n",
              "    .dataframe tbody tr th {\n",
              "        vertical-align: top;\n",
              "    }\n",
              "\n",
              "    .dataframe thead th {\n",
              "        text-align: right;\n",
              "    }\n",
              "</style>\n",
              "<table border=\"1\" class=\"dataframe\">\n",
              "  <thead>\n",
              "    <tr style=\"text-align: right;\">\n",
              "      <th></th>\n",
              "      <th>Open</th>\n",
              "      <th>High</th>\n",
              "      <th>Low</th>\n",
              "      <th>Close</th>\n",
              "      <th>Volume</th>\n",
              "      <th>Name</th>\n",
              "    </tr>\n",
              "    <tr>\n",
              "      <th>Date</th>\n",
              "      <th></th>\n",
              "      <th></th>\n",
              "      <th></th>\n",
              "      <th></th>\n",
              "      <th></th>\n",
              "      <th></th>\n",
              "    </tr>\n",
              "  </thead>\n",
              "  <tbody>\n",
              "    <tr>\n",
              "      <th>2006-01-03</th>\n",
              "      <td>82.45</td>\n",
              "      <td>82.55</td>\n",
              "      <td>80.81</td>\n",
              "      <td>82.06</td>\n",
              "      <td>11715200</td>\n",
              "      <td>IBM</td>\n",
              "    </tr>\n",
              "    <tr>\n",
              "      <th>2006-01-04</th>\n",
              "      <td>82.20</td>\n",
              "      <td>82.50</td>\n",
              "      <td>81.33</td>\n",
              "      <td>81.95</td>\n",
              "      <td>9840600</td>\n",
              "      <td>IBM</td>\n",
              "    </tr>\n",
              "    <tr>\n",
              "      <th>2006-01-05</th>\n",
              "      <td>81.40</td>\n",
              "      <td>82.90</td>\n",
              "      <td>81.00</td>\n",
              "      <td>82.50</td>\n",
              "      <td>7213500</td>\n",
              "      <td>IBM</td>\n",
              "    </tr>\n",
              "    <tr>\n",
              "      <th>2006-01-06</th>\n",
              "      <td>83.95</td>\n",
              "      <td>85.03</td>\n",
              "      <td>83.41</td>\n",
              "      <td>84.95</td>\n",
              "      <td>8197400</td>\n",
              "      <td>IBM</td>\n",
              "    </tr>\n",
              "    <tr>\n",
              "      <th>2006-01-09</th>\n",
              "      <td>84.10</td>\n",
              "      <td>84.25</td>\n",
              "      <td>83.38</td>\n",
              "      <td>83.73</td>\n",
              "      <td>6858200</td>\n",
              "      <td>IBM</td>\n",
              "    </tr>\n",
              "  </tbody>\n",
              "</table>\n",
              "</div>"
            ],
            "text/plain": [
              "             Open   High    Low  Close    Volume Name\n",
              "Date                                                 \n",
              "2006-01-03  82.45  82.55  80.81  82.06  11715200  IBM\n",
              "2006-01-04  82.20  82.50  81.33  81.95   9840600  IBM\n",
              "2006-01-05  81.40  82.90  81.00  82.50   7213500  IBM\n",
              "2006-01-06  83.95  85.03  83.41  84.95   8197400  IBM\n",
              "2006-01-09  84.10  84.25  83.38  83.73   6858200  IBM"
            ]
          },
          "metadata": {},
          "execution_count": 6
        }
      ]
    },
    {
      "cell_type": "code",
      "metadata": {
        "id": "Z3SSKyt4DVtx",
        "outputId": "87a96b3f-b3b1-4254-a324-b3debada397f",
        "colab": {
          "base_uri": "https://localhost:8080/",
          "height": 235
        }
      },
      "source": [
        "# Getting the last five values\n",
        "dataset.tail()"
      ],
      "execution_count": 7,
      "outputs": [
        {
          "output_type": "execute_result",
          "data": {
            "text/html": [
              "<div>\n",
              "<style scoped>\n",
              "    .dataframe tbody tr th:only-of-type {\n",
              "        vertical-align: middle;\n",
              "    }\n",
              "\n",
              "    .dataframe tbody tr th {\n",
              "        vertical-align: top;\n",
              "    }\n",
              "\n",
              "    .dataframe thead th {\n",
              "        text-align: right;\n",
              "    }\n",
              "</style>\n",
              "<table border=\"1\" class=\"dataframe\">\n",
              "  <thead>\n",
              "    <tr style=\"text-align: right;\">\n",
              "      <th></th>\n",
              "      <th>Open</th>\n",
              "      <th>High</th>\n",
              "      <th>Low</th>\n",
              "      <th>Close</th>\n",
              "      <th>Volume</th>\n",
              "      <th>Name</th>\n",
              "    </tr>\n",
              "    <tr>\n",
              "      <th>Date</th>\n",
              "      <th></th>\n",
              "      <th></th>\n",
              "      <th></th>\n",
              "      <th></th>\n",
              "      <th></th>\n",
              "      <th></th>\n",
              "    </tr>\n",
              "  </thead>\n",
              "  <tbody>\n",
              "    <tr>\n",
              "      <th>2017-12-22</th>\n",
              "      <td>151.82</td>\n",
              "      <td>153.00</td>\n",
              "      <td>151.50</td>\n",
              "      <td>152.50</td>\n",
              "      <td>2990583</td>\n",
              "      <td>IBM</td>\n",
              "    </tr>\n",
              "    <tr>\n",
              "      <th>2017-12-26</th>\n",
              "      <td>152.51</td>\n",
              "      <td>153.86</td>\n",
              "      <td>152.50</td>\n",
              "      <td>152.83</td>\n",
              "      <td>2479017</td>\n",
              "      <td>IBM</td>\n",
              "    </tr>\n",
              "    <tr>\n",
              "      <th>2017-12-27</th>\n",
              "      <td>152.95</td>\n",
              "      <td>153.18</td>\n",
              "      <td>152.61</td>\n",
              "      <td>153.13</td>\n",
              "      <td>2149257</td>\n",
              "      <td>IBM</td>\n",
              "    </tr>\n",
              "    <tr>\n",
              "      <th>2017-12-28</th>\n",
              "      <td>153.20</td>\n",
              "      <td>154.12</td>\n",
              "      <td>153.20</td>\n",
              "      <td>154.04</td>\n",
              "      <td>2687624</td>\n",
              "      <td>IBM</td>\n",
              "    </tr>\n",
              "    <tr>\n",
              "      <th>2017-12-29</th>\n",
              "      <td>154.17</td>\n",
              "      <td>154.72</td>\n",
              "      <td>153.42</td>\n",
              "      <td>153.42</td>\n",
              "      <td>3327087</td>\n",
              "      <td>IBM</td>\n",
              "    </tr>\n",
              "  </tbody>\n",
              "</table>\n",
              "</div>"
            ],
            "text/plain": [
              "              Open    High     Low   Close   Volume Name\n",
              "Date                                                    \n",
              "2017-12-22  151.82  153.00  151.50  152.50  2990583  IBM\n",
              "2017-12-26  152.51  153.86  152.50  152.83  2479017  IBM\n",
              "2017-12-27  152.95  153.18  152.61  153.13  2149257  IBM\n",
              "2017-12-28  153.20  154.12  153.20  154.04  2687624  IBM\n",
              "2017-12-29  154.17  154.72  153.42  153.42  3327087  IBM"
            ]
          },
          "metadata": {},
          "execution_count": 7
        }
      ]
    },
    {
      "cell_type": "markdown",
      "metadata": {
        "id": "cYLRshWDKlBk"
      },
      "source": [
        "Here, we can see that the IBM stock data is available till 29th December 2017(2 days short of 1st Jan 2018).\n",
        "\n",
        "Further, let us check few information related to the attributes present in the data."
      ]
    },
    {
      "cell_type": "code",
      "metadata": {
        "id": "lzczWju_ik8N",
        "outputId": "a5285f46-359f-4725-9f56-b998c76a9513",
        "colab": {
          "base_uri": "https://localhost:8080/"
        }
      },
      "source": [
        "dataset.info()"
      ],
      "execution_count": 8,
      "outputs": [
        {
          "output_type": "stream",
          "name": "stdout",
          "text": [
            "<class 'pandas.core.frame.DataFrame'>\n",
            "DatetimeIndex: 3020 entries, 2006-01-03 to 2017-12-29\n",
            "Data columns (total 6 columns):\n",
            " #   Column  Non-Null Count  Dtype  \n",
            "---  ------  --------------  -----  \n",
            " 0   Open    3019 non-null   float64\n",
            " 1   High    3020 non-null   float64\n",
            " 2   Low     3019 non-null   float64\n",
            " 3   Close   3020 non-null   float64\n",
            " 4   Volume  3020 non-null   int64  \n",
            " 5   Name    3020 non-null   object \n",
            "dtypes: float64(4), int64(1), object(1)\n",
            "memory usage: 165.2+ KB\n"
          ]
        }
      ]
    },
    {
      "cell_type": "markdown",
      "metadata": {
        "id": "oMtgciigLWVz"
      },
      "source": [
        "Here, we can observe that there are 3020 entries but the column 'Open' and 'Low' has 3019 entries. This means that there are missing values in the dataset. "
      ]
    },
    {
      "cell_type": "code",
      "metadata": {
        "id": "ds-sUeS6lGrP",
        "outputId": "22d74995-199d-4f28-d7c6-28f413228dfc",
        "colab": {
          "base_uri": "https://localhost:8080/"
        }
      },
      "source": [
        "# Sum of missing values in the dataset for all the columns\n",
        "print(dataset.isnull().sum())"
      ],
      "execution_count": 9,
      "outputs": [
        {
          "output_type": "stream",
          "name": "stdout",
          "text": [
            "Open      1\n",
            "High      0\n",
            "Low       1\n",
            "Close     0\n",
            "Volume    0\n",
            "Name      0\n",
            "dtype: int64\n"
          ]
        }
      ]
    },
    {
      "cell_type": "markdown",
      "metadata": {
        "id": "tEIbJiWZZOVL"
      },
      "source": [
        "Now, let us impute the missing values with the mean values of the respective columns."
      ]
    },
    {
      "cell_type": "code",
      "metadata": {
        "id": "Cjj_dOvWlsgC",
        "outputId": "f5b5490d-98ca-4967-c70f-2667d565719b",
        "colab": {
          "base_uri": "https://localhost:8080/"
        }
      },
      "source": [
        "new_dataset = dataset\n",
        "new_dataset['Open']=new_dataset['Open'].fillna(new_dataset['Open'].mean())\n",
        "new_dataset['Low']=new_dataset['Low'].fillna(new_dataset['Low'].mean())\n",
        "new_dataset.info()"
      ],
      "execution_count": 10,
      "outputs": [
        {
          "output_type": "stream",
          "name": "stdout",
          "text": [
            "<class 'pandas.core.frame.DataFrame'>\n",
            "DatetimeIndex: 3020 entries, 2006-01-03 to 2017-12-29\n",
            "Data columns (total 6 columns):\n",
            " #   Column  Non-Null Count  Dtype  \n",
            "---  ------  --------------  -----  \n",
            " 0   Open    3020 non-null   float64\n",
            " 1   High    3020 non-null   float64\n",
            " 2   Low     3020 non-null   float64\n",
            " 3   Close   3020 non-null   float64\n",
            " 4   Volume  3020 non-null   int64  \n",
            " 5   Name    3020 non-null   object \n",
            "dtypes: float64(4), int64(1), object(1)\n",
            "memory usage: 165.2+ KB\n"
          ]
        }
      ]
    },
    {
      "cell_type": "markdown",
      "metadata": {
        "id": "8aDdUA1VaXil"
      },
      "source": [
        "Dividing the data into training set and test set. The training data consists of stock prices from 2006 to 2016 and the test set has the stock prices after 2016. "
      ]
    },
    {
      "cell_type": "code",
      "metadata": {
        "id": "XIj_3JRKLpZQ"
      },
      "source": [
        "training_set = new_dataset[:'2016'].iloc[:,1:2].values\n",
        "test_set = new_dataset['2017':].iloc[:,1:2].values"
      ],
      "execution_count": 11,
      "outputs": []
    },
    {
      "cell_type": "code",
      "metadata": {
        "id": "-tIgfeLcgRrD",
        "outputId": "5486e5ee-90c5-46d7-c546-c1b5eac54e58",
        "colab": {
          "base_uri": "https://localhost:8080/"
        }
      },
      "source": [
        "# Shape of training set\n",
        "training_set.shape"
      ],
      "execution_count": 12,
      "outputs": [
        {
          "output_type": "execute_result",
          "data": {
            "text/plain": [
              "(2769, 1)"
            ]
          },
          "metadata": {},
          "execution_count": 12
        }
      ]
    },
    {
      "cell_type": "code",
      "metadata": {
        "id": "sP3kD4rMiUrN",
        "outputId": "3c3326e6-896a-47e4-a914-7a9879dbd4b6",
        "colab": {
          "base_uri": "https://localhost:8080/"
        }
      },
      "source": [
        "# Shape of test set\n",
        "test_set.shape"
      ],
      "execution_count": 13,
      "outputs": [
        {
          "output_type": "execute_result",
          "data": {
            "text/plain": [
              "(251, 1)"
            ]
          },
          "metadata": {},
          "execution_count": 13
        }
      ]
    },
    {
      "cell_type": "markdown",
      "metadata": {
        "id": "6UaoRto3HscD"
      },
      "source": [
        "Creating helper function for plotting real IBM stock prices and predicted IBM stock prices. Also, creating a function for calculatin rmse value for test set and predictions."
      ]
    },
    {
      "cell_type": "code",
      "metadata": {
        "id": "ysssC7phLhkf"
      },
      "source": [
        "# Real IBM stock price vs predicted IBM stock price\n",
        "def plot_predictions(test,predicted):\n",
        "    plt.plot(test, color='red',label='Real IBM Stock Price')\n",
        "    plt.plot(predicted, color='blue',label='Predicted IBM Stock Price')\n",
        "    plt.title('IBM Stock Price Prediction')\n",
        "    plt.xlabel('Time')\n",
        "    plt.ylabel('IBM Stock Price')\n",
        "    plt.legend()\n",
        "    plt.show()\n",
        "\n",
        "# Function for calculating RMSE\n",
        "def return_rmse(test,predicted):\n",
        "    rmse = math.sqrt(mean_squared_error(test, predicted))\n",
        "    print(\"The root mean squared error is {}.\".format(rmse))\n"
      ],
      "execution_count": 14,
      "outputs": []
    },
    {
      "cell_type": "markdown",
      "metadata": {
        "id": "UC-Q4lEaIfUT"
      },
      "source": [
        "Further, let us choose 'High' attribute for prices and see what it looks like."
      ]
    },
    {
      "cell_type": "code",
      "metadata": {
        "id": "Sthb3IRIL5nv",
        "outputId": "cac2d6c6-4019-4fd7-ec79-bd5556524ed5",
        "colab": {
          "base_uri": "https://localhost:8080/",
          "height": 303
        }
      },
      "source": [
        "new_dataset[\"High\"][:'2016'].plot(figsize=(16,4),legend=True)\n",
        "new_dataset[\"High\"]['2017':].plot(figsize=(16,4),legend=True)\n",
        "plt.legend(['Training set (Before 2017)','Test set (2017 and beyond)'])\n",
        "plt.title('IBM stock price')\n",
        "plt.show()"
      ],
      "execution_count": 15,
      "outputs": [
        {
          "output_type": "display_data",
          "data": {
            "image/png": "[encoded data removed]",
            "text/plain": [
              "<Figure size 1152x288 with 1 Axes>"
            ]
          },
          "metadata": {}
        }
      ]
    },
    {
      "cell_type": "markdown",
      "metadata": {
        "id": "JQ9Hrdu7JPee"
      },
      "source": [
        "### Data Normalization\n",
        "\n"
      ]
    },
    {
      "cell_type": "markdown",
      "metadata": {
        "id": "SgMnGftRJUjz"
      },
      "source": [
        "We will normlize the data using MinMaxScaler so that the data is in the range of 0 and 1"
      ]
    },
    {
      "cell_type": "code",
      "metadata": {
        "id": "gbvMheiJL-lr"
      },
      "source": [
        "# Scaling the training set using MinMaxScaler\n",
        "sc = MinMaxScaler(feature_range=(0,1))\n",
        "training_set_scaled = sc.fit_transform(training_set)"
      ],
      "execution_count": 16,
      "outputs": []
    },
    {
      "cell_type": "markdown",
      "metadata": {
        "id": "plE20--1Jm7z"
      },
      "source": [
        "### Data Preparation\n",
        "\n",
        "Since LSTMs store long term memory state, we create a data structure with 60 timesteps and 1 output. So, for each element of training set, we have 60 previous training set elements. "
      ]
    },
    {
      "cell_type": "code",
      "metadata": {
        "id": "qn1BUOx6MBl2"
      },
      "source": [
        "X_train = []\n",
        "y_train = []\n",
        "for i in range(60,2769):\n",
        "    X_train.append(training_set_scaled[i-60:i,0])\n",
        "    y_train.append(training_set_scaled[i,0])\n",
        "X_train, y_train = np.array(X_train), np.array(y_train)"
      ],
      "execution_count": 17,
      "outputs": []
    },
    {
      "cell_type": "markdown",
      "metadata": {
        "id": "D-RpwHoeLAmp"
      },
      "source": [
        "Checking the shape of X_train and y_train in order to understand more about the structure of training features and labels."
      ]
    },
    {
      "cell_type": "code",
      "metadata": {
        "id": "wezUlJxFRxgm",
        "outputId": "6b26a675-48c7-428f-c598-857ee2336f46",
        "colab": {
          "base_uri": "https://localhost:8080/"
        }
      },
      "source": [
        "X_train.shape"
      ],
      "execution_count": 18,
      "outputs": [
        {
          "output_type": "execute_result",
          "data": {
            "text/plain": [
              "(2709, 60)"
            ]
          },
          "metadata": {},
          "execution_count": 18
        }
      ]
    },
    {
      "cell_type": "code",
      "metadata": {
        "id": "hIVWKC7c9tDp",
        "outputId": "65b08637-6588-4100-c517-882c4fd4fc6b",
        "colab": {
          "base_uri": "https://localhost:8080/"
        }
      },
      "source": [
        "y_train.shape"
      ],
      "execution_count": 19,
      "outputs": [
        {
          "output_type": "execute_result",
          "data": {
            "text/plain": [
              "(2709,)"
            ]
          },
          "metadata": {},
          "execution_count": 19
        }
      ]
    },
    {
      "cell_type": "markdown",
      "metadata": {
        "id": "8MLt6uUzRO_f"
      },
      "source": [
        "#### Reshaping the data\n",
        "\n",
        "One of the essential point to remember is that LSTM requires inputs to have shape: `[batch, timesteps, feature]`. Therefore, we will reshape the training set in certain dimensions so that it can be a valid input to the fit() function of the Sequential() model of Keras.\n",
        "\n",
        "To know more about implementing LSTM layer using Keras go through the [Keras' documentation](https://keras.io/api/layers/recurrent_layers/lstm/)."
      ]
    },
    {
      "cell_type": "code",
      "metadata": {
        "id": "UMiHCmlSMCTY"
      },
      "source": [
        "# Reshaping X_train for efficient modelling\n",
        "X_train = np.reshape(X_train, (X_train.shape[0],X_train.shape[1],1))"
      ],
      "execution_count": 20,
      "outputs": []
    },
    {
      "cell_type": "markdown",
      "metadata": {
        "id": "Zvn7kn5vLgNP"
      },
      "source": [
        "Checking the shape after reshaping the X_train data."
      ]
    },
    {
      "cell_type": "code",
      "metadata": {
        "id": "-Ogj_Yn2R36M",
        "outputId": "39e55035-a70d-4b57-b252-efabbce49e88",
        "colab": {
          "base_uri": "https://localhost:8080/"
        }
      },
      "source": [
        "X_train.shape"
      ],
      "execution_count": 21,
      "outputs": [
        {
          "output_type": "execute_result",
          "data": {
            "text/plain": [
              "(2709, 60, 1)"
            ]
          },
          "metadata": {},
          "execution_count": 21
        }
      ]
    },
    {
      "cell_type": "markdown",
      "metadata": {
        "id": "ddjnTDdBMgz0"
      },
      "source": [
        "### Building LSTM Model\n",
        "\n",
        "Before moving ahead with building model let us understand about LSTM."
      ]
    },
    {
      "cell_type": "markdown",
      "metadata": {
        "id": "g6DRqEIY6A3f"
      },
      "source": [
        "#### **Long Short-Term Memory units (LSTM Cell)**"
      ]
    },
    {
      "cell_type": "markdown",
      "metadata": {
        "id": "QpQP6UCK1mzS"
      },
      "source": [
        "![Img](https://cdn.iisc.talentsprint.com/CDS/Images/LSTM_Cell.PNG)\n",
        "\n",
        "$\\text{Figure:  LSTM-Cell }$ "
      ]
    },
    {
      "cell_type": "markdown",
      "metadata": {
        "id": "SsImcgfA0wed"
      },
      "source": [
        "##### **Understanding Gates and States**\n",
        "\n",
        "\n",
        "**Forget gate** (Controlled by $f_{(t)}$) controls which parts of the long-term state should be erased.\n",
        "\n",
        "**Input gate** (controlled by :  $i_{(t)}$) controls which parts of a  $g_{(t)}$ should be added to the long term cell state  $c_{(t)}$.\n",
        "\n",
        "**Output gate** (controlled by $o_{(t)}$) controls which parts of the long term cell state should be read and output at this time step, both to prediction $y_{(t)}$  and $h_{(t)}$.\n",
        "\n",
        "**Long term Cell state**  $c_{(t)}$ is the \"memory\" that gets passed onto future time steps.\n",
        "\n",
        " **Short term Cell state** $h_{(t)}$\n",
        "\n",
        "* The Short term state gets passed to the LSTM cell's next time step.\n",
        "* It is used to determine the three gates (Controlled by $f_{(t)}$, $i_{(t)}$, $o_{(t)}$) of the next time step.\n",
        "* It is also used for the prediction $y_{(t)}$.\n",
        "\n",
        "**Embedding Layer:**  it creates word vectors of each word in the word_index and group words that are related or have similar meaning by analyzing other words around them.\n",
        "\n",
        "**LSTM Layer:** Deep network takes the sequence of embedding vectors as input and converts them to a compressed representation. The compressed representation effectively captures all the information in the sequence of words in the text.\n",
        "\n",
        "**Dense Layer:** The fully connected layer takes the deep representation from the LSTM and transforms it into the final output classes or class scores (using sigmoid activation function). \n",
        "\n",
        "Now, let us build the LSTM model.\n",
        "\n",
        "\n"
      ]
    },
    {
      "cell_type": "code",
      "metadata": {
        "id": "GdDPenLCrIB4",
        "outputId": "9b4016c9-534b-4f63-c8e4-2e393192bc68",
        "colab": {
          "base_uri": "https://localhost:8080/"
        }
      },
      "source": [
        "# Creating Sequential model\n",
        "model = Sequential()\n",
        "\n",
        "# First Layer\n",
        "model.add(LSTM(units=50, input_shape=(X_train.shape[1],1), return_sequences=True))\n",
        "model.add(Dropout(0.2))\n",
        "\n",
        "# Second Layer\n",
        "model.add(LSTM(units=40))\n",
        "model.add(Dropout(0.2))\n",
        "\n",
        "# Output Layer\n",
        "model.add(Dense(units=30))\n",
        "\n",
        "model.add(Dense(units=1))\n",
        "\n",
        "# Compiling the model\n",
        "model.compile(optimizer='adam', loss='mean_squared_error')\n",
        "\n",
        "# Fitting the model using X_train and y_train model\n",
        "model.fit(X_train,y_train,epochs=50,batch_size=32)"
      ],
      "execution_count": 22,
      "outputs": [
        {
          "output_type": "stream",
          "name": "stdout",
          "text": [
            "Epoch 1/50\n",
            "85/85 [==============================] - 11s 27ms/step - loss: 0.0185\n",
            "Epoch 2/50\n",
            "85/85 [==============================] - 2s 27ms/step - loss: 0.0043\n",
            "Epoch 3/50\n",
            "85/85 [==============================] - 2s 27ms/step - loss: 0.0035\n",
            "Epoch 4/50\n",
            "85/85 [==============================] - 2s 26ms/step - loss: 0.0032\n",
            "Epoch 5/50\n",
            "85/85 [==============================] - 2s 27ms/step - loss: 0.0025\n",
            "Epoch 6/50\n",
            "85/85 [==============================] - 2s 27ms/step - loss: 0.0022\n",
            "Epoch 7/50\n",
            "85/85 [==============================] - 2s 27ms/step - loss: 0.0020\n",
            "Epoch 8/50\n",
            "85/85 [==============================] - 2s 26ms/step - loss: 0.0019\n",
            "Epoch 9/50\n",
            "85/85 [==============================] - 2s 27ms/step - loss: 0.0017\n",
            "Epoch 10/50\n",
            "85/85 [==============================] - 2s 26ms/step - loss: 0.0016\n",
            "Epoch 11/50\n",
            "85/85 [==============================] - 2s 26ms/step - loss: 0.0016\n",
            "Epoch 12/50\n",
            "85/85 [==============================] - 2s 26ms/step - loss: 0.0015\n",
            "Epoch 13/50\n",
            "85/85 [==============================] - 2s 27ms/step - loss: 0.0014\n",
            "Epoch 14/50\n",
            "85/85 [==============================] - 2s 26ms/step - loss: 0.0014\n",
            "Epoch 15/50\n",
            "85/85 [==============================] - 2s 26ms/step - loss: 0.0013\n",
            "Epoch 16/50\n",
            "85/85 [==============================] - 2s 26ms/step - loss: 0.0013\n",
            "Epoch 17/50\n",
            "85/85 [==============================] - 2s 26ms/step - loss: 0.0012\n",
            "Epoch 18/50\n",
            "85/85 [==============================] - 2s 27ms/step - loss: 0.0012\n",
            "Epoch 19/50\n",
            "85/85 [==============================] - 2s 26ms/step - loss: 0.0012\n",
            "Epoch 20/50\n",
            "85/85 [==============================] - 2s 27ms/step - loss: 0.0012\n",
            "Epoch 21/50\n",
            "85/85 [==============================] - 2s 27ms/step - loss: 0.0012\n",
            "Epoch 22/50\n",
            "85/85 [==============================] - 2s 27ms/step - loss: 0.0011\n",
            "Epoch 23/50\n",
            "85/85 [==============================] - 2s 27ms/step - loss: 0.0011\n",
            "Epoch 24/50\n",
            "85/85 [==============================] - 2s 27ms/step - loss: 0.0011\n",
            "Epoch 25/50\n",
            "85/85 [==============================] - 2s 26ms/step - loss: 0.0011\n",
            "Epoch 26/50\n",
            "85/85 [==============================] - 2s 26ms/step - loss: 0.0011\n",
            "Epoch 27/50\n",
            "85/85 [==============================] - 2s 26ms/step - loss: 0.0011\n",
            "Epoch 28/50\n",
            "85/85 [==============================] - 2s 27ms/step - loss: 0.0011\n",
            "Epoch 29/50\n",
            "85/85 [==============================] - 2s 27ms/step - loss: 0.0010\n",
            "Epoch 30/50\n",
            "85/85 [==============================] - 2s 27ms/step - loss: 0.0010\n",
            "Epoch 31/50\n",
            "85/85 [==============================] - 2s 27ms/step - loss: 9.7940e-04\n",
            "Epoch 32/50\n",
            "85/85 [==============================] - 2s 27ms/step - loss: 0.0010\n",
            "Epoch 33/50\n",
            "85/85 [==============================] - 2s 27ms/step - loss: 0.0011\n",
            "Epoch 34/50\n",
            "85/85 [==============================] - 2s 27ms/step - loss: 0.0010\n",
            "Epoch 35/50\n",
            "85/85 [==============================] - 2s 26ms/step - loss: 0.0011\n",
            "Epoch 36/50\n",
            "85/85 [==============================] - 2s 26ms/step - loss: 9.9896e-04\n",
            "Epoch 37/50\n",
            "85/85 [==============================] - 2s 27ms/step - loss: 0.0010\n",
            "Epoch 38/50\n",
            "85/85 [==============================] - 2s 27ms/step - loss: 0.0010\n",
            "Epoch 39/50\n",
            "85/85 [==============================] - 2s 27ms/step - loss: 9.2976e-04\n",
            "Epoch 40/50\n",
            "85/85 [==============================] - 2s 27ms/step - loss: 0.0010\n",
            "Epoch 41/50\n",
            "85/85 [==============================] - 2s 27ms/step - loss: 0.0010\n",
            "Epoch 42/50\n",
            "85/85 [==============================] - 2s 27ms/step - loss: 9.8448e-04\n",
            "Epoch 43/50\n",
            "85/85 [==============================] - 2s 27ms/step - loss: 0.0010\n",
            "Epoch 44/50\n",
            "85/85 [==============================] - 2s 27ms/step - loss: 9.8133e-04\n",
            "Epoch 45/50\n",
            "85/85 [==============================] - 2s 27ms/step - loss: 0.0010\n",
            "Epoch 46/50\n",
            "85/85 [==============================] - 2s 27ms/step - loss: 9.8176e-04\n",
            "Epoch 47/50\n",
            "85/85 [==============================] - 2s 27ms/step - loss: 0.0010\n",
            "Epoch 48/50\n",
            "85/85 [==============================] - 2s 27ms/step - loss: 9.2100e-04\n",
            "Epoch 49/50\n",
            "85/85 [==============================] - 2s 27ms/step - loss: 9.7173e-04\n",
            "Epoch 50/50\n",
            "85/85 [==============================] - 2s 27ms/step - loss: 8.5704e-04\n"
          ]
        },
        {
          "output_type": "execute_result",
          "data": {
            "text/plain": [
              "<keras.callbacks.History at 0x7faa8eeb7290>"
            ]
          },
          "metadata": {},
          "execution_count": 22
        }
      ]
    },
    {
      "cell_type": "markdown",
      "metadata": {
        "id": "1Ndx-XWJNYxu"
      },
      "source": [
        "Now, we will get the test set ready in a similar way as the training set."
      ]
    },
    {
      "cell_type": "code",
      "metadata": {
        "id": "yngkNruaMIvF"
      },
      "source": [
        "dataset_total = pd.concat((new_dataset[\"High\"][:'2016'],new_dataset[\"High\"]['2017':]),axis=0)\n",
        "inputs = dataset_total[len(dataset_total)-len(test_set) - 60:].values\n",
        "inputs = inputs.reshape(-1,1)\n",
        "inputs  = sc.transform(inputs)"
      ],
      "execution_count": 23,
      "outputs": []
    },
    {
      "cell_type": "markdown",
      "metadata": {
        "id": "XOg8i70KN0JT"
      },
      "source": [
        "Checking the shape of the input."
      ]
    },
    {
      "cell_type": "code",
      "metadata": {
        "id": "VPsCNIl-KouX",
        "outputId": "abce2d33-17be-4f26-8e17-1692c3e85445",
        "colab": {
          "base_uri": "https://localhost:8080/"
        }
      },
      "source": [
        "inputs.shape"
      ],
      "execution_count": 24,
      "outputs": [
        {
          "output_type": "execute_result",
          "data": {
            "text/plain": [
              "(311, 1)"
            ]
          },
          "metadata": {},
          "execution_count": 24
        }
      ]
    },
    {
      "cell_type": "markdown",
      "metadata": {
        "id": "tErssnfhOEKB"
      },
      "source": [
        "Preparing X_test and predicting the stock prices."
      ]
    },
    {
      "cell_type": "code",
      "metadata": {
        "id": "4Ij3mMH2MNLD"
      },
      "source": [
        "X_test = []\n",
        "for i in range(60,311):\n",
        "    X_test.append(inputs[i-60:i,0])\n",
        "X_test = np.array(X_test)\n",
        "X_test = np.reshape(X_test, (X_test.shape[0],X_test.shape[1],1))\n",
        "predicted_stock_price = model.predict(X_test)\n",
        "predicted_stock_price = sc.inverse_transform(predicted_stock_price)"
      ],
      "execution_count": 25,
      "outputs": []
    },
    {
      "cell_type": "markdown",
      "metadata": {
        "id": "649muwQDOOJ3"
      },
      "source": [
        "Visualizing the results for LSTM model built."
      ]
    },
    {
      "cell_type": "code",
      "metadata": {
        "id": "erjmfh43MU6P",
        "outputId": "76cc8dc0-d610-49d4-e007-4521bd8bf3fa",
        "colab": {
          "base_uri": "https://localhost:8080/",
          "height": 325
        }
      },
      "source": [
        "plot_predictions(test_set,predicted_stock_price)"
      ],
      "execution_count": 26,
      "outputs": [
        {
          "output_type": "display_data",
          "data": {
            "image/png": "[encoded data removed]",
            "text/plain": [
              "<Figure size 432x288 with 1 Axes>"
            ]
          },
          "metadata": {}
        }
      ]
    },
    {
      "cell_type": "markdown",
      "metadata": {
        "id": "hqNhpS5GOXJD"
      },
      "source": [
        "#### Evaluating the model"
      ]
    },
    {
      "cell_type": "markdown",
      "metadata": {
        "id": "sBAteGdpOesv"
      },
      "source": [
        "Let us evaluate the LSTM model using RMSE value."
      ]
    },
    {
      "cell_type": "code",
      "metadata": {
        "id": "QXqpOEaxMZDH",
        "outputId": "1f3cb847-b15e-4049-b476-1b5137efc6e0",
        "colab": {
          "base_uri": "https://localhost:8080/"
        }
      },
      "source": [
        "return_rmse(test_set,predicted_stock_price)"
      ],
      "execution_count": 27,
      "outputs": [
        {
          "output_type": "stream",
          "name": "stdout",
          "text": [
            "The root mean squared error is 2.64844303810513.\n"
          ]
        }
      ]
    },
    {
      "cell_type": "markdown",
      "metadata": {
        "id": "o2pmFJqpO-_m"
      },
      "source": [
        "Let us look at the predictions for the next day which is 1st January 2018."
      ]
    },
    {
      "cell_type": "code",
      "metadata": {
        "id": "aN62-zilTZl6",
        "outputId": "e778e0d3-cf8a-4497-a96c-2ab76016ef63",
        "colab": {
          "base_uri": "https://localhost:8080/"
        }
      },
      "source": [
        "print(f'Prediction of stock prices for the next day is {predicted_stock_price[-1,0]}')"
      ],
      "execution_count": 28,
      "outputs": [
        {
          "output_type": "stream",
          "name": "stdout",
          "text": [
            "Prediction of stock prices for the next day is 152.31051635742188\n"
          ]
        }
      ]
    },
    {
      "cell_type": "markdown",
      "metadata": {
        "id": "eLUwUWs6K__X"
      },
      "source": [
        "## Classification of Caltech 101 Images"
      ]
    },
    {
      "cell_type": "markdown",
      "metadata": {
        "id": "43WYAlwMtXQH"
      },
      "source": [
        "### Dataset Description\n",
        "\n",
        "The Caltech 101 dataset consists pictures of objects belonging to 101 categories. There are about 40 to 800 images per category. Also, most of the  categories have about 50 images."
      ]
    },
    {
      "cell_type": "markdown",
      "metadata": {
        "id": "84ISgDPzNvYM"
      },
      "source": [
        "### Importing Libraries"
      ]
    },
    {
      "cell_type": "code",
      "metadata": {
        "id": "j2Ann2bESTqe",
        "outputId": "82d35dee-44dc-4ab1-9612-d1cf671e0e4e",
        "colab": {
          "base_uri": "https://localhost:8080/"
        }
      },
      "source": [
        "import numpy as np\n",
        "import pandas as pd\n",
        "import os,shutil,glob,PIL\n",
        "import pathlib\n",
        "from PIL import Image\n",
        "import torch\n",
        "import torch.nn as nn\n",
        "import torch.nn.init as init\n",
        "from torch.utils.data import DataLoader\n",
        "from torchvision import transforms,datasets,utils\n",
        "import matplotlib.pyplot as plt\n",
        "import torchvision.models as models\n",
        "import torch.optim as optim\n",
        "from tqdm import tqdm\n",
        "from google.colab import drive\n",
        "%matplotlib inline\n",
        "import keras\n",
        "\n",
        "from keras.preprocessing.image import ImageDataGenerator\n",
        "from keras.models import Sequential, Model\n",
        "from keras.layers import Dense, Dropout, Activation, Flatten\n",
        "from keras.layers import Conv2D, MaxPooling2D, BatchNormalization\n",
        "from keras import optimizers\n",
        "from keras import regularizers\n",
        "from keras.utils import np_utils\n",
        "import tensorflow as tf\n",
        "\n",
        "torch.cuda.is_available()  #checking the availability of GPU"
      ],
      "execution_count": 29,
      "outputs": [
        {
          "output_type": "execute_result",
          "data": {
            "text/plain": [
              "True"
            ]
          },
          "metadata": {},
          "execution_count": 29
        }
      ]
    },
    {
      "cell_type": "markdown",
      "metadata": {
        "id": "rIvDey08gDgu"
      },
      "source": [
        "### Mouting the Drive for downloading the data"
      ]
    },
    {
      "cell_type": "code",
      "metadata": {
        "id": "YEI71hfhr_zz",
        "outputId": "c3ecdf52-a1fb-475c-a5d4-04cdaa0ccd64",
        "colab": {
          "base_uri": "https://localhost:8080/"
        }
      },
      "source": [
        "!gdown --id 14QBPlpC7j-NhL3IVsPrViO1ZrYbsEcJb"
      ],
      "execution_count": 30,
      "outputs": [
        {
          "output_type": "stream",
          "name": "stdout",
          "text": [
            "Downloading...\n",
            "From: https://drive.google.com/uc?id=14QBPlpC7j-NhL3IVsPrViO1ZrYbsEcJb\n",
            "To: /content/Caltech 101 Train and Test.zip\n",
            "100% 116M/116M [00:01<00:00, 84.9MB/s] \n"
          ]
        }
      ]
    },
    {
      "cell_type": "markdown",
      "metadata": {
        "id": "RS_vqVYtgVWB"
      },
      "source": [
        "### Unzipping the files"
      ]
    },
    {
      "cell_type": "code",
      "metadata": {
        "id": "VXBocXX8S9UX"
      },
      "source": [
        "%%capture\n",
        "!unzip '/content/Caltech 101 Train and Test.zip'"
      ],
      "execution_count": 31,
      "outputs": []
    },
    {
      "cell_type": "markdown",
      "metadata": {
        "id": "CAqVZgtEWM9d"
      },
      "source": [
        "Declaring batch size for data generator(keras) and data loader(PyTorch)."
      ]
    },
    {
      "cell_type": "code",
      "metadata": {
        "id": "pbnJQZDI_qZR"
      },
      "source": [
        "batch_size = 32"
      ],
      "execution_count": 32,
      "outputs": []
    },
    {
      "cell_type": "markdown",
      "metadata": {
        "id": "G-33p_yzN9zF"
      },
      "source": [
        "Let us calculate the number of images by folder. "
      ]
    },
    {
      "cell_type": "code",
      "metadata": {
        "id": "lVjUuJ7W6_Vn"
      },
      "source": [
        "train_dir = \"/content/Caltech_101_train\""
      ],
      "execution_count": 33,
      "outputs": []
    },
    {
      "cell_type": "code",
      "metadata": {
        "id": "Wd1MUphwv117",
        "outputId": "dd7f0544-bb64-4d09-c25e-ce66c47d39a9",
        "colab": {
          "base_uri": "https://localhost:8080/"
        }
      },
      "source": [
        "image_count = {}\n",
        "for root, dirs, files in os.walk(train_dir):\n",
        "    for f in dirs:\n",
        "      initial_count = 0\n",
        "      for path in pathlib.Path(train_dir,f).iterdir():\n",
        "        if path.is_file():\n",
        "          # print(path)\n",
        "          initial_count += 1\n",
        "        image_count[f] = initial_count\n",
        "        \n",
        "        \n",
        "print(image_count)\n",
        "total_images=0\n",
        "for v in image_count.values():\n",
        "  total_images+=v\n",
        "print(total_images)"
      ],
      "execution_count": 34,
      "outputs": [
        {
          "output_type": "stream",
          "name": "stdout",
          "text": [
            "{'ketch': 77, 'flamingo': 46, 'stapler': 31, 'gerenuk': 23, 'okapi': 27, 'flamingo_head': 31, 'bass': 35, 'lotus': 45, 'accordion': 34, 'electric_guitar': 50, 'beaver': 31, 'tick': 30, 'ferry': 45, 'emu': 36, 'chair': 42, 'ibis': 56, 'windsor_chair': 38, 'pagoda': 32, 'minaret': 51, 'pyramid': 37, 'dragonfly': 45, 'sea_horse': 39, 'airplanes': 560, 'garfield': 21, 'wheelchair': 37, 'bonsai': 89, 'Faces_easy': 304, 'saxophone': 26, 'inline_skate': 21, 'ceiling_fan': 31, 'sunflower': 59, 'buddha': 56, 'joshua_tree': 43, 'scissors': 23, 'ewer': 58, 'soccer_ball': 37, 'brain': 58, 'metronome': 21, 'cougar_face': 44, 'crocodile_head': 35, 'camera': 32, 'headphone': 29, 'crayfish': 47, 'octopus': 22, 'watch': 167, 'butterfly': 60, 'scorpion': 58, 'snoopy': 21, 'cup': 37, 'revolver': 48, 'starfish': 57, 'kangaroo': 60, 'llama': 53, 'cannon': 28, 'binocular': 22, 'elephant': 43, 'lamp': 42, 'barrel': 31, 'dolphin': 44, 'pizza': 36, 'dollar_bill': 35, 'rhino': 40, 'platypus': 23, 'Leopards': 140, 'trilobite': 57, 'strawberry': 24, 'crab': 49, 'anchor': 28, 'ant': 23, 'hawksbill': 70, 'gramophone': 34, 'helicopter': 60, 'euphonium': 42, 'lobster': 28, 'laptop': 55, 'hedgehog': 37, 'Motorbikes': 553, 'Faces': 304, 'yin_yang': 29, 'chandelier': 73, 'mayfly': 24, 'crocodile': 35, 'panda': 24, 'dalmatian': 46, 'cellphone': 40, 'menorah': 53, 'rooster': 31, 'grand_piano': 69, 'wrench': 20, 'cougar_body': 32, 'stegosaurus': 39, 'stop_sign': 44, 'umbrella': 51, 'nautilus': 34, 'schooner': 39, 'mandolin': 29, 'water_lilly': 25, 'brontosaurus': 26, 'pigeon': 30, 'wild_cat': 23}\n",
            "5759\n"
          ]
        }
      ]
    },
    {
      "cell_type": "markdown",
      "metadata": {
        "id": "4RIhBaq_OD7U"
      },
      "source": [
        "Now, let us remove the empty directory."
      ]
    },
    {
      "cell_type": "code",
      "metadata": {
        "id": "kCNkyLZv7F7o"
      },
      "source": [
        "shutil.rmtree(\"/content/Caltech_101_train/car_side\")"
      ],
      "execution_count": 35,
      "outputs": []
    },
    {
      "cell_type": "markdown",
      "metadata": {
        "id": "hyNCeEcROJzE"
      },
      "source": [
        "### Resizing the Images \n",
        "Here, we will resize the images to (224,224) and normalize them with mean and standard deviation."
      ]
    },
    {
      "cell_type": "code",
      "metadata": {
        "id": "BdJhVSXr_qXJ"
      },
      "source": [
        "transformer = transforms.Compose([transforms.Resize((224,224)),transforms.ToTensor(),transforms.Normalize((0.5474, 0.5311, 0.5050), (0.3133, 0.3073, 0.3204))])\n",
        "# Choose the training dataset\n",
        "train_data_folder = \"/content/Caltech_101_train\" # Train directory for loading images\n",
        "train_data = datasets.ImageFolder(root=train_data_folder, transform=transformer)"
      ],
      "execution_count": 36,
      "outputs": []
    },
    {
      "cell_type": "markdown",
      "metadata": {
        "id": "q7cz8SIoXgFj"
      },
      "source": [
        "Let us the load the images from the folder using DataLoader."
      ]
    },
    {
      "cell_type": "code",
      "metadata": {
        "id": "fzA4b0nGn3CI"
      },
      "source": [
        "train_loader = torch.utils.data.DataLoader(train_data, batch_size=batch_size, shuffle=True, drop_last=False)"
      ],
      "execution_count": 37,
      "outputs": []
    },
    {
      "cell_type": "markdown",
      "metadata": {
        "id": "pq2fPHozXjUm"
      },
      "source": [
        "Further, let us calculate the mean of images for normalizing with PyTorch transformation."
      ]
    },
    {
      "cell_type": "code",
      "metadata": {
        "id": "d5D60k7yi4TV",
        "outputId": "fc66fbfa-ed63-471a-fafc-19777dc2bad7",
        "colab": {
          "base_uri": "https://localhost:8080/"
        }
      },
      "source": [
        "mean = 0.0\n",
        "for img, _ in train_data:\n",
        "    mean += img.mean([1,2])\n",
        "mean = mean/len(train_data)\n",
        "print(mean)"
      ],
      "execution_count": 38,
      "outputs": [
        {
          "output_type": "stream",
          "name": "stdout",
          "text": [
            "tensor([-0.0096, -0.0161, -0.0216])\n"
          ]
        }
      ]
    },
    {
      "cell_type": "markdown",
      "metadata": {
        "id": "b0kR4GJeXusS"
      },
      "source": [
        "Now, calculating the standard deviation of image for normalizing with PyTorch transformation."
      ]
    },
    {
      "cell_type": "code",
      "metadata": {
        "id": "T1g5utFWjAHX",
        "outputId": "d76cd7f8-383c-431c-f85a-2e7d4269397e",
        "colab": {
          "base_uri": "https://localhost:8080/"
        }
      },
      "source": [
        "sumel = 0.0\n",
        "countel = 0\n",
        "for img, _ in train_data:\n",
        "    img = (img - mean.unsqueeze(1).unsqueeze(1))**2\n",
        "    sumel += img.sum([1, 2])\n",
        "    countel += torch.numel(img[0])\n",
        "std = torch.sqrt(sumel/countel)\n",
        "print(std)"
      ],
      "execution_count": 39,
      "outputs": [
        {
          "output_type": "stream",
          "name": "stdout",
          "text": [
            "tensor([1.0010, 0.9993, 0.9990])\n"
          ]
        }
      ]
    },
    {
      "cell_type": "markdown",
      "metadata": {
        "id": "5NqvB_4hYasc"
      },
      "source": [
        "Here, we are checking the number of classes in train directory."
      ]
    },
    {
      "cell_type": "code",
      "metadata": {
        "id": "aO0CkZAF_qSW",
        "outputId": "6c496594-5d8b-4122-99f9-40a1d1593f76",
        "colab": {
          "base_uri": "https://localhost:8080/"
        }
      },
      "source": [
        "len(train_data.classes)"
      ],
      "execution_count": 40,
      "outputs": [
        {
          "output_type": "execute_result",
          "data": {
            "text/plain": [
              "100"
            ]
          },
          "metadata": {},
          "execution_count": 40
        }
      ]
    },
    {
      "cell_type": "markdown",
      "metadata": {
        "id": "LLS8sWnNYPJA"
      },
      "source": [
        "Now, let us check that whether we are using GPU or CPU. \n"
      ]
    },
    {
      "cell_type": "code",
      "metadata": {
        "id": "AMINlkDX_qP5",
        "outputId": "bf75047e-271a-4b55-ae54-1d9862b7a38c",
        "colab": {
          "base_uri": "https://localhost:8080/"
        }
      },
      "source": [
        "device = torch.device(\"cuda:0\" if torch.cuda.is_available() else \"cpu\")\n",
        "\n",
        "# Assuming that we are on a CUDA machine, this should print a CUDA device:\n",
        "\n",
        "print(device)"
      ],
      "execution_count": 41,
      "outputs": [
        {
          "output_type": "stream",
          "name": "stdout",
          "text": [
            "cuda:0\n"
          ]
        }
      ]
    },
    {
      "cell_type": "markdown",
      "metadata": {
        "id": "zXbJa5PLOlZP"
      },
      "source": [
        "### Transfer Learning using ResNet18\n",
        "**Transfer learning** consists of taking features learned on one problem, and leveraging them on a new, similar problem.\n",
        "\n",
        "Also, here we are using a **pre-trained model** which is a saved network that was previously trained on a large dataset, typically on a large-scale image-classification task.\n",
        "\n",
        "The intuition behind transfer learning for image classification is that if a model is trained on a large and general enough dataset, this model will effectively serve as a generic model of the visual world. You can then take advantage of these learned feature maps without having to start from scratch by training a large model on a large dataset.\n",
        "\n",
        "For eg. using VGG16, we remove the last layer which takes a probability for each of the 1000 classes in the ImageNet and replaces it with a layer that takes 101 probabilities in our case.\n"
      ]
    },
    {
      "cell_type": "markdown",
      "metadata": {
        "id": "VifkASyOnUgJ"
      },
      "source": [
        "#### Explanation for ResNet - 18\n",
        "\n",
        "Before moving ahead with Transfer Learning using ResNet, let us first try to understand about ResNet18 and it's architecture.\n",
        "\n",
        "ResNet-18 is a convolutional neural network that is 18 layers deep. You can load a pretrained version of the network trained on more than a million images from the ImageNet database. The pretrained network can classify images into 1000 object categories, such as keyboard, mouse, pencil, and many animals. As a result, the network has learned rich feature representations for a wide range of images. The network has an image input size of 224-by-224.\n",
        "\n",
        "![Proposed-Modified-ResNet-18-architecture-for-Bangla-HCR-In-the-diagram-conv-stands-for.png](data:image/png;base64,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)"
      ]
    },
    {
      "cell_type": "markdown",
      "metadata": {
        "id": "caR5yhI5ZFJI"
      },
      "source": [
        "Since, now we are aware of ResNet18 and it's architecture, let us build the model."
      ]
    },
    {
      "cell_type": "code",
      "metadata": {
        "id": "fKPfJW6K_qNW",
        "outputId": "cd653d3c-05a9-42a2-d294-64784618de20",
        "colab": {
          "base_uri": "https://localhost:8080/",
          "height": 1000,
          "referenced_widgets": [
            "e1d011697f27417abf450e859eb34997",
            "8ce0823e77a846fcbebd1b4a4d867d30",
            "91614f8bb7ef431d97d3e08aa461d731",
            "282ba24a975c46c3a23203f8c5f36754",
            "723bab4e0315435c88804f671883c55b",
            "a676d43d6a9e4b998fe4994ad6e6ae66",
            "1244e527897443bd8421a925673957da",
            "5a73a8005fd04441b233231de9cc0316",
            "54c9aa3d37984125939dc8b8b8e968bf",
            "4c509d3b1e23466bb342fb01878db104",
            "36f4777b8672429b9306145cbab7b7ee"
          ]
        }
      },
      "source": [
        "model_ft = models.resnet18(pretrained=True)\n",
        "num_ftrs = model_ft.fc.in_features\n",
        "model_ft.fc = nn.Linear(num_ftrs,101)\n",
        "model_ft = model_ft.to(device)\n",
        "print(model_ft)"
      ],
      "execution_count": 42,
      "outputs": [
        {
          "output_type": "stream",
          "name": "stderr",
          "text": [
            "Downloading: \"https://download.pytorch.org/models/resnet18-f37072fd.pth\" to /root/.cache/torch/hub/checkpoints/resnet18-f37072fd.pth\n"
          ]
        },
        {
          "output_type": "display_data",
          "data": {
            "application/vnd.jupyter.widget-view+json": {
              "model_id": "e1d011697f27417abf450e859eb34997",
              "version_minor": 0,
              "version_major": 2
            },
            "text/plain": [
              "  0%|          | 0.00/44.7M [00:00<?, ?B/s]"
            ]
          },
          "metadata": {}
        },
        {
          "output_type": "stream",
          "name": "stdout",
          "text": [
            "ResNet(\n",
            "  (conv1): Conv2d(3, 64, kernel_size=(7, 7), stride=(2, 2), padding=(3, 3), bias=False)\n",
            "  (bn1): BatchNorm2d(64, eps=1e-05, momentum=0.1, affine=True, track_running_stats=True)\n",
            "  (relu): ReLU(inplace=True)\n",
            "  (maxpool): MaxPool2d(kernel_size=3, stride=2, padding=1, dilation=1, ceil_mode=False)\n",
            "  (layer1): Sequential(\n",
            "    (0): BasicBlock(\n",
            "      (conv1): Conv2d(64, 64, kernel_size=(3, 3), stride=(1, 1), padding=(1, 1), bias=False)\n",
            "      (bn1): BatchNorm2d(64, eps=1e-05, momentum=0.1, affine=True, track_running_stats=True)\n",
            "      (relu): ReLU(inplace=True)\n",
            "      (conv2): Conv2d(64, 64, kernel_size=(3, 3), stride=(1, 1), padding=(1, 1), bias=False)\n",
            "      (bn2): BatchNorm2d(64, eps=1e-05, momentum=0.1, affine=True, track_running_stats=True)\n",
            "    )\n",
            "    (1): BasicBlock(\n",
            "      (conv1): Conv2d(64, 64, kernel_size=(3, 3), stride=(1, 1), padding=(1, 1), bias=False)\n",
            "      (bn1): BatchNorm2d(64, eps=1e-05, momentum=0.1, affine=True, track_running_stats=True)\n",
            "      (relu): ReLU(inplace=True)\n",
            "      (conv2): Conv2d(64, 64, kernel_size=(3, 3), stride=(1, 1), padding=(1, 1), bias=False)\n",
            "      (bn2): BatchNorm2d(64, eps=1e-05, momentum=0.1, affine=True, track_running_stats=True)\n",
            "    )\n",
            "  )\n",
            "  (layer2): Sequential(\n",
            "    (0): BasicBlock(\n",
            "      (conv1): Conv2d(64, 128, kernel_size=(3, 3), stride=(2, 2), padding=(1, 1), bias=False)\n",
            "      (bn1): BatchNorm2d(128, eps=1e-05, momentum=0.1, affine=True, track_running_stats=True)\n",
            "      (relu): ReLU(inplace=True)\n",
            "      (conv2): Conv2d(128, 128, kernel_size=(3, 3), stride=(1, 1), padding=(1, 1), bias=False)\n",
            "      (bn2): BatchNorm2d(128, eps=1e-05, momentum=0.1, affine=True, track_running_stats=True)\n",
            "      (downsample): Sequential(\n",
            "        (0): Conv2d(64, 128, kernel_size=(1, 1), stride=(2, 2), bias=False)\n",
            "        (1): BatchNorm2d(128, eps=1e-05, momentum=0.1, affine=True, track_running_stats=True)\n",
            "      )\n",
            "    )\n",
            "    (1): BasicBlock(\n",
            "      (conv1): Conv2d(128, 128, kernel_size=(3, 3), stride=(1, 1), padding=(1, 1), bias=False)\n",
            "      (bn1): BatchNorm2d(128, eps=1e-05, momentum=0.1, affine=True, track_running_stats=True)\n",
            "      (relu): ReLU(inplace=True)\n",
            "      (conv2): Conv2d(128, 128, kernel_size=(3, 3), stride=(1, 1), padding=(1, 1), bias=False)\n",
            "      (bn2): BatchNorm2d(128, eps=1e-05, momentum=0.1, affine=True, track_running_stats=True)\n",
            "    )\n",
            "  )\n",
            "  (layer3): Sequential(\n",
            "    (0): BasicBlock(\n",
            "      (conv1): Conv2d(128, 256, kernel_size=(3, 3), stride=(2, 2), padding=(1, 1), bias=False)\n",
            "      (bn1): BatchNorm2d(256, eps=1e-05, momentum=0.1, affine=True, track_running_stats=True)\n",
            "      (relu): ReLU(inplace=True)\n",
            "      (conv2): Conv2d(256, 256, kernel_size=(3, 3), stride=(1, 1), padding=(1, 1), bias=False)\n",
            "      (bn2): BatchNorm2d(256, eps=1e-05, momentum=0.1, affine=True, track_running_stats=True)\n",
            "      (downsample): Sequential(\n",
            "        (0): Conv2d(128, 256, kernel_size=(1, 1), stride=(2, 2), bias=False)\n",
            "        (1): BatchNorm2d(256, eps=1e-05, momentum=0.1, affine=True, track_running_stats=True)\n",
            "      )\n",
            "    )\n",
            "    (1): BasicBlock(\n",
            "      (conv1): Conv2d(256, 256, kernel_size=(3, 3), stride=(1, 1), padding=(1, 1), bias=False)\n",
            "      (bn1): BatchNorm2d(256, eps=1e-05, momentum=0.1, affine=True, track_running_stats=True)\n",
            "      (relu): ReLU(inplace=True)\n",
            "      (conv2): Conv2d(256, 256, kernel_size=(3, 3), stride=(1, 1), padding=(1, 1), bias=False)\n",
            "      (bn2): BatchNorm2d(256, eps=1e-05, momentum=0.1, affine=True, track_running_stats=True)\n",
            "    )\n",
            "  )\n",
            "  (layer4): Sequential(\n",
            "    (0): BasicBlock(\n",
            "      (conv1): Conv2d(256, 512, kernel_size=(3, 3), stride=(2, 2), padding=(1, 1), bias=False)\n",
            "      (bn1): BatchNorm2d(512, eps=1e-05, momentum=0.1, affine=True, track_running_stats=True)\n",
            "      (relu): ReLU(inplace=True)\n",
            "      (conv2): Conv2d(512, 512, kernel_size=(3, 3), stride=(1, 1), padding=(1, 1), bias=False)\n",
            "      (bn2): BatchNorm2d(512, eps=1e-05, momentum=0.1, affine=True, track_running_stats=True)\n",
            "      (downsample): Sequential(\n",
            "        (0): Conv2d(256, 512, kernel_size=(1, 1), stride=(2, 2), bias=False)\n",
            "        (1): BatchNorm2d(512, eps=1e-05, momentum=0.1, affine=True, track_running_stats=True)\n",
            "      )\n",
            "    )\n",
            "    (1): BasicBlock(\n",
            "      (conv1): Conv2d(512, 512, kernel_size=(3, 3), stride=(1, 1), padding=(1, 1), bias=False)\n",
            "      (bn1): BatchNorm2d(512, eps=1e-05, momentum=0.1, affine=True, track_running_stats=True)\n",
            "      (relu): ReLU(inplace=True)\n",
            "      (conv2): Conv2d(512, 512, kernel_size=(3, 3), stride=(1, 1), padding=(1, 1), bias=False)\n",
            "      (bn2): BatchNorm2d(512, eps=1e-05, momentum=0.1, affine=True, track_running_stats=True)\n",
            "    )\n",
            "  )\n",
            "  (avgpool): AdaptiveAvgPool2d(output_size=(1, 1))\n",
            "  (fc): Linear(in_features=512, out_features=101, bias=True)\n",
            ")\n"
          ]
        }
      ]
    },
    {
      "cell_type": "markdown",
      "metadata": {
        "id": "_jeTHIRwoyur"
      },
      "source": [
        "We can see that ResNet18 model is downloaded and we tuned its number of ouput features to 101."
      ]
    },
    {
      "cell_type": "markdown",
      "metadata": {
        "id": "1nePEyIzOuw0"
      },
      "source": [
        "#### Implementing Adam Optimizer and Loss function \n",
        "Here, we will implement Adam optmizer using `torch.optim` module."
      ]
    },
    {
      "cell_type": "code",
      "metadata": {
        "id": "ZBYZY7vfelv_"
      },
      "source": [
        "criterion = nn.CrossEntropyLoss()\n",
        "optimizer = optim.Adam(model_ft.parameters(), lr=0.001)"
      ],
      "execution_count": 43,
      "outputs": []
    },
    {
      "cell_type": "markdown",
      "metadata": {
        "id": "fR-hKksHO_cr"
      },
      "source": [
        "Let us create helper function to train function the images."
      ]
    },
    {
      "cell_type": "code",
      "metadata": {
        "id": "iJZVXnQ4ClMf"
      },
      "source": [
        "train_accu = []     # Empty list for saving train accuracy\n",
        "train_losses = []   # Empty list for saving train losses\n",
        "def train(epoch):\n",
        "  print('\\nEpoch : %d'%epoch)\n",
        "   \n",
        "  model_ft.train()    # Initiate the model in training mode\n",
        " \n",
        "  running_loss=0\n",
        "  correct=0\n",
        "  total=0\n",
        " \n",
        "  for data in tqdm(train_loader):\n",
        "     \n",
        "    inputs,labels=data[0].to(device),data[1].to(device)   # Loading the input tensors into CUDA GPU \n",
        "     \n",
        "    optimizer.zero_grad()\n",
        "    outputs=model_ft(inputs)               \n",
        "    loss = criterion(outputs,labels)  # Calculating the loss\n",
        "    loss.backward()                   # Back Propagation for calculaing gradients and adjusting weights\n",
        "    optimizer.step()\n",
        " \n",
        "    running_loss += loss.item()\n",
        "     \n",
        "    _, predicted = outputs.max(1)\n",
        "    total += labels.size(0)\n",
        "    correct += predicted.eq(labels).sum().item()\n",
        "       \n",
        "       \n",
        "  train_loss=running_loss/len(train_loader)     # Calculating the mean of training loss\n",
        "  accu=100.*correct/total                       # Calculating the accuracy\n",
        "   \n",
        "  train_accu.append(accu)\n",
        "  train_losses.append(train_loss)\n",
        "  print('Train Loss: %.3f | Accuracy: %.3f'%(train_loss,accu))"
      ],
      "execution_count": 44,
      "outputs": []
    },
    {
      "cell_type": "markdown",
      "metadata": {
        "id": "17AE8UlbPRmP"
      },
      "source": [
        "Let us train the model for 15 epochs."
      ]
    },
    {
      "cell_type": "code",
      "metadata": {
        "id": "-ocn5oeWDXHl",
        "outputId": "c6df123d-3a73-4945-fe15-3fc2db7c0bc7",
        "colab": {
          "base_uri": "https://localhost:8080/"
        }
      },
      "source": [
        "epochs=15\n",
        "for epoch in range(1,epochs+1): \n",
        "  train(epoch)"
      ],
      "execution_count": 45,
      "outputs": [
        {
          "output_type": "stream",
          "name": "stdout",
          "text": [
            "\n",
            "Epoch : 1\n"
          ]
        },
        {
          "output_type": "stream",
          "name": "stderr",
          "text": [
            "\r  0%|          | 0/180 [00:00<?, ?it/s]/usr/local/lib/python3.7/dist-packages/torch/nn/functional.py:718: UserWarning: Named tensors and all their associated APIs are an experimental feature and subject to change. Please do not use them for anything important until they are released as stable. (Triggered internally at  /pytorch/c10/core/TensorImpl.h:1156.)\n",
            "  return torch.max_pool2d(input, kernel_size, stride, padding, dilation, ceil_mode)\n",
            "100%|██████████| 180/180 [01:01<00:00,  2.93it/s]\n"
          ]
        },
        {
          "output_type": "stream",
          "name": "stdout",
          "text": [
            "Train Loss: 1.622 | Accuracy: 62.441\n",
            "\n",
            "Epoch : 2\n"
          ]
        },
        {
          "output_type": "stream",
          "name": "stderr",
          "text": [
            "100%|██████████| 180/180 [01:00<00:00,  2.96it/s]\n"
          ]
        },
        {
          "output_type": "stream",
          "name": "stdout",
          "text": [
            "Train Loss: 0.585 | Accuracy: 84.251\n",
            "\n",
            "Epoch : 3\n"
          ]
        },
        {
          "output_type": "stream",
          "name": "stderr",
          "text": [
            "100%|██████████| 180/180 [01:00<00:00,  2.95it/s]\n"
          ]
        },
        {
          "output_type": "stream",
          "name": "stdout",
          "text": [
            "Train Loss: 0.281 | Accuracy: 92.325\n",
            "\n",
            "Epoch : 4\n"
          ]
        },
        {
          "output_type": "stream",
          "name": "stderr",
          "text": [
            "100%|██████████| 180/180 [01:00<00:00,  2.95it/s]\n"
          ]
        },
        {
          "output_type": "stream",
          "name": "stdout",
          "text": [
            "Train Loss: 0.154 | Accuracy: 95.572\n",
            "\n",
            "Epoch : 5\n"
          ]
        },
        {
          "output_type": "stream",
          "name": "stderr",
          "text": [
            "100%|██████████| 180/180 [01:00<00:00,  2.95it/s]\n"
          ]
        },
        {
          "output_type": "stream",
          "name": "stdout",
          "text": [
            "Train Loss: 0.131 | Accuracy: 96.093\n",
            "\n",
            "Epoch : 6\n"
          ]
        },
        {
          "output_type": "stream",
          "name": "stderr",
          "text": [
            "100%|██████████| 180/180 [01:00<00:00,  2.95it/s]\n"
          ]
        },
        {
          "output_type": "stream",
          "name": "stdout",
          "text": [
            "Train Loss: 0.104 | Accuracy: 97.031\n",
            "\n",
            "Epoch : 7\n"
          ]
        },
        {
          "output_type": "stream",
          "name": "stderr",
          "text": [
            "100%|██████████| 180/180 [01:00<00:00,  2.95it/s]\n"
          ]
        },
        {
          "output_type": "stream",
          "name": "stdout",
          "text": [
            "Train Loss: 0.107 | Accuracy: 97.152\n",
            "\n",
            "Epoch : 8\n"
          ]
        },
        {
          "output_type": "stream",
          "name": "stderr",
          "text": [
            "100%|██████████| 180/180 [01:01<00:00,  2.95it/s]\n"
          ]
        },
        {
          "output_type": "stream",
          "name": "stdout",
          "text": [
            "Train Loss: 0.112 | Accuracy: 96.718\n",
            "\n",
            "Epoch : 9\n"
          ]
        },
        {
          "output_type": "stream",
          "name": "stderr",
          "text": [
            "100%|██████████| 180/180 [01:01<00:00,  2.95it/s]\n"
          ]
        },
        {
          "output_type": "stream",
          "name": "stdout",
          "text": [
            "Train Loss: 0.074 | Accuracy: 97.847\n",
            "\n",
            "Epoch : 10\n"
          ]
        },
        {
          "output_type": "stream",
          "name": "stderr",
          "text": [
            "100%|██████████| 180/180 [01:00<00:00,  2.96it/s]\n"
          ]
        },
        {
          "output_type": "stream",
          "name": "stdout",
          "text": [
            "Train Loss: 0.038 | Accuracy: 98.993\n",
            "\n",
            "Epoch : 11\n"
          ]
        },
        {
          "output_type": "stream",
          "name": "stderr",
          "text": [
            "100%|██████████| 180/180 [01:00<00:00,  2.96it/s]\n"
          ]
        },
        {
          "output_type": "stream",
          "name": "stdout",
          "text": [
            "Train Loss: 0.089 | Accuracy: 97.691\n",
            "\n",
            "Epoch : 12\n"
          ]
        },
        {
          "output_type": "stream",
          "name": "stderr",
          "text": [
            "100%|██████████| 180/180 [01:00<00:00,  2.96it/s]\n"
          ]
        },
        {
          "output_type": "stream",
          "name": "stdout",
          "text": [
            "Train Loss: 0.044 | Accuracy: 98.767\n",
            "\n",
            "Epoch : 13\n"
          ]
        },
        {
          "output_type": "stream",
          "name": "stderr",
          "text": [
            "100%|██████████| 180/180 [01:00<00:00,  2.96it/s]\n"
          ]
        },
        {
          "output_type": "stream",
          "name": "stdout",
          "text": [
            "Train Loss: 0.067 | Accuracy: 98.159\n",
            "\n",
            "Epoch : 14\n"
          ]
        },
        {
          "output_type": "stream",
          "name": "stderr",
          "text": [
            "100%|██████████| 180/180 [01:01<00:00,  2.95it/s]\n"
          ]
        },
        {
          "output_type": "stream",
          "name": "stdout",
          "text": [
            "Train Loss: 0.063 | Accuracy: 98.177\n",
            "\n",
            "Epoch : 15\n"
          ]
        },
        {
          "output_type": "stream",
          "name": "stderr",
          "text": [
            "100%|██████████| 180/180 [01:00<00:00,  2.96it/s]"
          ]
        },
        {
          "output_type": "stream",
          "name": "stdout",
          "text": [
            "Train Loss: 0.140 | Accuracy: 95.867\n"
          ]
        },
        {
          "output_type": "stream",
          "name": "stderr",
          "text": [
            "\n"
          ]
        }
      ]
    },
    {
      "cell_type": "markdown",
      "metadata": {
        "id": "_DRkgwB_q2ky"
      },
      "source": [
        "We can see that after training for 15 epochs we got the accuracy 98% which is considered as a good accuracy score."
      ]
    },
    {
      "cell_type": "markdown",
      "metadata": {
        "id": "wWteGxHSPYBo"
      },
      "source": [
        "Now, let us save the trained model for inferencing in future."
      ]
    },
    {
      "cell_type": "code",
      "metadata": {
        "id": "lAPsP-LHDW_1"
      },
      "source": [
        "PATH='/content/Caltech101-ResNet18_normalize.pth'\n",
        "torch.save(model_ft.state_dict(),PATH)  #saving the model to specified path"
      ],
      "execution_count": 46,
      "outputs": []
    },
    {
      "cell_type": "markdown",
      "metadata": {
        "id": "k6GaA-XsPXHN"
      },
      "source": [
        "### Plotting the train accuracy and train loss vs epochs"
      ]
    },
    {
      "cell_type": "markdown",
      "metadata": {
        "id": "OS_21JIIrDy8"
      },
      "source": [
        "#### Plot for train accuracy"
      ]
    },
    {
      "cell_type": "code",
      "metadata": {
        "id": "7DttqdHvDW4q",
        "outputId": "c92eebcb-1adc-4456-f5be-b2b8b45686ba",
        "colab": {
          "base_uri": "https://localhost:8080/",
          "height": 279
        }
      },
      "source": [
        "plt.plot(train_accu,'-o')\n",
        "plt.xlabel('epoch')\n",
        "plt.ylabel('accuracy')\n",
        "plt.legend(['Train'])\n",
        "plt.show()"
      ],
      "execution_count": 47,
      "outputs": [
        {
          "output_type": "display_data",
          "data": {
            "image/png": "[encoded data removed]",
            "text/plain": [
              "<Figure size 432x288 with 1 Axes>"
            ]
          },
          "metadata": {
            "needs_background": "light"
          }
        }
      ]
    },
    {
      "cell_type": "markdown",
      "metadata": {
        "id": "Kw-A_3W2axiB"
      },
      "source": [
        "#### Plot for train loss\n"
      ]
    },
    {
      "cell_type": "code",
      "metadata": {
        "id": "ZantRhjGDWZk",
        "outputId": "3d6800b3-b1b9-4e5b-ca5c-16c9f850da53",
        "colab": {
          "base_uri": "https://localhost:8080/",
          "height": 296
        }
      },
      "source": [
        "plt.plot(train_losses,'-o')\n",
        "plt.xlabel('epoch')\n",
        "plt.ylabel('Loss')\n",
        "plt.legend(['Train'])\n",
        "plt.title('Train Loss')\n",
        "plt.show()"
      ],
      "execution_count": 48,
      "outputs": [
        {
          "output_type": "display_data",
          "data": {
            "image/png": "[encoded data removed]",
            "text/plain": [
              "<Figure size 432x288 with 1 Axes>"
            ]
          },
          "metadata": {
            "needs_background": "light"
          }
        }
      ]
    },
    {
      "cell_type": "markdown",
      "metadata": {
        "id": "HDh6kcD1PsYD"
      },
      "source": [
        "### Prediction of the images\n",
        "Our trained model is applied on test directory and the output tensor containing labels is saved in predictions."
      ]
    },
    {
      "cell_type": "markdown",
      "metadata": {
        "id": "h4CUf7aqP4Dy"
      },
      "source": [
        "Now, let us initiate the Pytorch model in eval() mode."
      ]
    },
    {
      "cell_type": "code",
      "metadata": {
        "id": "sfa_yJjxtykS",
        "outputId": "1196628d-0502-496f-8830-335b897c946d",
        "colab": {
          "base_uri": "https://localhost:8080/"
        }
      },
      "source": [
        "model_ft.eval()"
      ],
      "execution_count": 49,
      "outputs": [
        {
          "output_type": "execute_result",
          "data": {
            "text/plain": [
              "ResNet(\n",
              "  (conv1): Conv2d(3, 64, kernel_size=(7, 7), stride=(2, 2), padding=(3, 3), bias=False)\n",
              "  (bn1): BatchNorm2d(64, eps=1e-05, momentum=0.1, affine=True, track_running_stats=True)\n",
              "  (relu): ReLU(inplace=True)\n",
              "  (maxpool): MaxPool2d(kernel_size=3, stride=2, padding=1, dilation=1, ceil_mode=False)\n",
              "  (layer1): Sequential(\n",
              "    (0): BasicBlock(\n",
              "      (conv1): Conv2d(64, 64, kernel_size=(3, 3), stride=(1, 1), padding=(1, 1), bias=False)\n",
              "      (bn1): BatchNorm2d(64, eps=1e-05, momentum=0.1, affine=True, track_running_stats=True)\n",
              "      (relu): ReLU(inplace=True)\n",
              "      (conv2): Conv2d(64, 64, kernel_size=(3, 3), stride=(1, 1), padding=(1, 1), bias=False)\n",
              "      (bn2): BatchNorm2d(64, eps=1e-05, momentum=0.1, affine=True, track_running_stats=True)\n",
              "    )\n",
              "    (1): BasicBlock(\n",
              "      (conv1): Conv2d(64, 64, kernel_size=(3, 3), stride=(1, 1), padding=(1, 1), bias=False)\n",
              "      (bn1): BatchNorm2d(64, eps=1e-05, momentum=0.1, affine=True, track_running_stats=True)\n",
              "      (relu): ReLU(inplace=True)\n",
              "      (conv2): Conv2d(64, 64, kernel_size=(3, 3), stride=(1, 1), padding=(1, 1), bias=False)\n",
              "      (bn2): BatchNorm2d(64, eps=1e-05, momentum=0.1, affine=True, track_running_stats=True)\n",
              "    )\n",
              "  )\n",
              "  (layer2): Sequential(\n",
              "    (0): BasicBlock(\n",
              "      (conv1): Conv2d(64, 128, kernel_size=(3, 3), stride=(2, 2), padding=(1, 1), bias=False)\n",
              "      (bn1): BatchNorm2d(128, eps=1e-05, momentum=0.1, affine=True, track_running_stats=True)\n",
              "      (relu): ReLU(inplace=True)\n",
              "      (conv2): Conv2d(128, 128, kernel_size=(3, 3), stride=(1, 1), padding=(1, 1), bias=False)\n",
              "      (bn2): BatchNorm2d(128, eps=1e-05, momentum=0.1, affine=True, track_running_stats=True)\n",
              "      (downsample): Sequential(\n",
              "        (0): Conv2d(64, 128, kernel_size=(1, 1), stride=(2, 2), bias=False)\n",
              "        (1): BatchNorm2d(128, eps=1e-05, momentum=0.1, affine=True, track_running_stats=True)\n",
              "      )\n",
              "    )\n",
              "    (1): BasicBlock(\n",
              "      (conv1): Conv2d(128, 128, kernel_size=(3, 3), stride=(1, 1), padding=(1, 1), bias=False)\n",
              "      (bn1): BatchNorm2d(128, eps=1e-05, momentum=0.1, affine=True, track_running_stats=True)\n",
              "      (relu): ReLU(inplace=True)\n",
              "      (conv2): Conv2d(128, 128, kernel_size=(3, 3), stride=(1, 1), padding=(1, 1), bias=False)\n",
              "      (bn2): BatchNorm2d(128, eps=1e-05, momentum=0.1, affine=True, track_running_stats=True)\n",
              "    )\n",
              "  )\n",
              "  (layer3): Sequential(\n",
              "    (0): BasicBlock(\n",
              "      (conv1): Conv2d(128, 256, kernel_size=(3, 3), stride=(2, 2), padding=(1, 1), bias=False)\n",
              "      (bn1): BatchNorm2d(256, eps=1e-05, momentum=0.1, affine=True, track_running_stats=True)\n",
              "      (relu): ReLU(inplace=True)\n",
              "      (conv2): Conv2d(256, 256, kernel_size=(3, 3), stride=(1, 1), padding=(1, 1), bias=False)\n",
              "      (bn2): BatchNorm2d(256, eps=1e-05, momentum=0.1, affine=True, track_running_stats=True)\n",
              "      (downsample): Sequential(\n",
              "        (0): Conv2d(128, 256, kernel_size=(1, 1), stride=(2, 2), bias=False)\n",
              "        (1): BatchNorm2d(256, eps=1e-05, momentum=0.1, affine=True, track_running_stats=True)\n",
              "      )\n",
              "    )\n",
              "    (1): BasicBlock(\n",
              "      (conv1): Conv2d(256, 256, kernel_size=(3, 3), stride=(1, 1), padding=(1, 1), bias=False)\n",
              "      (bn1): BatchNorm2d(256, eps=1e-05, momentum=0.1, affine=True, track_running_stats=True)\n",
              "      (relu): ReLU(inplace=True)\n",
              "      (conv2): Conv2d(256, 256, kernel_size=(3, 3), stride=(1, 1), padding=(1, 1), bias=False)\n",
              "      (bn2): BatchNorm2d(256, eps=1e-05, momentum=0.1, affine=True, track_running_stats=True)\n",
              "    )\n",
              "  )\n",
              "  (layer4): Sequential(\n",
              "    (0): BasicBlock(\n",
              "      (conv1): Conv2d(256, 512, kernel_size=(3, 3), stride=(2, 2), padding=(1, 1), bias=False)\n",
              "      (bn1): BatchNorm2d(512, eps=1e-05, momentum=0.1, affine=True, track_running_stats=True)\n",
              "      (relu): ReLU(inplace=True)\n",
              "      (conv2): Conv2d(512, 512, kernel_size=(3, 3), stride=(1, 1), padding=(1, 1), bias=False)\n",
              "      (bn2): BatchNorm2d(512, eps=1e-05, momentum=0.1, affine=True, track_running_stats=True)\n",
              "      (downsample): Sequential(\n",
              "        (0): Conv2d(256, 512, kernel_size=(1, 1), stride=(2, 2), bias=False)\n",
              "        (1): BatchNorm2d(512, eps=1e-05, momentum=0.1, affine=True, track_running_stats=True)\n",
              "      )\n",
              "    )\n",
              "    (1): BasicBlock(\n",
              "      (conv1): Conv2d(512, 512, kernel_size=(3, 3), stride=(1, 1), padding=(1, 1), bias=False)\n",
              "      (bn1): BatchNorm2d(512, eps=1e-05, momentum=0.1, affine=True, track_running_stats=True)\n",
              "      (relu): ReLU(inplace=True)\n",
              "      (conv2): Conv2d(512, 512, kernel_size=(3, 3), stride=(1, 1), padding=(1, 1), bias=False)\n",
              "      (bn2): BatchNorm2d(512, eps=1e-05, momentum=0.1, affine=True, track_running_stats=True)\n",
              "    )\n",
              "  )\n",
              "  (avgpool): AdaptiveAvgPool2d(output_size=(1, 1))\n",
              "  (fc): Linear(in_features=512, out_features=101, bias=True)\n",
              ")"
            ]
          },
          "metadata": {},
          "execution_count": 49
        }
      ]
    },
    {
      "cell_type": "markdown",
      "metadata": {
        "id": "NDLQL57lQDyr"
      },
      "source": [
        "#### Helper function for predicting images"
      ]
    },
    {
      "cell_type": "code",
      "metadata": {
        "id": "ManHqwjKtyfi"
      },
      "source": [
        "def predict_image(image):\n",
        "\n",
        "    transformation = transforms.Compose([transforms.Resize((224,224)),transforms.ToTensor()])\n",
        "\n",
        "    image_tensor = transformation(image)\n",
        "    image_tensor = image_tensor.unsqueeze_(0)\n",
        "\n",
        "    input = image_tensor\n",
        "    \n",
        "    output = model_ft(input.to(device))\n",
        "    pred = torch.max(output,1)\n",
        "\n",
        "    return pred"
      ],
      "execution_count": 50,
      "outputs": []
    },
    {
      "cell_type": "markdown",
      "metadata": {
        "id": "EaygApkXQKF6"
      },
      "source": [
        "#### Individual Image prediction\n",
        "Here, we are predicting the output of the `predict_image` function on individual image using path of the image."
      ]
    },
    {
      "cell_type": "code",
      "metadata": {
        "id": "kQx56zI7tyZq"
      },
      "source": [
        "i = \"/content/Caltech_101_test/1630.jpg\""
      ],
      "execution_count": 51,
      "outputs": []
    },
    {
      "cell_type": "code",
      "metadata": {
        "id": "sTFJa4UdtyVt",
        "outputId": "bdee6bda-baff-4195-b354-4ba1ae82fe92",
        "colab": {
          "base_uri": "https://localhost:8080/"
        }
      },
      "source": [
        "image = Image.open(i)\n",
        "predict_image(image)"
      ],
      "execution_count": 52,
      "outputs": [
        {
          "output_type": "execute_result",
          "data": {
            "text/plain": [
              "torch.return_types.max(values=tensor([0.5533], device='cuda:0', grad_fn=<MaxBackward0>), indices=tensor([28], device='cuda:0'))"
            ]
          },
          "metadata": {},
          "execution_count": 52
        }
      ]
    },
    {
      "cell_type": "markdown",
      "metadata": {
        "id": "p_wDdCLNFwYT"
      },
      "source": [
        "The prediction in above cell gives the label of prediction. We can refer it's actual text or label from train directory classes."
      ]
    },
    {
      "cell_type": "code",
      "metadata": {
        "id": "HwfAGCKbtyR5",
        "outputId": "bc74ce02-d8fc-43d0-9fb7-6cedb79988f2",
        "colab": {
          "base_uri": "https://localhost:8080/",
          "height": 35
        }
      },
      "source": [
        "train_data.classes[34]"
      ],
      "execution_count": 53,
      "outputs": [
        {
          "output_type": "execute_result",
          "data": {
            "application/vnd.google.colaboratory.intrinsic+json": {
              "type": "string"
            },
            "text/plain": [
              "'electric_guitar'"
            ]
          },
          "metadata": {},
          "execution_count": 53
        }
      ]
    },
    {
      "cell_type": "markdown",
      "metadata": {
        "id": "5sQpTdOLQUwd"
      },
      "source": [
        "#### Creating DataFrame of image paths \n",
        "Let us create the DataFrame containing the image paths and sort them in order by image name."
      ]
    },
    {
      "cell_type": "code",
      "metadata": {
        "id": "s4BniPd7tyPC"
      },
      "source": [
        "df = pd.DataFrame()\n",
        "df['img_path'] = glob.glob(\"/content/Caltech_101_test/*\")\n",
        "df['order'] = [int(i.split(\"/\")[3][:-4]) for i in df['img_path']]\n",
        "df.sort_values('order',inplace=True)\n",
        "df.reset_index(inplace=True,drop=True)"
      ],
      "execution_count": 54,
      "outputs": []
    },
    {
      "cell_type": "markdown",
      "metadata": {
        "id": "JS5BSVkvQjNm"
      },
      "source": [
        "Further, let us append the predicted labels to a list so that we can upload the csv file to kaggle competition."
      ]
    },
    {
      "cell_type": "code",
      "metadata": {
        "id": "J1oJTzBmuMXJ"
      },
      "source": [
        "pred = []\n",
        "for i in df.img_path:\n",
        "  try:\n",
        "    image = Image.open(i)\n",
        "    pred.append(predict_image(image).indices)  #Appending the predicted indices tensor to prediction array\n",
        "  except Exception as e:\n",
        "    print(e)"
      ],
      "execution_count": 55,
      "outputs": []
    },
    {
      "cell_type": "markdown",
      "metadata": {
        "id": "uYQgAd2bQr7z"
      },
      "source": [
        "Extracting labels(string from) using pred array(contains predicted labels in integer form) "
      ]
    },
    {
      "cell_type": "code",
      "metadata": {
        "id": "hYMgGj6ZuMTg"
      },
      "source": [
        "predictions = []\n",
        "for i in pred:\n",
        "  predictions.append(train_data.classes[i])"
      ],
      "execution_count": 56,
      "outputs": []
    },
    {
      "cell_type": "markdown",
      "metadata": {
        "id": "CoQF9b2sRDrl"
      },
      "source": [
        "#### Renaming the paths \n",
        "We rename the path so that it will be suitable for uploading to Kaggle submission in same format as in competition."
      ]
    },
    {
      "cell_type": "code",
      "metadata": {
        "id": "e33cbX1nuMP8"
      },
      "source": [
        "df['img_path'] = \"Caltech_101_test\"+\"/\"+df.img_path.apply(lambda x:x.split(\"/\")[3].lower())"
      ],
      "execution_count": 57,
      "outputs": []
    },
    {
      "cell_type": "markdown",
      "metadata": {
        "id": "ImfpSNxGRL9h"
      },
      "source": [
        "#### Appending the predicted labels\n",
        "Predicted labels are added as column to dataframe containing the paths."
      ]
    },
    {
      "cell_type": "code",
      "metadata": {
        "id": "6n9CUW1AuMKh"
      },
      "source": [
        "df['label'] = predictions"
      ],
      "execution_count": 58,
      "outputs": []
    },
    {
      "cell_type": "markdown",
      "metadata": {
        "id": "wpPIoOd2G6yD"
      },
      "source": [
        "Till now, we have trained a pretrained model on Caltech 101 dataset using PyTorch. Further, let us build Multi-layer CNN using Keras."
      ]
    },
    {
      "cell_type": "markdown",
      "metadata": {
        "id": "8Nv2S5u8v58m"
      },
      "source": [
        "## Multi-layer CNN using Keras"
      ]
    },
    {
      "cell_type": "code",
      "metadata": {
        "id": "XzC2v-1HI4fG"
      },
      "source": [
        "TRAINING_DIR = \"/content/Caltech_101_train\""
      ],
      "execution_count": 59,
      "outputs": []
    },
    {
      "cell_type": "markdown",
      "metadata": {
        "id": "KbtZ5YSjwUaA"
      },
      "source": [
        "### Image Data generator\n",
        "Images are resized and loaded from folders in batches of 32 and resized to (224,224,3). \n",
        "\n",
        "Further, we have normalized the pixels from (0-255) to (0-1)."
      ]
    },
    {
      "cell_type": "code",
      "metadata": {
        "id": "xshIJiTgIw6V",
        "outputId": "3010a16f-abc3-449d-f990-ee582551a661",
        "colab": {
          "base_uri": "https://localhost:8080/"
        }
      },
      "source": [
        "train_datagen = ImageDataGenerator(rescale=1.0/255,\n",
        "                                   rotation_range=40,\n",
        "                                   zoom_range=0.2,\n",
        "                                   horizontal_flip=True,\n",
        "                                   fill_mode='nearest')\n",
        "train_generator = train_datagen.flow_from_directory(TRAINING_DIR, \n",
        "                                                    batch_size=32,target_size=(224,224))"
      ],
      "execution_count": 60,
      "outputs": [
        {
          "output_type": "stream",
          "name": "stdout",
          "text": [
            "Found 5759 images belonging to 100 classes.\n"
          ]
        }
      ]
    },
    {
      "cell_type": "markdown",
      "metadata": {
        "id": "teiIDs6kxIuj"
      },
      "source": [
        "### Parameters for keras model\n",
        "* Learning rate\n",
        "* Epochs\n",
        "* Filters\n",
        "* Batch size\n",
        "* Optimizer"
      ]
    },
    {
      "cell_type": "code",
      "metadata": {
        "id": "pzdFs2d5IAtT"
      },
      "source": [
        "# Initializing the parameters\n",
        "lr = .001\n",
        "epochs = 20\n",
        "decay = lr/epochs\n",
        "layer = 3\n",
        "filterz = 32\n",
        "batch_size = 32\n",
        "adam = tf.keras.optimizers.Adam(learning_rate=lr,decay=decay)"
      ],
      "execution_count": 61,
      "outputs": []
    },
    {
      "cell_type": "markdown",
      "metadata": {
        "id": "Q16bpNKzyHQD"
      },
      "source": [
        "### Building CNN using Keras"
      ]
    },
    {
      "cell_type": "markdown",
      "metadata": {
        "id": "K4Z0Gi6xxZ-Y"
      },
      "source": [
        "**Convolutional Neural Network:** A neural network in which at least one layer is a convolutional layer. A typical convolutional neural network consists of some combination of the following layers:\n",
        "\n",
        "* convolutional layers\n",
        "* pooling layers\n",
        "* dense layers\n",
        "\n",
        "\n",
        "**Conv2D**  \n",
        "\n",
        "Passing an image with input shape of 3-D and to calculate the output: \n",
        "\n",
        " $O = \\frac{n - f + 2p}{s} + 1$\n",
        "\n",
        "**MaxPool** \n",
        "\n",
        "The resulting output, when using the \"valid\" padding option, has a spatial shape (number of rows or columns) of: \n",
        "\n",
        "O = `math.floor`$(\\frac{input shape - pool size)}{ strides}) + 1$ (when input shape >= pool size)\n",
        "\n",
        "The resulting output shape when using the \"same\" padding option is: \n",
        "\n",
        "O = `math.floor`$(\\frac{input shape - 1}{strides}) + 1$\n",
        "\n",
        "by default, stride = None, so stride is same as pool size"
      ]
    },
    {
      "cell_type": "code",
      "metadata": {
        "id": "UW1QlKt8PE4b",
        "outputId": "88c77416-9dca-4774-d7fd-3909adb67404",
        "colab": {
          "base_uri": "https://localhost:8080/"
        }
      },
      "source": [
        "img_size = 224\n",
        "\n",
        "model = Sequential()\n",
        "model.add(Conv2D(filters = (filterz), kernel_size= (3,3), input_shape = (img_size,img_size,3), padding = 'same'))\n",
        "model.add(BatchNormalization())\n",
        "model.add(Activation('relu'))\n",
        "model.add( MaxPooling2D(pool_size = (2,2)))\n",
        "print('filter: '+ str(filterz))\n",
        "\n",
        "for i in range(layer):             # Creating three layers of CNN with variable filer sizes\n",
        "    filterz1 = filterz * (2**(i+1))\n",
        "    model.add(Conv2D(filters = filterz1, kernel_size= (3,3), padding = 'same'))\n",
        "    model.add(BatchNormalization())\n",
        "    model.add(Activation('relu'))\n",
        "    model.add( MaxPooling2D(pool_size = (2,2)))\n",
        "    print('filter: '+ str(filterz * (2**(i+1))))\n",
        "\n",
        "print('\\n')\n",
        "model.add(Flatten())\n",
        "\n",
        "model.add(Dense(512))\n",
        "model.add(BatchNormalization())\n",
        "model.add(Activation('relu')) \n",
        "\n",
        "model.add(Dense(train_generator.num_classes,activation='softmax'))\n",
        "model.compile(adam, \n",
        "              loss='categorical_crossentropy', \n",
        "              metrics=['accuracy'])"
      ],
      "execution_count": 62,
      "outputs": [
        {
          "output_type": "stream",
          "name": "stdout",
          "text": [
            "filter: 32\n",
            "filter: 64\n",
            "filter: 128\n",
            "filter: 256\n",
            "\n",
            "\n"
          ]
        }
      ]
    },
    {
      "cell_type": "markdown",
      "metadata": {
        "id": "nK8zfBA7yPtY"
      },
      "source": [
        "### Number of Classes\n",
        "Let us see number of classes in our train directory"
      ]
    },
    {
      "cell_type": "code",
      "metadata": {
        "id": "xAtnQF0JJSWF",
        "outputId": "462f3404-df7d-4b93-d2cc-1a3496005e15",
        "colab": {
          "base_uri": "https://localhost:8080/"
        }
      },
      "source": [
        "train_generator.num_classes"
      ],
      "execution_count": 63,
      "outputs": [
        {
          "output_type": "execute_result",
          "data": {
            "text/plain": [
              "100"
            ]
          },
          "metadata": {},
          "execution_count": 63
        }
      ]
    },
    {
      "cell_type": "markdown",
      "metadata": {
        "id": "0DpE9BNaycUQ"
      },
      "source": [
        "### Training the Model\n",
        "Compile model is trained for 20 epochs"
      ]
    },
    {
      "cell_type": "code",
      "metadata": {
        "id": "7I-zIZPqPX_I",
        "outputId": "dab9c7e7-9e46-4d6c-c090-43d5773246be",
        "colab": {
          "base_uri": "https://localhost:8080/"
        }
      },
      "source": [
        "history = model.fit(train_generator,  epochs=20, verbose=1)"
      ],
      "execution_count": 64,
      "outputs": [
        {
          "output_type": "stream",
          "name": "stdout",
          "text": [
            "Epoch 1/20\n",
            "180/180 [==============================] - 109s 454ms/step - loss: 3.0555 - accuracy: 0.3568\n",
            "Epoch 2/20\n",
            "180/180 [==============================] - 81s 451ms/step - loss: 2.1821 - accuracy: 0.4857\n",
            "Epoch 3/20\n",
            "180/180 [==============================] - 81s 452ms/step - loss: 1.7851 - accuracy: 0.5720\n",
            "Epoch 4/20\n",
            "180/180 [==============================] - 82s 454ms/step - loss: 1.5332 - accuracy: 0.6142\n",
            "Epoch 5/20\n",
            "180/180 [==============================] - 81s 452ms/step - loss: 1.3037 - accuracy: 0.6729\n",
            "Epoch 6/20\n",
            "180/180 [==============================] - 82s 453ms/step - loss: 1.1868 - accuracy: 0.6946\n",
            "Epoch 7/20\n",
            "180/180 [==============================] - 82s 453ms/step - loss: 1.0283 - accuracy: 0.7291\n",
            "Epoch 8/20\n",
            "180/180 [==============================] - 82s 454ms/step - loss: 0.8811 - accuracy: 0.7717\n",
            "Epoch 9/20\n",
            "180/180 [==============================] - 81s 452ms/step - loss: 0.8125 - accuracy: 0.7817\n",
            "Epoch 10/20\n",
            "180/180 [==============================] - 81s 450ms/step - loss: 0.7239 - accuracy: 0.8073\n",
            "Epoch 11/20\n",
            "180/180 [==============================] - 81s 450ms/step - loss: 0.6511 - accuracy: 0.8265\n",
            "Epoch 12/20\n",
            "180/180 [==============================] - 81s 451ms/step - loss: 0.5874 - accuracy: 0.8394\n",
            "Epoch 13/20\n",
            "180/180 [==============================] - 81s 448ms/step - loss: 0.4973 - accuracy: 0.8630\n",
            "Epoch 14/20\n",
            "180/180 [==============================] - 81s 448ms/step - loss: 0.4648 - accuracy: 0.8760\n",
            "Epoch 15/20\n",
            "180/180 [==============================] - 81s 450ms/step - loss: 0.3959 - accuracy: 0.8948\n",
            "Epoch 16/20\n",
            "180/180 [==============================] - 81s 449ms/step - loss: 0.3456 - accuracy: 0.9101\n",
            "Epoch 17/20\n",
            "180/180 [==============================] - 81s 449ms/step - loss: 0.3136 - accuracy: 0.9168\n",
            "Epoch 18/20\n",
            "180/180 [==============================] - 81s 452ms/step - loss: 0.2931 - accuracy: 0.9239\n",
            "Epoch 19/20\n",
            "180/180 [==============================] - 81s 451ms/step - loss: 0.2613 - accuracy: 0.9319\n",
            "Epoch 20/20\n",
            "180/180 [==============================] - 81s 452ms/step - loss: 0.2409 - accuracy: 0.9340\n"
          ]
        }
      ]
    },
    {
      "cell_type": "markdown",
      "metadata": {
        "id": "xKpBbERnSJd2"
      },
      "source": [
        "### Plotting the Train loss and Train accuracy"
      ]
    },
    {
      "cell_type": "markdown",
      "metadata": {
        "id": "I4k4YEVQysY5"
      },
      "source": [
        "#### Plot of Training Accuracy"
      ]
    },
    {
      "cell_type": "code",
      "metadata": {
        "id": "9H-vGM24SKwU",
        "outputId": "e89364a3-9a27-4287-eae1-628748fa2b0a",
        "colab": {
          "base_uri": "https://localhost:8080/",
          "height": 279
        }
      },
      "source": [
        "plt.plot(history.history['accuracy'],'r',label='training accuracy')\n",
        "plt.xlabel('# epochs')\n",
        "plt.ylabel('accuracy')\n",
        "plt.legend()\n",
        "plt.show()"
      ],
      "execution_count": 65,
      "outputs": [
        {
          "output_type": "display_data",
          "data": {
            "image/png": "[encoded data removed]",
            "text/plain": [
              "<Figure size 432x288 with 1 Axes>"
            ]
          },
          "metadata": {
            "needs_background": "light"
          }
        }
      ]
    },
    {
      "cell_type": "markdown",
      "metadata": {
        "id": "l-jzpX2tyy3Y"
      },
      "source": [
        "#### Plot of Training Loss"
      ]
    },
    {
      "cell_type": "code",
      "metadata": {
        "id": "P5rcISaWSLWe",
        "outputId": "dcde2703-af66-4745-e95b-e77d40f12372",
        "colab": {
          "base_uri": "https://localhost:8080/",
          "height": 279
        }
      },
      "source": [
        "plt.plot(history.history['loss'],'r',label='training loss')\n",
        "plt.xlabel('# epochs')\n",
        "plt.ylabel('Train Loss')\n",
        "plt.legend()\n",
        "plt.show()"
      ],
      "execution_count": 66,
      "outputs": [
        {
          "output_type": "display_data",
          "data": {
            "image/png": "[encoded data removed]",
            "text/plain": [
              "<Figure size 432x288 with 1 Axes>"
            ]
          },
          "metadata": {
            "needs_background": "light"
          }
        }
      ]
    },
    {
      "cell_type": "markdown",
      "metadata": {
        "id": "2zGthAw9Sr3j"
      },
      "source": [
        "### Predicting the Test Images from directory\n",
        "Let us predict the images in test directory."
      ]
    },
    {
      "cell_type": "markdown",
      "metadata": {
        "id": "74uMtBXgzcgb"
      },
      "source": [
        "#### Converting image to numpy arrays"
      ]
    },
    {
      "cell_type": "code",
      "metadata": {
        "id": "VQLum2A0SzFg"
      },
      "source": [
        "features = []\n",
        "for i in df.img_path:\n",
        "  im = np.array(PIL.Image.open(i).resize((224,224)))\n",
        "  features.append(im)"
      ],
      "execution_count": 67,
      "outputs": []
    },
    {
      "cell_type": "code",
      "metadata": {
        "id": "J8RwQKscTGAv"
      },
      "source": [
        "features = np.array(features)"
      ],
      "execution_count": 68,
      "outputs": []
    },
    {
      "cell_type": "markdown",
      "metadata": {
        "id": "VoDMFsSazje4"
      },
      "source": [
        "Let us predict predict the labels of the images."
      ]
    },
    {
      "cell_type": "code",
      "metadata": {
        "id": "2ijYgc_pTF9Y"
      },
      "source": [
        "pred = model.predict(features)"
      ],
      "execution_count": 69,
      "outputs": []
    },
    {
      "cell_type": "code",
      "metadata": {
        "id": "UEwak9hVTF7L",
        "outputId": "d92c063f-90a1-4ad8-a50b-819283fc2b2d",
        "colab": {
          "base_uri": "https://localhost:8080/"
        }
      },
      "source": [
        "pred.shape"
      ],
      "execution_count": 70,
      "outputs": [
        {
          "output_type": "execute_result",
          "data": {
            "text/plain": [
              "(2537, 100)"
            ]
          },
          "metadata": {},
          "execution_count": 70
        }
      ]
    },
    {
      "cell_type": "markdown",
      "metadata": {
        "id": "c-wevmgfzpBG"
      },
      "source": [
        "#### Getting max of predictions"
      ]
    },
    {
      "cell_type": "code",
      "metadata": {
        "id": "vgXmGVD5TF4Z",
        "outputId": "bbbe18ad-f01e-4f63-ec38-870980d4268a",
        "colab": {
          "base_uri": "https://localhost:8080/"
        }
      },
      "source": [
        "act_pred = np.argmax(pred,axis=1)\n",
        "set(act_pred)"
      ],
      "execution_count": 71,
      "outputs": [
        {
          "output_type": "execute_result",
          "data": {
            "text/plain": [
              "{5, 11, 16, 20, 21, 24, 29, 42, 69, 82, 87, 95, 98}"
            ]
          },
          "metadata": {},
          "execution_count": 71
        }
      ]
    },
    {
      "cell_type": "markdown",
      "metadata": {
        "id": "T-JXjSR7zu4y"
      },
      "source": [
        "#### Converting integer labels\n",
        "Integer labels are converted to actual text which is the name of actual category."
      ]
    },
    {
      "cell_type": "code",
      "metadata": {
        "id": "uLCoOcsjTHTs"
      },
      "source": [
        "labels = train_generator.class_indices\n",
        "labels = dict((v,k) for k,v in labels.items())\n",
        "predictions = [labels[k] for k in act_pred]"
      ],
      "execution_count": 81,
      "outputs": []
    },
    {
      "cell_type": "markdown",
      "metadata": {
        "id": "VHfHdGCP_n6Y"
      },
      "source": [
        "### Please answer the questions below to complete the experiment:\n",
        "\n",
        "\n"
      ]
    },
    {
      "cell_type": "code",
      "metadata": {
        "id": "kmvdJ4aNmGjR"
      },
      "source": [
        "#@title Q.1. What is the purpose of using forget gate in LSTM? { run: \"auto\", form-width: \"500px\", display-mode: \"form\" }\n",
        "Answer1 = \"None of the above\" #@param [\"\",\"To generate the inputs for input and output gates.\", \"It helps in updating the information in such a way that there is no requirement of input and output gates.\", \"It is a memory unit that retains information accross timesteps.\", \"None of the above\"]\n"
      ],
      "execution_count": 82,
      "outputs": []
    },
    {
      "cell_type": "markdown",
      "metadata": {
        "id": "pNSdoU6Gqp8B"
      },
      "source": [
        "#### **Statements**\n",
        "1.  Deep networks do not perform hierarchical data abstractions which enable the non-linear separation of complex data samples.\n",
        "\n",
        "2.  Deep networks perform hierarchical data abstractions which cannot perform the non-linear separation of complex data samples.\n",
        "\n",
        "3.  Deep networks perform hierarchical data abstractions which enable the non-linear separation of complex data samples."
      ]
    },
    {
      "cell_type": "code",
      "metadata": {
        "id": "UX24XAeIJ6Nf"
      },
      "source": [
        "#@title Q.2. Which of the above statement/statements is true? { run: \"auto\", form-width: \"500px\", display-mode: \"form\" }\n",
        "Answer2 = \"Statement 3\" #@param [\"\",\"Statement 2\", \"Statement 3\", \"Statement 1\", \"All of the above\"]\n"
      ],
      "execution_count": 83,
      "outputs": []
    },
    {
      "cell_type": "code",
      "metadata": {
        "id": "NMzKSbLIgFzQ"
      },
      "source": [
        "#@title How was the experiment? { run: \"auto\", form-width: \"500px\", display-mode: \"form\" }\n",
        "Complexity = \"Good, But Not Challenging for me\" #@param [\"\",\"Too Simple, I am wasting time\", \"Good, But Not Challenging for me\", \"Good and Challenging for me\", \"Was Tough, but I did it\", \"Too Difficult for me\"]\n"
      ],
      "execution_count": 84,
      "outputs": []
    },
    {
      "cell_type": "code",
      "metadata": {
        "id": "DjcH1VWSFI2l"
      },
      "source": [
        "#@title If it was too easy, what more would you have liked to be added? If it was very difficult, what would you have liked to have been removed? { run: \"auto\", display-mode: \"form\" }\n",
        "Additional = \"Better questions required\" #@param {type:\"string\"}\n"
      ],
      "execution_count": 85,
      "outputs": []
    },
    {
      "cell_type": "code",
      "metadata": {
        "id": "4VBk_4VTAxCM"
      },
      "source": [
        "#@title Can you identify the concepts from the lecture which this experiment covered? { run: \"auto\", vertical-output: true, display-mode: \"form\" }\n",
        "Concepts = \"Yes\" #@param [\"\",\"Yes\", \"No\"]\n"
      ],
      "execution_count": 86,
      "outputs": []
    },
    {
      "cell_type": "code",
      "metadata": {
        "id": "XH91cL1JWH7m"
      },
      "source": [
        "#@title  Text and image description/explanation and code comments within the experiment: { run: \"auto\", vertical-output: true, display-mode: \"form\" }\n",
        "Comments = \"Very Useful\" #@param [\"\",\"Very Useful\", \"Somewhat Useful\", \"Not Useful\", \"Didn't use\"]\n"
      ],
      "execution_count": 87,
      "outputs": []
    },
    {
      "cell_type": "code",
      "metadata": {
        "id": "z8xLqj7VWIKW"
      },
      "source": [
        "#@title Mentor Support: { run: \"auto\", vertical-output: true, display-mode: \"form\" }\n",
        "Mentor_support = \"Somewhat Useful\" #@param [\"\",\"Very Useful\", \"Somewhat Useful\", \"Not Useful\", \"Didn't use\"]\n"
      ],
      "execution_count": 88,
      "outputs": []
    },
    {
      "cell_type": "code",
      "metadata": {
        "id": "FzAZHt1zw-Y-",
        "cellView": "form",
        "outputId": "fb7953fd-2f64-43c3-896b-fcb76893c51f",
        "colab": {
          "base_uri": "https://localhost:8080/"
        }
      },
      "source": [
        "#@title Run this cell to submit your notebook for grading { vertical-output: true }\n",
        "try:\n",
        "  if submission_id:\n",
        "      return_id = submit_notebook()\n",
        "      if return_id : submission_id = return_id\n",
        "  else:\n",
        "      print(\"Please complete the setup first.\")\n",
        "except NameError:\n",
        "  print (\"Please complete the setup first.\")"
      ],
      "execution_count": 89,
      "outputs": [
        {
          "output_type": "stream",
          "name": "stdout",
          "text": [
            "Your submission is successful.\n",
            "Ref Id: 2366\n",
            "Date of submission:  15 Oct 2021\n",
            "Time of submission:  13:47:31\n",
            "View your submissions: https://dlfa.iisc.talentsprint.com/notebook_submissions\n"
          ]
        }
      ]
    }
  ]
}