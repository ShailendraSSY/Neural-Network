{
  "nbformat": 4,
  "nbformat_minor": 0,
  "metadata": {
    "colab": {
      "name": "DLFA_B1_M0_SNB_Practice_01_NumPy.ipynb",
      "provenance": [],
      "collapsed_sections": [],
      "include_colab_link": true
    },
    "kernelspec": {
      "display_name": "Python 3",
      "language": "python",
      "name": "python3"
    },
    "language_info": {
      "codemirror_mode": {
        "name": "ipython",
        "version": 3
      },
      "file_extension": ".py",
      "mimetype": "text/x-python",
      "name": "python",
      "nbconvert_exporter": "python",
      "pygments_lexer": "ipython3",
      "version": "3.5.2"
    }
  },
  "cells": [
    {
      "cell_type": "markdown",
      "metadata": {
        "id": "view-in-github",
        "colab_type": "text"
      },
      "source": [
        "<a href=\"https://colab.research.google.com/github/ShailendraSSY/Neural-Network/blob/master/DLFA_B1_M0_SNB_Practice_01_NumPy.ipynb\" target=\"_parent\"><img src=\"https://colab.research.google.com/assets/colab-badge.svg\" alt=\"Open In Colab\"/></a>"
      ]
    },
    {
      "cell_type": "markdown",
      "metadata": {
        "id": "aUUu9l_JfJ92"
      },
      "source": [
        "# Advanced Certification Program in DLFA\n",
        "##  A program by IISc and TalentSprint\n",
        "\n",
        "### Practice Notebook 1: Introduction to NumPy(Ungraded)\n"
      ]
    },
    {
      "cell_type": "markdown",
      "metadata": {
        "id": "nljJR6CwfZN_"
      },
      "source": [
        "## Learning Objectives\n",
        "\n",
        "At the end of the experiment, you will be able to :\n",
        "\n",
        "* understand the basics of NumPy including its functional objects\n",
        "* describe the key characteristics of numpy arrays\n",
        "* understand the difference between Python list and NumPy arrays\n",
        "* use indexing to slice/select data from NumPy arrays\n",
        "\n"
      ]
    },
    {
      "cell_type": "markdown",
      "metadata": {
        "id": "G9gCJqk-lyIM"
      },
      "source": [
        "## Information"
      ]
    },
    {
      "cell_type": "markdown",
      "metadata": {
        "id": "qKSeNSXIqa1_"
      },
      "source": [
        "#### NumPy\n",
        "\n",
        "* NumPy stands for 'Numerical Python'\n",
        "* It is a package for data analysis and scientific computing with Python\n",
        "* At the heart of NumPy is a basic data type, called the NumPy array. A NumPy array may have a number of dimensions, thus allowing it to represent quantities such as vectors (1D), matrices (2D), or higher dimensional arrays such as tensors.\n",
        "* It offers ndarray data structure for storing and ufuncs for efficiently processing the (homogeneous) data. Some of the important functionalities include: basic slicing, advanced or fancy indexing, broadcasting, etc.\n",
        "\n",
        "**To know more about Numpy click [here](https://numpy.org/doc/stable/user/whatisnumpy.html)**\n"
      ]
    },
    {
      "cell_type": "markdown",
      "metadata": {
        "id": "uDJsG5abr4lH"
      },
      "source": [
        "#### Difference Between Python list and NumPy array\n",
        "\n",
        "* Python lists are very general. They can contain any kind of object. They are dynamically typed.\n",
        "* They do not support mathematical functions such as matrix and dot multiplications, etc. Implementing such functions for Python lists would not be very efficient because of the dynamic typing.\n",
        "* Numpy arrays are statically typed and homogeneous. The type of the elements is determined when the array is created.\n",
        "* Numpy arrays are memory efficient.\n",
        "* Because of the static typing, fast implementation of mathematical functions such as multiplication and addition of numpy arrays can be implemented in a compiled language (C and Fortran is used).\n",
        "\n",
        "**To know more about the differece between Python list and NumPy arrays click [here](https://webcourses.ucf.edu/courses/1249560/pages/python-lists-vs-numpy-arrays-what-is-the-difference#:~:text=A%20numpy%20array%20is%20a,a%20tuple%20of%20nonnegative%20integers.&text=A%20list%20is%20the%20Python,contain%20elements%20of%20different%20types.)**"
      ]
    },
    {
      "cell_type": "markdown",
      "metadata": {
        "id": "Jx6xyCCOtTPt"
      },
      "source": [
        "## Expected time to complete the experiment : 20 mins"
      ]
    },
    {
      "cell_type": "markdown",
      "metadata": {
        "id": "JSo_rLBatnNQ"
      },
      "source": [
        "#### Exercise 1: Import the numpy package under the name np"
      ]
    },
    {
      "cell_type": "code",
      "metadata": {
        "id": "INYyCl2wfG20"
      },
      "source": [
        "# Your code here\n",
        "import numpy as np"
      ],
      "execution_count": 1,
      "outputs": []
    },
    {
      "cell_type": "markdown",
      "metadata": {
        "id": "Ulp2XpddvbXB"
      },
      "source": [
        "#### Exercise 2: Create a one-dimensional array"
      ]
    },
    {
      "cell_type": "code",
      "metadata": {
        "id": "-bpW1Oacvyn6",
        "colab": {
          "base_uri": "https://localhost:8080/"
        },
        "outputId": "f7760c0c-6216-4f1c-875d-7af6b9a92c06"
      },
      "source": [
        "# Your code here\n",
        "A  = np.arange(10)\n",
        "a  = [1, 2, 3]\n",
        "np.array(a)\n",
        "A.shape"
      ],
      "execution_count": 2,
      "outputs": [
        {
          "output_type": "execute_result",
          "data": {
            "text/plain": [
              "(10,)"
            ]
          },
          "metadata": {},
          "execution_count": 2
        }
      ]
    },
    {
      "cell_type": "markdown",
      "metadata": {
        "id": "aTNS3fbswAFx"
      },
      "source": [
        "#### Exercise 3: Create a two-dimensional array"
      ]
    },
    {
      "cell_type": "code",
      "metadata": {
        "id": "Cc1OAX2swDp0",
        "colab": {
          "base_uri": "https://localhost:8080/"
        },
        "outputId": "1917a1df-9211-433e-e41c-4d05db89f74e"
      },
      "source": [
        "# Your code here\n",
        "np.array([[1, 2], [3, 4]])\n",
        "np.arange(24).reshape(4,6)"
      ],
      "execution_count": 3,
      "outputs": [
        {
          "output_type": "execute_result",
          "data": {
            "text/plain": [
              "array([[ 0,  1,  2,  3,  4,  5],\n",
              "       [ 6,  7,  8,  9, 10, 11],\n",
              "       [12, 13, 14, 15, 16, 17],\n",
              "       [18, 19, 20, 21, 22, 23]])"
            ]
          },
          "metadata": {},
          "execution_count": 3
        }
      ]
    },
    {
      "cell_type": "markdown",
      "metadata": {
        "id": "WYHvBRZxwLkW"
      },
      "source": [
        "#### Exercise 4: Create an array of 10 fives"
      ]
    },
    {
      "cell_type": "code",
      "metadata": {
        "id": "HB3lvMc-wHZu",
        "colab": {
          "base_uri": "https://localhost:8080/"
        },
        "outputId": "70706e2d-c0b5-4d93-8653-b86fc49d4067"
      },
      "source": [
        "# Your code here\n",
        "np.ones(10) * 5\n",
        "np.full(10, 5)"
      ],
      "execution_count": 4,
      "outputs": [
        {
          "output_type": "execute_result",
          "data": {
            "text/plain": [
              "array([5, 5, 5, 5, 5, 5, 5, 5, 5, 5])"
            ]
          },
          "metadata": {},
          "execution_count": 4
        }
      ]
    },
    {
      "cell_type": "markdown",
      "metadata": {
        "id": "ZML4eoAiwjWZ"
      },
      "source": [
        "#### Exercise 5: Create an array of 30 zeros\n"
      ]
    },
    {
      "cell_type": "code",
      "metadata": {
        "id": "l4UsKAp6wcAO",
        "colab": {
          "base_uri": "https://localhost:8080/"
        },
        "outputId": "4d77c30c-a2fc-4672-a8c3-50accd67f2e5"
      },
      "source": [
        "# Your code here\n",
        "np.zeros(30).shape"
      ],
      "execution_count": 5,
      "outputs": [
        {
          "output_type": "execute_result",
          "data": {
            "text/plain": [
              "(30,)"
            ]
          },
          "metadata": {},
          "execution_count": 5
        }
      ]
    },
    {
      "cell_type": "markdown",
      "metadata": {
        "id": "O77D0lTmw47v"
      },
      "source": [
        "#### Exercise 6: Create an array of odd integers from 20 to 40"
      ]
    },
    {
      "cell_type": "code",
      "metadata": {
        "id": "8HqgMPJ1w3fv",
        "colab": {
          "base_uri": "https://localhost:8080/"
        },
        "outputId": "d5cd893b-3126-409a-8c5d-f1a3559941f4"
      },
      "source": [
        " # Your code here\n",
        " arr = np.arange(20, 41)\n",
        " arr[(arr % 2) != 0]\n",
        " \n",
        " #np.arange(21, 40, 2)"
      ],
      "execution_count": 6,
      "outputs": [
        {
          "output_type": "execute_result",
          "data": {
            "text/plain": [
              "array([21, 23, 25, 27, 29, 31, 33, 35, 37, 39])"
            ]
          },
          "metadata": {},
          "execution_count": 6
        }
      ]
    },
    {
      "cell_type": "markdown",
      "metadata": {
        "id": "0jIz5To9xe20"
      },
      "source": [
        "#### Exercise 7: Create a 5 * 5 identity matrix"
      ]
    },
    {
      "cell_type": "code",
      "metadata": {
        "id": "oWNNi94gxFfh",
        "colab": {
          "base_uri": "https://localhost:8080/"
        },
        "outputId": "48aa751b-f500-4d12-bbde-9ebf54a90d77"
      },
      "source": [
        "# Your code here\n",
        "np.identity(5)\n",
        "np.eye(5, )"
      ],
      "execution_count": 7,
      "outputs": [
        {
          "output_type": "execute_result",
          "data": {
            "text/plain": [
              "array([[1., 0., 0., 0., 0.],\n",
              "       [0., 1., 0., 0., 0.],\n",
              "       [0., 0., 1., 0., 0.],\n",
              "       [0., 0., 0., 1., 0.],\n",
              "       [0., 0., 0., 0., 1.]])"
            ]
          },
          "metadata": {},
          "execution_count": 7
        }
      ]
    },
    {
      "cell_type": "markdown",
      "metadata": {
        "id": "ax-e0ucgxp6x"
      },
      "source": [
        "#### Exercise 8: Generate an array of 20 random numbers sampled from a standard normal distribution"
      ]
    },
    {
      "cell_type": "code",
      "metadata": {
        "id": "1j41Ng3SxkbW",
        "colab": {
          "base_uri": "https://localhost:8080/"
        },
        "outputId": "0b563d80-460f-48d6-ea5e-ceb123f85b27"
      },
      "source": [
        "# Your code here\n",
        "np.random.standard_normal(20)"
      ],
      "execution_count": 8,
      "outputs": [
        {
          "output_type": "execute_result",
          "data": {
            "text/plain": [
              "array([-0.82448444, -0.21468226, -0.5658054 ,  0.03336148, -0.79169094,\n",
              "       -1.1026679 ,  0.88103798, -1.51931096, -1.28886691,  1.72184352,\n",
              "       -0.02874817,  0.13958039,  0.31394045, -0.80942512, -0.6004662 ,\n",
              "       -0.43772631, -0.09253755, -0.96603766, -0.69978192, -1.14103931])"
            ]
          },
          "metadata": {},
          "execution_count": 8
        }
      ]
    },
    {
      "cell_type": "markdown",
      "metadata": {
        "id": "zSbk_DNWyB0v"
      },
      "source": [
        "#### Exercise 9: Create a numpy array from a List"
      ]
    },
    {
      "cell_type": "code",
      "metadata": {
        "id": "lUw42XSpxvfr",
        "colab": {
          "base_uri": "https://localhost:8080/"
        },
        "outputId": "2d2459fe-713c-403a-d4e1-7f9769a21057"
      },
      "source": [
        "# Your code here\n",
        "l = [1, 2, 3]\n",
        "np.array(l)\n",
        "np.array(list(range(20)))"
      ],
      "execution_count": 9,
      "outputs": [
        {
          "output_type": "execute_result",
          "data": {
            "text/plain": [
              "array([ 0,  1,  2,  3,  4,  5,  6,  7,  8,  9, 10, 11, 12, 13, 14, 15, 16,\n",
              "       17, 18, 19])"
            ]
          },
          "metadata": {},
          "execution_count": 9
        }
      ]
    },
    {
      "cell_type": "markdown",
      "metadata": {
        "id": "s2SyGGhUyLce"
      },
      "source": [
        "#### Exercise 10:  Create a 4 * 4 * 4 array with random values"
      ]
    },
    {
      "cell_type": "code",
      "metadata": {
        "id": "qjGljrhvyKxI",
        "colab": {
          "base_uri": "https://localhost:8080/"
        },
        "outputId": "24875210-795b-4fc1-9bac-93ee825c2b25"
      },
      "source": [
        "# Your code here\n",
        "np.random.random((4,4,4))\n",
        "np.random.rand(4,4,4)"
      ],
      "execution_count": 10,
      "outputs": [
        {
          "output_type": "execute_result",
          "data": {
            "text/plain": [
              "array([[[0.85294382, 0.09082504, 0.38969732, 0.75391315],\n",
              "        [0.59488938, 0.42353148, 0.61580046, 0.6681416 ],\n",
              "        [0.2715962 , 0.86322357, 0.81429889, 0.39746565],\n",
              "        [0.23736305, 0.14340365, 0.74173147, 0.79904523]],\n",
              "\n",
              "       [[0.38674274, 0.68741668, 0.54335825, 0.3602292 ],\n",
              "        [0.9852572 , 0.88341449, 0.19022967, 0.16702163],\n",
              "        [0.71563621, 0.74900126, 0.33399269, 0.54879567],\n",
              "        [0.62717087, 0.66644901, 0.58720019, 0.3425883 ]],\n",
              "\n",
              "       [[0.86789289, 0.61086504, 0.4407196 , 0.48074341],\n",
              "        [0.92300497, 0.09303134, 0.79296346, 0.67334645],\n",
              "        [0.14905064, 0.38653653, 0.78856478, 0.44458607],\n",
              "        [0.45560086, 0.73078016, 0.92725542, 0.46166495]],\n",
              "\n",
              "       [[0.99616017, 0.65374832, 0.99235575, 0.05604175],\n",
              "        [0.68995114, 0.87304118, 0.16507573, 0.80785441],\n",
              "        [0.95267393, 0.48640669, 0.76766748, 0.53244877],\n",
              "        [0.00970896, 0.37403055, 0.65134737, 0.2284584 ]]])"
            ]
          },
          "metadata": {},
          "execution_count": 10
        }
      ]
    },
    {
      "cell_type": "markdown",
      "metadata": {
        "id": "vhsfUjihyanN"
      },
      "source": [
        "#### Exercise 11: Create a 10 * 10 array with random values and find the minimum and maximum values "
      ]
    },
    {
      "cell_type": "code",
      "metadata": {
        "id": "kVP6JO1fyZxl",
        "colab": {
          "base_uri": "https://localhost:8080/"
        },
        "outputId": "271bf1b9-a8ed-45e3-ab71-3c8e047950b5"
      },
      "source": [
        "# Your code here\n",
        "\n",
        "b = np.random.rand(10,10)\n",
        "b.max(), np.max(b), b.min()\n"
      ],
      "execution_count": 11,
      "outputs": [
        {
          "output_type": "execute_result",
          "data": {
            "text/plain": [
              "(0.9932458699679407, 0.9932458699679407, 0.002932145870878089)"
            ]
          },
          "metadata": {},
          "execution_count": 11
        }
      ]
    },
    {
      "cell_type": "markdown",
      "metadata": {
        "id": "PH_ZDIGJzA9v"
      },
      "source": [
        "#### Exercise 12: Create a checkerboard 8 * 8 matrix using the tile function"
      ]
    },
    {
      "cell_type": "code",
      "metadata": {
        "id": "UtH-qxy0y5VB",
        "colab": {
          "base_uri": "https://localhost:8080/"
        },
        "outputId": "774fefc8-bdcb-44ae-8a05-d8bab53dc8f1"
      },
      "source": [
        "# Your code here\n",
        "np.tile([[1, 0],[0,1]], (8,8))"
      ],
      "execution_count": 12,
      "outputs": [
        {
          "output_type": "execute_result",
          "data": {
            "text/plain": [
              "array([[1, 0, 1, 0, 1, 0, 1, 0, 1, 0, 1, 0, 1, 0, 1, 0],\n",
              "       [0, 1, 0, 1, 0, 1, 0, 1, 0, 1, 0, 1, 0, 1, 0, 1],\n",
              "       [1, 0, 1, 0, 1, 0, 1, 0, 1, 0, 1, 0, 1, 0, 1, 0],\n",
              "       [0, 1, 0, 1, 0, 1, 0, 1, 0, 1, 0, 1, 0, 1, 0, 1],\n",
              "       [1, 0, 1, 0, 1, 0, 1, 0, 1, 0, 1, 0, 1, 0, 1, 0],\n",
              "       [0, 1, 0, 1, 0, 1, 0, 1, 0, 1, 0, 1, 0, 1, 0, 1],\n",
              "       [1, 0, 1, 0, 1, 0, 1, 0, 1, 0, 1, 0, 1, 0, 1, 0],\n",
              "       [0, 1, 0, 1, 0, 1, 0, 1, 0, 1, 0, 1, 0, 1, 0, 1],\n",
              "       [1, 0, 1, 0, 1, 0, 1, 0, 1, 0, 1, 0, 1, 0, 1, 0],\n",
              "       [0, 1, 0, 1, 0, 1, 0, 1, 0, 1, 0, 1, 0, 1, 0, 1],\n",
              "       [1, 0, 1, 0, 1, 0, 1, 0, 1, 0, 1, 0, 1, 0, 1, 0],\n",
              "       [0, 1, 0, 1, 0, 1, 0, 1, 0, 1, 0, 1, 0, 1, 0, 1],\n",
              "       [1, 0, 1, 0, 1, 0, 1, 0, 1, 0, 1, 0, 1, 0, 1, 0],\n",
              "       [0, 1, 0, 1, 0, 1, 0, 1, 0, 1, 0, 1, 0, 1, 0, 1],\n",
              "       [1, 0, 1, 0, 1, 0, 1, 0, 1, 0, 1, 0, 1, 0, 1, 0],\n",
              "       [0, 1, 0, 1, 0, 1, 0, 1, 0, 1, 0, 1, 0, 1, 0, 1]])"
            ]
          },
          "metadata": {},
          "execution_count": 12
        }
      ]
    },
    {
      "cell_type": "markdown",
      "metadata": {
        "id": "1D4LM_rQzGEY"
      },
      "source": [
        "#### Exercise 13: Given two arrays *A* and *B*, perform the below operations:\n",
        "\n",
        "* A + B\n",
        "* A - B\n",
        "* A * B\n",
        "* A / B\n",
        "* A ** 3\n",
        "\n",
        "A = np.arange(1,6)\n",
        "\n",
        "B = np.arange(6, 15, 2)"
      ]
    },
    {
      "cell_type": "code",
      "metadata": {
        "id": "F8LurmSJzFF4",
        "colab": {
          "base_uri": "https://localhost:8080/"
        },
        "outputId": "c222307a-e78c-41cc-8a3f-93d2b736c6bf"
      },
      "source": [
        "# Your code here\n",
        "A = np.arange(1,6)\n",
        "B = np.arange(6, 15, 2)\n",
        "print(A, B)\n",
        "\n",
        "A + B\n",
        "A - B\n",
        "A * B\n",
        "A/B\n",
        "A ** 3"
      ],
      "execution_count": 13,
      "outputs": [
        {
          "output_type": "stream",
          "name": "stdout",
          "text": [
            "[1 2 3 4 5] [ 6  8 10 12 14]\n"
          ]
        },
        {
          "output_type": "execute_result",
          "data": {
            "text/plain": [
              "array([  1,   8,  27,  64, 125])"
            ]
          },
          "metadata": {},
          "execution_count": 13
        }
      ]
    },
    {
      "cell_type": "markdown",
      "metadata": {
        "id": "2UunBRTGzjT7"
      },
      "source": [
        "#### Exercise 14: Given an array *X*. Calculate sine, cosine, and tangent of *X*, element-wise.\n",
        "\n",
        "X = np.array([1, 45, 60, 90])"
      ]
    },
    {
      "cell_type": "code",
      "metadata": {
        "id": "_GePAqckzdqM",
        "colab": {
          "base_uri": "https://localhost:8080/"
        },
        "outputId": "5b3c61ae-c230-416f-c494-306707dccbc2"
      },
      "source": [
        "# Your code here\n",
        "X = np.array([1, 45, 60, 90])\n",
        "print(np.sin(X[0]))\n",
        "# print(np.cos(X))\n",
        "# np.tan(X)\n",
        "\n",
        "X[0]"
      ],
      "execution_count": 14,
      "outputs": [
        {
          "output_type": "stream",
          "name": "stdout",
          "text": [
            "0.8414709848078965\n"
          ]
        },
        {
          "output_type": "execute_result",
          "data": {
            "text/plain": [
              "1"
            ]
          },
          "metadata": {},
          "execution_count": 14
        }
      ]
    },
    {
      "cell_type": "markdown",
      "metadata": {
        "id": "dljFTM1_z25y"
      },
      "source": [
        "#### Exercise 15: Given an array *X*. Convert angles from degrees to radians.\n",
        "\n",
        "X = np.array([-180.,  -90.,   90.,  180.])"
      ]
    },
    {
      "cell_type": "code",
      "metadata": {
        "id": "bk2ZdhYtzy9p",
        "colab": {
          "base_uri": "https://localhost:8080/"
        },
        "outputId": "df53ec53-0fbc-4089-bb76-0dbe85ed6ec6"
      },
      "source": [
        "# Your code here\n",
        "X = np.array([1, 45, 60, 90])\n",
        "np.deg2rad(X)"
      ],
      "execution_count": 15,
      "outputs": [
        {
          "output_type": "execute_result",
          "data": {
            "text/plain": [
              "array([0.01745329, 0.78539816, 1.04719755, 1.57079633])"
            ]
          },
          "metadata": {},
          "execution_count": 15
        }
      ]
    },
    {
      "cell_type": "markdown",
      "metadata": {
        "id": "Nu0UneAKz_kY"
      },
      "source": [
        "#### Exercise 16: Given an array *X*. Calculate the round, ceil, floor of *X*, element-wise\n",
        "\n",
        "X = np.array([4.1, 2.5, 44.5, 25.9, -1.1, -9.5, -6.9])"
      ]
    },
    {
      "cell_type": "code",
      "metadata": {
        "id": "wvjbRcEEz-LR",
        "colab": {
          "base_uri": "https://localhost:8080/"
        },
        "outputId": "eb43b6e1-ffc0-453e-b84a-911530a52195"
      },
      "source": [
        "# Your code here\n",
        "X = np.array([4.1, 2.5, 44.5, 25.9, -1.1, -9.5, -6.9])\n",
        "np.round(X), np.ceil(X), np.floor(X)\n",
        "# np.round?"
      ],
      "execution_count": 16,
      "outputs": [
        {
          "output_type": "execute_result",
          "data": {
            "text/plain": [
              "(array([  4.,   2.,  44.,  26.,  -1., -10.,  -7.]),\n",
              " array([ 5.,  3., 45., 26., -1., -9., -6.]),\n",
              " array([  4.,   2.,  44.,  25.,  -2., -10.,  -7.]))"
            ]
          },
          "metadata": {},
          "execution_count": 16
        }
      ]
    },
    {
      "cell_type": "markdown",
      "metadata": {
        "id": "-60ajk5z0IHq"
      },
      "source": [
        "#### Exercise 17: Given two arrays *X* and *Y*. Divide *X* by *Y* element-wise using divide, true_divide, floor_divide functions.\n",
        "\n",
        "X = np.array([1, 2, 3])\n",
        "\n",
        "Y = np.array([4, 5, 6])"
      ]
    },
    {
      "cell_type": "code",
      "metadata": {
        "id": "4Or_DXdT0HSq",
        "colab": {
          "base_uri": "https://localhost:8080/"
        },
        "outputId": "5edbafa7-be15-46f1-ad09-1d232414f925"
      },
      "source": [
        "# Your code here\n",
        "X = np.array([1, 2, 3])\n",
        "\n",
        "Y = np.array([4, 5, 6])\n",
        "\n",
        "np.divide(X, Y)\n",
        "np.true_divide(X, Y)\n",
        "np.floor_divide(X, Y)"
      ],
      "execution_count": 17,
      "outputs": [
        {
          "output_type": "execute_result",
          "data": {
            "text/plain": [
              "array([0, 0, 0])"
            ]
          },
          "metadata": {},
          "execution_count": 17
        }
      ]
    },
    {
      "cell_type": "markdown",
      "metadata": {
        "id": "mEMzMg1c0dhd"
      },
      "source": [
        "#### Exercise 18: Given two arrays *X* and *Y*. Compute $X^Y$, element-wise.\n",
        "\n",
        "X = np.array([1, 2, 3])\n",
        "\n",
        "Y = np.array([4, 5, 6])"
      ]
    },
    {
      "cell_type": "code",
      "metadata": {
        "id": "96MpGOOn0iAA",
        "colab": {
          "base_uri": "https://localhost:8080/"
        },
        "outputId": "a64fc896-521c-4ca5-f2c8-d4295187f905"
      },
      "source": [
        "# Your code here\n",
        "\n",
        "X = np.array([1, 2, 3])\n",
        "\n",
        "Y = np.array([4, 5, 6])\n",
        "\n",
        "X ** Y\n",
        "\n",
        "np.power(X , Y)"
      ],
      "execution_count": 18,
      "outputs": [
        {
          "output_type": "execute_result",
          "data": {
            "text/plain": [
              "array([  1,  32, 729])"
            ]
          },
          "metadata": {},
          "execution_count": 18
        }
      ]
    },
    {
      "cell_type": "markdown",
      "metadata": {
        "id": "4mneQbO60kT-"
      },
      "source": [
        "#### Exercise 19:  Given an array *X*. If an element of *X* is smaller than 5, replace it with 4. And if an element of *X* is bigger than 9, replace it with 8.\n",
        "\n",
        "X = np.array([8, 4, 22, 3, 66, 12, 1, 5])"
      ]
    },
    {
      "cell_type": "code",
      "metadata": {
        "id": "ewRP5aj50ro-",
        "colab": {
          "base_uri": "https://localhost:8080/"
        },
        "outputId": "1e5512e7-2e5f-4ae0-cf0e-9746432d2357"
      },
      "source": [
        "# Your code here\n",
        "X = np.array([8, 4, 6, 3, 66, 12, 1, 5])\n",
        "np.clip(X, 4, 8)"
      ],
      "execution_count": 19,
      "outputs": [
        {
          "output_type": "execute_result",
          "data": {
            "text/plain": [
              "array([8, 4, 6, 4, 8, 8, 4, 5])"
            ]
          },
          "metadata": {},
          "execution_count": 19
        }
      ]
    },
    {
      "cell_type": "markdown",
      "metadata": {
        "id": "KYW-0pO00xcL"
      },
      "source": [
        "#### Exercise 20: Use the functions len(), numpy.shape() on array *X*. How do they relate to each other? And to the ndim attribute of the arrays?\n",
        "\n",
        "X = np.array([8, 4, 22, 3, 66, 12, 1, 5])"
      ]
    },
    {
      "cell_type": "code",
      "metadata": {
        "id": "BxYWGEUg0tJn",
        "colab": {
          "base_uri": "https://localhost:8080/"
        },
        "outputId": "519a9e07-5ce5-4915-de21-8eff765e3a99"
      },
      "source": [
        "# Your code here\n",
        "X = np.array([8, 4, 22, 3, 66, 12, 1, 5])\n",
        "len(X), X.ndim, X.shape"
      ],
      "execution_count": 20,
      "outputs": [
        {
          "output_type": "execute_result",
          "data": {
            "text/plain": [
              "(8, 1, (8,))"
            ]
          },
          "metadata": {},
          "execution_count": 20
        }
      ]
    },
    {
      "cell_type": "markdown",
      "metadata": {
        "id": "3oC2YKlFIfRf"
      },
      "source": [
        "#### Exercise 21: Create a 2-D array called X, ranging from -1 to 14 using arange() with step size 0.25. Split this array row wise into 3 equal parts and print the result."
      ]
    },
    {
      "cell_type": "code",
      "metadata": {
        "id": "DMA94dj12rMD",
        "colab": {
          "base_uri": "https://localhost:8080/"
        },
        "outputId": "16415345-6dbd-4cd5-9462-4dc3dfc45dcc"
      },
      "source": [
        "# Your code here\n",
        "X = np.arange(-1, 14, 0.25)\n",
        "X1 = X.reshape(3, 20)\n",
        "X1"
      ],
      "execution_count": 21,
      "outputs": [
        {
          "output_type": "execute_result",
          "data": {
            "text/plain": [
              "array([[-1.  , -0.75, -0.5 , -0.25,  0.  ,  0.25,  0.5 ,  0.75,  1.  ,\n",
              "         1.25,  1.5 ,  1.75,  2.  ,  2.25,  2.5 ,  2.75,  3.  ,  3.25,\n",
              "         3.5 ,  3.75],\n",
              "       [ 4.  ,  4.25,  4.5 ,  4.75,  5.  ,  5.25,  5.5 ,  5.75,  6.  ,\n",
              "         6.25,  6.5 ,  6.75,  7.  ,  7.25,  7.5 ,  7.75,  8.  ,  8.25,\n",
              "         8.5 ,  8.75],\n",
              "       [ 9.  ,  9.25,  9.5 ,  9.75, 10.  , 10.25, 10.5 , 10.75, 11.  ,\n",
              "        11.25, 11.5 , 11.75, 12.  , 12.25, 12.5 , 12.75, 13.  , 13.25,\n",
              "        13.5 , 13.75]])"
            ]
          },
          "metadata": {},
          "execution_count": 21
        }
      ]
    },
    {
      "cell_type": "markdown",
      "metadata": {
        "id": "c0CMOS5d1Exe"
      },
      "source": [
        "#### Exercise 22: Use the array X created above and write the commands for the following: \n",
        "\n",
        "* Find the sum of all elements\n",
        "* Find the sum of all elements row wise\n",
        "* Find the sum of all elements column wise\n",
        "* Find the max of all elements\n",
        "* Find the min of all elements in each row\n",
        "* Find the mean of all elements in each row\n",
        "* Find the standard deviation column wise"
      ]
    },
    {
      "cell_type": "code",
      "metadata": {
        "id": "SO7mwhaV2TpV",
        "colab": {
          "base_uri": "https://localhost:8080/"
        },
        "outputId": "7bda3d43-5920-422b-8bb9-fcd567d29cad"
      },
      "source": [
        "# Your code here\n",
        "print(\"sum is\",np.sum(X1))\n",
        "print(\"\\nsum of all elements row wise\\n\",np.sum(X1, axis=0))\n",
        "print(\"\\nsum of all elements col wise\\n\",np.sum(X1, axis=1))\n",
        "print(\"\\nmax and min\",X1.max(), X1.min())\n",
        "print(\"\\n min row wise\",np.min(X1, axis=0))\n",
        "print(\"\\n mean row wise\",np.mean(X1, axis=0))\n",
        "print(\"\\n standard deviation col wise\",np.std(X1, axis=1))"
      ],
      "execution_count": 22,
      "outputs": [
        {
          "output_type": "stream",
          "name": "stdout",
          "text": [
            "sum is 382.5\n",
            "\n",
            "sum of all elements row wise\n",
            " [12.   12.75 13.5  14.25 15.   15.75 16.5  17.25 18.   18.75 19.5  20.25\n",
            " 21.   21.75 22.5  23.25 24.   24.75 25.5  26.25]\n",
            "\n",
            "sum of all elements col wise\n",
            " [ 27.5 127.5 227.5]\n",
            "\n",
            "max and min 13.75 -1.0\n",
            "\n",
            " min row wise [-1.   -0.75 -0.5  -0.25  0.    0.25  0.5   0.75  1.    1.25  1.5   1.75\n",
            "  2.    2.25  2.5   2.75  3.    3.25  3.5   3.75]\n",
            "\n",
            " mean row wise [4.   4.25 4.5  4.75 5.   5.25 5.5  5.75 6.   6.25 6.5  6.75 7.   7.25\n",
            " 7.5  7.75 8.   8.25 8.5  8.75]\n",
            "\n",
            " standard deviation col wise [1.44157032 1.44157032 1.44157032]\n"
          ]
        }
      ]
    },
    {
      "cell_type": "code",
      "metadata": {
        "id": "WFjsDjKyu322"
      },
      "source": [
        ""
      ],
      "execution_count": 22,
      "outputs": []
    }
  ]
}