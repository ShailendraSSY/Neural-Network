{
  "nbformat": 4,
  "nbformat_minor": 0,
  "metadata": {
    "colab": {
      "name": "M3_AST_33_Model_Deployment_on_ESP_Hardware_C.ipynb",
      "provenance": [],
      "collapsed_sections": [],
      "include_colab_link": true
    },
    "kernelspec": {
      "name": "python3",
      "display_name": "Python 3"
    },
    "language_info": {
      "name": "python"
    }
  },
  "cells": [
    {
      "cell_type": "markdown",
      "metadata": {
        "id": "view-in-github",
        "colab_type": "text"
      },
      "source": [
        "<a href=\"https://colab.research.google.com/github/ShailendraSSY/Neural-Network/blob/master/M3_AST_33_Model_Deployment_on_ESP_Hardware_C.ipynb\" target=\"_parent\"><img src=\"https://colab.research.google.com/assets/colab-badge.svg\" alt=\"Open In Colab\"/></a>"
      ]
    },
    {
      "cell_type": "markdown",
      "metadata": {
        "id": "p4Nwm4FK3wgU"
      },
      "source": [
        "# Advanced Programme in Deep Learning (Foundations and Applications)\n",
        "## A Program by IISc and TalentSprint\n",
        "### Assignment : IoT and Edge Devices - Model Deployment on ESP Hardware"
      ]
    },
    {
      "cell_type": "markdown",
      "metadata": {
        "id": "qu26Vq9jDTpj"
      },
      "source": [
        "### Learning Objectives:\n",
        "\n",
        "At the end of the experiment, you will be able to:\n",
        " \n",
        "*  Compile or deploy the cifar 10 model on to ESP hardware using ESP  IDK and the TFLM framework. \n"
      ]
    },
    {
      "cell_type": "markdown",
      "metadata": {
        "id": "BNLA8HiKxQhc"
      },
      "source": [
        "### Setup Steps:"
      ]
    },
    {
      "cell_type": "code",
      "metadata": {
        "id": "2YzfoPvJDiTX"
      },
      "source": [
        "#@title Please enter your registration id to start: { run: \"auto\", display-mode: \"form\" }\n",
        "Id = \"2200023\" #@param {type:\"string\"}"
      ],
      "execution_count": 8,
      "outputs": []
    },
    {
      "cell_type": "code",
      "metadata": {
        "id": "rEzlYL4CDrmE"
      },
      "source": [
        "#@title Please enter your password (normally your phone number) to continue: { run: \"auto\", display-mode: \"form\" }\n",
        "password = \"9910549998\" #@param {type:\"string\"}"
      ],
      "execution_count": 9,
      "outputs": []
    },
    {
      "cell_type": "code",
      "metadata": {
        "id": "WBPPuGmBlDIN",
        "cellView": "form",
        "colab": {
          "base_uri": "https://localhost:8080/",
          "height": 34
        },
        "outputId": "e93eef8c-6b9b-4fe1-87f9-5da25d7777a3"
      },
      "source": [
        "#@title Run this cell to complete the setup for this Notebook\n",
        "from IPython import get_ipython\n",
        "\n",
        "ipython = get_ipython()\n",
        "  \n",
        "notebook= \"M3_AST_33_Model_Deployment_on_ESP_Hardware_C\" #name of the notebook\n",
        "\n",
        "def setup():\n",
        "#  ipython.magic(\"sx pip3 install torch\") \n",
        "\n",
        "    from IPython.display import HTML, display\n",
        "    display(HTML('<script src=\"https://dashboard.talentsprint.com/aiml/record_ip.html?traineeId={0}&recordId={1}\"></script>'.format(getId(),submission_id)))\n",
        "    print(\"Setup completed successfully\")\n",
        "    return\n",
        "\n",
        "def submit_notebook():\n",
        "    ipython.magic(\"notebook -e \"+ notebook + \".ipynb\")\n",
        "    \n",
        "    import requests, json, base64, datetime\n",
        "\n",
        "    url = \"https://dashboard.talentsprint.com/xp/app/save_notebook_attempts\"\n",
        "    if not submission_id:\n",
        "      data = {\"id\" : getId(), \"notebook\" : notebook, \"mobile\" : getPassword()}\n",
        "      r = requests.post(url, data = data)\n",
        "      r = json.loads(r.text)\n",
        "\n",
        "      if r[\"status\"] == \"Success\":\n",
        "          return r[\"record_id\"]\n",
        "      elif \"err\" in r:        \n",
        "        print(r[\"err\"])\n",
        "        return None        \n",
        "      else:\n",
        "        print (\"Something is wrong, the notebook will not be submitted for grading\")\n",
        "        return None\n",
        "    \n",
        "    elif getAnswer1() and getAnswer2() and getComplexity() and getAdditional() and getConcepts() and getComments() and getMentorSupport():\n",
        "      f = open(notebook + \".ipynb\", \"rb\")\n",
        "      file_hash = base64.b64encode(f.read())\n",
        "\n",
        "      data = {\"complexity\" : Complexity, \"additional\" :Additional, \n",
        "              \"concepts\" : Concepts, \"record_id\" : submission_id, \n",
        "              \"answer1\" : Answer1, \"answer2\" : Answer2, \"id\" : Id, \"file_hash\" : file_hash,\n",
        "              \"notebook\" : notebook,\n",
        "              \"feedback_experiments_input\" : Comments,\n",
        "              \"feedback_mentor_support\": Mentor_support}\n",
        "      r = requests.post(url, data = data)\n",
        "      r = json.loads(r.text)\n",
        "      if \"err\" in r:        \n",
        "        print(r[\"err\"])\n",
        "        return None   \n",
        "      else:\n",
        "        print(\"Your submission is successful.\")\n",
        "        print(\"Ref Id:\", submission_id)\n",
        "        print(\"Date of submission: \", r[\"date\"])\n",
        "        print(\"Time of submission: \", r[\"time\"])\n",
        "        print(\"View your submissions: https://dlfa.iisc.talentsprint.com/notebook_submissions\")\n",
        "        #print(\"For any queries/discrepancies, please connect with mentors through the chat icon in LMS dashboard.\")\n",
        "        return submission_id\n",
        "    else: submission_id\n",
        "    \n",
        "\n",
        "def getAdditional():\n",
        "  try:\n",
        "    if not Additional: \n",
        "      raise NameError\n",
        "    else:\n",
        "      return Additional  \n",
        "  except NameError:\n",
        "    print (\"Please answer Additional Question\")\n",
        "    return None\n",
        "\n",
        "def getComplexity():\n",
        "  try:\n",
        "    if not Complexity:\n",
        "      raise NameError\n",
        "    else:\n",
        "      return Complexity\n",
        "  except NameError:\n",
        "    print (\"Please answer Complexity Question\")\n",
        "    return None\n",
        "  \n",
        "def getConcepts():\n",
        "  try:\n",
        "    if not Concepts:\n",
        "      raise NameError\n",
        "    else:\n",
        "      return Concepts\n",
        "  except NameError:\n",
        "    print (\"Please answer Concepts Question\")\n",
        "    return None\n",
        "  \n",
        "  \n",
        "# def getWalkthrough():\n",
        "#   try:\n",
        "#     if not Walkthrough:\n",
        "#       raise NameError\n",
        "#     else:\n",
        "#       return Walkthrough\n",
        "#   except NameError:\n",
        "#     print (\"Please answer Walkthrough Question\")\n",
        "#     return None\n",
        "  \n",
        "def getComments():\n",
        "  try:\n",
        "    if not Comments:\n",
        "      raise NameError\n",
        "    else:\n",
        "      return Comments\n",
        "  except NameError:\n",
        "    print (\"Please answer Comments Question\")\n",
        "    return None\n",
        "  \n",
        "\n",
        "def getMentorSupport():\n",
        "  try:\n",
        "    if not Mentor_support:\n",
        "      raise NameError\n",
        "    else:\n",
        "      return Mentor_support\n",
        "  except NameError:\n",
        "    print (\"Please answer Mentor support Question\")\n",
        "    return None\n",
        "\n",
        "def getAnswer1():\n",
        "  try:\n",
        "    if not Answer1:\n",
        "      raise NameError \n",
        "    else: \n",
        "      return Answer1\n",
        "  except NameError:\n",
        "    print (\"Please answer Question 1\")\n",
        "    return None\n",
        "\n",
        "def getAnswer2():\n",
        "  try:\n",
        "    if not Answer2:\n",
        "      raise NameError \n",
        "    else: \n",
        "      return Answer2\n",
        "  except NameError:\n",
        "    print (\"Please answer Question 2\")\n",
        "    return None\n",
        "  \n",
        "\n",
        "def getId():\n",
        "  try: \n",
        "    return Id if Id else None\n",
        "  except NameError:\n",
        "    return None\n",
        "\n",
        "def getPassword():\n",
        "  try:\n",
        "    return password if password else None\n",
        "  except NameError:\n",
        "    return None\n",
        "\n",
        "submission_id = None\n",
        "### Setup \n",
        "if getPassword() and getId():\n",
        "  submission_id = submit_notebook()\n",
        "  if submission_id:\n",
        "    setup() \n",
        "else:\n",
        "  print (\"Please complete Id and Password cells before running setup\")\n",
        "\n"
      ],
      "execution_count": 10,
      "outputs": [
        {
          "output_type": "display_data",
          "data": {
            "text/html": [
              "<script src=\"https://dashboard.talentsprint.com/aiml/record_ip.html?traineeId=2200023&recordId=3501\"></script>"
            ],
            "text/plain": [
              "<IPython.core.display.HTML object>"
            ]
          },
          "metadata": {}
        },
        {
          "output_type": "stream",
          "name": "stdout",
          "text": [
            "Setup completed successfully\n"
          ]
        }
      ]
    },
    {
      "cell_type": "markdown",
      "source": [
        "###Cifar 10 Model Training"
      ],
      "metadata": {
        "id": "wStuH8emmDXO"
      }
    },
    {
      "cell_type": "markdown",
      "source": [
        "From Assignment 2 outcome, download the cifar10_quant_model.cc file"
      ],
      "metadata": {
        "id": "2wNBuFnGJleb"
      }
    },
    {
      "cell_type": "markdown",
      "source": [
        "\n",
        "<center>\n",
        "<img src=\"https://cdn.iisc.talentsprint.com/DLFA/Experiment_related_data/IoT_image_1.1.png\" width=800px/>\n",
        "</center>\n",
        "<br><br>"
      ],
      "metadata": {
        "id": "IP5wCkNgJz5_"
      }
    },
    {
      "cell_type": "markdown",
      "source": [
        "### TFLM file changes\n",
        "\n",
        "**Step 1** : Clone the repository : git clone --recursive https://github.com/espressif/tflite-micro-esp-examples.git\n",
        "\n",
        "**Step 2**: Make a copy of the folder person_detection under ./tflite-micro-esp-\n",
        "examples/examples/ and rename it to cifar10. We are going to reuse the architecture template from person_detection example and edit few files so that\n",
        "it can work for cifar10 example."
      ],
      "metadata": {
        "id": "04c0xESKN1-P"
      }
    },
    {
      "cell_type": "markdown",
      "source": [
        "<center>\n",
        "<img src=\"https://cdn.iisc.talentsprint.com/DLFA/Experiment_related_data/IoT_img_2.png\" width=800px/>\n",
        "</center>\n",
        "<br><br>"
      ],
      "metadata": {
        "id": "tiXbRVahPofq"
      }
    },
    {
      "cell_type": "markdown",
      "source": [
        "Cloning the repository"
      ],
      "metadata": {
        "id": "DcSnkAsOLqrt"
      }
    },
    {
      "cell_type": "code",
      "source": [
        "!git clone --recursive https://github.com/espressif/tflite-micro-esp-examples.git"
      ],
      "metadata": {
        "id": "6PxJxBBCVD0b",
        "colab": {
          "base_uri": "https://localhost:8080/"
        },
        "outputId": "0309fa05-e34c-4f75-9b4f-d1697ae8b433"
      },
      "execution_count": 11,
      "outputs": [
        {
          "output_type": "stream",
          "name": "stdout",
          "text": [
            "fatal: destination path 'tflite-micro-esp-examples' already exists and is not an empty directory.\n"
          ]
        }
      ]
    },
    {
      "cell_type": "markdown",
      "source": [
        "Renaming the folder."
      ],
      "metadata": {
        "id": "zP4_yA77LnUk"
      }
    },
    {
      "cell_type": "code",
      "source": [
        "!cp -r /content/tflite-micro-esp-examples/examples/person_detection /content/tflite-micro-esp-examples/examples/cifar10"
      ],
      "metadata": {
        "id": "qTSPwtPlVYFT"
      },
      "execution_count": 12,
      "outputs": []
    },
    {
      "cell_type": "markdown",
      "source": [
        "### Copying the model file\n",
        "\n",
        "Step 3: Copy the model file “cifar10_quant_model.cc”\n",
        "from colab to the main folder(\"/content/tflite-micro-esp-examples/examples/cifar10/main\")\n",
        "\n",
        "Step 4: Open the file and add line 1 and edit line 3\n",
        "and the last line in the file as highlighted in the\n",
        "screenshot below. It changes only the variable\n",
        "declarations and include filenames. Do not change any\n",
        "numerical values.\n",
        "\n"
      ],
      "metadata": {
        "id": "4zO_Kd8qO3uY"
      }
    },
    {
      "cell_type": "markdown",
      "source": [
        "<center>\n",
        "<img src=\"https://cdn.iisc.talentsprint.com/DLFA/Experiment_related_data/IoT_img_3.png\" width=800px/>\n",
        "</center>\n",
        "<br><br>"
      ],
      "metadata": {
        "id": "B64xxfuXScqM"
      }
    },
    {
      "cell_type": "markdown",
      "source": [
        "#### Upload the file"
      ],
      "metadata": {
        "id": "hVI7b8zxpC6P"
      }
    },
    {
      "cell_type": "code",
      "source": [
        "from google.colab import files\n",
        "files.upload()"
      ],
      "metadata": {
        "id": "NmYdQELxWGza",
        "colab": {
          "base_uri": "https://localhost:8080/",
          "height": 349
        },
        "outputId": "1fb9bdcd-1a75-4b1f-b743-295dcc5dd84a"
      },
      "execution_count": 13,
      "outputs": [
        {
          "output_type": "display_data",
          "data": {
            "text/html": [
              "\n",
              "     <input type=\"file\" id=\"files-d5e7abe3-86be-43b4-b491-f1f7e036375c\" name=\"files[]\" multiple disabled\n",
              "        style=\"border:none\" />\n",
              "     <output id=\"result-d5e7abe3-86be-43b4-b491-f1f7e036375c\">\n",
              "      Upload widget is only available when the cell has been executed in the\n",
              "      current browser session. Please rerun this cell to enable.\n",
              "      </output>\n",
              "      <script src=\"/nbextensions/google.colab/files.js\"></script> "
            ],
            "text/plain": [
              "<IPython.core.display.HTML object>"
            ]
          },
          "metadata": {}
        },
        {
          "output_type": "error",
          "ename": "MessageError",
          "evalue": "ignored",
          "traceback": [
            "\u001b[0;31m---------------------------------------------------------------------------\u001b[0m",
            "\u001b[0;31mMessageError\u001b[0m                              Traceback (most recent call last)",
            "\u001b[0;32m<ipython-input-13-5c2e8a8d365b>\u001b[0m in \u001b[0;36m<module>\u001b[0;34m()\u001b[0m\n\u001b[1;32m      1\u001b[0m \u001b[0;32mfrom\u001b[0m \u001b[0mgoogle\u001b[0m\u001b[0;34m.\u001b[0m\u001b[0mcolab\u001b[0m \u001b[0;32mimport\u001b[0m \u001b[0mfiles\u001b[0m\u001b[0;34m\u001b[0m\u001b[0;34m\u001b[0m\u001b[0m\n\u001b[0;32m----> 2\u001b[0;31m \u001b[0mfiles\u001b[0m\u001b[0;34m.\u001b[0m\u001b[0mupload\u001b[0m\u001b[0;34m(\u001b[0m\u001b[0;34m)\u001b[0m\u001b[0;34m\u001b[0m\u001b[0;34m\u001b[0m\u001b[0m\n\u001b[0m",
            "\u001b[0;32m/usr/local/lib/python3.7/dist-packages/google/colab/files.py\u001b[0m in \u001b[0;36mupload\u001b[0;34m()\u001b[0m\n\u001b[1;32m     61\u001b[0m   result = _output.eval_js(\n\u001b[1;32m     62\u001b[0m       'google.colab._files._uploadFiles(\"{input_id}\", \"{output_id}\")'.format(\n\u001b[0;32m---> 63\u001b[0;31m           input_id=input_id, output_id=output_id))\n\u001b[0m\u001b[1;32m     64\u001b[0m   \u001b[0mfiles\u001b[0m \u001b[0;34m=\u001b[0m \u001b[0m_collections\u001b[0m\u001b[0;34m.\u001b[0m\u001b[0mdefaultdict\u001b[0m\u001b[0;34m(\u001b[0m\u001b[0m_six\u001b[0m\u001b[0;34m.\u001b[0m\u001b[0mbinary_type\u001b[0m\u001b[0;34m)\u001b[0m\u001b[0;34m\u001b[0m\u001b[0;34m\u001b[0m\u001b[0m\n\u001b[1;32m     65\u001b[0m   \u001b[0;31m# Mapping from original filename to filename as saved locally.\u001b[0m\u001b[0;34m\u001b[0m\u001b[0;34m\u001b[0m\u001b[0;34m\u001b[0m\u001b[0m\n",
            "\u001b[0;32m/usr/local/lib/python3.7/dist-packages/google/colab/output/_js.py\u001b[0m in \u001b[0;36meval_js\u001b[0;34m(script, ignore_result, timeout_sec)\u001b[0m\n\u001b[1;32m     38\u001b[0m   \u001b[0;32mif\u001b[0m \u001b[0mignore_result\u001b[0m\u001b[0;34m:\u001b[0m\u001b[0;34m\u001b[0m\u001b[0;34m\u001b[0m\u001b[0m\n\u001b[1;32m     39\u001b[0m     \u001b[0;32mreturn\u001b[0m\u001b[0;34m\u001b[0m\u001b[0;34m\u001b[0m\u001b[0m\n\u001b[0;32m---> 40\u001b[0;31m   \u001b[0;32mreturn\u001b[0m \u001b[0m_message\u001b[0m\u001b[0;34m.\u001b[0m\u001b[0mread_reply_from_input\u001b[0m\u001b[0;34m(\u001b[0m\u001b[0mrequest_id\u001b[0m\u001b[0;34m,\u001b[0m \u001b[0mtimeout_sec\u001b[0m\u001b[0;34m)\u001b[0m\u001b[0;34m\u001b[0m\u001b[0;34m\u001b[0m\u001b[0m\n\u001b[0m\u001b[1;32m     41\u001b[0m \u001b[0;34m\u001b[0m\u001b[0m\n\u001b[1;32m     42\u001b[0m \u001b[0;34m\u001b[0m\u001b[0m\n",
            "\u001b[0;32m/usr/local/lib/python3.7/dist-packages/google/colab/_message.py\u001b[0m in \u001b[0;36mread_reply_from_input\u001b[0;34m(message_id, timeout_sec)\u001b[0m\n\u001b[1;32m    104\u001b[0m         reply.get('colab_msg_id') == message_id):\n\u001b[1;32m    105\u001b[0m       \u001b[0;32mif\u001b[0m \u001b[0;34m'error'\u001b[0m \u001b[0;32min\u001b[0m \u001b[0mreply\u001b[0m\u001b[0;34m:\u001b[0m\u001b[0;34m\u001b[0m\u001b[0;34m\u001b[0m\u001b[0m\n\u001b[0;32m--> 106\u001b[0;31m         \u001b[0;32mraise\u001b[0m \u001b[0mMessageError\u001b[0m\u001b[0;34m(\u001b[0m\u001b[0mreply\u001b[0m\u001b[0;34m[\u001b[0m\u001b[0;34m'error'\u001b[0m\u001b[0;34m]\u001b[0m\u001b[0;34m)\u001b[0m\u001b[0;34m\u001b[0m\u001b[0;34m\u001b[0m\u001b[0m\n\u001b[0m\u001b[1;32m    107\u001b[0m       \u001b[0;32mreturn\u001b[0m \u001b[0mreply\u001b[0m\u001b[0;34m.\u001b[0m\u001b[0mget\u001b[0m\u001b[0;34m(\u001b[0m\u001b[0;34m'data'\u001b[0m\u001b[0;34m,\u001b[0m \u001b[0;32mNone\u001b[0m\u001b[0;34m)\u001b[0m\u001b[0;34m\u001b[0m\u001b[0;34m\u001b[0m\u001b[0m\n\u001b[1;32m    108\u001b[0m \u001b[0;34m\u001b[0m\u001b[0m\n",
            "\u001b[0;31mMessageError\u001b[0m: TypeError: Cannot read properties of undefined (reading '_uploadFiles')"
          ]
        }
      ]
    },
    {
      "cell_type": "code",
      "source": [
        "import shutil, sys  \n",
        "shutil.move(\"/content/cifar10_quant_model.cc\", \"/content/tflite-micro-esp-examples/examples/cifar10/main\")"
      ],
      "metadata": {
        "id": "fN_UtysDcShd"
      },
      "execution_count": null,
      "outputs": []
    },
    {
      "cell_type": "markdown",
      "source": [
        "### Create and delete files\n",
        "\n",
        "Step 5: Create a new file named “cifar10_quant_model.h” and add the below lines in the file and save it.\n",
        "\n",
        "`extern const unsigned char g_model[];`\n",
        "\n",
        "`extern const int g_model_len;`\n",
        "\n",
        "Step 6: Delete the “person_detect_model_data.cc” and “person_detect_model_data.h” files. These files are not part of this example hence can be removed."
      ],
      "metadata": {
        "id": "xmS_wFg5SgGt"
      }
    },
    {
      "cell_type": "markdown",
      "source": [
        "<center>\n",
        "<img src=\"https://cdn.iisc.talentsprint.com/DLFA/Experiment_related_data/IoT_img_4.png\" width=350px/>\n",
        "</center>\n",
        "<br><br>"
      ],
      "metadata": {
        "id": "UbpipoSmTp9D"
      }
    },
    {
      "cell_type": "markdown",
      "source": [
        "### Edit make file list for compiling only required files \n",
        "\n",
        "\n",
        "\n",
        "\n"
      ],
      "metadata": {
        "id": "eutwZHJjTtCg"
      }
    },
    {
      "cell_type": "markdown",
      "source": [
        "Step 7: Open CMakeLists.txt under the main folder and add “`cifar10_quant_model.cc`” and delete “`person_detect_model_data.cc`” entry."
      ],
      "metadata": {
        "id": "ayBUcgPQmTC-"
      }
    },
    {
      "cell_type": "markdown",
      "source": [
        "<center>\n",
        "<img src=\"https://cdn.iisc.talentsprint.com/DLFA/Experiment_related_data/IoT_img_5.png\" width=800px/>\n",
        "</center>\n",
        "<br><br>"
      ],
      "metadata": {
        "id": "FCNFipGHmkhl"
      }
    },
    {
      "cell_type": "markdown",
      "source": [
        "### Change the expected output labels\n",
        "\n",
        "Step 8: Open “model_settings.cc” and add the labels for output. This determines the expected output categories.\n",
        "\n"
      ],
      "metadata": {
        "id": "xN6GWfZ9nyzw"
      }
    },
    {
      "cell_type": "markdown",
      "source": [
        "<center>\n",
        "<img src=\"https://cdn.iisc.talentsprint.com/DLFA/Experiment_related_data/IoT_img_6.png\" width=800px/>\n",
        "</center>\n",
        "<br><br>"
      ],
      "metadata": {
        "id": "5N_o4rigoQdw"
      }
    },
    {
      "cell_type": "markdown",
      "source": [
        "### Setting changes\n",
        "\n",
        "Step 9: Open “model_settings.h”. Change the input dimensions as per the cifar10 model input i.e. 32 x 32 in our case. Change the number of output categories from 2 to 10."
      ],
      "metadata": {
        "id": "HFfe6luDpI9T"
      }
    },
    {
      "cell_type": "markdown",
      "source": [
        "<center>\n",
        "<img src=\"https://cdn.iisc.talentsprint.com/DLFA/Experiment_related_data/IoT_img_7.png\" width=800px/>\n",
        "</center>\n",
        "<br><br>"
      ],
      "metadata": {
        "id": "UXWwacUPfGPW"
      }
    },
    {
      "cell_type": "markdown",
      "source": [
        "### Main Function Changes\n",
        "\n",
        "Step 10: Open “main_functions.cc”. Include the new model file \"cifar10_quant_model.h\" in the header and remove \"person_detect_model_data.h\"."
      ],
      "metadata": {
        "id": "Rwcrx_4v0iSl"
      }
    },
    {
      "cell_type": "markdown",
      "source": [
        "<center>\n",
        "<img src=\"https://cdn.iisc.talentsprint.com/DLFA/Experiment_related_data/IoT_image_10.1.png\" width=800px/>\n",
        "</center>\n",
        "<br><br>"
      ],
      "metadata": {
        "id": "MuQuzYw70nFA"
      }
    },
    {
      "cell_type": "markdown",
      "source": [
        "Step 11: Further, remove the depthwise convolution operator as we do not use this in our model. Replace the average pooling operator with max pooling. Finally, add fully connected operator for the dense layer that we have used in our model. Note that if the number of operators change, the MicroMutableOpResolver variable count would change."
      ],
      "metadata": {
        "id": "tEhWT1Ht0s0X"
      }
    },
    {
      "cell_type": "markdown",
      "source": [
        "<center>\n",
        "<img src=\"https://cdn.iisc.talentsprint.com/DLFA/Experiment_related_data/IoT_img_9.png\" width=800px/>\n",
        "</center>\n",
        "<br><br>"
      ],
      "metadata": {
        "id": "MflsVMk9fNg5"
      }
    },
    {
      "cell_type": "markdown",
      "source": [
        "Step 12: Change the model array name from “g_person_detect_model_data” to “g_model”. Then, inside the loop() function, remove the person_score and no_person_score. Pass the entire output array to the post-processing/output handling function “RespondToDetection()”. Since the output array\n",
        "consists of the probability of each category, we need to determine the class based on the highest\n",
        "probability."
      ],
      "metadata": {
        "id": "ehw8sOK_1DIH"
      }
    },
    {
      "cell_type": "markdown",
      "source": [
        "<center>\n",
        "<img src=\"https://cdn.iisc.talentsprint.com/DLFA/Experiment_related_data/IoT_img_10.png\" width=800px/>\n",
        "</center>\n",
        "<br><br>"
      ],
      "metadata": {
        "id": "KGYZLfbXfPn6"
      }
    },
    {
      "cell_type": "markdown",
      "source": [
        "### Output Handling/Post-Processing\n",
        "\n",
        "Step 13: Open the “detection_responder.cc” file. Include the “model_settings.h” in the header since, we need to work with the value “kCategoryCount” which is defined there. Make the changes to the function arguments and add the sorting code to determine the class label."
      ],
      "metadata": {
        "id": "iMZ7eYxH1Q6B"
      }
    },
    {
      "cell_type": "markdown",
      "source": [
        "<center>\n",
        "<img src=\"https://cdn.iisc.talentsprint.com/DLFA/Experiment_related_data/IoT_img_11.png\" width=800px/>\n",
        "</center>\n",
        "<br><br>"
      ],
      "metadata": {
        "id": "pge2dX4ffUzW"
      }
    },
    {
      "cell_type": "markdown",
      "source": [
        "Step 14: Open the “detection_responder.h” file. Edit the function arguments in the declaration."
      ],
      "metadata": {
        "id": "Pt6-63An1vab"
      }
    },
    {
      "cell_type": "markdown",
      "source": [
        "<center>\n",
        "<img src=\"https://cdn.iisc.talentsprint.com/DLFA/Experiment_related_data/IoT_img_12.png\" width=800px/>\n",
        "</center>\n",
        "<br><br>"
      ],
      "metadata": {
        "id": "FzJHh5yufWGx"
      }
    },
    {
      "cell_type": "markdown",
      "source": [
        "### Compiling the files\n",
        "\n",
        "Step 15: Open a terminal under “/tflite-micro-esp-examples/examples/cifar10/” and initialize the\n",
        "environmental variables for ESP IDK to run by running the command “get_idf” (This should have been\n",
        "setup during ESP-IDK installation. You should get the below output or something similar. If not,\n",
        "then environment variables have been corrupted. A reinstall/clean install of ESD IDK usually\n",
        "helps.\n",
        "\n"
      ],
      "metadata": {
        "id": "hQpIhcfz1z_M"
      }
    },
    {
      "cell_type": "markdown",
      "source": [
        "<center>\n",
        "<img src=\"https://cdn.iisc.talentsprint.com/DLFA/Experiment_related_data/IoT_img_13.png\" width=400px/>\n",
        "</center>\n",
        "<br><br>"
      ],
      "metadata": {
        "id": "NTwHz5mkfY73"
      }
    },
    {
      "cell_type": "markdown",
      "source": [
        "Step 16: Now build/compile the files using “idf.py build” command. This may take some while and\n",
        "may throw some warnings which can be ignored if it doesn’t result in errors. You will get the\n",
        "below output, if the build is successful. A build folder is created for compilation. Debugging\n",
        "tip: Sometimes, a persistent error goes off by deleting this build folder before recompilation of\n",
        "code.\n",
        "\n",
        "<center>\n",
        "<img src=\"https://cdn.iisc.talentsprint.com/DLFA/Experiment_related_data/IoT_img_14.png\" width=450px/>\n",
        "</center>\n",
        "<br><br>\n"
      ],
      "metadata": {
        "id": "dRp3K-T11-eB"
      }
    },
    {
      "cell_type": "markdown",
      "source": [
        "If you have the ESP hardware, you may plug it in and run the command “idf.py -p (your PORT name)\n",
        "flash” to flash the hardware. To monitor the output after flashing, you may run “idf.py -p (your\n",
        "PORT name) monitor”.\n",
        "Expectation from this assignment is to successfully compile the code using the build command."
      ],
      "metadata": {
        "id": "OSnrbnnHffHh"
      }
    },
    {
      "cell_type": "markdown",
      "metadata": {
        "id": "VHfHdGCP_n6Y"
      },
      "source": [
        "### Please answer the questions below to complete the experiment:\n",
        "\n",
        "\n"
      ]
    },
    {
      "cell_type": "markdown",
      "source": [
        "TensorFlow Lite is a set of tools that enables on-device machine learning by helping developers run their models on mobile, embedded, and IoT devices. One of the key features is, it is optimized for on-device machine learning, by addressing 5 key constraints: \n",
        "\n",
        "\n",
        "A. **Latency** : There's no round-trip to a server  \n",
        "\n",
        "B. **Privacy** : No personal data leaves the device \n",
        "\n",
        "C. **Connectivity** : Internet connectivity is not required\n",
        "\n",
        "D. **Size** : Reduced model and binary size\n",
        "\n",
        "E. **Power consumption** : Efficient inference and a lack of network connections\n"
      ],
      "metadata": {
        "id": "Q7fitFsxdfU4"
      }
    },
    {
      "cell_type": "code",
      "metadata": {
        "id": "NHDYadgG-RHl",
        "cellView": "form"
      },
      "source": [
        "#@title Q.1.Which of the above statement(s) about TensorFlow Lite is/are True?\n",
        "Answer1 = \"All of the above\" #@param [\"\",\"A and B\",\"B and D\",\"C and D\",\"All of the above\",\"None of the above\"]\n"
      ],
      "execution_count": 14,
      "outputs": []
    },
    {
      "cell_type": "markdown",
      "source": [
        "The following steps are required to deploy and run a TensorFlow model on a microcontroller:\n",
        "\n",
        "A. Generate a small TensorFlow model that can fit your target device and contains supported operations.\n",
        "\n",
        "B. Convert to a TensorFlow Lite model using the TensorFlow Lite converter.\n",
        "\n",
        "C. Convert to a C byte array using standard tools to store it in a read-only program memory on device.\n",
        "\n",
        "D. Run inference on device using the Python library and process the results.\n"
      ],
      "metadata": {
        "id": "8fNBEvP4lHm-"
      }
    },
    {
      "cell_type": "code",
      "metadata": {
        "id": "Qu3sufDD7pu1",
        "cellView": "form"
      },
      "source": [
        "#@title Q.2. Which of the above statement(s) about TensorFlow Lite Micro is/are True?\n",
        "Answer2 = \"A, B, and C\" #@param [\"\",\"A and B\",\"B and D\",\"A, B, and C\",\"None of the above\"]\n"
      ],
      "execution_count": 15,
      "outputs": []
    },
    {
      "cell_type": "code",
      "metadata": {
        "id": "NMzKSbLIgFzQ"
      },
      "source": [
        "#@title How was the experiment? { run: \"auto\", form-width: \"500px\", display-mode: \"form\" }\n",
        "Complexity = \"Good, But Not Challenging for me\" #@param [\"\",\"Too Simple, I am wasting time\", \"Good, But Not Challenging for me\", \"Good and Challenging for me\", \"Was Tough, but I did it\", \"Too Difficult for me\"]\n"
      ],
      "execution_count": 16,
      "outputs": []
    },
    {
      "cell_type": "code",
      "metadata": {
        "id": "DjcH1VWSFI2l"
      },
      "source": [
        "#@title If it was too easy, what more would you have liked to be added? If it was very difficult, what would you have liked to have been removed? { run: \"auto\", display-mode: \"form\" }\n",
        "Additional = \"better q\" #@param {type:\"string\"}\n"
      ],
      "execution_count": 17,
      "outputs": []
    },
    {
      "cell_type": "code",
      "metadata": {
        "id": "4VBk_4VTAxCM"
      },
      "source": [
        "#@title Can you identify the concepts from the lecture which this experiment covered? { run: \"auto\", vertical-output: true, display-mode: \"form\" }\n",
        "Concepts = \"Yes\" #@param [\"\",\"Yes\", \"No\"]\n"
      ],
      "execution_count": 18,
      "outputs": []
    },
    {
      "cell_type": "code",
      "metadata": {
        "id": "XH91cL1JWH7m"
      },
      "source": [
        "#@title  Text and image description/explanation and code comments within the experiment: { run: \"auto\", vertical-output: true, display-mode: \"form\" }\n",
        "Comments = \"Somewhat Useful\" #@param [\"\",\"Very Useful\", \"Somewhat Useful\", \"Not Useful\", \"Didn't use\"]\n"
      ],
      "execution_count": 19,
      "outputs": []
    },
    {
      "cell_type": "code",
      "metadata": {
        "id": "z8xLqj7VWIKW"
      },
      "source": [
        "#@title Mentor Support: { run: \"auto\", vertical-output: true, display-mode: \"form\" }\n",
        "Mentor_support = \"Somewhat Useful\" #@param [\"\",\"Very Useful\", \"Somewhat Useful\", \"Not Useful\", \"Didn't use\"]\n"
      ],
      "execution_count": 20,
      "outputs": []
    },
    {
      "cell_type": "code",
      "metadata": {
        "cellView": "form",
        "id": "FzAZHt1zw-Y-",
        "colab": {
          "base_uri": "https://localhost:8080/"
        },
        "outputId": "a3400b33-a45e-4ca7-e280-a87288310ae3"
      },
      "source": [
        "#@title Run this cell to submit your notebook for grading { vertical-output: true }\n",
        "try:\n",
        "  if submission_id:\n",
        "      return_id = submit_notebook()\n",
        "      if return_id : submission_id = return_id\n",
        "  else:\n",
        "      print(\"Please complete the setup first.\")\n",
        "except NameError:\n",
        "  print (\"Please complete the setup first.\")"
      ],
      "execution_count": 21,
      "outputs": [
        {
          "output_type": "stream",
          "name": "stdout",
          "text": [
            "Your submission is successful.\n",
            "Ref Id: 3501\n",
            "Date of submission:  20 Feb 2022\n",
            "Time of submission:  19:28:06\n",
            "View your submissions: https://dlfa.iisc.talentsprint.com/notebook_submissions\n"
          ]
        }
      ]
    }
  ]
}