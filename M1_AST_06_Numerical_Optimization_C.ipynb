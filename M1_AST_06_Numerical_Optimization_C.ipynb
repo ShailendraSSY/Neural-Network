{
  "nbformat": 4,
  "nbformat_minor": 0,
  "metadata": {
    "colab": {
      "name": "M1_AST_06_Numerical_Optimization_C.ipynb",
      "provenance": [],
      "collapsed_sections": [],
      "include_colab_link": true
    },
    "kernelspec": {
      "name": "python3",
      "display_name": "Python 3"
    },
    "language_info": {
      "name": "python"
    }
  },
  "cells": [
    {
      "cell_type": "markdown",
      "metadata": {
        "id": "view-in-github",
        "colab_type": "text"
      },
      "source": [
        "<a href=\"https://colab.research.google.com/github/ShailendraSSY/Neural-Network/blob/master/M1_AST_06_Numerical_Optimization_C.ipynb\" target=\"_parent\"><img src=\"https://colab.research.google.com/assets/colab-badge.svg\" alt=\"Open In Colab\"/></a>"
      ]
    },
    {
      "cell_type": "markdown",
      "metadata": {
        "id": "p4Nwm4FK3wgU"
      },
      "source": [
        "# Advanced Programme in Deep Learning (Foundations and Applications)\n",
        "## A Program by IISc and TalentSprint\n",
        "### Assignment 6: Numerical Optimization"
      ]
    },
    {
      "cell_type": "markdown",
      "metadata": {
        "id": "dHj34EaN5oa5"
      },
      "source": [
        "## Learning Objectives"
      ]
    },
    {
      "cell_type": "markdown",
      "metadata": {
        "id": "krALfcVa8aHp"
      },
      "source": [
        "At the end of the experiment, you will be able to\n",
        "\n",
        "*   understand Linear Least Squares method\n",
        "\n",
        "*   understand about Constrained Optimization\n",
        "\n",
        "*   understand about Support Vector Machines \n",
        "\n",
        "\n",
        "\n"
      ]
    },
    {
      "cell_type": "markdown",
      "metadata": {
        "id": "UNWmCQEA971F"
      },
      "source": [
        "### Setup Steps:"
      ]
    },
    {
      "cell_type": "code",
      "metadata": {
        "id": "MM0nX5x7971H"
      },
      "source": [
        "#@title Please enter your registration id to start: { run: \"auto\", display-mode: \"form\" }\n",
        "Id = \" 2200023\" #@param {type:\"string\"}"
      ],
      "execution_count": 1,
      "outputs": []
    },
    {
      "cell_type": "code",
      "metadata": {
        "id": "Jv0OwgOI971I"
      },
      "source": [
        "#@title Please enter your password (normally your phone number) to continue: { run: \"auto\", display-mode: \"form\" }\n",
        "password = \"9910549998\" #@param {type:\"string\"}"
      ],
      "execution_count": 2,
      "outputs": []
    },
    {
      "cell_type": "code",
      "metadata": {
        "id": "ujKg5abM971J",
        "cellView": "form",
        "colab": {
          "base_uri": "https://localhost:8080/",
          "height": 34
        },
        "outputId": "83bf846e-0e58-4a14-c414-c363d9134919"
      },
      "source": [
        "#@title Run this cell to complete the setup for this Notebook\n",
        "from IPython import get_ipython\n",
        "\n",
        "ipython = get_ipython()\n",
        "  \n",
        "notebook= \"M1_AST_06_Numerical_Optimization_C\" #name of the notebook\n",
        "\n",
        "def setup():\n",
        "#  ipython.magic(\"sx pip3 install torch\")  \n",
        "    from IPython.display import HTML, display\n",
        "    display(HTML('<script src=\"https://dashboard.talentsprint.com/aiml/record_ip.html?traineeId={0}&recordId={1}\"></script>'.format(getId(),submission_id)))\n",
        "    print(\"Setup completed successfully\")\n",
        "    return\n",
        "\n",
        "def submit_notebook():\n",
        "    ipython.magic(\"notebook -e \"+ notebook + \".ipynb\")\n",
        "    \n",
        "    import requests, json, base64, datetime\n",
        "\n",
        "    url = \"https://dashboard.talentsprint.com/xp/app/save_notebook_attempts\"\n",
        "    if not submission_id:\n",
        "      data = {\"id\" : getId(), \"notebook\" : notebook, \"mobile\" : getPassword()}\n",
        "      r = requests.post(url, data = data)\n",
        "      r = json.loads(r.text)\n",
        "\n",
        "      if r[\"status\"] == \"Success\":\n",
        "          return r[\"record_id\"]\n",
        "      elif \"err\" in r:        \n",
        "        print(r[\"err\"])\n",
        "        return None        \n",
        "      else:\n",
        "        print (\"Something is wrong, the notebook will not be submitted for grading\")\n",
        "        return None\n",
        "    \n",
        "    elif getAnswer1() and getAnswer2() and getComplexity() and getAdditional() and getConcepts() and getComments() and getMentorSupport():\n",
        "      f = open(notebook + \".ipynb\", \"rb\")\n",
        "      file_hash = base64.b64encode(f.read())\n",
        "\n",
        "      data = {\"complexity\" : Complexity, \"additional\" :Additional, \n",
        "              \"concepts\" : Concepts, \"record_id\" : submission_id, \n",
        "              \"answer1\" : Answer1, \"answer2\" : Answer2, \"id\" : Id, \"file_hash\" : file_hash,\n",
        "              \"notebook\" : notebook,\n",
        "              \"feedback_experiments_input\" : Comments,\n",
        "              \"feedback_mentor_support\": Mentor_support}\n",
        "      r = requests.post(url, data = data)\n",
        "      r = json.loads(r.text)\n",
        "      if \"err\" in r:        \n",
        "        print(r[\"err\"])\n",
        "        return None   \n",
        "      else:\n",
        "        print(\"Your submission is successful.\")\n",
        "        print(\"Ref Id:\", submission_id)\n",
        "        print(\"Date of submission: \", r[\"date\"])\n",
        "        print(\"Time of submission: \", r[\"time\"])\n",
        "        print(\"View your submissions: https://dlfa.iisc.talentsprint.com/notebook_submissions\")\n",
        "        #print(\"For any queries/discrepancies, please connect with mentors through the chat icon in LMS dashboard.\")\n",
        "        return submission_id\n",
        "    else: submission_id\n",
        "    \n",
        "\n",
        "def getAdditional():\n",
        "  try:\n",
        "    if not Additional: \n",
        "      raise NameError\n",
        "    else:\n",
        "      return Additional  \n",
        "  except NameError:\n",
        "    print (\"Please answer Additional Question\")\n",
        "    return None\n",
        "\n",
        "def getComplexity():\n",
        "  try:\n",
        "    if not Complexity:\n",
        "      raise NameError\n",
        "    else:\n",
        "      return Complexity\n",
        "  except NameError:\n",
        "    print (\"Please answer Complexity Question\")\n",
        "    return None\n",
        "  \n",
        "def getConcepts():\n",
        "  try:\n",
        "    if not Concepts:\n",
        "      raise NameError\n",
        "    else:\n",
        "      return Concepts\n",
        "  except NameError:\n",
        "    print (\"Please answer Concepts Question\")\n",
        "    return None\n",
        "  \n",
        "  \n",
        "# def getWalkthrough():\n",
        "#   try:\n",
        "#     if not Walkthrough:\n",
        "#       raise NameError\n",
        "#     else:\n",
        "#       return Walkthrough\n",
        "#   except NameError:\n",
        "#     print (\"Please answer Walkthrough Question\")\n",
        "#     return None\n",
        "  \n",
        "def getComments():\n",
        "  try:\n",
        "    if not Comments:\n",
        "      raise NameError\n",
        "    else:\n",
        "      return Comments\n",
        "  except NameError:\n",
        "    print (\"Please answer Comments Question\")\n",
        "    return None\n",
        "  \n",
        "\n",
        "def getMentorSupport():\n",
        "  try:\n",
        "    if not Mentor_support:\n",
        "      raise NameError\n",
        "    else:\n",
        "      return Mentor_support\n",
        "  except NameError:\n",
        "    print (\"Please answer Mentor support Question\")\n",
        "    return None\n",
        "\n",
        "def getAnswer1():\n",
        "  try:\n",
        "    if not Answer1:\n",
        "      raise NameError \n",
        "    else: \n",
        "      return Answer1\n",
        "  except NameError:\n",
        "    print (\"Please answer Question 1\")\n",
        "    return None\n",
        "\n",
        "def getAnswer2():\n",
        "  try:\n",
        "    if not Answer2:\n",
        "      raise NameError \n",
        "    else: \n",
        "      return Answer2\n",
        "  except NameError:\n",
        "    print (\"Please answer Question 2\")\n",
        "    return None\n",
        "  \n",
        "\n",
        "def getId():\n",
        "  try: \n",
        "    return Id if Id else None\n",
        "  except NameError:\n",
        "    return None\n",
        "\n",
        "def getPassword():\n",
        "  try:\n",
        "    return password if password else None\n",
        "  except NameError:\n",
        "    return None\n",
        "\n",
        "submission_id = None\n",
        "### Setup \n",
        "if getPassword() and getId():\n",
        "  submission_id = submit_notebook()\n",
        "  if submission_id:\n",
        "    setup() \n",
        "else:\n",
        "  print (\"Please complete Id and Password cells before running setup\")\n",
        "\n"
      ],
      "execution_count": 3,
      "outputs": [
        {
          "output_type": "display_data",
          "data": {
            "text/html": [
              "<script src=\"https://dashboard.talentsprint.com/aiml/record_ip.html?traineeId= 2200023&recordId=2278\"></script>"
            ],
            "text/plain": [
              "<IPython.core.display.HTML object>"
            ]
          },
          "metadata": {}
        },
        {
          "output_type": "stream",
          "name": "stdout",
          "text": [
            "Setup completed successfully\n"
          ]
        }
      ]
    },
    {
      "cell_type": "markdown",
      "metadata": {
        "id": "EmhI3-ho-A1i"
      },
      "source": [
        "### Import Required Packages"
      ]
    },
    {
      "cell_type": "code",
      "metadata": {
        "id": "WOMG46mc-A1j"
      },
      "source": [
        "from scipy import optimize\n",
        "from scipy.optimize import linprog                                      # Minimize a linear objective function subject to linear equality and inequality constraints\n",
        "import numpy as np                                                      # Numpy library        \n",
        "from scipy.optimize import minimize, fsolve, LinearConstraint           # Minimization of scalar function of one or more variables and Find the roots of a function  \n",
        "from scipy.linalg import solve                                          # Solves the linear equation set a * x = b for the unknown x for square a matrix\n",
        "from autograd import grad                                               # Python package for automatic differentiation\n",
        "import matplotlib.pyplot as plt\n",
        "from matplotlib import pyplot as plt\n",
        "import seaborn as sns\n",
        "sns.set()"
      ],
      "execution_count": 4,
      "outputs": []
    },
    {
      "cell_type": "markdown",
      "metadata": {
        "id": "ZgbAwtf6G6l5"
      },
      "source": [
        "### Importing required packages for SVM"
      ]
    },
    {
      "cell_type": "code",
      "metadata": {
        "scrolled": true,
        "id": "WCBUiz0oG6l6"
      },
      "source": [
        "import pandas as pd                                                       # to read files\n",
        "import seaborn as sns                                                     # library for statistical data visualization\n",
        "from matplotlib.colors import ListedColormap                              # for filling colors in mapping\n",
        "from sklearn.metrics import accuracy_score                                # importing confusion matrix, accuracy score\n",
        "from sklearn.svm import SVC                                               # importing Support vector classifier, Support Vector Regressor, LinearSVC  \n",
        "from sklearn.preprocessing import StandardScaler, LabelEncoder            # preprocessing\n",
        "from sklearn.model_selection import train_test_split                      # for splitting the dataset\n",
        "from mlxtend.plotting import plot_decision_regions                        # to plot the decision boundaries and hyperplane\n",
        "from sklearn.pipeline import make_pipeline                                # to import pipeline\n",
        "from sklearn import datasets\n",
        "from cvxopt import matrix as cvxopt_matrix\n",
        "from cvxopt import solvers as cvxopt_solvers"
      ],
      "execution_count": 5,
      "outputs": []
    },
    {
      "cell_type": "markdown",
      "metadata": {
        "id": "uH2gCoHINz8P"
      },
      "source": [
        "## Linear Least Squares "
      ]
    },
    {
      "cell_type": "markdown",
      "metadata": {
        "id": "buNhj9c0N2wB"
      },
      "source": [
        "The least squares method is a statistical strategy for determining the **best fit** for a group of data points by reducing the total of the points' offsets or residuals from the plotted curve. Linear least square method is also a technique which is commonly used in **regression analysis** that falls in the category of **Supervised Learning**. Further, least squares regression is applied to predict the behaviour of dependent variables.\n",
        "\n",
        "Here, we try to find the best fit line which can represent the relationship between two variables where one is **dependent** and another is **independent** variable.\n",
        "\n",
        "**Line of best fit**: The line of best fit is a line that runs through a scatter plot of data points and best reflects the relationship between them. The below graph represents the data points and the line of best fit for them.\n",
        "\n",
        "\n",
        "![image.png](data:image/png;base64,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)"
      ]
    },
    {
      "cell_type": "markdown",
      "metadata": {
        "id": "5gQO-j4pnaYx"
      },
      "source": [
        "Steps to compute line of best fit:"
      ]
    },
    {
      "cell_type": "markdown",
      "metadata": {
        "id": "Cxx8xTgW_97k"
      },
      "source": [
        "1. Calculate the slope 'm' of the line using the below formula:\n",
        "\n",
        "  $m = \\frac{n\\sum xy - (\\sum x)(\\sum y)}{n\\sum x^2 - (\\sum x)^2}$\n",
        "\n",
        "  m - slope of the line\n",
        "\n",
        "  n - total number of data points\n",
        "\n",
        "  x - independent variable\n",
        "\n",
        "  y - dependent variable\n",
        "\n",
        "2. Compute the y intercept using the below expression: \n",
        "\n",
        "    c = y - mx\n",
        "\n",
        "3. Substitute all the values in the final equation and plot the line.\n",
        "\n",
        "\n"
      ]
    },
    {
      "cell_type": "markdown",
      "metadata": {
        "id": "ecrcyzhvuRu2"
      },
      "source": [
        "Load the data"
      ]
    },
    {
      "cell_type": "code",
      "metadata": {
        "id": "1nvScYEuFhhG",
        "colab": {
          "base_uri": "https://localhost:8080/"
        },
        "outputId": "731b8ed3-29e5-4164-8c97-50f59a17eb3c"
      },
      "source": [
        "!wget https://cdn.iisc.talentsprint.com/DLFA//Experiment_related_data/Iris.csv\n",
        "data_1 = pd.read_csv('Iris.csv')\n",
        "print(data_1.shape)\n",
        "print(data_1.head())"
      ],
      "execution_count": 6,
      "outputs": [
        {
          "output_type": "stream",
          "name": "stdout",
          "text": [
            "--2021-10-03 14:26:03--  https://cdn.iisc.talentsprint.com/DLFA//Experiment_related_data/Iris.csv\n",
            "Resolving cdn.iisc.talentsprint.com (cdn.iisc.talentsprint.com)... 172.105.52.210\n",
            "Connecting to cdn.iisc.talentsprint.com (cdn.iisc.talentsprint.com)|172.105.52.210|:443... connected.\n",
            "HTTP request sent, awaiting response... 200 OK\n",
            "Length: 5107 (5.0K) [application/octet-stream]\n",
            "Saving to: ‘Iris.csv’\n",
            "\n",
            "Iris.csv            100%[===================>]   4.99K  --.-KB/s    in 0s      \n",
            "\n",
            "2021-10-03 14:26:04 (312 MB/s) - ‘Iris.csv’ saved [5107/5107]\n",
            "\n",
            "(150, 6)\n",
            "   Id  SepalLengthCm  SepalWidthCm  PetalLengthCm  PetalWidthCm      Species\n",
            "0   1            5.1           3.5            1.4           0.2  Iris-setosa\n",
            "1   2            4.9           3.0            1.4           0.2  Iris-setosa\n",
            "2   3            4.7           3.2            1.3           0.2  Iris-setosa\n",
            "3   4            4.6           3.1            1.5           0.2  Iris-setosa\n",
            "4   5            5.0           3.6            1.4           0.2  Iris-setosa\n"
          ]
        }
      ]
    },
    {
      "cell_type": "code",
      "metadata": {
        "id": "6qh0ewbsFseA"
      },
      "source": [
        "# Declaring X(independent variable) and Y(dependent variable) \n",
        "X = data_1['PetalLengthCm'].values\n",
        "Y = data_1['PetalWidthCm'].values"
      ],
      "execution_count": 7,
      "outputs": []
    },
    {
      "cell_type": "markdown",
      "metadata": {
        "id": "H6YoQzb6aiHJ"
      },
      "source": [
        "Calculating the coefficients"
      ]
    },
    {
      "cell_type": "code",
      "metadata": {
        "id": "5q-z-GiPF7vJ",
        "colab": {
          "base_uri": "https://localhost:8080/"
        },
        "outputId": "cd237319-733c-4e17-9a31-e8c194a608fe"
      },
      "source": [
        "# Mean X and Y as per the formula \n",
        "mean_x = np.mean(X)\n",
        "mean_y = np.mean(Y)\n",
        "# Total number of values\n",
        "n = len(X)\n",
        "mean_x"
      ],
      "execution_count": 8,
      "outputs": [
        {
          "output_type": "execute_result",
          "data": {
            "text/plain": [
              "3.758666666666666"
            ]
          },
          "metadata": {},
          "execution_count": 8
        }
      ]
    },
    {
      "cell_type": "code",
      "metadata": {
        "id": "7luhHC11GWyp",
        "colab": {
          "base_uri": "https://localhost:8080/"
        },
        "outputId": "d4dcf781-0045-494b-a55a-10fdd0da5afa"
      },
      "source": [
        "# Calculate 'm' and 'c' using the formula\n",
        "numerator = 0\n",
        "denominator = 0\n",
        "for i in range(n):\n",
        "  numerator += (X[i]-mean_x)*(Y[i]-mean_y)\n",
        "  denominator += (X[i]-mean_x)**2\n",
        "m = numerator/denominator\n",
        "c = mean_y - (m*mean_x)\n",
        "print(\"Coefficients are:\",m,c)"
      ],
      "execution_count": 9,
      "outputs": [
        {
          "output_type": "stream",
          "name": "stdout",
          "text": [
            "Coefficients are: 0.4164191322854012 -0.3665140452167275\n"
          ]
        }
      ]
    },
    {
      "cell_type": "markdown",
      "metadata": {
        "id": "ducbtU30b1Ll"
      },
      "source": [
        "Plotting the values and regression line"
      ]
    },
    {
      "cell_type": "code",
      "metadata": {
        "id": "tjcr53fSHWab"
      },
      "source": [
        "max_x = np.max(X)\n",
        "min_x = np.min(X)\n",
        "# Calculating line values x and y\n",
        "x = np.linspace(min_x,max_x,100)\n",
        "y = c + m*x\n"
      ],
      "execution_count": 10,
      "outputs": []
    },
    {
      "cell_type": "code",
      "metadata": {
        "id": "Yw9DtYA8H63K",
        "colab": {
          "base_uri": "https://localhost:8080/",
          "height": 285
        },
        "outputId": "451d9e47-a7a4-408c-df41-51b4db660172"
      },
      "source": [
        "# Plotting the best fit line\n",
        "plt.plot(x,y,color = '#58b970',label = 'Best Fit Line')\n",
        "# Plotting Scatter points\n",
        "plt.scatter(X,Y,color = '#ef5423', label = 'Scatter Plot')\n",
        "plt.xlabel('Petal Length in Cm')\n",
        "plt.ylabel('Petal Width in Cm')\n",
        "plt.legend()\n",
        "plt.show()"
      ],
      "execution_count": 11,
      "outputs": [
        {
          "output_type": "display_data",
          "data": {
            "image/png": "[encoded data removed]",
            "text/plain": [
              "<Figure size 432x288 with 1 Axes>"
            ]
          },
          "metadata": {}
        }
      ]
    },
    {
      "cell_type": "markdown",
      "metadata": {
        "id": "5fn0jSdNpSW-"
      },
      "source": [
        "**RMSE**: The standard deviation of the residuals is known as **Root Mean Square Error (RMSE)** (prediction errors). Further, the residuals are an estimate of how distant the data points are from the regression line. In other words, it indicates how closely the data is clustered around the line of best fit.\n",
        "\n",
        "**Note**: Lower RMSE value indicates goodness of a model."
      ]
    },
    {
      "cell_type": "code",
      "metadata": {
        "id": "wNEzQnlqIkJv",
        "colab": {
          "base_uri": "https://localhost:8080/"
        },
        "outputId": "3e87e2de-0424-47d5-8d2f-6f1f13504419"
      },
      "source": [
        "# Caculating Root Mean Square Error\n",
        "rmse = 0\n",
        "for i in range(n):\n",
        "  y_pred = c + m * X[i]\n",
        "  rmse += (Y[i] - y_pred)**2\n",
        "rmse = np.sqrt(rmse/n)\n",
        "print(\"RMSE is :\",rmse)"
      ],
      "execution_count": 12,
      "outputs": [
        {
          "output_type": "stream",
          "name": "stdout",
          "text": [
            "RMSE is : 0.20564519522586527\n"
          ]
        }
      ]
    },
    {
      "cell_type": "markdown",
      "metadata": {
        "id": "HgI_0qxdk7CJ"
      },
      "source": [
        "## Introduction to Optimization"
      ]
    },
    {
      "cell_type": "markdown",
      "metadata": {
        "id": "GJY8ndIHk-yD"
      },
      "source": [
        "Optimization is an important tool in decision science and the analysis of physical systems. To make use of this tool, first identify some objective, a quantitative measure of the performance of the system under study. This objective could be profit, time, potential energy, or any quantity or combination of quantities that can be represented by a single number. The objective depends on certain characteristics of the system, called variables or unknowns. Here, the goal is to find the values of the variables that optimize the objective function.\n",
        "\n",
        "The process of identifying objective, variables, and constraints for a given problem is known as *modeling*. This step is mostly the first and the most important step in the optimization process. After an optimization algorithm has been applied to the model, we must be able to recognize whether it has succeeded in its task of finding a solution. \n",
        "\n"
      ]
    },
    {
      "cell_type": "markdown",
      "metadata": {
        "id": "uGu-_eUqmiEW"
      },
      "source": [
        "#### Constrained optimization"
      ]
    },
    {
      "cell_type": "markdown",
      "metadata": {
        "id": "ozqgicu2mlZF"
      },
      "source": [
        "The general **constrained optimization** task is to maximize or minimize a function $f(x)$ by varying $x$, given certain constraints on $x$. \n",
        "\n",
        "Eg. Find minimum of $f(x_1,x_2,x_3) = x_1^2 + x_2^2 + x_3^2,  where \\lVert x_2\\rVert \\geq1$\n",
        "\n",
        "Eg. Designing the fastest vehicle with a constraint on fuel efficiency\n",
        "\n",
        "An optimization problem comprises of three basic components:\n",
        "\n",
        "- $x$: is the vector of variables, also called unknowns or parameters;\n",
        "- $f$: is the objective function, a (scalar) function of x that we want to maximize or\n",
        "minimize;\n",
        "- $c_i$: are constraint functions, which are scalar functions of x that define certain equations\n",
        "and inequalities that the unknown vector x must satisfy.\n",
        "\n",
        "Using this notation, the optimization problem can be written as follows:\n",
        "\n",
        "$\\min\\limits_{x \\in R^{N}}$ $f(x)$  \n",
        "\n",
        "$\\textrm{subject to}$ $\\hspace{1cm} c_i(x) = 0, \\hspace{0.25cm} i \\in \\xi$\n",
        "\n",
        "$\\hspace{2.75cm}$ $c_i(x)\\geq0, \\hspace{0.25cm} i \\in I$\n",
        "\n",
        "Here $I$ and $\\xi$ are sets of indices for equality and inequality constraints.\n",
        "\n"
      ]
    },
    {
      "cell_type": "markdown",
      "metadata": {
        "id": "Elxef7nTL7pI"
      },
      "source": [
        "#### Equality and Inequality Constraints"
      ]
    },
    {
      "cell_type": "markdown",
      "metadata": {
        "id": "7wdMUK1LMHAO"
      },
      "source": [
        "Consider the following general constrained optimization problem:\n",
        "\n",
        "$\\max\\limits_{x_i \\in R}$ $f(x_1,. . . . , x_n)$ \n",
        "\n",
        "subject to: \n",
        "\n",
        "$g_1(x_1, . . . , x_n) \\leq b_1, . . . , g_k(x_1, . . . , x_n) \\leq b_k$,\n",
        "\n",
        "$h_1(x_1, . . . , x_n) = c_1, . . . , h_m(x_1, . . . , x_n) = c_m$\n",
        "\n",
        "The function $f(x)$ is called the objective function, $g(x)$ is called an *inequality constraint*, and $h(x)$ is called an *equality constraint*. In the above problem, there are $k$ *inequality constraints* and $m$ *equality constraints*. In the following, we will always assume that $f, g$, and h are $C^{1}$ functions, i.e. that they are differentiable and their derivatives are continuous.\n",
        "\n",
        "Notice that this problem differs from the regular unconstrained optimization problem instead of finding the maximum of $f(x)$ we are finding the maximum of $f(x)$ only over the points which satisfy the constraints"
      ]
    },
    {
      "cell_type": "markdown",
      "metadata": {
        "id": "4u4IUikm8tYx"
      },
      "source": [
        "\n",
        "### Example: Stockbroker Income"
      ]
    },
    {
      "cell_type": "markdown",
      "metadata": {
        "id": "GnK3SV36gWjS"
      },
      "source": [
        "Let’s try a demonstration on how to use `minimize()`. Imagine you’re a stockbroker who’s interested in maximizing the total income from the sale of a fixed number of your stocks. You have identified a particular set of buyers, and for each buyer, you know the price they’ll pay and how much cash they have on hand.\n",
        "\n",
        "There is one constraint on the problem, which is that the sum of the total shares purchased by the buyers does not exceed the number of shares you have on hand. There are also bounds on each of the solution variables because each buyer has an upper bound of cash available, and a lower bound of zero. Negative solution x-values mean that you’d be paying the buyers!"
      ]
    },
    {
      "cell_type": "markdown",
      "metadata": {
        "id": "BvyoazO52IWj"
      },
      "source": [
        "Steps we will follow to solve the problem:\n",
        "\n",
        "1. Initialize the variables\n",
        "\n",
        "2. Create arrays for storing price, money available with the buyers, and shares per buyer.\n",
        "\n",
        "3. Setting the constraints\n",
        "\n",
        "4. Setting the bounds\n",
        "\n",
        "5. Declaring the 'objective function'.\n",
        "\n",
        "6. Applying constrained optimization using minimize() method from scipy."
      ]
    },
    {
      "cell_type": "markdown",
      "metadata": {
        "id": "NZui-wK_wfKS"
      },
      "source": [
        "Solving Optimization Problem"
      ]
    },
    {
      "cell_type": "code",
      "metadata": {
        "id": "seR9SIemgWjU"
      },
      "source": [
        "# set variables to determine the number of buyers in the market and the number of shares you want to sell\n",
        "n_buyers = 10\n",
        "\n",
        "n_shares = 15"
      ],
      "execution_count": 13,
      "outputs": []
    },
    {
      "cell_type": "markdown",
      "metadata": {
        "id": "yH6bPIOZgWjU"
      },
      "source": [
        "Next, create arrays to store the price that each buyer pays for the shares, the maximum amount they can afford to spend, and the maximum number of shares each buyer can afford, given the first two arrays."
      ]
    },
    {
      "cell_type": "code",
      "metadata": {
        "id": "rSJyHMJegWjV",
        "colab": {
          "base_uri": "https://localhost:8080/"
        },
        "outputId": "3ba9133b-75d0-4d42-9920-1e75bbedeb3a"
      },
      "source": [
        "np.random.seed(10)\n",
        "\n",
        "# Generating the array of prices the buyers will pay\n",
        "# np.random.random() creates an array of random numbers\n",
        "# on the half-open interval [0,1)\n",
        "prices = 100*np.random.random(n_buyers)\n",
        "\n",
        "# generate an array of integers on the half-open interval from [1, 4), \n",
        "# again with the size of the number of buyers\n",
        "money_available = 100*np.random.randint(1, 4, n_buyers)\n",
        "\n",
        "print(\"Price of the shares 1-{} : {}\".format(n_shares, prices))\n",
        "print(\"Money available with each buyer (1-{}): {}\".format(n_buyers, money_available))"
      ],
      "execution_count": 14,
      "outputs": [
        {
          "output_type": "stream",
          "name": "stdout",
          "text": [
            "Price of the shares 1-15 : [77.13206433  2.07519494 63.36482349 74.88038825 49.85070123 22.47966455\n",
            " 19.80628648 76.05307122 16.91108366  8.83398142]\n",
            "Money available with each buyer (1-10): [100 100 100 300 100 300 300 200 100 100]\n"
          ]
        }
      ]
    },
    {
      "cell_type": "markdown",
      "metadata": {
        "id": "2CNdqXEkgWjV"
      },
      "source": [
        "Now, you need to compute the maximum number of shares each buyer can afford:"
      ]
    },
    {
      "cell_type": "code",
      "metadata": {
        "id": "p0LcA8jegWjV",
        "colab": {
          "base_uri": "https://localhost:8080/"
        },
        "outputId": "2650b632-ed6b-4c36-8511-d409d44f4150"
      },
      "source": [
        "# take the ratio of the money_available with prices to determine the maximum number of shares each buyer can purchase\n",
        "n_shares_per_buyer = money_available / prices\n",
        "\n",
        "print(\"No of shares per buyer:\\n\",n_shares_per_buyer)"
      ],
      "execution_count": 15,
      "outputs": [
        {
          "output_type": "stream",
          "name": "stdout",
          "text": [
            "No of shares per buyer:\n",
            " [ 1.29647768 48.18824404  1.57816269  4.00638948  2.00598984 13.34539487\n",
            " 15.14670609  2.62974258  5.91328161 11.3199242 ]\n"
          ]
        }
      ]
    },
    {
      "cell_type": "markdown",
      "metadata": {
        "id": "BMIn-cn4gWjW"
      },
      "source": [
        "Now, you need to create the constraints and bounds for the solver.\n",
        "\n",
        " Remember that LinearConstraint takes the dot product of the input array with the solution values and compares it to the lower and upper bound. You can use this to set up the constraint on n_shares:"
      ]
    },
    {
      "cell_type": "code",
      "metadata": {
        "id": "HvbvwourgWjW"
      },
      "source": [
        "# create an array of ones with the length `n_buyers` as `LinearConstraint` takes the first argument as matrix\n",
        "# lb and ub are equal as it represents equality constraints \n",
        "# For example, a machine component may be required to move precisely by Δ to perform the desired operation, \n",
        "# so we must treat this as an equality constraint. \n",
        "constraint = LinearConstraint(np.ones(n_buyers), lb = n_shares, ub = n_shares)"
      ],
      "execution_count": 16,
      "outputs": []
    },
    {
      "cell_type": "markdown",
      "metadata": {
        "id": "YCVXLHOJgWjW"
      },
      "source": [
        "Since `LinearConstraint` takes the dot product of the solution vector with this argument, it’ll result in the sum of the purchased shares.\n",
        "\n",
        "This result is then constrained to lie between the other two arguments:\n",
        "\n",
        "1. The lower bound lb\n",
        "2. The upper bound ub\n",
        "\n",
        "Next, create the bounds for the solution variable. The bounds limit the number of shares purchased to be 0 on the lower side and `n_shares_per_buyer` on the upper side. The format that `minimize()` expects for the bounds is a sequence of tuples of lower and upper bounds:"
      ]
    },
    {
      "cell_type": "code",
      "metadata": {
        "id": "9jVR7RERgWjW",
        "colab": {
          "base_uri": "https://localhost:8080/"
        },
        "outputId": "2ddfc5a0-c90a-4456-ab4f-36c0d8e2ef45"
      },
      "source": [
        "bounds = [(0, n) for n in n_shares_per_buyer]\n",
        "bounds"
      ],
      "execution_count": 17,
      "outputs": [
        {
          "output_type": "execute_result",
          "data": {
            "text/plain": [
              "[(0, 1.296477682439221),\n",
              " (0, 48.18824403823818),\n",
              " (0, 1.5781626853523065),\n",
              " (0, 4.006389483224008),\n",
              " (0, 2.0059898362934296),\n",
              " (0, 13.3453948697305),\n",
              " (0, 15.146706090719757),\n",
              " (0, 2.629742583593113),\n",
              " (0, 5.913281610609325),\n",
              " (0, 11.319924196695919)]"
            ]
          },
          "metadata": {},
          "execution_count": 17
        }
      ]
    },
    {
      "cell_type": "code",
      "metadata": {
        "id": "OXb3wCpBgWjX"
      },
      "source": [
        "# Here the objective function returns negative of dot product of 'x' declared as 'x0' below \n",
        "# and 'prices' which indicates that we are minimizing the value\n",
        "def objective_function(x, prices):\n",
        "    return -x.dot(prices)"
      ],
      "execution_count": 18,
      "outputs": []
    },
    {
      "cell_type": "markdown",
      "metadata": {
        "id": "WhUo-6KKgWjX"
      },
      "source": [
        "In this code, you define `objective_function()` to take two arguments. Then you take the dot product of x with prices and return the negative of that value. Remember that you have to return the negative because you’re trying to make that number as small as possible, or as close to negative infinity as possible. Finally, you can call `minimize()`:"
      ]
    },
    {
      "cell_type": "code",
      "metadata": {
        "id": "eAbLKfbqgWjY"
      },
      "source": [
        "res = minimize(\n",
        "    objective_function,\n",
        "    x0 = 10 * np.random.random(n_buyers),\n",
        "    args = (prices),\n",
        "    constraints=constraint,\n",
        "    bounds=bounds,\n",
        ")"
      ],
      "execution_count": 19,
      "outputs": []
    },
    {
      "cell_type": "markdown",
      "metadata": {
        "id": "ZNIoWoXFgWjY"
      },
      "source": [
        "In this code, res is an instance of OptimizeResult, just like with `minimize_scalar()`. As you’ll see, there are many of the same fields, even though the problem is quite different. In the call to `minimize()`, you pass five arguments:\n",
        "\n",
        "1. objective_function\n",
        "2. $x_0$\n",
        "3. args\n",
        "4. constraints\n",
        "5. bounds\n",
        "\n",
        "Once the solver runs, you should inspect `res` by printing it:"
      ]
    },
    {
      "cell_type": "code",
      "metadata": {
        "id": "OeOvD_6pgWjY",
        "colab": {
          "base_uri": "https://localhost:8080/"
        },
        "outputId": "99115735-88db-4419-cb6d-6d3f1dc4797a"
      },
      "source": [
        "res"
      ],
      "execution_count": 20,
      "outputs": [
        {
          "output_type": "execute_result",
          "data": {
            "text/plain": [
              "     fun: -878.3020157082726\n",
              "     jac: array([-77.13206482,  -2.07519531, -63.36482239, -74.88038635,\n",
              "       -49.85070038, -22.47966766, -19.80628967, -76.05307007,\n",
              "       -16.91108704,  -8.83398438])\n",
              " message: 'Optimization terminated successfully.'\n",
              "    nfev: 48\n",
              "     nit: 4\n",
              "    njev: 4\n",
              "  status: 0\n",
              " success: True\n",
              "       x: array([1.29647768, 0.        , 1.57816269, 4.00638948, 2.00598984,\n",
              "       3.48323773, 0.        , 2.62974258, 0.        , 0.        ])"
            ]
          },
          "metadata": {},
          "execution_count": 20
        }
      ]
    },
    {
      "cell_type": "markdown",
      "metadata": {
        "id": "zGmdjppmgWjZ"
      },
      "source": [
        "You should also check and make sure that the constraints and bounds that you set are satisfied. You can do this with the following code:"
      ]
    },
    {
      "cell_type": "code",
      "metadata": {
        "id": "UrNRqCdJgWjZ",
        "colab": {
          "base_uri": "https://localhost:8080/"
        },
        "outputId": "085f60e4-d42d-466a-d786-922c9a09f610"
      },
      "source": [
        "print(\"The total number of shares is:\", sum(res.x))\n",
        "print(\"Leftover money for each buyer:\", money_available - res.x * prices)\n",
        "print(\"Money Exhausted:\\n\",res.x * prices)"
      ],
      "execution_count": 21,
      "outputs": [
        {
          "output_type": "stream",
          "name": "stdout",
          "text": [
            "The total number of shares is: 14.999999999977872\n",
            "Leftover money for each buyer: [1.42108547e-14 1.00000000e+02 0.00000000e+00 0.00000000e+00\n",
            " 0.00000000e+00 2.21697984e+02 3.00000000e+02 0.00000000e+00\n",
            " 1.00000000e+02 1.00000000e+02]\n",
            "Money Exhausted:\n",
            " [100.           0.         100.         300.         100.\n",
            "  78.30201571   0.         200.           0.           0.        ]\n"
          ]
        }
      ]
    },
    {
      "cell_type": "markdown",
      "metadata": {
        "id": "MoBCr7X7S0Jd"
      },
      "source": [
        "## Support Vector Machine"
      ]
    },
    {
      "cell_type": "markdown",
      "metadata": {
        "id": "vVx8dO706ps4"
      },
      "source": [
        "**Support vector machines** are a set of supervised learning methods used for classification, regression, and outliers detection. \n",
        "\n",
        "A simple linear SVM classifier works by making a straight line between two classes. That means all of the data points on one side of the line will represent a category and the data points on the other side of the line will be put into a different category. This means there can be an infinite number of lines to choose from.\n",
        "\n",
        "**Hyperplanes** are decision boundaries that help classify the data points. Data points falling on either side of the hyperplane can be attributed to different classes.\n",
        " * The hyperplane with maximum margin is called the optimal hyperplane.\n",
        "\n",
        "**Support vectors** are data points that are closer to the hyperplane and influence the position and orientation of the hyperplane. \n",
        "\n",
        "**Margin** is the width that the boundary could be increased by before hitting a data point.\n",
        "\n",
        "![wget](https://cdn.talentsprint.com/aiml/aiml_2020_b14_hyd/experiment_details_backup/linear_data.png)\n",
        "\n",
        "\n",
        "\n",
        "\n"
      ]
    },
    {
      "cell_type": "markdown",
      "metadata": {
        "id": "z0DXXBDCQTng"
      },
      "source": [
        "#### Implementing the SVM algorithm"
      ]
    },
    {
      "cell_type": "markdown",
      "metadata": {
        "id": "2Okaxfq9-P8q"
      },
      "source": [
        "Linearly separable, binary classification:"
      ]
    },
    {
      "cell_type": "markdown",
      "metadata": {
        "id": "HjIPiwnC-gW6"
      },
      "source": [
        "Using the notation and steps provided by [Tristan Fletcher](https://static1.squarespace.com/static/58851af9ebbd1a30e98fb283/t/58902fbae4fcb5398aeb7505/1485844411772/SVM+Explained.pdf) the general steps to solve the SVM problem are the following:\n",
        "\n",
        "1. Create P where $H_{i,j}= y^{(i)}y^{(j)}<x^{(i)}x^{(j)}>$\n",
        "\n",
        "2. Calculate $w=\\sum_{i}^{m}y^{(i)} \\alpha_{i}x^{(i)}$\n",
        "\n",
        "3. Determine the set of support vectors S by finding the indices such that $\\alpha_{i}>0$\n",
        "\n",
        "4. Calculate the intercept term using $b=y^{(s)}−\\sum_{m ∈ S} \\alpha_{m}y^{(m)}<x^{(m)}x^{(s)}>$\n",
        "\n",
        "5. For each new point $x'$ classify according to $y′=sign(w^{T}x′+b)$"
      ]
    },
    {
      "cell_type": "markdown",
      "metadata": {
        "id": "QT_tX8aL_eLJ"
      },
      "source": [
        "#### Re-writing the problem in an appropriate format"
      ]
    },
    {
      "cell_type": "markdown",
      "metadata": {
        "id": "bJsy2ebb_gpv"
      },
      "source": [
        "Since we will solve this optimization problem using the [CVXOPT](https://cvxopt.org/userguide/coneprog.html#quadratic-programming) library in python we will need to match the solver's API which, according to the documentation is of the form:\n",
        "\n",
        "$min \\frac{1}{2}x^{T}Px+q^{T}x$\n",
        "\n",
        "$s.t.  G_{x}\\leq h$\n",
        " \n",
        "$Ax=b$\n",
        "\n",
        "With API\n",
        "\n",
        "    cvxopt.solvers.qp(P, q[, G, h[, A, b[, solver[, initvals]]]])\n",
        "\n",
        "Recall that the dual problem is expressed as:\n",
        "\n",
        "$max \\sum_{i}^{m} \\alpha_{i}−\\frac{1}{2}\\sum_{i,j}^{m} y^{(i)}y^{(j)} \\alpha_{i} \\alpha_{j}<x^{(i)}x^{(j)}>$\n",
        "\n",
        "Let H be a matrix such that $H_{i,j}= y^{(i)}y^{(j)}<x^{(i)}x^{(j)}>$, then the optimization becomes:\n",
        "\n",
        "$max \\sum_{i}^{m} \\alpha_{i}−\\frac{1}{2} \\alpha^{T} H \\alpha$\n",
        "\n",
        "$s.t. \\alpha_{i}\\geq0$ \n",
        "\n",
        "$\\sum_{i}^{m}\\alpha_{i} y^{(i)}=0$\n",
        "\n",
        "We convert the sums into vector form and multiply both the objective and the constraint by −1 which turns this into a minimization problem and reverses the inequality\n",
        "\n",
        "$min \\frac{1}{2}\\alpha^{T}H\\alpha - 1^{T}\\alpha$\n",
        "\n",
        "$s.t. - \\alpha_{i}\\leq0$\n",
        "\n",
        "$s.t. y^{T}\\alpha = 0$\n",
        "\n",
        "We are now ready to convert our numpy arrays into the cvxopt format, using the same notation as in the documentation this gives\n",
        "\n",
        "P:  $H$ a matrix of size $m×m$\n",
        "\n",
        "q: $\\vec{-1}$  a vector of size $m×1$\n",
        "\n",
        "G: $−diag[1]$ a diagonal matrix of -1s of size $m×m$\n",
        "\n",
        "h: $\\vec{0}$  a vector of zeros of size $m×1$\n",
        "\n",
        "A: $y$ the label vector of size $m×1$\n",
        "\n",
        "b: $0$ a scalar\n",
        "\n",
        "\n",
        "\n",
        "\n",
        "\n",
        "\n",
        "\n"
      ]
    },
    {
      "cell_type": "markdown",
      "metadata": {
        "id": "lHWMp4tG_2MY"
      },
      "source": [
        "Note that in the simple example of $m=2$ the matrix $G$ and vector h which define the constraint are\n",
        "\n",
        "$$G = \\begin{bmatrix}\n",
        "-1 & 0 \\\\\n",
        "0 & 1 \\\\\n",
        "\\end{bmatrix} and $$ $$h = \\begin{bmatrix}\n",
        "-1 & 0 \\\\\n",
        "0 & 1 \\\\\n",
        "\\end{bmatrix}$$"
      ]
    },
    {
      "cell_type": "markdown",
      "metadata": {
        "id": "A0Wk_0WYITIK"
      },
      "source": [
        "#### Computing the matrix H in vectorized form"
      ]
    },
    {
      "cell_type": "markdown",
      "metadata": {
        "id": "KugagYs9IDLy"
      },
      "source": [
        "\n",
        "Consider the simple example with 2 input samples $(\\left\\{x^{(1)}, x^{(2)}\\right\\} \\in \\mathbb{R}^{2})$ which are two dimensional vectors. i.e. $\n",
        "x^{(1)}=\\left(x_{1}^{(1)}, x_{2}^{(1)}\\right)^{T}$\n",
        "\n",
        "$$X = \\begin{bmatrix}\n",
        "x^{(1)}_{1} & x^{(1)}_{2} \\\\\n",
        "x^{(2)}_{1} & x^{(2)}_{2} \\\\\n",
        "\\end{bmatrix}, y = \\begin{bmatrix}\n",
        "y^{(1)}\\\\\n",
        "y^{(2)}\\\\\n",
        "\\end{bmatrix}$$ \n",
        "\n",
        "We now proceed to creating a new matrix $X$ where each input sample $x$ is multiplied by the coresponding output label $y$.\n",
        "This can be done easily in Numpy using vectorization and padding.\n",
        "\n",
        "$$X' = \\begin{bmatrix}\n",
        "x^{(1)}_{1}y^{(1)} & x^{(1)}_{2}y^{(1)} \\\\\n",
        "x^{(2)}_{1}y^{(2)} & x^{(2)}_{2}y^{(2)} \\\\\n",
        "\\end{bmatrix}$$\n",
        "\n",
        "Finally we take the **matrix multiplication** of $X′$ and its transpose giving $H=X'X'T$\n",
        "\n",
        "\n",
        "$$H = X'@X'^{T} = \\begin{bmatrix}\n",
        "x^{(1)}_{1}y^{(1)} & x^{(1)}_{2}y^{(1)} \\\\\n",
        "x^{(2)}_{1}y^{(2)} & x^{(2)}_{2}y^{(2)} \\\\\n",
        "\\end{bmatrix} \n",
        "\\begin{bmatrix}\n",
        "x^{(1)}_{1}y^{(1)} & x^{(2)}_{1}y^{(2)} \\\\\n",
        "x^{(1)}_{2}y^{(1)} & x^{(2)}_{2}y^{(2)} \\\\\n",
        "\\end{bmatrix}$$\n",
        "\n",
        "\n",
        "$$\n",
        "H = \\begin{bmatrix}\n",
        "x_{1}^{(1)} x_{1}^{(1)} y^{(1)} y^{(1)}+x_{2}^{(1)} x_{2}^{(1)} y^{(1)} y^{(1)} & x_{1}^{(1)} x_{1}^{(2)} y^{(1)} y^{(2)}+x_{2}^{(1)} x_{2}^{(2)} y^{(1)} y^{(2)} \\\\ \n",
        "x_{1}^{(2)} x_{1}^{(1)} y^{(2)} y^{(1)}+x_{2}^{(2)} x_{2}^{(1)} y^{(2)} y^{(1)} & x_{1}^{(2)} x_{1}^{(2)} y^{(2)} y^{(2)}+x_{2}^{(2)} x_{2}^{(2)} y^{(2)} y^{(2)}\n",
        "\\end{bmatrix}\n",
        "$$"
      ]
    },
    {
      "cell_type": "markdown",
      "metadata": {
        "id": "Oap46TSbUbRy"
      },
      "source": [
        "Dataset and inspection"
      ]
    },
    {
      "cell_type": "code",
      "metadata": {
        "id": "nAPZ85tV1Dmq",
        "colab": {
          "base_uri": "https://localhost:8080/",
          "height": 611
        },
        "outputId": "39121785-ad3a-4b39-990d-82ec55cf758f"
      },
      "source": [
        "#Data set\n",
        "x_neg = np.array([[3,4],[1,4],[2,3]])\n",
        "y_neg = np.array([-1,-1,-1])\n",
        "x_pos = np.array([[6,-1],[7,-1],[5,-3]])\n",
        "y_pos = np.array([1,1,1])\n",
        "x1 = np.linspace(-10,10)\n",
        "x = np.vstack((np.linspace(-10,10),np.linspace(-10,10)))\n",
        "\n",
        "#Data for the next section\n",
        "X = np.vstack((x_pos, x_neg))\n",
        "y = np.concatenate((y_pos,y_neg))\n",
        "\n",
        "#Parameters guessed by inspection\n",
        "w = np.array([1,-1]).reshape(-1,1)\n",
        "b = -3\n",
        "\n",
        "#Plot\n",
        "fig = plt.figure(figsize = (10,10))\n",
        "plt.scatter(x_neg[:,0], x_neg[:,1], marker = 'x', color = 'r', label = 'Negative -1')\n",
        "plt.scatter(x_pos[:,0], x_pos[:,1], marker = 'o', color = 'b',label = 'Positive +1')\n",
        "plt.plot(x1, x1  - 3, color = 'darkblue')\n",
        "plt.plot(x1, x1  - 7, linestyle = '--', alpha = .3, color = 'b')\n",
        "plt.plot(x1, x1  + 1, linestyle = '--', alpha = .3, color = 'r')\n",
        "plt.xlim(0,10)\n",
        "plt.ylim(-5,5)\n",
        "plt.xticks(np.arange(0, 10, step=1))\n",
        "plt.yticks(np.arange(-5, 5, step=1))\n",
        "\n",
        "#Lines\n",
        "plt.axvline(0, color = 'black', alpha = .5)\n",
        "plt.axhline(0,color = 'black', alpha = .5)\n",
        "plt.plot([2,6],[3,-1], linestyle = '-', color = 'darkblue', alpha = .5 )\n",
        "plt.plot([4,6],[1,1],[6,6],[1,-1], linestyle = ':', color = 'darkblue', alpha = .5 )\n",
        "plt.plot([0,1.5],[0,-1.5],[6,6],[1,-1], linestyle = ':', color = 'darkblue', alpha = .5 )\n",
        "\n",
        "#Annotations\n",
        "plt.annotate(s = '$A \\ (6,-1)$', xy = (5,-1), xytext = (6,-1.5))\n",
        "plt.annotate(s = '$B \\ (2,3)$', xy = (2,3), xytext = (2,3.5))#, arrowprops = {'width':.2, 'headwidth':8})\n",
        "plt.annotate(s = '$2$', xy = (5,1.2), xytext = (5,1.2) )\n",
        "plt.annotate(s = '$2$', xy = (6.2,.5), xytext = (6.2,.5))\n",
        "plt.annotate(s = '$2\\sqrt{2}$', xy = (4.5,-.5), xytext = (4.5,-.5))\n",
        "plt.annotate(s = '$2\\sqrt{2}$', xy = (2.5,1.5), xytext = (2.5,1.5))\n",
        "plt.annotate(s = '$w^Tx + b = 0$', xy = (8,4.5), xytext = (8,4.5))\n",
        "plt.annotate(s = '$(\\\\frac{1}{4},-\\\\frac{1}{4}) \\\\binom{x_1}{x_2}- \\\\frac{3}{4} = 0$', xy = (7.5,4), xytext = (7.5,4))\n",
        "plt.annotate(s = '$\\\\frac{3}{\\sqrt{2}}$', xy = (.5,-1), xytext = (.5,-1))\n",
        "\n",
        "#Labels and show\n",
        "plt.xlabel('$x_1$')\n",
        "plt.ylabel('$x_2$')\n",
        "plt.legend(loc = 'lower right')\n",
        "plt.show()"
      ],
      "execution_count": 22,
      "outputs": [
        {
          "output_type": "display_data",
          "data": {
            "image/png": "[encoded data removed]",
            "text/plain": [
              "<Figure size 720x720 with 1 Axes>"
            ]
          },
          "metadata": {}
        }
      ]
    },
    {
      "cell_type": "code",
      "metadata": {
        "id": "uef2XWrJ1O9i"
      },
      "source": [
        "#Initializing values and computing H. Note the 1. to force to float type\n",
        "m,n = X.shape\n",
        "y = y.reshape(-1,1) * 1.\n",
        "X_dash = y * X\n",
        "H = np.dot(X_dash , X_dash.T) * 1.\n",
        "\n",
        "#Converting into cvxopt format\n",
        "P = cvxopt_matrix(H)\n",
        "q = cvxopt_matrix(-np.ones((m, 1)))\n",
        "G = cvxopt_matrix(-np.eye(m))\n",
        "h = cvxopt_matrix(np.zeros(m))\n",
        "A = cvxopt_matrix(y.reshape(1, -1))\n",
        "b = cvxopt_matrix(np.zeros(1))\n",
        "\n",
        "#Setting solver parameters (change default to decrease tolerance) \n",
        "cvxopt_solvers.options['show_progress'] = False\n",
        "cvxopt_solvers.options['abstol'] = 1e-10\n",
        "cvxopt_solvers.options['reltol'] = 1e-10\n",
        "cvxopt_solvers.options['feastol'] = 1e-10\n",
        "\n",
        "#Run solver\n",
        "sol = cvxopt_solvers.qp(P, q, G, h, A, b)\n",
        "alphas = np.array(sol['x'])"
      ],
      "execution_count": 23,
      "outputs": []
    },
    {
      "cell_type": "code",
      "metadata": {
        "id": "j6FiLhfZ6EgY",
        "colab": {
          "base_uri": "https://localhost:8080/"
        },
        "outputId": "c0fd5958-3658-4a12-8484-dd9bfdac2d3c"
      },
      "source": [
        "#Run solver\n",
        "%%time\n",
        "sol = cvxopt_solvers.qp(P, q, G, h, A, b)\n",
        "#alphas = np.array(sol['x'])"
      ],
      "execution_count": 24,
      "outputs": [
        {
          "output_type": "stream",
          "name": "stdout",
          "text": [
            "CPU times: user 3.18 ms, sys: 5.06 ms, total: 8.24 ms\n",
            "Wall time: 6.94 ms\n"
          ]
        }
      ]
    },
    {
      "cell_type": "markdown",
      "metadata": {
        "id": "9I8epqbNUqcb"
      },
      "source": [
        "Compute w and b parameters"
      ]
    },
    {
      "cell_type": "code",
      "metadata": {
        "id": "OPDFY-J42Bkd",
        "colab": {
          "base_uri": "https://localhost:8080/"
        },
        "outputId": "4aa63034-bce5-43d2-88d4-d56ea7b768ae"
      },
      "source": [
        "#w parameter in vectorized form\n",
        "w = ((y * alphas).T @ X).reshape(-1,1)\n",
        "\n",
        "#Selecting the set of indices S corresponding to non zero parameters\n",
        "S = (alphas > 1e-4).flatten()\n",
        "\n",
        "#Computing b\n",
        "b = y[S] - np.dot(X[S], w)\n",
        "\n",
        "#Display results\n",
        "print('Alphas = ',alphas[alphas > 1e-4])\n",
        "print('w = ', w.flatten())\n",
        "print('b = ', b[0])"
      ],
      "execution_count": 25,
      "outputs": [
        {
          "output_type": "stream",
          "name": "stdout",
          "text": [
            "Alphas =  [0.0625     0.06249356]\n",
            "w =  [ 0.24999356 -0.25000644]\n",
            "b =  [-0.74996781]\n"
          ]
        }
      ]
    },
    {
      "cell_type": "code",
      "metadata": {
        "id": "-8bfOpu3414T"
      },
      "source": [
        "support_vector_boolean = (alphas > 1e-4).reshape(-1)"
      ],
      "execution_count": 26,
      "outputs": []
    },
    {
      "cell_type": "code",
      "metadata": {
        "id": "3omFTluN5Ctq",
        "colab": {
          "base_uri": "https://localhost:8080/"
        },
        "outputId": "74f027b6-a146-4601-9e69-9fe4274b8830"
      },
      "source": [
        "print(\"Following are the support vectors:\\n{}\".format(X[support_vector_boolean]))"
      ],
      "execution_count": 27,
      "outputs": [
        {
          "output_type": "stream",
          "name": "stdout",
          "text": [
            "Following are the support vectors:\n",
            "[[ 6 -1]\n",
            " [ 2  3]]\n"
          ]
        }
      ]
    },
    {
      "cell_type": "code",
      "metadata": {
        "id": "wBo4lpqd3Rj1",
        "colab": {
          "base_uri": "https://localhost:8080/",
          "height": 285
        },
        "outputId": "2170cf20-f2be-4d55-f630-5bae16d87d7b"
      },
      "source": [
        "plt.scatter(x_neg[:, 0], x_neg[:,1])\n",
        "plt.scatter(x_pos[:, 0], x_pos[:,1])\n",
        "X1 = np.linspace(0, 10, 11)\n",
        "X2 = (-b[0]-w[0]*X1)/w[1]\n",
        "plt.plot(X1, X2)"
      ],
      "execution_count": 28,
      "outputs": [
        {
          "output_type": "execute_result",
          "data": {
            "text/plain": [
              "[<matplotlib.lines.Line2D at 0x7f7692726610>]"
            ]
          },
          "metadata": {},
          "execution_count": 28
        },
        {
          "output_type": "display_data",
          "data": {
            "image/png": "[encoded data removed]",
            "text/plain": [
              "<Figure size 432x288 with 1 Axes>"
            ]
          },
          "metadata": {}
        }
      ]
    },
    {
      "cell_type": "markdown",
      "metadata": {
        "id": "FropYUI45jhH"
      },
      "source": [
        "Comparing to Sklearn results"
      ]
    },
    {
      "cell_type": "code",
      "metadata": {
        "id": "tNVFfB2Q6XNb"
      },
      "source": [
        "clf = SVC(C = 10, kernel = 'linear')"
      ],
      "execution_count": 29,
      "outputs": []
    },
    {
      "cell_type": "code",
      "metadata": {
        "id": "v5HkfBP-6Yap",
        "colab": {
          "base_uri": "https://localhost:8080/"
        },
        "outputId": "c8902f8d-d303-46ce-9c8f-411902e18d85"
      },
      "source": [
        "%%time\n",
        "clf.fit(X, y.ravel())"
      ],
      "execution_count": 30,
      "outputs": [
        {
          "output_type": "stream",
          "name": "stdout",
          "text": [
            "CPU times: user 1.29 ms, sys: 302 µs, total: 1.59 ms\n",
            "Wall time: 1.63 ms\n"
          ]
        },
        {
          "output_type": "execute_result",
          "data": {
            "text/plain": [
              "SVC(C=10, break_ties=False, cache_size=200, class_weight=None, coef0=0.0,\n",
              "    decision_function_shape='ovr', degree=3, gamma='scale', kernel='linear',\n",
              "    max_iter=-1, probability=False, random_state=None, shrinking=True,\n",
              "    tol=0.001, verbose=False)"
            ]
          },
          "metadata": {},
          "execution_count": 30
        }
      ]
    },
    {
      "cell_type": "code",
      "metadata": {
        "id": "cI2ywEkn5g1I",
        "colab": {
          "base_uri": "https://localhost:8080/"
        },
        "outputId": "9659f44d-2224-4c61-d012-763549fd61c6"
      },
      "source": [
        "print('w = ',clf.coef_)\n",
        "print('b = ',clf.intercept_)\n",
        "print('Indices of support vectors = ', clf.support_)\n",
        "print('Support vectors = ', clf.support_vectors_)\n",
        "print('Number of support vectors for each class = ', clf.n_support_)\n",
        "print('Coefficients of the support vector in the decision function = ', np.abs(clf.dual_coef_))"
      ],
      "execution_count": 31,
      "outputs": [
        {
          "output_type": "stream",
          "name": "stdout",
          "text": [
            "w =  [[ 0.25 -0.25]]\n",
            "b =  [-0.75]\n",
            "Indices of support vectors =  [5 0]\n",
            "Support vectors =  [[ 2.  3.]\n",
            " [ 6. -1.]]\n",
            "Number of support vectors for each class =  [1 1]\n",
            "Coefficients of the support vector in the decision function =  [[0.0625 0.0625]]\n"
          ]
        }
      ]
    },
    {
      "cell_type": "markdown",
      "metadata": {
        "id": "dEvt2wzSUzNk"
      },
      "source": [
        "### Please answer the questions below to complete the experiment:\n",
        "\n",
        "\n"
      ]
    },
    {
      "cell_type": "code",
      "metadata": {
        "id": "vrfZ66DaUzOQ"
      },
      "source": [
        "#@title Q.1. Use least-squares regression method to fit a straight line for x = [1, 3, 5, 7, 10, 12, 13, 16, 18, 20] and y = [4, 5, 6, 5, 8, 7, 6, 9, 12, 11].  { run: \"auto\", form-width: \"500px\", display-mode: \"form\" }\n",
        "Answer1 = \"\" #@param [\"\",\"y = 0.3725x - 3.3888\", \"y = 0.3725x + 3.3888\", \"y = -0.3725x + 3.3888\", \"y = -0.3725x - 3.3888\"]\n"
      ],
      "execution_count": 32,
      "outputs": []
    },
    {
      "cell_type": "code",
      "metadata": {
        "id": "UX24XAeIJ6Nf"
      },
      "source": [
        "#@title Q.2. Use Lagrange multipliers to find the maxima and minima values of f( x, y ) = 3x−4y subject to the constraint x^2+3y^2 = 129, if such values exist. { run: \"auto\", form-width: \"500px\", display-mode: \"form\" }\n",
        "Answer2 = \"\" #@param [\"\",\"Maxima = 11, Minima = -11\", \"Maxima = 48, Minima = -48\", \"Maxima = 43, Minima = -43\", \"Maxima = 24, Minima = -24\"]"
      ],
      "execution_count": 33,
      "outputs": []
    },
    {
      "cell_type": "code",
      "metadata": {
        "id": "NMzKSbLIgFzQ"
      },
      "source": [
        "#@title How was the experiment? { run: \"auto\", form-width: \"500px\", display-mode: \"form\" }\n",
        "Complexity = \"\" #@param [\"\",\"Too Simple, I am wasting time\", \"Good, But Not Challenging for me\", \"Good and Challenging for me\", \"Was Tough, but I did it\", \"Too Difficult for me\"]\n"
      ],
      "execution_count": 34,
      "outputs": []
    },
    {
      "cell_type": "code",
      "metadata": {
        "id": "DjcH1VWSFI2l"
      },
      "source": [
        "#@title If it was too easy, what more would you have liked to be added? If it was very difficult, what would you have liked to have been removed? { run: \"auto\", display-mode: \"form\" }\n",
        "Additional = \"\" #@param {type:\"string\"}\n"
      ],
      "execution_count": 35,
      "outputs": []
    },
    {
      "cell_type": "code",
      "metadata": {
        "id": "4VBk_4VTAxCM"
      },
      "source": [
        "#@title Can you identify the concepts from the lecture which this experiment covered? { run: \"auto\", vertical-output: true, display-mode: \"form\" }\n",
        "Concepts = \"\" #@param [\"\",\"Yes\", \"No\"]\n"
      ],
      "execution_count": 36,
      "outputs": []
    },
    {
      "cell_type": "code",
      "metadata": {
        "id": "XH91cL1JWH7m"
      },
      "source": [
        "#@title  Text and image description/explanation and code comments within the experiment: { run: \"auto\", vertical-output: true, display-mode: \"form\" }\n",
        "Comments = \"\" #@param [\"\",\"Very Useful\", \"Somewhat Useful\", \"Not Useful\", \"Didn't use\"]\n"
      ],
      "execution_count": 37,
      "outputs": []
    },
    {
      "cell_type": "code",
      "metadata": {
        "id": "z8xLqj7VWIKW"
      },
      "source": [
        "#@title Mentor Support: { run: \"auto\", vertical-output: true, display-mode: \"form\" }\n",
        "Mentor_support = \"\" #@param [\"\",\"Very Useful\", \"Somewhat Useful\", \"Not Useful\", \"Didn't use\"]\n"
      ],
      "execution_count": 38,
      "outputs": []
    },
    {
      "cell_type": "code",
      "metadata": {
        "id": "FzAZHt1zw-Y-",
        "cellView": "form",
        "colab": {
          "base_uri": "https://localhost:8080/"
        },
        "outputId": "21c8d228-7c16-4e50-b04d-bde32047f93c"
      },
      "source": [
        "#@title Run this cell to submit your notebook for grading { vertical-output: true }\n",
        "try:\n",
        "  if submission_id:\n",
        "      return_id = submit_notebook()\n",
        "      if return_id : submission_id = return_id\n",
        "  else:\n",
        "      print(\"Please complete the setup first.\")\n",
        "except NameError:\n",
        "  print (\"Please complete the setup first.\")"
      ],
      "execution_count": 39,
      "outputs": [
        {
          "output_type": "stream",
          "name": "stdout",
          "text": [
            "Please answer Question 1\n"
          ]
        }
      ]
    }
  ]
}