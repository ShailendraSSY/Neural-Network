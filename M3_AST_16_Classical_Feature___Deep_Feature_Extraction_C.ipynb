{
  "nbformat": 4,
  "nbformat_minor": 0,
  "metadata": {
    "accelerator": "GPU",
    "colab": {
      "name": "M3_AST_16_Classical_Feature___Deep_Feature_Extraction_C.ipynb",
      "provenance": [],
      "collapsed_sections": [],
      "include_colab_link": true
    },
    "hide_input": false,
    "kernelspec": {
      "name": "python3",
      "display_name": "Python 3"
    },
    "toc": {
      "base_numbering": 1,
      "nav_menu": {},
      "number_sections": true,
      "sideBar": true,
      "skip_h1_title": false,
      "title_cell": "Table of Contents",
      "title_sidebar": "Contents",
      "toc_cell": false,
      "toc_position": {},
      "toc_section_display": true,
      "toc_window_display": false
    },
    "varInspector": {
      "cols": {
        "lenName": 16,
        "lenType": 16,
        "lenVar": 40
      },
      "kernels_config": {
        "python": {
          "delete_cmd_postfix": "",
          "delete_cmd_prefix": "del ",
          "library": "var_list.py",
          "varRefreshCmd": "print(var_dic_list())"
        },
        "r": {
          "delete_cmd_postfix": ") ",
          "delete_cmd_prefix": "rm(",
          "library": "var_list.r",
          "varRefreshCmd": "cat(var_dic_list()) "
        }
      },
      "types_to_exclude": [
        "module",
        "function",
        "builtin_function_or_method",
        "instance",
        "_Feature"
      ],
      "window_display": false
    },
    "language_info": {
      "name": "python"
    },
    "widgets": {
      "application/vnd.jupyter.widget-state+json": {
        "f8ad799dff1e4a7ba9399c8454dbc20a": {
          "model_module": "@jupyter-widgets/controls",
          "model_name": "HBoxModel",
          "model_module_version": "1.5.0",
          "state": {
            "_view_name": "HBoxView",
            "_dom_classes": [],
            "_model_name": "HBoxModel",
            "_view_module": "@jupyter-widgets/controls",
            "_model_module_version": "1.5.0",
            "_view_count": null,
            "_view_module_version": "1.5.0",
            "box_style": "",
            "layout": "IPY_MODEL_2d6f3d2e42214dd29ad05c5d1869883c",
            "_model_module": "@jupyter-widgets/controls",
            "children": [
              "IPY_MODEL_1351c86f54d84cf083717141ee49a1c4",
              "IPY_MODEL_9d40fa41efe447af880aa540eedaa179",
              "IPY_MODEL_07ab3df3f4d047f2aeaacdda92652dd6"
            ]
          }
        },
        "2d6f3d2e42214dd29ad05c5d1869883c": {
          "model_module": "@jupyter-widgets/base",
          "model_name": "LayoutModel",
          "model_module_version": "1.2.0",
          "state": {
            "_view_name": "LayoutView",
            "grid_template_rows": null,
            "right": null,
            "justify_content": null,
            "_view_module": "@jupyter-widgets/base",
            "overflow": null,
            "_model_module_version": "1.2.0",
            "_view_count": null,
            "flex_flow": null,
            "width": null,
            "min_width": null,
            "border": null,
            "align_items": null,
            "bottom": null,
            "_model_module": "@jupyter-widgets/base",
            "top": null,
            "grid_column": null,
            "overflow_y": null,
            "overflow_x": null,
            "grid_auto_flow": null,
            "grid_area": null,
            "grid_template_columns": null,
            "flex": null,
            "_model_name": "LayoutModel",
            "justify_items": null,
            "grid_row": null,
            "max_height": null,
            "align_content": null,
            "visibility": null,
            "align_self": null,
            "height": null,
            "min_height": null,
            "padding": null,
            "grid_auto_rows": null,
            "grid_gap": null,
            "max_width": null,
            "order": null,
            "_view_module_version": "1.2.0",
            "grid_template_areas": null,
            "object_position": null,
            "object_fit": null,
            "grid_auto_columns": null,
            "margin": null,
            "display": null,
            "left": null
          }
        },
        "1351c86f54d84cf083717141ee49a1c4": {
          "model_module": "@jupyter-widgets/controls",
          "model_name": "HTMLModel",
          "model_module_version": "1.5.0",
          "state": {
            "_view_name": "HTMLView",
            "style": "IPY_MODEL_d8f4f776a950453b8d01bd88be1028d0",
            "_dom_classes": [],
            "description": "",
            "_model_name": "HTMLModel",
            "placeholder": "​",
            "_view_module": "@jupyter-widgets/controls",
            "_model_module_version": "1.5.0",
            "value": "",
            "_view_count": null,
            "_view_module_version": "1.5.0",
            "description_tooltip": null,
            "_model_module": "@jupyter-widgets/controls",
            "layout": "IPY_MODEL_635c71d3fc1349079eb3791378b85d80"
          }
        },
        "9d40fa41efe447af880aa540eedaa179": {
          "model_module": "@jupyter-widgets/controls",
          "model_name": "FloatProgressModel",
          "model_module_version": "1.5.0",
          "state": {
            "_view_name": "ProgressView",
            "style": "IPY_MODEL_055cb28e515f48d29374bc5c2360cf29",
            "_dom_classes": [],
            "description": "",
            "_model_name": "FloatProgressModel",
            "bar_style": "success",
            "max": 9912422,
            "_view_module": "@jupyter-widgets/controls",
            "_model_module_version": "1.5.0",
            "value": 9912422,
            "_view_count": null,
            "_view_module_version": "1.5.0",
            "orientation": "horizontal",
            "min": 0,
            "description_tooltip": null,
            "_model_module": "@jupyter-widgets/controls",
            "layout": "IPY_MODEL_491e83a9991f49a2874f2ae997ede8ac"
          }
        },
        "07ab3df3f4d047f2aeaacdda92652dd6": {
          "model_module": "@jupyter-widgets/controls",
          "model_name": "HTMLModel",
          "model_module_version": "1.5.0",
          "state": {
            "_view_name": "HTMLView",
            "style": "IPY_MODEL_e664f23e1caf4215910204f0555839de",
            "_dom_classes": [],
            "description": "",
            "_model_name": "HTMLModel",
            "placeholder": "​",
            "_view_module": "@jupyter-widgets/controls",
            "_model_module_version": "1.5.0",
            "value": " 9913344/? [00:00&lt;00:00, 41157539.98it/s]",
            "_view_count": null,
            "_view_module_version": "1.5.0",
            "description_tooltip": null,
            "_model_module": "@jupyter-widgets/controls",
            "layout": "IPY_MODEL_17c847ef7038402eb176cfa98f511c19"
          }
        },
        "d8f4f776a950453b8d01bd88be1028d0": {
          "model_module": "@jupyter-widgets/controls",
          "model_name": "DescriptionStyleModel",
          "model_module_version": "1.5.0",
          "state": {
            "_view_name": "StyleView",
            "_model_name": "DescriptionStyleModel",
            "description_width": "",
            "_view_module": "@jupyter-widgets/base",
            "_model_module_version": "1.5.0",
            "_view_count": null,
            "_view_module_version": "1.2.0",
            "_model_module": "@jupyter-widgets/controls"
          }
        },
        "635c71d3fc1349079eb3791378b85d80": {
          "model_module": "@jupyter-widgets/base",
          "model_name": "LayoutModel",
          "model_module_version": "1.2.0",
          "state": {
            "_view_name": "LayoutView",
            "grid_template_rows": null,
            "right": null,
            "justify_content": null,
            "_view_module": "@jupyter-widgets/base",
            "overflow": null,
            "_model_module_version": "1.2.0",
            "_view_count": null,
            "flex_flow": null,
            "width": null,
            "min_width": null,
            "border": null,
            "align_items": null,
            "bottom": null,
            "_model_module": "@jupyter-widgets/base",
            "top": null,
            "grid_column": null,
            "overflow_y": null,
            "overflow_x": null,
            "grid_auto_flow": null,
            "grid_area": null,
            "grid_template_columns": null,
            "flex": null,
            "_model_name": "LayoutModel",
            "justify_items": null,
            "grid_row": null,
            "max_height": null,
            "align_content": null,
            "visibility": null,
            "align_self": null,
            "height": null,
            "min_height": null,
            "padding": null,
            "grid_auto_rows": null,
            "grid_gap": null,
            "max_width": null,
            "order": null,
            "_view_module_version": "1.2.0",
            "grid_template_areas": null,
            "object_position": null,
            "object_fit": null,
            "grid_auto_columns": null,
            "margin": null,
            "display": null,
            "left": null
          }
        },
        "055cb28e515f48d29374bc5c2360cf29": {
          "model_module": "@jupyter-widgets/controls",
          "model_name": "ProgressStyleModel",
          "model_module_version": "1.5.0",
          "state": {
            "_view_name": "StyleView",
            "_model_name": "ProgressStyleModel",
            "description_width": "",
            "_view_module": "@jupyter-widgets/base",
            "_model_module_version": "1.5.0",
            "_view_count": null,
            "_view_module_version": "1.2.0",
            "bar_color": null,
            "_model_module": "@jupyter-widgets/controls"
          }
        },
        "491e83a9991f49a2874f2ae997ede8ac": {
          "model_module": "@jupyter-widgets/base",
          "model_name": "LayoutModel",
          "model_module_version": "1.2.0",
          "state": {
            "_view_name": "LayoutView",
            "grid_template_rows": null,
            "right": null,
            "justify_content": null,
            "_view_module": "@jupyter-widgets/base",
            "overflow": null,
            "_model_module_version": "1.2.0",
            "_view_count": null,
            "flex_flow": null,
            "width": null,
            "min_width": null,
            "border": null,
            "align_items": null,
            "bottom": null,
            "_model_module": "@jupyter-widgets/base",
            "top": null,
            "grid_column": null,
            "overflow_y": null,
            "overflow_x": null,
            "grid_auto_flow": null,
            "grid_area": null,
            "grid_template_columns": null,
            "flex": null,
            "_model_name": "LayoutModel",
            "justify_items": null,
            "grid_row": null,
            "max_height": null,
            "align_content": null,
            "visibility": null,
            "align_self": null,
            "height": null,
            "min_height": null,
            "padding": null,
            "grid_auto_rows": null,
            "grid_gap": null,
            "max_width": null,
            "order": null,
            "_view_module_version": "1.2.0",
            "grid_template_areas": null,
            "object_position": null,
            "object_fit": null,
            "grid_auto_columns": null,
            "margin": null,
            "display": null,
            "left": null
          }
        },
        "e664f23e1caf4215910204f0555839de": {
          "model_module": "@jupyter-widgets/controls",
          "model_name": "DescriptionStyleModel",
          "model_module_version": "1.5.0",
          "state": {
            "_view_name": "StyleView",
            "_model_name": "DescriptionStyleModel",
            "description_width": "",
            "_view_module": "@jupyter-widgets/base",
            "_model_module_version": "1.5.0",
            "_view_count": null,
            "_view_module_version": "1.2.0",
            "_model_module": "@jupyter-widgets/controls"
          }
        },
        "17c847ef7038402eb176cfa98f511c19": {
          "model_module": "@jupyter-widgets/base",
          "model_name": "LayoutModel",
          "model_module_version": "1.2.0",
          "state": {
            "_view_name": "LayoutView",
            "grid_template_rows": null,
            "right": null,
            "justify_content": null,
            "_view_module": "@jupyter-widgets/base",
            "overflow": null,
            "_model_module_version": "1.2.0",
            "_view_count": null,
            "flex_flow": null,
            "width": null,
            "min_width": null,
            "border": null,
            "align_items": null,
            "bottom": null,
            "_model_module": "@jupyter-widgets/base",
            "top": null,
            "grid_column": null,
            "overflow_y": null,
            "overflow_x": null,
            "grid_auto_flow": null,
            "grid_area": null,
            "grid_template_columns": null,
            "flex": null,
            "_model_name": "LayoutModel",
            "justify_items": null,
            "grid_row": null,
            "max_height": null,
            "align_content": null,
            "visibility": null,
            "align_self": null,
            "height": null,
            "min_height": null,
            "padding": null,
            "grid_auto_rows": null,
            "grid_gap": null,
            "max_width": null,
            "order": null,
            "_view_module_version": "1.2.0",
            "grid_template_areas": null,
            "object_position": null,
            "object_fit": null,
            "grid_auto_columns": null,
            "margin": null,
            "display": null,
            "left": null
          }
        },
        "b9c92d6e2ac54801874b5cf40a41e555": {
          "model_module": "@jupyter-widgets/controls",
          "model_name": "HBoxModel",
          "model_module_version": "1.5.0",
          "state": {
            "_view_name": "HBoxView",
            "_dom_classes": [],
            "_model_name": "HBoxModel",
            "_view_module": "@jupyter-widgets/controls",
            "_model_module_version": "1.5.0",
            "_view_count": null,
            "_view_module_version": "1.5.0",
            "box_style": "",
            "layout": "IPY_MODEL_12f7f5507f5247bfa6a869e84019dad3",
            "_model_module": "@jupyter-widgets/controls",
            "children": [
              "IPY_MODEL_37037e03aeb646f78bab3bf4f7c5afe0",
              "IPY_MODEL_5fb803c0f7e24ab780ed829c563aeee3",
              "IPY_MODEL_00aa194d77334b55b166786d9d4ef0a7"
            ]
          }
        },
        "12f7f5507f5247bfa6a869e84019dad3": {
          "model_module": "@jupyter-widgets/base",
          "model_name": "LayoutModel",
          "model_module_version": "1.2.0",
          "state": {
            "_view_name": "LayoutView",
            "grid_template_rows": null,
            "right": null,
            "justify_content": null,
            "_view_module": "@jupyter-widgets/base",
            "overflow": null,
            "_model_module_version": "1.2.0",
            "_view_count": null,
            "flex_flow": null,
            "width": null,
            "min_width": null,
            "border": null,
            "align_items": null,
            "bottom": null,
            "_model_module": "@jupyter-widgets/base",
            "top": null,
            "grid_column": null,
            "overflow_y": null,
            "overflow_x": null,
            "grid_auto_flow": null,
            "grid_area": null,
            "grid_template_columns": null,
            "flex": null,
            "_model_name": "LayoutModel",
            "justify_items": null,
            "grid_row": null,
            "max_height": null,
            "align_content": null,
            "visibility": null,
            "align_self": null,
            "height": null,
            "min_height": null,
            "padding": null,
            "grid_auto_rows": null,
            "grid_gap": null,
            "max_width": null,
            "order": null,
            "_view_module_version": "1.2.0",
            "grid_template_areas": null,
            "object_position": null,
            "object_fit": null,
            "grid_auto_columns": null,
            "margin": null,
            "display": null,
            "left": null
          }
        },
        "37037e03aeb646f78bab3bf4f7c5afe0": {
          "model_module": "@jupyter-widgets/controls",
          "model_name": "HTMLModel",
          "model_module_version": "1.5.0",
          "state": {
            "_view_name": "HTMLView",
            "style": "IPY_MODEL_a65b77ec004f48cfafc28e951953a064",
            "_dom_classes": [],
            "description": "",
            "_model_name": "HTMLModel",
            "placeholder": "​",
            "_view_module": "@jupyter-widgets/controls",
            "_model_module_version": "1.5.0",
            "value": "",
            "_view_count": null,
            "_view_module_version": "1.5.0",
            "description_tooltip": null,
            "_model_module": "@jupyter-widgets/controls",
            "layout": "IPY_MODEL_03cf805a86394efc8b723c1ac00ddf5d"
          }
        },
        "5fb803c0f7e24ab780ed829c563aeee3": {
          "model_module": "@jupyter-widgets/controls",
          "model_name": "FloatProgressModel",
          "model_module_version": "1.5.0",
          "state": {
            "_view_name": "ProgressView",
            "style": "IPY_MODEL_bd3186fb68ca4ca9bc031fc616c22d1b",
            "_dom_classes": [],
            "description": "",
            "_model_name": "FloatProgressModel",
            "bar_style": "success",
            "max": 28881,
            "_view_module": "@jupyter-widgets/controls",
            "_model_module_version": "1.5.0",
            "value": 28881,
            "_view_count": null,
            "_view_module_version": "1.5.0",
            "orientation": "horizontal",
            "min": 0,
            "description_tooltip": null,
            "_model_module": "@jupyter-widgets/controls",
            "layout": "IPY_MODEL_2fba24c7ab734c32905d5934835e8326"
          }
        },
        "00aa194d77334b55b166786d9d4ef0a7": {
          "model_module": "@jupyter-widgets/controls",
          "model_name": "HTMLModel",
          "model_module_version": "1.5.0",
          "state": {
            "_view_name": "HTMLView",
            "style": "IPY_MODEL_3f6652b196b145c5ad0e9a190c83d395",
            "_dom_classes": [],
            "description": "",
            "_model_name": "HTMLModel",
            "placeholder": "​",
            "_view_module": "@jupyter-widgets/controls",
            "_model_module_version": "1.5.0",
            "value": " 29696/? [00:00&lt;00:00, 692709.69it/s]",
            "_view_count": null,
            "_view_module_version": "1.5.0",
            "description_tooltip": null,
            "_model_module": "@jupyter-widgets/controls",
            "layout": "IPY_MODEL_eefac1d57e2842678d3077a9ea067bff"
          }
        },
        "a65b77ec004f48cfafc28e951953a064": {
          "model_module": "@jupyter-widgets/controls",
          "model_name": "DescriptionStyleModel",
          "model_module_version": "1.5.0",
          "state": {
            "_view_name": "StyleView",
            "_model_name": "DescriptionStyleModel",
            "description_width": "",
            "_view_module": "@jupyter-widgets/base",
            "_model_module_version": "1.5.0",
            "_view_count": null,
            "_view_module_version": "1.2.0",
            "_model_module": "@jupyter-widgets/controls"
          }
        },
        "03cf805a86394efc8b723c1ac00ddf5d": {
          "model_module": "@jupyter-widgets/base",
          "model_name": "LayoutModel",
          "model_module_version": "1.2.0",
          "state": {
            "_view_name": "LayoutView",
            "grid_template_rows": null,
            "right": null,
            "justify_content": null,
            "_view_module": "@jupyter-widgets/base",
            "overflow": null,
            "_model_module_version": "1.2.0",
            "_view_count": null,
            "flex_flow": null,
            "width": null,
            "min_width": null,
            "border": null,
            "align_items": null,
            "bottom": null,
            "_model_module": "@jupyter-widgets/base",
            "top": null,
            "grid_column": null,
            "overflow_y": null,
            "overflow_x": null,
            "grid_auto_flow": null,
            "grid_area": null,
            "grid_template_columns": null,
            "flex": null,
            "_model_name": "LayoutModel",
            "justify_items": null,
            "grid_row": null,
            "max_height": null,
            "align_content": null,
            "visibility": null,
            "align_self": null,
            "height": null,
            "min_height": null,
            "padding": null,
            "grid_auto_rows": null,
            "grid_gap": null,
            "max_width": null,
            "order": null,
            "_view_module_version": "1.2.0",
            "grid_template_areas": null,
            "object_position": null,
            "object_fit": null,
            "grid_auto_columns": null,
            "margin": null,
            "display": null,
            "left": null
          }
        },
        "bd3186fb68ca4ca9bc031fc616c22d1b": {
          "model_module": "@jupyter-widgets/controls",
          "model_name": "ProgressStyleModel",
          "model_module_version": "1.5.0",
          "state": {
            "_view_name": "StyleView",
            "_model_name": "ProgressStyleModel",
            "description_width": "",
            "_view_module": "@jupyter-widgets/base",
            "_model_module_version": "1.5.0",
            "_view_count": null,
            "_view_module_version": "1.2.0",
            "bar_color": null,
            "_model_module": "@jupyter-widgets/controls"
          }
        },
        "2fba24c7ab734c32905d5934835e8326": {
          "model_module": "@jupyter-widgets/base",
          "model_name": "LayoutModel",
          "model_module_version": "1.2.0",
          "state": {
            "_view_name": "LayoutView",
            "grid_template_rows": null,
            "right": null,
            "justify_content": null,
            "_view_module": "@jupyter-widgets/base",
            "overflow": null,
            "_model_module_version": "1.2.0",
            "_view_count": null,
            "flex_flow": null,
            "width": null,
            "min_width": null,
            "border": null,
            "align_items": null,
            "bottom": null,
            "_model_module": "@jupyter-widgets/base",
            "top": null,
            "grid_column": null,
            "overflow_y": null,
            "overflow_x": null,
            "grid_auto_flow": null,
            "grid_area": null,
            "grid_template_columns": null,
            "flex": null,
            "_model_name": "LayoutModel",
            "justify_items": null,
            "grid_row": null,
            "max_height": null,
            "align_content": null,
            "visibility": null,
            "align_self": null,
            "height": null,
            "min_height": null,
            "padding": null,
            "grid_auto_rows": null,
            "grid_gap": null,
            "max_width": null,
            "order": null,
            "_view_module_version": "1.2.0",
            "grid_template_areas": null,
            "object_position": null,
            "object_fit": null,
            "grid_auto_columns": null,
            "margin": null,
            "display": null,
            "left": null
          }
        },
        "3f6652b196b145c5ad0e9a190c83d395": {
          "model_module": "@jupyter-widgets/controls",
          "model_name": "DescriptionStyleModel",
          "model_module_version": "1.5.0",
          "state": {
            "_view_name": "StyleView",
            "_model_name": "DescriptionStyleModel",
            "description_width": "",
            "_view_module": "@jupyter-widgets/base",
            "_model_module_version": "1.5.0",
            "_view_count": null,
            "_view_module_version": "1.2.0",
            "_model_module": "@jupyter-widgets/controls"
          }
        },
        "eefac1d57e2842678d3077a9ea067bff": {
          "model_module": "@jupyter-widgets/base",
          "model_name": "LayoutModel",
          "model_module_version": "1.2.0",
          "state": {
            "_view_name": "LayoutView",
            "grid_template_rows": null,
            "right": null,
            "justify_content": null,
            "_view_module": "@jupyter-widgets/base",
            "overflow": null,
            "_model_module_version": "1.2.0",
            "_view_count": null,
            "flex_flow": null,
            "width": null,
            "min_width": null,
            "border": null,
            "align_items": null,
            "bottom": null,
            "_model_module": "@jupyter-widgets/base",
            "top": null,
            "grid_column": null,
            "overflow_y": null,
            "overflow_x": null,
            "grid_auto_flow": null,
            "grid_area": null,
            "grid_template_columns": null,
            "flex": null,
            "_model_name": "LayoutModel",
            "justify_items": null,
            "grid_row": null,
            "max_height": null,
            "align_content": null,
            "visibility": null,
            "align_self": null,
            "height": null,
            "min_height": null,
            "padding": null,
            "grid_auto_rows": null,
            "grid_gap": null,
            "max_width": null,
            "order": null,
            "_view_module_version": "1.2.0",
            "grid_template_areas": null,
            "object_position": null,
            "object_fit": null,
            "grid_auto_columns": null,
            "margin": null,
            "display": null,
            "left": null
          }
        },
        "09400b549ad14af896bc24a017a25f7d": {
          "model_module": "@jupyter-widgets/controls",
          "model_name": "HBoxModel",
          "model_module_version": "1.5.0",
          "state": {
            "_view_name": "HBoxView",
            "_dom_classes": [],
            "_model_name": "HBoxModel",
            "_view_module": "@jupyter-widgets/controls",
            "_model_module_version": "1.5.0",
            "_view_count": null,
            "_view_module_version": "1.5.0",
            "box_style": "",
            "layout": "IPY_MODEL_36d9786b19f34ae38a1cf90969c892c7",
            "_model_module": "@jupyter-widgets/controls",
            "children": [
              "IPY_MODEL_59831ed5bd0e4c5db3d762bdb1aab827",
              "IPY_MODEL_a6323863f3a9466bb65c3b74228bcdb0",
              "IPY_MODEL_2331e531ddc8463db148378323b23e4c"
            ]
          }
        },
        "36d9786b19f34ae38a1cf90969c892c7": {
          "model_module": "@jupyter-widgets/base",
          "model_name": "LayoutModel",
          "model_module_version": "1.2.0",
          "state": {
            "_view_name": "LayoutView",
            "grid_template_rows": null,
            "right": null,
            "justify_content": null,
            "_view_module": "@jupyter-widgets/base",
            "overflow": null,
            "_model_module_version": "1.2.0",
            "_view_count": null,
            "flex_flow": null,
            "width": null,
            "min_width": null,
            "border": null,
            "align_items": null,
            "bottom": null,
            "_model_module": "@jupyter-widgets/base",
            "top": null,
            "grid_column": null,
            "overflow_y": null,
            "overflow_x": null,
            "grid_auto_flow": null,
            "grid_area": null,
            "grid_template_columns": null,
            "flex": null,
            "_model_name": "LayoutModel",
            "justify_items": null,
            "grid_row": null,
            "max_height": null,
            "align_content": null,
            "visibility": null,
            "align_self": null,
            "height": null,
            "min_height": null,
            "padding": null,
            "grid_auto_rows": null,
            "grid_gap": null,
            "max_width": null,
            "order": null,
            "_view_module_version": "1.2.0",
            "grid_template_areas": null,
            "object_position": null,
            "object_fit": null,
            "grid_auto_columns": null,
            "margin": null,
            "display": null,
            "left": null
          }
        },
        "59831ed5bd0e4c5db3d762bdb1aab827": {
          "model_module": "@jupyter-widgets/controls",
          "model_name": "HTMLModel",
          "model_module_version": "1.5.0",
          "state": {
            "_view_name": "HTMLView",
            "style": "IPY_MODEL_5b715cec10144b5cb701220af1ee8eb0",
            "_dom_classes": [],
            "description": "",
            "_model_name": "HTMLModel",
            "placeholder": "​",
            "_view_module": "@jupyter-widgets/controls",
            "_model_module_version": "1.5.0",
            "value": "",
            "_view_count": null,
            "_view_module_version": "1.5.0",
            "description_tooltip": null,
            "_model_module": "@jupyter-widgets/controls",
            "layout": "IPY_MODEL_422816d7876f4fc8848fa14a9d56fb45"
          }
        },
        "a6323863f3a9466bb65c3b74228bcdb0": {
          "model_module": "@jupyter-widgets/controls",
          "model_name": "FloatProgressModel",
          "model_module_version": "1.5.0",
          "state": {
            "_view_name": "ProgressView",
            "style": "IPY_MODEL_cfc821b956c04e37bf7cab3b4690b242",
            "_dom_classes": [],
            "description": "",
            "_model_name": "FloatProgressModel",
            "bar_style": "success",
            "max": 1648877,
            "_view_module": "@jupyter-widgets/controls",
            "_model_module_version": "1.5.0",
            "value": 1648877,
            "_view_count": null,
            "_view_module_version": "1.5.0",
            "orientation": "horizontal",
            "min": 0,
            "description_tooltip": null,
            "_model_module": "@jupyter-widgets/controls",
            "layout": "IPY_MODEL_17e8555f8bda4ecc823bf897ce6dd19d"
          }
        },
        "2331e531ddc8463db148378323b23e4c": {
          "model_module": "@jupyter-widgets/controls",
          "model_name": "HTMLModel",
          "model_module_version": "1.5.0",
          "state": {
            "_view_name": "HTMLView",
            "style": "IPY_MODEL_f316ef42133a42668118f59daff20be9",
            "_dom_classes": [],
            "description": "",
            "_model_name": "HTMLModel",
            "placeholder": "​",
            "_view_module": "@jupyter-widgets/controls",
            "_model_module_version": "1.5.0",
            "value": " 1649664/? [00:00&lt;00:00, 6881769.47it/s]",
            "_view_count": null,
            "_view_module_version": "1.5.0",
            "description_tooltip": null,
            "_model_module": "@jupyter-widgets/controls",
            "layout": "IPY_MODEL_3107b96c823b4b18a99eae5bff04348f"
          }
        },
        "5b715cec10144b5cb701220af1ee8eb0": {
          "model_module": "@jupyter-widgets/controls",
          "model_name": "DescriptionStyleModel",
          "model_module_version": "1.5.0",
          "state": {
            "_view_name": "StyleView",
            "_model_name": "DescriptionStyleModel",
            "description_width": "",
            "_view_module": "@jupyter-widgets/base",
            "_model_module_version": "1.5.0",
            "_view_count": null,
            "_view_module_version": "1.2.0",
            "_model_module": "@jupyter-widgets/controls"
          }
        },
        "422816d7876f4fc8848fa14a9d56fb45": {
          "model_module": "@jupyter-widgets/base",
          "model_name": "LayoutModel",
          "model_module_version": "1.2.0",
          "state": {
            "_view_name": "LayoutView",
            "grid_template_rows": null,
            "right": null,
            "justify_content": null,
            "_view_module": "@jupyter-widgets/base",
            "overflow": null,
            "_model_module_version": "1.2.0",
            "_view_count": null,
            "flex_flow": null,
            "width": null,
            "min_width": null,
            "border": null,
            "align_items": null,
            "bottom": null,
            "_model_module": "@jupyter-widgets/base",
            "top": null,
            "grid_column": null,
            "overflow_y": null,
            "overflow_x": null,
            "grid_auto_flow": null,
            "grid_area": null,
            "grid_template_columns": null,
            "flex": null,
            "_model_name": "LayoutModel",
            "justify_items": null,
            "grid_row": null,
            "max_height": null,
            "align_content": null,
            "visibility": null,
            "align_self": null,
            "height": null,
            "min_height": null,
            "padding": null,
            "grid_auto_rows": null,
            "grid_gap": null,
            "max_width": null,
            "order": null,
            "_view_module_version": "1.2.0",
            "grid_template_areas": null,
            "object_position": null,
            "object_fit": null,
            "grid_auto_columns": null,
            "margin": null,
            "display": null,
            "left": null
          }
        },
        "cfc821b956c04e37bf7cab3b4690b242": {
          "model_module": "@jupyter-widgets/controls",
          "model_name": "ProgressStyleModel",
          "model_module_version": "1.5.0",
          "state": {
            "_view_name": "StyleView",
            "_model_name": "ProgressStyleModel",
            "description_width": "",
            "_view_module": "@jupyter-widgets/base",
            "_model_module_version": "1.5.0",
            "_view_count": null,
            "_view_module_version": "1.2.0",
            "bar_color": null,
            "_model_module": "@jupyter-widgets/controls"
          }
        },
        "17e8555f8bda4ecc823bf897ce6dd19d": {
          "model_module": "@jupyter-widgets/base",
          "model_name": "LayoutModel",
          "model_module_version": "1.2.0",
          "state": {
            "_view_name": "LayoutView",
            "grid_template_rows": null,
            "right": null,
            "justify_content": null,
            "_view_module": "@jupyter-widgets/base",
            "overflow": null,
            "_model_module_version": "1.2.0",
            "_view_count": null,
            "flex_flow": null,
            "width": null,
            "min_width": null,
            "border": null,
            "align_items": null,
            "bottom": null,
            "_model_module": "@jupyter-widgets/base",
            "top": null,
            "grid_column": null,
            "overflow_y": null,
            "overflow_x": null,
            "grid_auto_flow": null,
            "grid_area": null,
            "grid_template_columns": null,
            "flex": null,
            "_model_name": "LayoutModel",
            "justify_items": null,
            "grid_row": null,
            "max_height": null,
            "align_content": null,
            "visibility": null,
            "align_self": null,
            "height": null,
            "min_height": null,
            "padding": null,
            "grid_auto_rows": null,
            "grid_gap": null,
            "max_width": null,
            "order": null,
            "_view_module_version": "1.2.0",
            "grid_template_areas": null,
            "object_position": null,
            "object_fit": null,
            "grid_auto_columns": null,
            "margin": null,
            "display": null,
            "left": null
          }
        },
        "f316ef42133a42668118f59daff20be9": {
          "model_module": "@jupyter-widgets/controls",
          "model_name": "DescriptionStyleModel",
          "model_module_version": "1.5.0",
          "state": {
            "_view_name": "StyleView",
            "_model_name": "DescriptionStyleModel",
            "description_width": "",
            "_view_module": "@jupyter-widgets/base",
            "_model_module_version": "1.5.0",
            "_view_count": null,
            "_view_module_version": "1.2.0",
            "_model_module": "@jupyter-widgets/controls"
          }
        },
        "3107b96c823b4b18a99eae5bff04348f": {
          "model_module": "@jupyter-widgets/base",
          "model_name": "LayoutModel",
          "model_module_version": "1.2.0",
          "state": {
            "_view_name": "LayoutView",
            "grid_template_rows": null,
            "right": null,
            "justify_content": null,
            "_view_module": "@jupyter-widgets/base",
            "overflow": null,
            "_model_module_version": "1.2.0",
            "_view_count": null,
            "flex_flow": null,
            "width": null,
            "min_width": null,
            "border": null,
            "align_items": null,
            "bottom": null,
            "_model_module": "@jupyter-widgets/base",
            "top": null,
            "grid_column": null,
            "overflow_y": null,
            "overflow_x": null,
            "grid_auto_flow": null,
            "grid_area": null,
            "grid_template_columns": null,
            "flex": null,
            "_model_name": "LayoutModel",
            "justify_items": null,
            "grid_row": null,
            "max_height": null,
            "align_content": null,
            "visibility": null,
            "align_self": null,
            "height": null,
            "min_height": null,
            "padding": null,
            "grid_auto_rows": null,
            "grid_gap": null,
            "max_width": null,
            "order": null,
            "_view_module_version": "1.2.0",
            "grid_template_areas": null,
            "object_position": null,
            "object_fit": null,
            "grid_auto_columns": null,
            "margin": null,
            "display": null,
            "left": null
          }
        },
        "9ec409d6a2754b98a075862da81b0e29": {
          "model_module": "@jupyter-widgets/controls",
          "model_name": "HBoxModel",
          "model_module_version": "1.5.0",
          "state": {
            "_view_name": "HBoxView",
            "_dom_classes": [],
            "_model_name": "HBoxModel",
            "_view_module": "@jupyter-widgets/controls",
            "_model_module_version": "1.5.0",
            "_view_count": null,
            "_view_module_version": "1.5.0",
            "box_style": "",
            "layout": "IPY_MODEL_2b5e67a0f21644e49ea98314cf408235",
            "_model_module": "@jupyter-widgets/controls",
            "children": [
              "IPY_MODEL_587ee27138ec46ec89580eff4818fd46",
              "IPY_MODEL_c60e2070cee24ce4bab224cdf5cbfb43",
              "IPY_MODEL_6b0f90f5ad014fa39a81ac84bb238b93"
            ]
          }
        },
        "2b5e67a0f21644e49ea98314cf408235": {
          "model_module": "@jupyter-widgets/base",
          "model_name": "LayoutModel",
          "model_module_version": "1.2.0",
          "state": {
            "_view_name": "LayoutView",
            "grid_template_rows": null,
            "right": null,
            "justify_content": null,
            "_view_module": "@jupyter-widgets/base",
            "overflow": null,
            "_model_module_version": "1.2.0",
            "_view_count": null,
            "flex_flow": null,
            "width": null,
            "min_width": null,
            "border": null,
            "align_items": null,
            "bottom": null,
            "_model_module": "@jupyter-widgets/base",
            "top": null,
            "grid_column": null,
            "overflow_y": null,
            "overflow_x": null,
            "grid_auto_flow": null,
            "grid_area": null,
            "grid_template_columns": null,
            "flex": null,
            "_model_name": "LayoutModel",
            "justify_items": null,
            "grid_row": null,
            "max_height": null,
            "align_content": null,
            "visibility": null,
            "align_self": null,
            "height": null,
            "min_height": null,
            "padding": null,
            "grid_auto_rows": null,
            "grid_gap": null,
            "max_width": null,
            "order": null,
            "_view_module_version": "1.2.0",
            "grid_template_areas": null,
            "object_position": null,
            "object_fit": null,
            "grid_auto_columns": null,
            "margin": null,
            "display": null,
            "left": null
          }
        },
        "587ee27138ec46ec89580eff4818fd46": {
          "model_module": "@jupyter-widgets/controls",
          "model_name": "HTMLModel",
          "model_module_version": "1.5.0",
          "state": {
            "_view_name": "HTMLView",
            "style": "IPY_MODEL_6b212bed353b49ef85a2192b4827b8c3",
            "_dom_classes": [],
            "description": "",
            "_model_name": "HTMLModel",
            "placeholder": "​",
            "_view_module": "@jupyter-widgets/controls",
            "_model_module_version": "1.5.0",
            "value": "",
            "_view_count": null,
            "_view_module_version": "1.5.0",
            "description_tooltip": null,
            "_model_module": "@jupyter-widgets/controls",
            "layout": "IPY_MODEL_2e351a286655494691fc0bdb64f9ece6"
          }
        },
        "c60e2070cee24ce4bab224cdf5cbfb43": {
          "model_module": "@jupyter-widgets/controls",
          "model_name": "FloatProgressModel",
          "model_module_version": "1.5.0",
          "state": {
            "_view_name": "ProgressView",
            "style": "IPY_MODEL_4880dcd57b264df689d790383173305a",
            "_dom_classes": [],
            "description": "",
            "_model_name": "FloatProgressModel",
            "bar_style": "success",
            "max": 4542,
            "_view_module": "@jupyter-widgets/controls",
            "_model_module_version": "1.5.0",
            "value": 4542,
            "_view_count": null,
            "_view_module_version": "1.5.0",
            "orientation": "horizontal",
            "min": 0,
            "description_tooltip": null,
            "_model_module": "@jupyter-widgets/controls",
            "layout": "IPY_MODEL_2fb5611e6658425b9eb3916ec636b646"
          }
        },
        "6b0f90f5ad014fa39a81ac84bb238b93": {
          "model_module": "@jupyter-widgets/controls",
          "model_name": "HTMLModel",
          "model_module_version": "1.5.0",
          "state": {
            "_view_name": "HTMLView",
            "style": "IPY_MODEL_19eb884b801f4c32ae58ed782119c581",
            "_dom_classes": [],
            "description": "",
            "_model_name": "HTMLModel",
            "placeholder": "​",
            "_view_module": "@jupyter-widgets/controls",
            "_model_module_version": "1.5.0",
            "value": " 5120/? [00:00&lt;00:00, 104734.35it/s]",
            "_view_count": null,
            "_view_module_version": "1.5.0",
            "description_tooltip": null,
            "_model_module": "@jupyter-widgets/controls",
            "layout": "IPY_MODEL_03bc3497ef214379a1feabf3608346a3"
          }
        },
        "6b212bed353b49ef85a2192b4827b8c3": {
          "model_module": "@jupyter-widgets/controls",
          "model_name": "DescriptionStyleModel",
          "model_module_version": "1.5.0",
          "state": {
            "_view_name": "StyleView",
            "_model_name": "DescriptionStyleModel",
            "description_width": "",
            "_view_module": "@jupyter-widgets/base",
            "_model_module_version": "1.5.0",
            "_view_count": null,
            "_view_module_version": "1.2.0",
            "_model_module": "@jupyter-widgets/controls"
          }
        },
        "2e351a286655494691fc0bdb64f9ece6": {
          "model_module": "@jupyter-widgets/base",
          "model_name": "LayoutModel",
          "model_module_version": "1.2.0",
          "state": {
            "_view_name": "LayoutView",
            "grid_template_rows": null,
            "right": null,
            "justify_content": null,
            "_view_module": "@jupyter-widgets/base",
            "overflow": null,
            "_model_module_version": "1.2.0",
            "_view_count": null,
            "flex_flow": null,
            "width": null,
            "min_width": null,
            "border": null,
            "align_items": null,
            "bottom": null,
            "_model_module": "@jupyter-widgets/base",
            "top": null,
            "grid_column": null,
            "overflow_y": null,
            "overflow_x": null,
            "grid_auto_flow": null,
            "grid_area": null,
            "grid_template_columns": null,
            "flex": null,
            "_model_name": "LayoutModel",
            "justify_items": null,
            "grid_row": null,
            "max_height": null,
            "align_content": null,
            "visibility": null,
            "align_self": null,
            "height": null,
            "min_height": null,
            "padding": null,
            "grid_auto_rows": null,
            "grid_gap": null,
            "max_width": null,
            "order": null,
            "_view_module_version": "1.2.0",
            "grid_template_areas": null,
            "object_position": null,
            "object_fit": null,
            "grid_auto_columns": null,
            "margin": null,
            "display": null,
            "left": null
          }
        },
        "4880dcd57b264df689d790383173305a": {
          "model_module": "@jupyter-widgets/controls",
          "model_name": "ProgressStyleModel",
          "model_module_version": "1.5.0",
          "state": {
            "_view_name": "StyleView",
            "_model_name": "ProgressStyleModel",
            "description_width": "",
            "_view_module": "@jupyter-widgets/base",
            "_model_module_version": "1.5.0",
            "_view_count": null,
            "_view_module_version": "1.2.0",
            "bar_color": null,
            "_model_module": "@jupyter-widgets/controls"
          }
        },
        "2fb5611e6658425b9eb3916ec636b646": {
          "model_module": "@jupyter-widgets/base",
          "model_name": "LayoutModel",
          "model_module_version": "1.2.0",
          "state": {
            "_view_name": "LayoutView",
            "grid_template_rows": null,
            "right": null,
            "justify_content": null,
            "_view_module": "@jupyter-widgets/base",
            "overflow": null,
            "_model_module_version": "1.2.0",
            "_view_count": null,
            "flex_flow": null,
            "width": null,
            "min_width": null,
            "border": null,
            "align_items": null,
            "bottom": null,
            "_model_module": "@jupyter-widgets/base",
            "top": null,
            "grid_column": null,
            "overflow_y": null,
            "overflow_x": null,
            "grid_auto_flow": null,
            "grid_area": null,
            "grid_template_columns": null,
            "flex": null,
            "_model_name": "LayoutModel",
            "justify_items": null,
            "grid_row": null,
            "max_height": null,
            "align_content": null,
            "visibility": null,
            "align_self": null,
            "height": null,
            "min_height": null,
            "padding": null,
            "grid_auto_rows": null,
            "grid_gap": null,
            "max_width": null,
            "order": null,
            "_view_module_version": "1.2.0",
            "grid_template_areas": null,
            "object_position": null,
            "object_fit": null,
            "grid_auto_columns": null,
            "margin": null,
            "display": null,
            "left": null
          }
        },
        "19eb884b801f4c32ae58ed782119c581": {
          "model_module": "@jupyter-widgets/controls",
          "model_name": "DescriptionStyleModel",
          "model_module_version": "1.5.0",
          "state": {
            "_view_name": "StyleView",
            "_model_name": "DescriptionStyleModel",
            "description_width": "",
            "_view_module": "@jupyter-widgets/base",
            "_model_module_version": "1.5.0",
            "_view_count": null,
            "_view_module_version": "1.2.0",
            "_model_module": "@jupyter-widgets/controls"
          }
        },
        "03bc3497ef214379a1feabf3608346a3": {
          "model_module": "@jupyter-widgets/base",
          "model_name": "LayoutModel",
          "model_module_version": "1.2.0",
          "state": {
            "_view_name": "LayoutView",
            "grid_template_rows": null,
            "right": null,
            "justify_content": null,
            "_view_module": "@jupyter-widgets/base",
            "overflow": null,
            "_model_module_version": "1.2.0",
            "_view_count": null,
            "flex_flow": null,
            "width": null,
            "min_width": null,
            "border": null,
            "align_items": null,
            "bottom": null,
            "_model_module": "@jupyter-widgets/base",
            "top": null,
            "grid_column": null,
            "overflow_y": null,
            "overflow_x": null,
            "grid_auto_flow": null,
            "grid_area": null,
            "grid_template_columns": null,
            "flex": null,
            "_model_name": "LayoutModel",
            "justify_items": null,
            "grid_row": null,
            "max_height": null,
            "align_content": null,
            "visibility": null,
            "align_self": null,
            "height": null,
            "min_height": null,
            "padding": null,
            "grid_auto_rows": null,
            "grid_gap": null,
            "max_width": null,
            "order": null,
            "_view_module_version": "1.2.0",
            "grid_template_areas": null,
            "object_position": null,
            "object_fit": null,
            "grid_auto_columns": null,
            "margin": null,
            "display": null,
            "left": null
          }
        }
      }
    }
  },
  "cells": [
    {
      "cell_type": "markdown",
      "metadata": {
        "id": "view-in-github",
        "colab_type": "text"
      },
      "source": [
        "<a href=\"https://colab.research.google.com/github/ShailendraSSY/Neural-Network/blob/master/M3_AST_16_Classical_Feature___Deep_Feature_Extraction_C.ipynb\" target=\"_parent\"><img src=\"https://colab.research.google.com/assets/colab-badge.svg\" alt=\"Open In Colab\"/></a>"
      ]
    },
    {
      "cell_type": "markdown",
      "metadata": {
        "id": "ACyro4_xpFwr"
      },
      "source": [
        "# Advanced Programme in Deep Learning (Foundations and Applications)\n",
        "## A Program by IISc and TalentSprint\n",
        "### Assignment 16 : Classical Feature and Deep Feature Extraction"
      ]
    },
    {
      "cell_type": "markdown",
      "metadata": {
        "id": "OWEKPQW2pWCM"
      },
      "source": [
        "## Learning Objectives"
      ]
    },
    {
      "cell_type": "markdown",
      "metadata": {
        "id": "K_UItlExBcPR"
      },
      "source": [
        "   \n",
        "  At the end of the experiment, you will be able to :\n",
        "    \n",
        "  * understand about extracting classical features using HOG\n",
        "  * understand about extracting deep features from pretrained model\n",
        "  * compare the accuracies of both the features applied on SVM\n",
        " "
      ]
    },
    {
      "cell_type": "markdown",
      "metadata": {
        "id": "rlfhVGmy95YI"
      },
      "source": [
        "### Dataset Description\n",
        "\n",
        "The MNIST dataset is an acronym that stands for the Modified National Institute of Standards and Technology dataset.\n",
        "\n",
        "* It is a dataset of 70,000 small square 28×28 pixel grayscale images of handwritten single digits between 0 and 9.\n",
        "\n",
        "* It is a widely used and deeply understood dataset and, for the most part, is “solved.” \n",
        "\n",
        "\n",
        "\n"
      ]
    },
    {
      "cell_type": "markdown",
      "metadata": {
        "id": "og1EHpbjgrHP"
      },
      "source": [
        "### Problem Statement"
      ]
    },
    {
      "cell_type": "markdown",
      "metadata": {
        "id": "rSwgCEA_uJ40"
      },
      "source": [
        "In this MNIST dataset, there are 70,000 images of handwritten single digits. Here, the task is to create a model that classify the images into the respective handwritten digits using **Classical Features (Generating HOG Features from Images)** and **Deep Features (Using Pretrained MLP model)**."
      ]
    },
    {
      "cell_type": "markdown",
      "metadata": {
        "id": "BNLA8HiKxQhc"
      },
      "source": [
        "### Setup Steps:"
      ]
    },
    {
      "cell_type": "code",
      "metadata": {
        "id": "2YzfoPvJDiTX"
      },
      "source": [
        "#@title Please enter your registration id to start: { run: \"auto\", display-mode: \"form\" }\n",
        "Id = \"2200023\" #@param {type:\"string\"}"
      ],
      "execution_count": 1,
      "outputs": []
    },
    {
      "cell_type": "code",
      "metadata": {
        "id": "rEzlYL4CDrmE"
      },
      "source": [
        "#@title Please enter your password (normally your phone number) to continue: { run: \"auto\", display-mode: \"form\" }\n",
        "password = \"9910549998\" #@param {type:\"string\"}"
      ],
      "execution_count": 2,
      "outputs": []
    },
    {
      "cell_type": "code",
      "metadata": {
        "id": "WBPPuGmBlDIN",
        "cellView": "form",
        "colab": {
          "base_uri": "https://localhost:8080/",
          "height": 34
        },
        "outputId": "f01efcac-ba74-44d3-b795-166ffc8b333f"
      },
      "source": [
        "#@title Run this cell to complete the setup for this Notebook\n",
        "from IPython import get_ipython\n",
        "\n",
        "ipython = get_ipython()\n",
        "  \n",
        "notebook= \"M3_AST_16_Classical_Feature_&_Deep_Feature_Extraction_C\" #name of the notebook\n",
        "\n",
        "def setup():\n",
        "#  ipython.magic(\"sx pip3 install torch\") \n",
        "    ipython.magic(\"sx wget https://cdn.iisc.talentsprint.com/DLFA/Experiment_related_data/pretrained_layer4_512n.pt\")\n",
        "    from IPython.display import HTML, display\n",
        "    display(HTML('<script src=\"https://dashboard.talentsprint.com/aiml/record_ip.html?traineeId={0}&recordId={1}\"></script>'.format(getId(),submission_id)))\n",
        "    print(\"Setup completed successfully\")\n",
        "    return\n",
        "\n",
        "def submit_notebook():\n",
        "    ipython.magic(\"notebook -e \"+ notebook + \".ipynb\")\n",
        "    \n",
        "    import requests, json, base64, datetime\n",
        "\n",
        "    url = \"https://dashboard.talentsprint.com/xp/app/save_notebook_attempts\"\n",
        "    if not submission_id:\n",
        "      data = {\"id\" : getId(), \"notebook\" : notebook, \"mobile\" : getPassword()}\n",
        "      r = requests.post(url, data = data)\n",
        "      r = json.loads(r.text)\n",
        "\n",
        "      if r[\"status\"] == \"Success\":\n",
        "          return r[\"record_id\"]\n",
        "      elif \"err\" in r:        \n",
        "        print(r[\"err\"])\n",
        "        return None        \n",
        "      else:\n",
        "        print (\"Something is wrong, the notebook will not be submitted for grading\")\n",
        "        return None\n",
        "    \n",
        "    elif getAnswer1() and getAnswer2() and getComplexity() and getAdditional() and getConcepts() and getComments() and getMentorSupport():\n",
        "      f = open(notebook + \".ipynb\", \"rb\")\n",
        "      file_hash = base64.b64encode(f.read())\n",
        "\n",
        "      data = {\"complexity\" : Complexity, \"additional\" :Additional, \n",
        "              \"concepts\" : Concepts, \"record_id\" : submission_id, \n",
        "              \"answer1\" : Answer1, \"answer2\" : Answer2, \"id\" : Id, \"file_hash\" : file_hash,\n",
        "              \"notebook\" : notebook,\n",
        "              \"feedback_experiments_input\" : Comments,\n",
        "              \"feedback_mentor_support\": Mentor_support}\n",
        "      r = requests.post(url, data = data)\n",
        "      r = json.loads(r.text)\n",
        "      if \"err\" in r:        \n",
        "        print(r[\"err\"])\n",
        "        return None   \n",
        "      else:\n",
        "        print(\"Your submission is successful.\")\n",
        "        print(\"Ref Id:\", submission_id)\n",
        "        print(\"Date of submission: \", r[\"date\"])\n",
        "        print(\"Time of submission: \", r[\"time\"])\n",
        "        print(\"View your submissions: https://dlfa.iisc.talentsprint.com/notebook_submissions\")\n",
        "        #print(\"For any queries/discrepancies, please connect with mentors through the chat icon in LMS dashboard.\")\n",
        "        return submission_id\n",
        "    else: submission_id\n",
        "    \n",
        "\n",
        "def getAdditional():\n",
        "  try:\n",
        "    if not Additional: \n",
        "      raise NameError\n",
        "    else:\n",
        "      return Additional  \n",
        "  except NameError:\n",
        "    print (\"Please answer Additional Question\")\n",
        "    return None\n",
        "\n",
        "def getComplexity():\n",
        "  try:\n",
        "    if not Complexity:\n",
        "      raise NameError\n",
        "    else:\n",
        "      return Complexity\n",
        "  except NameError:\n",
        "    print (\"Please answer Complexity Question\")\n",
        "    return None\n",
        "  \n",
        "def getConcepts():\n",
        "  try:\n",
        "    if not Concepts:\n",
        "      raise NameError\n",
        "    else:\n",
        "      return Concepts\n",
        "  except NameError:\n",
        "    print (\"Please answer Concepts Question\")\n",
        "    return None\n",
        "  \n",
        "  \n",
        "# def getWalkthrough():\n",
        "#   try:\n",
        "#     if not Walkthrough:\n",
        "#       raise NameError\n",
        "#     else:\n",
        "#       return Walkthrough\n",
        "#   except NameError:\n",
        "#     print (\"Please answer Walkthrough Question\")\n",
        "#     return None\n",
        "  \n",
        "def getComments():\n",
        "  try:\n",
        "    if not Comments:\n",
        "      raise NameError\n",
        "    else:\n",
        "      return Comments\n",
        "  except NameError:\n",
        "    print (\"Please answer Comments Question\")\n",
        "    return None\n",
        "  \n",
        "\n",
        "def getMentorSupport():\n",
        "  try:\n",
        "    if not Mentor_support:\n",
        "      raise NameError\n",
        "    else:\n",
        "      return Mentor_support\n",
        "  except NameError:\n",
        "    print (\"Please answer Mentor support Question\")\n",
        "    return None\n",
        "\n",
        "def getAnswer1():\n",
        "  try:\n",
        "    if not Answer1:\n",
        "      raise NameError \n",
        "    else: \n",
        "      return Answer1\n",
        "  except NameError:\n",
        "    print (\"Please answer Question 1\")\n",
        "    return None\n",
        "\n",
        "def getAnswer2():\n",
        "  try:\n",
        "    if not Answer2:\n",
        "      raise NameError \n",
        "    else: \n",
        "      return Answer2\n",
        "  except NameError:\n",
        "    print (\"Please answer Question 2\")\n",
        "    return None\n",
        "  \n",
        "\n",
        "def getId():\n",
        "  try: \n",
        "    return Id if Id else None\n",
        "  except NameError:\n",
        "    return None\n",
        "\n",
        "def getPassword():\n",
        "  try:\n",
        "    return password if password else None\n",
        "  except NameError:\n",
        "    return None\n",
        "\n",
        "submission_id = None\n",
        "### Setup \n",
        "if getPassword() and getId():\n",
        "  submission_id = submit_notebook()\n",
        "  if submission_id:\n",
        "    setup() \n",
        "else:\n",
        "  print (\"Please complete Id and Password cells before running setup\")\n",
        "\n"
      ],
      "execution_count": 3,
      "outputs": [
        {
          "output_type": "display_data",
          "data": {
            "text/html": [
              "<script src=\"https://dashboard.talentsprint.com/aiml/record_ip.html?traineeId=2200023&recordId=2258\"></script>"
            ],
            "text/plain": [
              "<IPython.core.display.HTML object>"
            ]
          },
          "metadata": {}
        },
        {
          "output_type": "stream",
          "name": "stdout",
          "text": [
            "Setup completed successfully\n"
          ]
        }
      ]
    },
    {
      "cell_type": "markdown",
      "metadata": {
        "id": "wYvmbZlHpZdK"
      },
      "source": [
        "### Importing the libraries"
      ]
    },
    {
      "cell_type": "code",
      "metadata": {
        "ExecuteTime": {
          "end_time": "2021-09-06T10:37:35.182535Z",
          "start_time": "2021-09-06T10:37:29.943302Z"
        },
        "id": "FhtLVsbdA_xx"
      },
      "source": [
        "import numpy as np \n",
        "from matplotlib import pyplot as plt\n",
        "%matplotlib inline\n",
        "from skimage import color\n",
        "from skimage.feature import hog\n",
        "from sklearn import svm\n",
        "from sklearn.metrics import classification_report,accuracy_score, confusion_matrix\n",
        "from tensorflow.keras.datasets import mnist\n",
        "import seaborn as sns\n",
        "import copy\n",
        "import torch\n",
        "import torch.optim as optim\n",
        "from torch.optim import lr_scheduler\n",
        "from torchvision import datasets, models, transforms\n",
        "from sklearn.datasets import load_digits\n",
        "from collections import Counter"
      ],
      "execution_count": 4,
      "outputs": []
    },
    {
      "cell_type": "markdown",
      "metadata": {
        "id": "CbnOjeU3qSkI"
      },
      "source": [
        "#### Loading and Splitting the data"
      ]
    },
    {
      "cell_type": "code",
      "metadata": {
        "id": "mPcqqmK4zTKN",
        "colab": {
          "base_uri": "https://localhost:8080/"
        },
        "outputId": "640f034a-2657-4937-ed70-467abae3fc80"
      },
      "source": [
        "(X_train,y_train),(X_test,y_test) = mnist.load_data()"
      ],
      "execution_count": 5,
      "outputs": [
        {
          "output_type": "stream",
          "name": "stdout",
          "text": [
            "Downloading data from https://storage.googleapis.com/tensorflow/tf-keras-datasets/mnist.npz\n",
            "11493376/11490434 [==============================] - 0s 0us/step\n",
            "11501568/11490434 [==============================] - 0s 0us/step\n"
          ]
        }
      ]
    },
    {
      "cell_type": "markdown",
      "metadata": {
        "id": "F8bueFWCqas9"
      },
      "source": [
        "### Normalizing the data\n",
        "\n",
        "Scales each pixel value from 0 to 255 to range from 0.0 to 1.0. Although raw pixel values can be used directly, it is better to normalize the input data so as to avoid large gradient values that could make training difficult. \n",
        "\n"
      ]
    },
    {
      "cell_type": "code",
      "metadata": {
        "id": "c98M2yT4zTHY"
      },
      "source": [
        "X_train = X_train.astype('float32') / 255\n",
        "# X_test = np.reshape(X_test, [-1, input_size])\n",
        "X_test = X_test.astype('float32') / 255"
      ],
      "execution_count": 6,
      "outputs": []
    },
    {
      "cell_type": "markdown",
      "metadata": {
        "id": "ZLV_5uhiphC_"
      },
      "source": [
        "\n",
        "### Feature Representation using HOG (Histogram of Oriented Gradients) Method\n",
        "\n",
        "The histogram of oriented gradients (HOG) is a feature descriptor used in computer vision and image processing for the purpose of object detection. The idea behind HOG is to extract features into a vector, and feed it into a classification algorithm that will assess whether a face (or any object you train it to recognize actually) is present in a region or not.\n",
        "\n",
        "Feature extraction is the process by which certain features of interest within an image are detected and represented for further processing. The resulting representation can be subsequently used as an input to the classification techniques, which will then classify, or recognize the semantic contents of the image or its objects. \n",
        "\n",
        "\n",
        "To identify the objects using HOG method requires the following steps to be followed :-\n",
        "\n",
        "\n",
        "**What is Gradient Image?**\n",
        "\n",
        "<img src=\"https://cdn.iiith.talentsprint.com/aiml/Experiment_related_data/Images/Gradient.png\" alt=\"Drawing\" height=\"200\" width=\"460\"/>\n",
        "\n",
        "We start with computing the horizontal and vertical gradients of the image. In the image when we move from left to right pixel by pixel, there might be a change in the pixel value i.e, from a black lower pixel number to a white higher pixel number. Going from left to right gives us the horizontal gradient and going from top to down gives a vertical gradient. This sudden change in the color is called a gradient. \n",
        "\n",
        "The gradient image removes a lot of non-essential information (e.g. constant colored background), but highlighted outlines and still we can identify the image. At every pixel, the gradient has a magnitude and a direction.\n",
        "\n",
        "**Orientation of Gradients**\n",
        "\n",
        "HOG works with a block which is similar to a sliding window. A block is considered as a pixel grid in which gradients are constituted from the magnitude and direction of change in the intensities of the pixel within the block.\n",
        "\n",
        "We first calculate the gradients by taking a block from the images. For the selected block, determine the gradient (or change) in the x-direction and aslo calculate the gradient in the y-direction. Once we get the gradients, we will also calculate the gradient magnitude and gradient angle for each pixel (in the image).\n",
        "\n",
        "**Histogram of Gradients**\n",
        "    \n",
        "The next step is to create a histogram of gradients for the block of pixels from the image. We will take each pixel value, find the angle/orientation of the pixel and update the frequency table. The same process is repeated for all the pixel values and we end up with a frequency table that denotes angles and the occurrence of these angles in the image. This frequency table can be used to generate a histogram with angle values on the x-axis and the frequency on the y-axis.\n",
        "\n",
        "From the HOG features we will find that the structure of the object is well maintained, ignoring all the insignificant features.\n",
        "\n",
        "For more details refer to the following [link](https://medium.com/analytics-vidhya/a-gentle-introduction-into-the-histogram-of-oriented-gradients-fdee9ed8f2aa)"
      ]
    },
    {
      "cell_type": "markdown",
      "metadata": {
        "id": "9fNYlTTFqk3w"
      },
      "source": [
        "#### Generating HOG features for training set"
      ]
    },
    {
      "cell_type": "code",
      "metadata": {
        "id": "zuVZ7v5GzTB9",
        "colab": {
          "base_uri": "https://localhost:8080/"
        },
        "outputId": "fedc915f-28f2-40a7-c31e-69504268d55e"
      },
      "source": [
        "labels = np.array(y_train, 'int')\n",
        "\n",
        "# Extract the hog features\n",
        "list_hog_fd_train = []\n",
        "for feature in X_train:\n",
        "    fd_train,_ = hog(feature, orientations=9, pixels_per_cell=(14, 14), cells_per_block=(1, 1), visualize=True)\n",
        "    list_hog_fd_train.append(fd_train)\n",
        "\n",
        "hog_features_train = np.array(list_hog_fd_train, 'float64')\n",
        "\n",
        "print (\"Count of digits in dataset\", Counter(labels))"
      ],
      "execution_count": 7,
      "outputs": [
        {
          "output_type": "stream",
          "name": "stdout",
          "text": [
            "Count of digits in dataset Counter({1: 6742, 7: 6265, 3: 6131, 2: 5958, 9: 5949, 0: 5923, 6: 5918, 8: 5851, 4: 5842, 5: 5421})\n"
          ]
        }
      ]
    },
    {
      "cell_type": "markdown",
      "metadata": {
        "id": "en6FKJZ2q5Sq"
      },
      "source": [
        "#### Generating HOG features for test set"
      ]
    },
    {
      "cell_type": "code",
      "metadata": {
        "id": "s_qui36ZzikV",
        "colab": {
          "base_uri": "https://localhost:8080/"
        },
        "outputId": "0d21dd07-d069-4e05-f3b5-e73ceef4bc0c"
      },
      "source": [
        "list_hog_fd_test = []\n",
        "for feature in X_test:\n",
        "    fd_test,_ = hog(feature, orientations=9, pixels_per_cell=(14, 14), cells_per_block=(1, 1), visualize=True)\n",
        "    list_hog_fd_test.append(fd_test)\n",
        "\n",
        "hog_features_test = np.array(list_hog_fd_test, 'float64')\n",
        "\n",
        "print (\"Count of digits in dataset\", Counter(labels))"
      ],
      "execution_count": 8,
      "outputs": [
        {
          "output_type": "stream",
          "name": "stdout",
          "text": [
            "Count of digits in dataset Counter({1: 6742, 7: 6265, 3: 6131, 2: 5958, 9: 5949, 0: 5923, 6: 5918, 8: 5851, 4: 5842, 5: 5421})\n"
          ]
        }
      ]
    },
    {
      "cell_type": "code",
      "metadata": {
        "id": "QYsX0tFezieo"
      },
      "source": [
        "# Reshaping the train and test labels\n",
        "train_labels =  np.array(y_train).reshape(len(y_train),1)\n",
        "test_labels =  np.array(y_test).reshape(len(y_test),1)"
      ],
      "execution_count": 9,
      "outputs": []
    },
    {
      "cell_type": "markdown",
      "metadata": {
        "id": "DWcTRJ0hrfBT"
      },
      "source": [
        "#### Training the SVM with HOG features and the train labels"
      ]
    },
    {
      "cell_type": "code",
      "metadata": {
        "id": "7yTueJ_Czicv"
      },
      "source": [
        "def train(train_features, train_labels):\n",
        "    \n",
        "    # Create an instance for the LinearSVC classifier\n",
        "    clf = svm.SVC(kernel='linear', random_state=0, max_iter=1000,probability = True)\n",
        "\n",
        "    # Fitting the data into the model\n",
        "    clf.fit(train_features, train_labels)\n",
        "\n",
        "    return clf"
      ],
      "execution_count": 10,
      "outputs": []
    },
    {
      "cell_type": "markdown",
      "metadata": {
        "id": "g3nBu6ETrnvm"
      },
      "source": [
        "#### Predicting the test data using HOG features"
      ]
    },
    {
      "cell_type": "code",
      "metadata": {
        "id": "aP2oiQGFziYt"
      },
      "source": [
        "def predict(clf, test_features):\n",
        "    \n",
        "    # Get the prediction on the test data\n",
        "    predictions = clf.predict(test_features)\n",
        "\n",
        "    return predictions"
      ],
      "execution_count": 11,
      "outputs": []
    },
    {
      "cell_type": "markdown",
      "metadata": {
        "id": "gxKa55KisAu_"
      },
      "source": [
        "#### Evaluation of accuracies using 'predictions' vs 'ground truth'. \n",
        "\n",
        "\n"
      ]
    },
    {
      "cell_type": "code",
      "metadata": {
        "id": "gyKwfySqziU9"
      },
      "source": [
        "def eval_hog_fe(predictions, test_labels):   \n",
        "    return accuracy_score(predictions, test_labels)"
      ],
      "execution_count": 12,
      "outputs": []
    },
    {
      "cell_type": "markdown",
      "metadata": {
        "id": "xYqQHmlesbOE"
      },
      "source": [
        "#### Training, predicting, and evaluating test set. "
      ]
    },
    {
      "cell_type": "code",
      "metadata": {
        "id": "r0g6YK3H8jOi"
      },
      "source": [
        "from sklearn.model_selection import train_test_split\n",
        "hog_features_train,hog_features_valid,y_train,y_valid = train_test_split(hog_features_train,train_labels,test_size = 10000)"
      ],
      "execution_count": 13,
      "outputs": []
    },
    {
      "cell_type": "code",
      "metadata": {
        "id": "FIAgogUk8oMj",
        "colab": {
          "base_uri": "https://localhost:8080/"
        },
        "outputId": "aee20fa5-eb9a-41c0-ba73-ccd441de9590"
      },
      "source": [
        "# Call the functions to train the classifier and get the predictions\n",
        "trained_clf_hog = train(hog_features_train, y_train)"
      ],
      "execution_count": 14,
      "outputs": [
        {
          "output_type": "stream",
          "name": "stderr",
          "text": [
            "/usr/local/lib/python3.7/dist-packages/sklearn/utils/validation.py:760: DataConversionWarning: A column-vector y was passed when a 1d array was expected. Please change the shape of y to (n_samples, ), for example using ravel().\n",
            "  y = column_or_1d(y, warn=True)\n",
            "/usr/local/lib/python3.7/dist-packages/sklearn/svm/_base.py:231: ConvergenceWarning: Solver terminated early (max_iter=1000).  Consider pre-processing your data with StandardScaler or MinMaxScaler.\n",
            "  % self.max_iter, ConvergenceWarning)\n"
          ]
        }
      ]
    },
    {
      "cell_type": "markdown",
      "metadata": {
        "id": "mg79lJg0JdrL"
      },
      "source": [
        "#### Evaluating the training loss"
      ]
    },
    {
      "cell_type": "code",
      "metadata": {
        "id": "Z44V1ReD8qCZ",
        "colab": {
          "base_uri": "https://localhost:8080/"
        },
        "outputId": "f79ed5a0-4477-4f9e-9c75-b02045bfd402"
      },
      "source": [
        "from sklearn.metrics import log_loss\n",
        "pred_train = trained_clf_hog.predict_proba(hog_features_train)\n",
        "eval_train = log_loss(y_train,pred_train) \n",
        "# train_loss = log_loss(y_train, predictions_de_fe_train)\n",
        "print(f\"Loss in Training set is {eval_train}\")"
      ],
      "execution_count": 15,
      "outputs": [
        {
          "output_type": "stream",
          "name": "stdout",
          "text": [
            "Loss in Training set is 0.3885805951984212\n"
          ]
        }
      ]
    },
    {
      "cell_type": "markdown",
      "metadata": {
        "id": "pyXW4A7_JR-x"
      },
      "source": [
        "#### Evaluating loss in validation set"
      ]
    },
    {
      "cell_type": "code",
      "metadata": {
        "id": "uXvdJ59h8qAr",
        "colab": {
          "base_uri": "https://localhost:8080/"
        },
        "outputId": "bfedfc5f-3e72-4cdb-aa72-d7ee4c764ea6"
      },
      "source": [
        "pred_valid = trained_clf_hog.predict_proba(hog_features_valid)\n",
        "eval_valid = log_loss(y_valid,pred_valid) \n",
        "# train_loss = log_loss(y_train, predictions_de_fe_train)\n",
        "print(f\"Loss in Validation set is {eval_valid}\")"
      ],
      "execution_count": 16,
      "outputs": [
        {
          "output_type": "stream",
          "name": "stdout",
          "text": [
            "Loss in Validation set is 0.4189321906955416\n"
          ]
        }
      ]
    },
    {
      "cell_type": "code",
      "metadata": {
        "id": "iPsy1jea8p9E"
      },
      "source": [
        "predictions_hog = predict(trained_clf_hog, list_hog_fd_test)\n",
        "# Calculate the accuracy\n",
        "result = eval_hog_fe(predictions_hog, test_labels)"
      ],
      "execution_count": 17,
      "outputs": []
    },
    {
      "cell_type": "code",
      "metadata": {
        "id": "wtj6Ft6PzS7B",
        "colab": {
          "base_uri": "https://localhost:8080/"
        },
        "outputId": "5c0d6273-0759-4b26-ba45-ae90e4ef21ce"
      },
      "source": [
        "# Print the accuracy on HOG features\n",
        "print('Accuracy score of HOG features is:', result*100)"
      ],
      "execution_count": 18,
      "outputs": [
        {
          "output_type": "stream",
          "name": "stdout",
          "text": [
            "Accuracy score of HOG features is: 88.14\n"
          ]
        }
      ]
    },
    {
      "cell_type": "code",
      "metadata": {
        "id": "uG9ZVLDFzS4W"
      },
      "source": [
        "# Print the classification report\n",
        "#print(classification_report(test_labels, predictions_hog))"
      ],
      "execution_count": 19,
      "outputs": []
    },
    {
      "cell_type": "markdown",
      "metadata": {
        "id": "4pDVvmeNtru-"
      },
      "source": [
        "#### Confusion matrix for predicted labels of test set"
      ]
    },
    {
      "cell_type": "code",
      "metadata": {
        "id": "ppOO_ThJzS1U",
        "colab": {
          "base_uri": "https://localhost:8080/",
          "height": 334
        },
        "outputId": "f81195b8-b9bd-4409-ace5-ff9ead238757"
      },
      "source": [
        "mat_hog = confusion_matrix(test_labels, predictions_hog)\n",
        "\n",
        "plt.figure(figsize = (12,5))\n",
        "\n",
        "# Visualizing the confusion matrix as a heatmap\n",
        "sns.heatmap(mat_hog.T, square=True, annot=True, fmt='d', cbar=True)\n",
        "plt.xlabel('True labels')\n",
        "plt.ylabel('Predicted labels');"
      ],
      "execution_count": 20,
      "outputs": [
        {
          "output_type": "display_data",
          "data": {
            "image/png": "[encoded data removed]",
            "text/plain": [
              "<Figure size 864x360 with 2 Axes>"
            ]
          },
          "metadata": {
            "needs_background": "light"
          }
        }
      ]
    },
    {
      "cell_type": "markdown",
      "metadata": {
        "id": "OYJaSm3aJw_j"
      },
      "source": [
        "### Deep Feature Extraction"
      ]
    },
    {
      "cell_type": "markdown",
      "metadata": {
        "id": "igo5eFGzv_EW"
      },
      "source": [
        "#### Defining the Deep Neural Architecture (MLP)"
      ]
    },
    {
      "cell_type": "markdown",
      "metadata": {
        "id": "AbdENu4t0GxT"
      },
      "source": [
        "Here, the neural network architecture takes 784(28x28) flattened inputs with 4 hidden layers having 512 neurons in each layer. The output layer has 10 outputs for for classifying 10 labels. "
      ]
    },
    {
      "cell_type": "code",
      "metadata": {
        "ExecuteTime": {
          "end_time": "2021-09-06T10:39:21.880315Z",
          "start_time": "2021-09-06T10:39:21.864396Z"
        },
        "id": "a6UHL5YZve_0"
      },
      "source": [
        "import torch.nn as nn\n",
        "import torch.nn.functional as F\n",
        "\n",
        "class Net_pretrained(nn.Module):\n",
        "    def __init__(self):\n",
        "        super(Net_pretrained, self).__init__()\n",
        "        # linear layer (784 -> 1 hidden node)\n",
        "        self.fc1 = nn.Linear(28 * 28, 512)   # Input layer with flattend input\n",
        "        self.fc2 = nn.Linear(512, 512)      # Hidden layer with 512 neurons\n",
        "        self.fc3 = nn.Linear(512, 512)\n",
        "        self.fc4 = nn.Linear(512,512)\n",
        "        self.fc5 = nn.Linear(512, 10)\n",
        "        \n",
        "\n",
        "    def forward(self, x):\n",
        "        # flatten image input\n",
        "        x = x.view(-1, 28 * 28) \n",
        "        # add hidden layer, with relu activation function\n",
        "        x1 = F.relu(self.fc1(x))         \n",
        "        x2 = F.relu(self.fc2(x1))  \n",
        "        x3 = F.relu(self.fc3(x2))\n",
        "        x4 = F.relu(self.fc4(x3))\n",
        "        output = self.fc5(x4)\n",
        "        return output,x3      # Returning output of output layer and hidden layer \n"
      ],
      "execution_count": 21,
      "outputs": []
    },
    {
      "cell_type": "markdown",
      "metadata": {
        "id": "AovUYlgbvwYR"
      },
      "source": [
        "#### Inferencing the pretrained model"
      ]
    },
    {
      "cell_type": "code",
      "metadata": {
        "ExecuteTime": {
          "end_time": "2021-09-06T10:39:34.528002Z",
          "start_time": "2021-09-06T10:39:34.392398Z"
        },
        "id": "sOab6pqzve_z",
        "colab": {
          "base_uri": "https://localhost:8080/"
        },
        "outputId": "42a4a696-720e-4fae-ac26-a782e85f17e2"
      },
      "source": [
        "# Specify a path\n",
        "PATH = '/content/pretrained_layer4_512n.pt'\n",
        "\n",
        "# Load\n",
        "model_pretrained = Net_pretrained()\n",
        "model_pretrained.load_state_dict(torch.load(PATH))\n",
        "model_pretrained.eval()"
      ],
      "execution_count": 22,
      "outputs": [
        {
          "output_type": "execute_result",
          "data": {
            "text/plain": [
              "Net_pretrained(\n",
              "  (fc1): Linear(in_features=784, out_features=512, bias=True)\n",
              "  (fc2): Linear(in_features=512, out_features=512, bias=True)\n",
              "  (fc3): Linear(in_features=512, out_features=512, bias=True)\n",
              "  (fc4): Linear(in_features=512, out_features=512, bias=True)\n",
              "  (fc5): Linear(in_features=512, out_features=10, bias=True)\n",
              ")"
            ]
          },
          "metadata": {},
          "execution_count": 22
        }
      ]
    },
    {
      "cell_type": "markdown",
      "metadata": {
        "id": "RXszk1jvKlh0"
      },
      "source": [
        "#### Specify Loss Function and Optimizer\n",
        "\n",
        "**Cross Entropy Loss** : Cross-entropy loss, or log loss, measures the performance of a classification model whose output is a probability value between 0 and 1. Cross-entropy loss increases as the predicted probability diverges from the actual label. \n",
        "\n",
        "For example, predicting a probability of .012 when the actual observation label is 1 would be bad and result in a high loss value. A perfect model would have a log loss of 0.\n",
        "\n",
        "**SGD Optimizer**: Stochastic gradient descent (SGD) is an optimization technique which performs a parameter update for each training example. SGD performs one update at a time and it is therefore usually much faster."
      ]
    },
    {
      "cell_type": "code",
      "metadata": {
        "ExecuteTime": {
          "end_time": "2021-09-06T10:40:16.101063Z",
          "start_time": "2021-09-06T10:40:16.087067Z"
        },
        "id": "gobdMCw_vIPg"
      },
      "source": [
        "## TODO: Specify loss and optimization functions\n",
        "\n",
        "# specify loss function\n",
        "criterion = nn.CrossEntropyLoss()\n",
        "\n",
        "# specify optimizer\n",
        "optimizer = torch.optim.SGD(model_pretrained.parameters(), lr=0.01)"
      ],
      "execution_count": 23,
      "outputs": []
    },
    {
      "cell_type": "markdown",
      "metadata": {
        "id": "-RFLFO6VxPo7"
      },
      "source": [
        "#### Loading the input "
      ]
    },
    {
      "cell_type": "code",
      "metadata": {
        "ExecuteTime": {
          "end_time": "2021-09-06T10:40:11.388525Z",
          "start_time": "2021-09-06T10:39:42.135767Z"
        },
        "id": "nK6gajVjvIY_",
        "colab": {
          "base_uri": "https://localhost:8080/",
          "height": 471,
          "referenced_widgets": [
            "f8ad799dff1e4a7ba9399c8454dbc20a",
            "2d6f3d2e42214dd29ad05c5d1869883c",
            "1351c86f54d84cf083717141ee49a1c4",
            "9d40fa41efe447af880aa540eedaa179",
            "07ab3df3f4d047f2aeaacdda92652dd6",
            "d8f4f776a950453b8d01bd88be1028d0",
            "635c71d3fc1349079eb3791378b85d80",
            "055cb28e515f48d29374bc5c2360cf29",
            "491e83a9991f49a2874f2ae997ede8ac",
            "e664f23e1caf4215910204f0555839de",
            "17c847ef7038402eb176cfa98f511c19",
            "b9c92d6e2ac54801874b5cf40a41e555",
            "12f7f5507f5247bfa6a869e84019dad3",
            "37037e03aeb646f78bab3bf4f7c5afe0",
            "5fb803c0f7e24ab780ed829c563aeee3",
            "00aa194d77334b55b166786d9d4ef0a7",
            "a65b77ec004f48cfafc28e951953a064",
            "03cf805a86394efc8b723c1ac00ddf5d",
            "bd3186fb68ca4ca9bc031fc616c22d1b",
            "2fba24c7ab734c32905d5934835e8326",
            "3f6652b196b145c5ad0e9a190c83d395",
            "eefac1d57e2842678d3077a9ea067bff",
            "09400b549ad14af896bc24a017a25f7d",
            "36d9786b19f34ae38a1cf90969c892c7",
            "59831ed5bd0e4c5db3d762bdb1aab827",
            "a6323863f3a9466bb65c3b74228bcdb0",
            "2331e531ddc8463db148378323b23e4c",
            "5b715cec10144b5cb701220af1ee8eb0",
            "422816d7876f4fc8848fa14a9d56fb45",
            "cfc821b956c04e37bf7cab3b4690b242",
            "17e8555f8bda4ecc823bf897ce6dd19d",
            "f316ef42133a42668118f59daff20be9",
            "3107b96c823b4b18a99eae5bff04348f",
            "9ec409d6a2754b98a075862da81b0e29",
            "2b5e67a0f21644e49ea98314cf408235",
            "587ee27138ec46ec89580eff4818fd46",
            "c60e2070cee24ce4bab224cdf5cbfb43",
            "6b0f90f5ad014fa39a81ac84bb238b93",
            "6b212bed353b49ef85a2192b4827b8c3",
            "2e351a286655494691fc0bdb64f9ece6",
            "4880dcd57b264df689d790383173305a",
            "2fb5611e6658425b9eb3916ec636b646",
            "19eb884b801f4c32ae58ed782119c581",
            "03bc3497ef214379a1feabf3608346a3"
          ]
        },
        "outputId": "b7622e9e-4871-499b-c17b-c2040128ddff"
      },
      "source": [
        "transform = transforms.ToTensor()\n",
        "# number of subprocesses to use for data loading\n",
        "num_workers = 0\n",
        "# how many samples per batch to load\n",
        "batch_size = 1\n",
        "\n",
        "# choose the training and test datasets\n",
        "train_data = datasets.MNIST(root='data', train=True,\n",
        "                                   download=True, transform=transform)\n",
        "test_data = datasets.MNIST(root='data', train=False,\n",
        "                                  download=True, transform=transform)\n",
        "train_loader = torch.utils.data.DataLoader(train_data, batch_size=batch_size,\n",
        "    num_workers=num_workers)\n",
        "test_loader = torch.utils.data.DataLoader(test_data, batch_size=batch_size, \n",
        "    num_workers=num_workers)"
      ],
      "execution_count": 24,
      "outputs": [
        {
          "output_type": "stream",
          "name": "stdout",
          "text": [
            "Downloading http://yann.lecun.com/exdb/mnist/train-images-idx3-ubyte.gz\n",
            "Downloading http://yann.lecun.com/exdb/mnist/train-images-idx3-ubyte.gz to data/MNIST/raw/train-images-idx3-ubyte.gz\n"
          ]
        },
        {
          "output_type": "display_data",
          "data": {
            "application/vnd.jupyter.widget-view+json": {
              "model_id": "f8ad799dff1e4a7ba9399c8454dbc20a",
              "version_minor": 0,
              "version_major": 2
            },
            "text/plain": [
              "  0%|          | 0/9912422 [00:00<?, ?it/s]"
            ]
          },
          "metadata": {}
        },
        {
          "output_type": "stream",
          "name": "stdout",
          "text": [
            "Extracting data/MNIST/raw/train-images-idx3-ubyte.gz to data/MNIST/raw\n",
            "\n",
            "Downloading http://yann.lecun.com/exdb/mnist/train-labels-idx1-ubyte.gz\n",
            "Downloading http://yann.lecun.com/exdb/mnist/train-labels-idx1-ubyte.gz to data/MNIST/raw/train-labels-idx1-ubyte.gz\n"
          ]
        },
        {
          "output_type": "display_data",
          "data": {
            "application/vnd.jupyter.widget-view+json": {
              "model_id": "b9c92d6e2ac54801874b5cf40a41e555",
              "version_minor": 0,
              "version_major": 2
            },
            "text/plain": [
              "  0%|          | 0/28881 [00:00<?, ?it/s]"
            ]
          },
          "metadata": {}
        },
        {
          "output_type": "stream",
          "name": "stdout",
          "text": [
            "Extracting data/MNIST/raw/train-labels-idx1-ubyte.gz to data/MNIST/raw\n",
            "\n",
            "Downloading http://yann.lecun.com/exdb/mnist/t10k-images-idx3-ubyte.gz\n",
            "Downloading http://yann.lecun.com/exdb/mnist/t10k-images-idx3-ubyte.gz to data/MNIST/raw/t10k-images-idx3-ubyte.gz\n"
          ]
        },
        {
          "output_type": "display_data",
          "data": {
            "application/vnd.jupyter.widget-view+json": {
              "model_id": "09400b549ad14af896bc24a017a25f7d",
              "version_minor": 0,
              "version_major": 2
            },
            "text/plain": [
              "  0%|          | 0/1648877 [00:00<?, ?it/s]"
            ]
          },
          "metadata": {}
        },
        {
          "output_type": "stream",
          "name": "stdout",
          "text": [
            "Extracting data/MNIST/raw/t10k-images-idx3-ubyte.gz to data/MNIST/raw\n",
            "\n",
            "Downloading http://yann.lecun.com/exdb/mnist/t10k-labels-idx1-ubyte.gz\n",
            "Downloading http://yann.lecun.com/exdb/mnist/t10k-labels-idx1-ubyte.gz to data/MNIST/raw/t10k-labels-idx1-ubyte.gz\n"
          ]
        },
        {
          "output_type": "display_data",
          "data": {
            "application/vnd.jupyter.widget-view+json": {
              "model_id": "9ec409d6a2754b98a075862da81b0e29",
              "version_minor": 0,
              "version_major": 2
            },
            "text/plain": [
              "  0%|          | 0/4542 [00:00<?, ?it/s]"
            ]
          },
          "metadata": {}
        },
        {
          "output_type": "stream",
          "name": "stdout",
          "text": [
            "Extracting data/MNIST/raw/t10k-labels-idx1-ubyte.gz to data/MNIST/raw\n",
            "\n"
          ]
        },
        {
          "output_type": "stream",
          "name": "stderr",
          "text": [
            "/usr/local/lib/python3.7/dist-packages/torchvision/datasets/mnist.py:498: UserWarning: The given NumPy array is not writeable, and PyTorch does not support non-writeable tensors. This means you can write to the underlying (supposedly non-writeable) NumPy array using the tensor. You may want to copy the array to protect its data or make it writeable before converting it to a tensor. This type of warning will be suppressed for the rest of this program. (Triggered internally at  /pytorch/torch/csrc/utils/tensor_numpy.cpp:180.)\n",
            "  return torch.from_numpy(parsed.astype(m[2], copy=False)).view(*s)\n"
          ]
        }
      ]
    },
    {
      "cell_type": "markdown",
      "metadata": {
        "id": "ZPRIf8WdxkDj"
      },
      "source": [
        "#### Extracting the deep features using pretrained model"
      ]
    },
    {
      "cell_type": "code",
      "metadata": {
        "ExecuteTime": {
          "end_time": "2021-09-06T10:40:30.904955Z",
          "start_time": "2021-09-06T10:40:30.887006Z"
        },
        "id": "pGZkZIbzmCiv"
      },
      "source": [
        "def get_features(image):\n",
        "    model_pretrained.eval()\n",
        "    _, deep_feature = model_pretrained(image)\n",
        "    return deep_feature"
      ],
      "execution_count": 25,
      "outputs": []
    },
    {
      "cell_type": "markdown",
      "metadata": {
        "id": "oobFgl_Ax2n9"
      },
      "source": [
        "#### Extracting deep features of training set."
      ]
    },
    {
      "cell_type": "code",
      "metadata": {
        "ExecuteTime": {
          "end_time": "2021-09-06T10:47:18.054383Z",
          "start_time": "2021-09-06T10:46:06.038455Z"
        },
        "id": "-Hb7k2VpFFU8"
      },
      "source": [
        "deep_features_train = []\n",
        "target_train = []\n",
        "for data,target in train_loader:\n",
        "    deep_features_train.append(get_features(data[0].squeeze()))\n",
        "    target_train.append(target)"
      ],
      "execution_count": 26,
      "outputs": []
    },
    {
      "cell_type": "markdown",
      "metadata": {
        "id": "_h6xZOvsyA3T"
      },
      "source": [
        "#### Extracting deep features of test set."
      ]
    },
    {
      "cell_type": "code",
      "metadata": {
        "ExecuteTime": {
          "end_time": "2021-09-06T10:50:54.355604Z",
          "start_time": "2021-09-06T10:46:07.076Z"
        },
        "id": "HWN7jiSXLRZx"
      },
      "source": [
        "deep_features_test = []\n",
        "target_test = []\n",
        "for data,target in test_loader:\n",
        "    deep_features_test.append(get_features(data[0].squeeze()))\n",
        "    target_test.append(target)"
      ],
      "execution_count": 27,
      "outputs": []
    },
    {
      "cell_type": "code",
      "metadata": {
        "id": "cVBShxFN_Bkv",
        "colab": {
          "base_uri": "https://localhost:8080/"
        },
        "outputId": "79e4841e-5459-4066-938a-d84797095aea"
      },
      "source": [
        "deep_features_train[0].shape # shape of every row in training test"
      ],
      "execution_count": 28,
      "outputs": [
        {
          "output_type": "execute_result",
          "data": {
            "text/plain": [
              "torch.Size([1, 512])"
            ]
          },
          "metadata": {},
          "execution_count": 28
        }
      ]
    },
    {
      "cell_type": "markdown",
      "metadata": {
        "id": "Oc3pZ9zJyIQC"
      },
      "source": [
        "After generating deep features using pretrained model the deep features are 60000 tensors of size (1, 512)\n",
        "`torch.cat` function concatenates the given sequence of tensors in the given dimension.So the deep features will now be of size (60000,512) for training set and (10000,512) for test set."
      ]
    },
    {
      "cell_type": "code",
      "metadata": {
        "ExecuteTime": {
          "end_time": "2021-09-06T10:50:54.375560Z",
          "start_time": "2021-09-06T10:48:49.732Z"
        },
        "id": "ZCr6hYnBLxmQ"
      },
      "source": [
        "deep_features_train = torch.cat(deep_features_train, 0) \n",
        "deep_features_test = torch.cat(deep_features_test, 0) "
      ],
      "execution_count": 29,
      "outputs": []
    },
    {
      "cell_type": "code",
      "metadata": {
        "id": "M7kFCprF_gPC",
        "colab": {
          "base_uri": "https://localhost:8080/"
        },
        "outputId": "650bbff4-37b3-4d33-d97a-51fe040cfe45"
      },
      "source": [
        "deep_features_train.shape  # after applying torch.cat() method"
      ],
      "execution_count": 30,
      "outputs": [
        {
          "output_type": "execute_result",
          "data": {
            "text/plain": [
              "torch.Size([60000, 512])"
            ]
          },
          "metadata": {},
          "execution_count": 30
        }
      ]
    },
    {
      "cell_type": "markdown",
      "metadata": {
        "id": "_puTlgMEyJiY"
      },
      "source": [
        "#### Converting labels to numpy array."
      ]
    },
    {
      "cell_type": "code",
      "metadata": {
        "ExecuteTime": {
          "end_time": "2021-09-06T10:50:54.389538Z",
          "start_time": "2021-09-06T10:50:47.362Z"
        },
        "id": "pI2Sq-t7LxjW"
      },
      "source": [
        "target_train = np.array(target_train)\n",
        "target_test = np.array(target_test)"
      ],
      "execution_count": 31,
      "outputs": []
    },
    {
      "cell_type": "markdown",
      "metadata": {
        "id": "dpyDo_tUyboV"
      },
      "source": [
        "#### Training the SVM using deep features."
      ]
    },
    {
      "cell_type": "code",
      "metadata": {
        "id": "2HGTw9SHHgQu"
      },
      "source": [
        "def train(train_features, train_labels):\n",
        "    \n",
        "    # Create an instance for the LinearSVC classifier\n",
        "    clf = svm.SVC(kernel='linear', random_state=0, max_iter=1000,probability = True)\n",
        "\n",
        "    # Fitting the data into the model\n",
        "    clf.fit(train_features, train_labels)\n",
        "\n",
        "    return clf"
      ],
      "execution_count": 32,
      "outputs": []
    },
    {
      "cell_type": "markdown",
      "metadata": {
        "id": "vs-3jSLEykxQ"
      },
      "source": [
        "#### Get the prediction on the test data"
      ]
    },
    {
      "cell_type": "code",
      "metadata": {
        "id": "BYdJ8wq5HgMj"
      },
      "source": [
        "def predict(clf, test_features):\n",
        "    \n",
        "    predictions = clf.predict(test_features)\n",
        "\n",
        "    return predictions"
      ],
      "execution_count": 33,
      "outputs": []
    },
    {
      "cell_type": "markdown",
      "metadata": {
        "id": "3mxwX5Xoy1EF"
      },
      "source": [
        "#### Evaluation of accuracies using 'predictions' vs 'ground truth' or test_labels. "
      ]
    },
    {
      "cell_type": "code",
      "metadata": {
        "id": "9dcuM07eHgJE"
      },
      "source": [
        "def eval_deep_fe(predictions, test_labels):   \n",
        "    return accuracy_score(predictions, test_labels)"
      ],
      "execution_count": 34,
      "outputs": []
    },
    {
      "cell_type": "code",
      "metadata": {
        "id": "H5qMDtc29xfZ"
      },
      "source": [
        "deep_features_train = deep_features_train.detach().numpy()\n",
        "deep_features_test = deep_features_test.detach().numpy()"
      ],
      "execution_count": 35,
      "outputs": []
    },
    {
      "cell_type": "code",
      "metadata": {
        "id": "A13FUpyc9xbQ"
      },
      "source": [
        "from sklearn.model_selection import train_test_split\n",
        "deep_features_train,deep_features_valid,y_train,y_valid = train_test_split(deep_features_train,target_train,test_size = 10000)"
      ],
      "execution_count": 36,
      "outputs": []
    },
    {
      "cell_type": "code",
      "metadata": {
        "id": "AzXG_kic9xX4",
        "colab": {
          "base_uri": "https://localhost:8080/"
        },
        "outputId": "290e14dc-c216-4370-cf1e-88f52d64409d"
      },
      "source": [
        "# Call the functions to train the classifier and get the predictions\n",
        "# detach().numpy() will convert pytorch tensor to numpy array suitable for training \n",
        "trained_deep_features = train(deep_features_train, y_train)   "
      ],
      "execution_count": 37,
      "outputs": [
        {
          "output_type": "stream",
          "name": "stderr",
          "text": [
            "/usr/local/lib/python3.7/dist-packages/sklearn/svm/_base.py:231: ConvergenceWarning: Solver terminated early (max_iter=1000).  Consider pre-processing your data with StandardScaler or MinMaxScaler.\n",
            "  % self.max_iter, ConvergenceWarning)\n"
          ]
        }
      ]
    },
    {
      "cell_type": "markdown",
      "metadata": {
        "id": "WxZuyBDZI-Rm"
      },
      "source": [
        "#### Evaluating the training loss"
      ]
    },
    {
      "cell_type": "code",
      "metadata": {
        "id": "kzbn91_2999Y",
        "colab": {
          "base_uri": "https://localhost:8080/"
        },
        "outputId": "deeb4cdf-f962-45d4-e7d7-5a3412997d1a"
      },
      "source": [
        "pred_train = trained_deep_features.predict_proba(deep_features_train)\n",
        "eval_train = log_loss(y_train,pred_train) \n",
        "# train_loss = log_loss(y_train, predictions_de_fe_train)\n",
        "print(f\"Loss in Training set is {eval_train}\")"
      ],
      "execution_count": 38,
      "outputs": [
        {
          "output_type": "stream",
          "name": "stdout",
          "text": [
            "Loss in Training set is 0.006053204350175469\n"
          ]
        }
      ]
    },
    {
      "cell_type": "markdown",
      "metadata": {
        "id": "Dc12neaDJDKa"
      },
      "source": [
        "#### Evaluating the loss in validation set."
      ]
    },
    {
      "cell_type": "code",
      "metadata": {
        "id": "4meuO0uD9903",
        "colab": {
          "base_uri": "https://localhost:8080/"
        },
        "outputId": "30df19fe-137f-46f1-d8a7-90638fe7df50"
      },
      "source": [
        "pred_valid = trained_deep_features.predict_proba(deep_features_valid)\n",
        "eval_valid = log_loss(y_valid,pred_valid) \n",
        "# train_loss = log_loss(y_train, predictions_de_fe_train)\n",
        "print(f\"Loss in Validation set is {eval_valid}\")"
      ],
      "execution_count": 39,
      "outputs": [
        {
          "output_type": "stream",
          "name": "stdout",
          "text": [
            "Loss in Validation set is 0.010132644969153835\n"
          ]
        }
      ]
    },
    {
      "cell_type": "code",
      "metadata": {
        "id": "qy7HZWBE99xc"
      },
      "source": [
        "predictions_deep_features = predict(trained_deep_features, deep_features_test)\n",
        "# Calculate the accuracy\n",
        "result = eval_deep_fe(predictions_deep_features, target_test)"
      ],
      "execution_count": 40,
      "outputs": []
    },
    {
      "cell_type": "code",
      "metadata": {
        "id": "JAmXEXZ8JX2l",
        "colab": {
          "base_uri": "https://localhost:8080/"
        },
        "outputId": "a965ef34-d04d-46e1-f155-8a96a5fdc280"
      },
      "source": [
        "# Print the accuracy on Deep features\n",
        "print('Accuracy score of Deep Learning features is:', result*100)"
      ],
      "execution_count": 41,
      "outputs": [
        {
          "output_type": "stream",
          "name": "stdout",
          "text": [
            "Accuracy score of Deep Learning features is: 97.97\n"
          ]
        }
      ]
    },
    {
      "cell_type": "markdown",
      "metadata": {
        "id": "kzFHs_jIzHau"
      },
      "source": [
        "#### Confusion Matrix for Predicted Label and True Label(Ground Truth)."
      ]
    },
    {
      "cell_type": "code",
      "metadata": {
        "id": "vIJMWdfXR5K8",
        "colab": {
          "base_uri": "https://localhost:8080/",
          "height": 334
        },
        "outputId": "61b40bb5-d9c2-4666-adbc-e1cd50559a03"
      },
      "source": [
        "mat_de_fe = confusion_matrix(target_test, predictions_deep_features)\n",
        "\n",
        "plt.figure(figsize = (12,5))\n",
        "\n",
        "# Visualizing the confusion matrix as a heatmap\n",
        "sns.heatmap(mat_de_fe.T, square=True, annot=True, fmt='d', cbar=True)\n",
        "plt.xlabel('true label')\n",
        "plt.ylabel('predicted label');"
      ],
      "execution_count": 42,
      "outputs": [
        {
          "output_type": "display_data",
          "data": {
            "image/png": "[encoded data removed]",
            "text/plain": [
              "<Figure size 864x360 with 2 Axes>"
            ]
          },
          "metadata": {
            "needs_background": "light"
          }
        }
      ]
    },
    {
      "cell_type": "markdown",
      "metadata": {
        "id": "OsUpDsvJ8jfl"
      },
      "source": [
        "#### Summary \n",
        "\n",
        "For Classical feature extraction using HOG and trained with SVM accuracy is 87%.\n",
        "\n",
        "Using deep features generated using a pretrained neural network model and trained using SVM accuracy is 98%."
      ]
    },
    {
      "cell_type": "markdown",
      "metadata": {
        "id": "VHfHdGCP_n6Y"
      },
      "source": [
        "### Please answer the questions below to complete the experiment:\n",
        "\n",
        "\n"
      ]
    },
    {
      "cell_type": "code",
      "metadata": {
        "id": "kmvdJ4aNmGjR"
      },
      "source": [
        "#@title Q.1.  Calculate the MSE for below MLP network with inputs (i1, i2) = (0.05, 0.1), weights for layer h1  (w1, w2) = (0.15, 0.2), weights for layer h2 (w3, w4) = (0.25, 0.3), bias b1 = 0.35, b2 = 0.6, weights for o1 are (w5, w6) = (0.40, 0.45), weights for o2 are (w7, w8) = (0.50, 0.55) where o1 and o2 are outputs of the network, given that the activation function is logistic sigmoid for both the layers ? { run: \"auto\", form-width: \"500px\", display-mode: \"form\" }\n",
        "Answer1 = \"\" #@param [\"\",\"0.012456\",\"0.298371\",\"0.4687\",\"1.00085\"]\n"
      ],
      "execution_count": 43,
      "outputs": []
    },
    {
      "cell_type": "markdown",
      "metadata": {
        "id": "f1mZuK5Trk81"
      },
      "source": [
        "![mlp ERROR.png](data:image/png;base64,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)"
      ]
    },
    {
      "cell_type": "code",
      "metadata": {
        "id": "UX24XAeIJ6Nf",
        "cellView": "form"
      },
      "source": [
        "#@title Q.2.Calculate the total gradient magnitude for HOG feature for below marked pixel?\n",
        "Answer2 = \"\" #@param [\"\",\"20.356\",\"78.58\",\"193.437\",\"150.235\"]\n"
      ],
      "execution_count": 44,
      "outputs": []
    },
    {
      "cell_type": "markdown",
      "metadata": {
        "id": "tGKX4ECctZCW"
      },
      "source": [
        "![HOG image.png](data:image/png;base64,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)"
      ]
    },
    {
      "cell_type": "code",
      "metadata": {
        "id": "NMzKSbLIgFzQ"
      },
      "source": [
        "#@title How was the experiment? { run: \"auto\", form-width: \"500px\", display-mode: \"form\" }\n",
        "Complexity = \"\" #@param [\"\",\"Too Simple, I am wasting time\", \"Good, But Not Challenging for me\", \"Good and Challenging for me\", \"Was Tough, but I did it\", \"Too Difficult for me\"]\n"
      ],
      "execution_count": 45,
      "outputs": []
    },
    {
      "cell_type": "code",
      "metadata": {
        "id": "DjcH1VWSFI2l"
      },
      "source": [
        "#@title If it was too easy, what more would you have liked to be added? If it was very difficult, what would you have liked to have been removed? { run: \"auto\", display-mode: \"form\" }\n",
        "Additional = \"\" #@param {type:\"string\"}\n"
      ],
      "execution_count": 46,
      "outputs": []
    },
    {
      "cell_type": "code",
      "metadata": {
        "id": "4VBk_4VTAxCM"
      },
      "source": [
        "#@title Can you identify the concepts from the lecture which this experiment covered? { run: \"auto\", vertical-output: true, display-mode: \"form\" }\n",
        "Concepts = \"\" #@param [\"\",\"Yes\", \"No\"]\n"
      ],
      "execution_count": 47,
      "outputs": []
    },
    {
      "cell_type": "code",
      "metadata": {
        "id": "XH91cL1JWH7m"
      },
      "source": [
        "#@title  Text and image description/explanation and code comments within the experiment: { run: \"auto\", vertical-output: true, display-mode: \"form\" }\n",
        "Comments = \"\" #@param [\"\",\"Very Useful\", \"Somewhat Useful\", \"Not Useful\", \"Didn't use\"]\n"
      ],
      "execution_count": 48,
      "outputs": []
    },
    {
      "cell_type": "code",
      "metadata": {
        "id": "z8xLqj7VWIKW"
      },
      "source": [
        "#@title Mentor Support: { run: \"auto\", vertical-output: true, display-mode: \"form\" }\n",
        "Mentor_support = \"\" #@param [\"\",\"Very Useful\", \"Somewhat Useful\", \"Not Useful\", \"Didn't use\"]\n"
      ],
      "execution_count": 49,
      "outputs": []
    },
    {
      "cell_type": "code",
      "metadata": {
        "id": "FzAZHt1zw-Y-",
        "cellView": "form",
        "colab": {
          "base_uri": "https://localhost:8080/"
        },
        "outputId": "ba21ed77-bf96-41ff-d171-f2fe862ba0e1"
      },
      "source": [
        "#@title Run this cell to submit your notebook for grading { vertical-output: true }\n",
        "try:\n",
        "  if submission_id:\n",
        "      return_id = submit_notebook()\n",
        "      if return_id : submission_id = return_id\n",
        "  else:\n",
        "      print(\"Please complete the setup first.\")\n",
        "except NameError:\n",
        "  print (\"Please complete the setup first.\")"
      ],
      "execution_count": 50,
      "outputs": [
        {
          "output_type": "stream",
          "name": "stdout",
          "text": [
            "Please answer Question 1\n"
          ]
        }
      ]
    }
  ]
}