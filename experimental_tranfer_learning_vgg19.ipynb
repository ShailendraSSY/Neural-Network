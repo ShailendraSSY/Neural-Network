{
 "cells": [
  {
   "cell_type": "code",
   "execution_count": 17,
   "metadata": {},
   "outputs": [],
   "source": [
    "import numpy as np\n",
    "import keras\n",
    "from keras.models import Sequential\n",
    "from keras.layers import Activation,MaxPooling2D,Dropout\n",
    "from keras.layers.core import Dense, Flatten\n",
    "from keras.optimizers import Adam\n",
    "from keras.optimizers import SGD\n",
    "from keras.metrics import categorical_crossentropy\n",
    "from keras.preprocessing.image import ImageDataGenerator\n",
    "from keras.layers.normalization import BatchNormalization\n",
    "from keras.layers.convolutional import Conv2D\n",
    "from tensorflow.keras.models import load_model\n",
    "from keras.callbacks import ModelCheckpoint,ReduceLROnPlateau,EarlyStopping,LearningRateScheduler,CSVLogger,LambdaCallback,TensorBoard\n",
    "from keras import regularizers\n",
    "import itertools\n",
    "import matplotlib.pyplot as plt\n",
    "from sklearn.metrics import confusion_matrix\n",
    "from keras.regularizers import l2\n",
    "import seaborn as sns\n",
    "import math\n",
    "import os\n",
    "from keras.applications.resnet50 import ResNet50\n",
    "from keras.applications.vgg16 import VGG16\n",
    "from keras.applications.vgg19 import VGG19\n",
    "%matplotlib inline"
   ]
  },
  {
   "cell_type": "code",
   "execution_count": 18,
   "metadata": {
    "scrolled": true
   },
   "outputs": [
    {
     "name": "stdout",
     "output_type": "stream",
     "text": [
      "Found 10514 images belonging to 2 classes.\n",
      "Found 5000 images belonging to 2 classes.\n",
      "Found 2000 images belonging to 2 classes.\n"
     ]
    }
   ],
   "source": [
    "#os.environ[\"CUDA_VISIBLE_DEVICES\"] = \"-1\"\n",
    "train_path = 'cats-and-dogs/train'\n",
    "valid_path = 'cats-and-dogs/valid'\n",
    "test_path  = 'cats-and-dogs/test'\n",
    "train_gen = ImageDataGenerator(\n",
    "    shear_range=0.2,\n",
    "    zoom_range=0.2,\n",
    "    rotation_range=20,\n",
    "    width_shift_range=0.2,\n",
    "    height_shift_range=0.2,\n",
    "    horizontal_flip=True,\n",
    "    channel_shift_range=10.,\n",
    "    fill_mode=\"nearest\"\n",
    ")\n",
    "gen = ImageDataGenerator(rotation_range=10, width_shift_range=0.1, \n",
    "    height_shift_range=0.1, shear_range=0.15, zoom_range=0.1, \n",
    "    channel_shift_range=10., horizontal_flip=True)\n",
    "\n",
    "train_batches = train_gen.flow_from_directory(directory=train_path, target_size=(224,224),\n",
    "    classes=['dog', 'cat'], batch_size=32)\n",
    "\n",
    "valid_batches = ImageDataGenerator().flow_from_directory(directory=valid_path, target_size=(224,224), \n",
    "    classes=['dog', 'cat'], batch_size=32)\n",
    "test_batches = ImageDataGenerator().flow_from_directory(directory=test_path, target_size=(224,224),\n",
    "    classes=['dog', 'cat'], batch_size=32,shuffle=False)\n"
   ]
  },
  {
   "cell_type": "code",
   "execution_count": 19,
   "metadata": {},
   "outputs": [],
   "source": [
    "# learning rate schedule\n",
    "def step_decay(epoch):\n",
    "\tinitial_lrate = 0.001\n",
    "\tdrop = 0.5\n",
    "\tepochs_drop = 1.0\n",
    "\tlrate = initial_lrate * math.pow(drop, math.floor((1+epoch)/epochs_drop))\n",
    "\treturn lrate"
   ]
  },
  {
   "cell_type": "code",
   "execution_count": 20,
   "metadata": {},
   "outputs": [],
   "source": [
    "# Add all the call backs for Keras\n",
    "lr_print_callback = LambdaCallback(\n",
    "    on_epoch_begin=lambda epoch,logs: print(\"LearningRate of %e\",model.optimizer.lr))\n",
    "\n",
    "earlyStopping = EarlyStopping(\n",
    "    monitor='val_loss',\n",
    "    min_delta=0,\n",
    "    verbose=0,\n",
    "    mode='auto',\n",
    "    baseline=None,\n",
    "\tpatience=10,\n",
    "    restore_best_weights=True\n",
    ")\n",
    "\n",
    "reduce_lr_loss = ReduceLROnPlateau(\n",
    "    monitor='val_loss', \n",
    "\tfactor=0.1, \n",
    "    patience=7, \n",
    "\tverbose=1, \n",
    "    min_delta=1e-4,\n",
    "\tmode='auto')\n",
    "\t\n",
    "reduce_lr_loss = ReduceLROnPlateau(\n",
    "    monitor='val_loss', \n",
    "\tfactor=0.1, \n",
    "    patience=7, \n",
    "\tverbose=1, \n",
    "    min_delta=1e-4,\n",
    "\tmode='auto')\n",
    "\n",
    "mcp_save       = ModelCheckpoint(\n",
    "    'cat_dog_ckpt.h5', \n",
    "\tsave_best_only=True, \n",
    "\tmonitor='val_loss', \n",
    "\tmode='auto'\n",
    ")\n",
    "lrate_sched = LearningRateScheduler(step_decay)\n",
    "\n",
    "csv_log = CSVLogger('train.csv', separator=',', append=False)\n"
   ]
  },
  {
   "cell_type": "code",
   "execution_count": 21,
   "metadata": {
    "scrolled": true
   },
   "outputs": [],
   "source": [
    "# plots images with labels within jupyter notebook\n",
    "def plots(ims, figsize=(12,6), rows=1, interp=False, titles=None):\n",
    "    if type(ims[0]) is np.ndarray:\n",
    "        ims = np.array(ims).astype(np.uint8)\n",
    "        if (ims.shape[-1] != 3):\n",
    "            ims = ims.transpose((0,2,3,1))\n",
    "    f = plt.figure(figsize=figsize)\n",
    "    plt.style.use('ggplot')\n",
    "    cols = len(ims)/rows\n",
    "    #cols = 8\n",
    "    for i in range(len(ims)):\n",
    "    #for i in range(10):\n",
    "        sp = f.add_subplot(rows, cols, i+1)\n",
    "        sp.axis('Off')\n",
    "        if titles is not None:\n",
    "            sp.set_title(titles[i], fontsize=16)\n",
    "        plt.imshow(ims[i], interpolation=None if interp else 'none')\n",
    "\n",
    "#test_imgs, labels = next(test_batches)\n",
    "#test_imgs, labels = next(train_gen)\n",
    "\n",
    "#plots(aug_images, figsize=(20,7), rows=2)\n",
    "\n",
    "\n"
   ]
  },
  {
   "cell_type": "code",
   "execution_count": 22,
   "metadata": {},
   "outputs": [],
   "source": [
    "vgg19_model = VGG19()\n",
    "#vgg16_model = VGG16() \n",
    "model_vgg19 = Sequential() \n",
    "for layer in vgg19_model.layers[:-1]: \n",
    "    model_vgg19.add(layer) \n",
    "for layer in model_vgg19.layers: \n",
    "    layer.trainable = False \n",
    "    \n",
    "model_vgg19.add(Dense(2, activation='sigmoid'))\n",
    "\n",
    "\n",
    "mcp_save       = ModelCheckpoint(\n",
    "    'cat_dog_ckpt_vgg19.h5', \n",
    "\tsave_best_only=True, \n",
    "\tmonitor='val_loss', \n",
    "\tmode='auto'\n",
    ")\n",
    "#print(\"Running the Training of Model from Scratch\") \n",
    "#history = model_vgg16.fit_generator(generator=train_batches, steps_per_epoch=len(train_batches),\n",
    "#                                    validation_data=valid_batches, validation_steps=len(valid_batches), \n",
    "#                                    epochs=50, verbose=1)\n",
    "\n"
   ]
  },
  {
   "cell_type": "code",
   "execution_count": 23,
   "metadata": {},
   "outputs": [
    {
     "name": "stdout",
     "output_type": "stream",
     "text": [
      "Running the Training of Model from Scratch\n",
      "Epoch 1/50\n",
      "329/329 [==============================] - 184s 558ms/step - loss: 0.2206 - accuracy: 0.9047 - val_loss: 0.0042 - val_accuracy: 0.9535\n",
      "Epoch 2/50\n",
      "329/329 [==============================] - 197s 600ms/step - loss: 0.1383 - accuracy: 0.9419 - val_loss: 0.0674 - val_accuracy: 0.9605\n",
      "Epoch 3/50\n",
      "329/329 [==============================] - 205s 623ms/step - loss: 0.1241 - accuracy: 0.9491 - val_loss: 0.0257 - val_accuracy: 0.9605\n",
      "Epoch 4/50\n",
      "329/329 [==============================] - 210s 638ms/step - loss: 0.1153 - accuracy: 0.9501 - val_loss: 0.0046 - val_accuracy: 0.9638\n",
      "Epoch 5/50\n",
      "329/329 [==============================] - 209s 635ms/step - loss: 0.1102 - accuracy: 0.9550 - val_loss: 0.4092 - val_accuracy: 0.9645\n",
      "Epoch 6/50\n",
      "329/329 [==============================] - 211s 640ms/step - loss: 0.1062 - accuracy: 0.9553 - val_loss: 0.0134 - val_accuracy: 0.9643\n",
      "Epoch 7/50\n",
      "329/329 [==============================] - 211s 642ms/step - loss: 0.0987 - accuracy: 0.9589 - val_loss: 0.0086 - val_accuracy: 0.9645\n",
      "Epoch 8/50\n",
      "329/329 [==============================] - 209s 636ms/step - loss: 0.0986 - accuracy: 0.9600 - val_loss: 0.3204 - val_accuracy: 0.9650\n",
      "Epoch 9/50\n",
      "329/329 [==============================] - 211s 642ms/step - loss: 0.0980 - accuracy: 0.9585 - val_loss: 0.0986 - val_accuracy: 0.9650\n",
      "Epoch 10/50\n",
      "329/329 [==============================] - 211s 643ms/step - loss: 0.0953 - accuracy: 0.9603 - val_loss: 0.0014 - val_accuracy: 0.9666\n",
      "Epoch 11/50\n",
      "329/329 [==============================] - 211s 641ms/step - loss: 0.0928 - accuracy: 0.9630 - val_loss: 0.0169 - val_accuracy: 0.9654\n",
      "Epoch 12/50\n",
      "329/329 [==============================] - 211s 643ms/step - loss: 0.0907 - accuracy: 0.9619 - val_loss: 0.0348 - val_accuracy: 0.9652\n",
      "Epoch 13/50\n",
      "329/329 [==============================] - 211s 643ms/step - loss: 0.0913 - accuracy: 0.9617 - val_loss: 0.0012 - val_accuracy: 0.9680\n",
      "Epoch 14/50\n",
      "329/329 [==============================] - 213s 647ms/step - loss: 0.0869 - accuracy: 0.9645 - val_loss: 8.8060e-05 - val_accuracy: 0.9667\n",
      "Epoch 15/50\n",
      "329/329 [==============================] - 211s 643ms/step - loss: 0.0873 - accuracy: 0.9637 - val_loss: 0.0306 - val_accuracy: 0.9668\n",
      "Epoch 16/50\n",
      "329/329 [==============================] - 211s 642ms/step - loss: 0.0882 - accuracy: 0.9633 - val_loss: 0.0011 - val_accuracy: 0.9692\n",
      "Epoch 17/50\n",
      "329/329 [==============================] - 212s 645ms/step - loss: 0.0862 - accuracy: 0.9647 - val_loss: 0.1525 - val_accuracy: 0.9676\n",
      "Epoch 18/50\n",
      "329/329 [==============================] - 212s 643ms/step - loss: 0.0821 - accuracy: 0.9672 - val_loss: 0.1235 - val_accuracy: 0.9661\n",
      "Epoch 19/50\n",
      "329/329 [==============================] - 212s 643ms/step - loss: 0.0798 - accuracy: 0.9662 - val_loss: 0.4639 - val_accuracy: 0.9674\n",
      "Epoch 20/50\n",
      "329/329 [==============================] - 212s 645ms/step - loss: 0.0818 - accuracy: 0.9660 - val_loss: 0.0110 - val_accuracy: 0.9701\n",
      "Epoch 21/50\n",
      "329/329 [==============================] - 212s 643ms/step - loss: 0.0825 - accuracy: 0.9648 - val_loss: 0.2260 - val_accuracy: 0.9703\n",
      "Epoch 22/50\n",
      "329/329 [==============================] - 212s 643ms/step - loss: 0.0761 - accuracy: 0.9702 - val_loss: 5.4479e-04 - val_accuracy: 0.9694\n",
      "Epoch 23/50\n",
      "329/329 [==============================] - 212s 645ms/step - loss: 0.0809 - accuracy: 0.9677 - val_loss: 0.0276 - val_accuracy: 0.9681\n",
      "Epoch 24/50\n",
      "329/329 [==============================] - 212s 643ms/step - loss: 0.0786 - accuracy: 0.9670 - val_loss: 0.1578 - val_accuracy: 0.9654\n",
      "Epoch 25/50\n",
      "329/329 [==============================] - 215s 654ms/step - loss: 0.0778 - accuracy: 0.9671 - val_loss: 7.6563e-04 - val_accuracy: 0.9708\n",
      "Epoch 26/50\n",
      "329/329 [==============================] - 216s 657ms/step - loss: 0.0758 - accuracy: 0.9697 - val_loss: 0.0365 - val_accuracy: 0.9679\n",
      "Epoch 27/50\n",
      "329/329 [==============================] - 216s 658ms/step - loss: 0.0749 - accuracy: 0.9684 - val_loss: 0.0077 - val_accuracy: 0.9695\n",
      "Epoch 28/50\n",
      "329/329 [==============================] - 214s 652ms/step - loss: 0.0767 - accuracy: 0.9690 - val_loss: 0.0049 - val_accuracy: 0.9663\n",
      "Epoch 29/50\n",
      "329/329 [==============================] - 217s 660ms/step - loss: 0.0736 - accuracy: 0.9711 - val_loss: 1.9115e-05 - val_accuracy: 0.9661\n",
      "Epoch 30/50\n",
      "329/329 [==============================] - 245s 744ms/step - loss: 0.0745 - accuracy: 0.9690 - val_loss: 0.0072 - val_accuracy: 0.9667\n",
      "Epoch 31/50\n",
      "329/329 [==============================] - 229s 696ms/step - loss: 0.0752 - accuracy: 0.9696 - val_loss: 0.0014 - val_accuracy: 0.9684\n",
      "Epoch 32/50\n",
      "329/329 [==============================] - 219s 666ms/step - loss: 0.0753 - accuracy: 0.9689 - val_loss: 0.0033 - val_accuracy: 0.9659\n",
      "Epoch 33/50\n",
      "329/329 [==============================] - 211s 643ms/step - loss: 0.0720 - accuracy: 0.9711 - val_loss: 0.0042 - val_accuracy: 0.9664\n",
      "Epoch 34/50\n",
      "329/329 [==============================] - 212s 643ms/step - loss: 0.0723 - accuracy: 0.9702 - val_loss: 0.0081 - val_accuracy: 0.9680\n",
      "Epoch 35/50\n",
      "329/329 [==============================] - 214s 652ms/step - loss: 0.0743 - accuracy: 0.9706 - val_loss: 0.0074 - val_accuracy: 0.9673\n",
      "Epoch 36/50\n",
      "329/329 [==============================] - 212s 645ms/step - loss: 0.0720 - accuracy: 0.9698 - val_loss: 0.0423 - val_accuracy: 0.9679\n",
      "Epoch 37/50\n",
      "329/329 [==============================] - 212s 643ms/step - loss: 0.0699 - accuracy: 0.9711 - val_loss: 0.2489 - val_accuracy: 0.9705\n",
      "Epoch 38/50\n",
      "329/329 [==============================] - 211s 642ms/step - loss: 0.0698 - accuracy: 0.9707 - val_loss: 0.3107 - val_accuracy: 0.9690\n",
      "Epoch 39/50\n",
      "329/329 [==============================] - 211s 642ms/step - loss: 0.0722 - accuracy: 0.9706 - val_loss: 0.0078 - val_accuracy: 0.9701\n",
      "Epoch 40/50\n",
      "329/329 [==============================] - 211s 642ms/step - loss: 0.0721 - accuracy: 0.9719 - val_loss: 0.0089 - val_accuracy: 0.9661\n",
      "Epoch 41/50\n",
      "329/329 [==============================] - 211s 641ms/step - loss: 0.0729 - accuracy: 0.9713 - val_loss: 0.0012 - val_accuracy: 0.9687\n",
      "Epoch 42/50\n",
      "329/329 [==============================] - 211s 640ms/step - loss: 0.0671 - accuracy: 0.9735 - val_loss: 0.0428 - val_accuracy: 0.9683\n",
      "Epoch 43/50\n",
      "329/329 [==============================] - 211s 641ms/step - loss: 0.0714 - accuracy: 0.9706 - val_loss: 5.9726e-05 - val_accuracy: 0.9702\n",
      "Epoch 44/50\n",
      "329/329 [==============================] - 210s 637ms/step - loss: 0.0704 - accuracy: 0.9707 - val_loss: 0.1486 - val_accuracy: 0.9710\n",
      "Epoch 45/50\n",
      "329/329 [==============================] - 211s 641ms/step - loss: 0.0700 - accuracy: 0.9724 - val_loss: 0.0755 - val_accuracy: 0.9672\n",
      "Epoch 46/50\n",
      "329/329 [==============================] - 210s 640ms/step - loss: 0.0692 - accuracy: 0.9734 - val_loss: 0.3404 - val_accuracy: 0.9656\n",
      "Epoch 47/50\n",
      "329/329 [==============================] - 209s 635ms/step - loss: 0.0687 - accuracy: 0.9715 - val_loss: 4.0893e-06 - val_accuracy: 0.9674\n",
      "Epoch 48/50\n",
      "329/329 [==============================] - 209s 636ms/step - loss: 0.0673 - accuracy: 0.9737 - val_loss: 0.0298 - val_accuracy: 0.9697\n",
      "Epoch 49/50\n",
      "329/329 [==============================] - 207s 629ms/step - loss: 0.0659 - accuracy: 0.9737 - val_loss: 0.0242 - val_accuracy: 0.9691\n",
      "Epoch 50/50\n",
      "329/329 [==============================] - 207s 629ms/step - loss: 0.0666 - accuracy: 0.9734 - val_loss: 0.0026 - val_accuracy: 0.9690\n"
     ]
    }
   ],
   "source": [
    "if os.path.isfile('cat_dog_ckpt_vgg19.h5'):\n",
    "    #This code is implemented to load the partly trained model which was stopped due to some reason\n",
    "    print(\"Running the Partially Trained Model\")\n",
    "    partially_trained_model = load_model('cat_dog_ckpt_vgg19.h5')\n",
    "    history = partially_trained_model.fit_generator(generator=train_batches, steps_per_epoch=len(train_batches),\n",
    "                                 validation_data=valid_batches, validation_steps=len(valid_batches), \n",
    "                                    epochs=50,callbacks=[mcp_save], verbose=1)\n",
    "else:\n",
    "    print(\"Running the Training of Model from Scratch\")\n",
    "    model_vgg19.compile(loss='binary_crossentropy',optimizer=Adam(lr=0.0001),metrics=['accuracy'])\n",
    "    history = model_vgg19.fit_generator(generator=train_batches, steps_per_epoch=len(train_batches),\n",
    "                                 validation_data=valid_batches, validation_steps=len(valid_batches), \n",
    "                                    epochs=50,callbacks=[mcp_save], verbose=1)\n"
   ]
  },
  {
   "cell_type": "code",
   "execution_count": 24,
   "metadata": {},
   "outputs": [
    {
     "data": {
      "image/png": "[encoded data removed]",
      "text/plain": [
       "<Figure size 432x288 with 1 Axes>"
      ]
     },
     "metadata": {
      "needs_background": "light"
     },
     "output_type": "display_data"
    },
    {
     "data": {
      "image/png": "[encoded data removed]",
      "text/plain": [
       "<Figure size 432x288 with 1 Axes>"
      ]
     },
     "metadata": {
      "needs_background": "light"
     },
     "output_type": "display_data"
    }
   ],
   "source": [
    "acc = history.history['accuracy'] \n",
    "val_acc = history.history['val_accuracy'] \n",
    "loss = history.history['loss'] \n",
    "val_loss = history.history['val_loss']\n",
    "\n",
    "epochs = range(1, len(acc) + 1)\n",
    "\n",
    "plt.plot(epochs, acc, 'bo', label='Training acc')\n",
    "plt.plot(epochs, val_acc, 'b', label='Validation acc') \n",
    "plt.title('Training and validation accuracy') \n",
    "plt.legend() \n",
    "plt.figure() \n",
    "plt.plot(epochs, loss, 'bo', label='Training loss') \n",
    "plt.plot(epochs, val_loss, 'b', label='Validation loss') \n",
    "plt.title('Training and validation loss') \n",
    "plt.savefig('accuracy.png')\n",
    "plt.show()"
   ]
  },
  {
   "cell_type": "code",
   "execution_count": 25,
   "metadata": {},
   "outputs": [
    {
     "data": {
      "image/png": "[encoded data removed]",
      "text/plain": [
       "<Figure size 288x288 with 2 Axes>"
      ]
     },
     "metadata": {
      "needs_background": "light"
     },
     "output_type": "display_data"
    },
    {
     "data": {
      "text/plain": [
       "<Figure size 432x288 with 0 Axes>"
      ]
     },
     "metadata": {},
     "output_type": "display_data"
    }
   ],
   "source": [
    "predictions = model_vgg16.predict_generator(generator=test_batches, steps=len(test_batches), verbose=0)\n",
    "pred_label = np.argmax(predictions,axis=1)\n",
    "classes = np.argmax(predictions, axis=1)\n",
    "cm = confusion_matrix(test_batches.labels,pred_label)\n",
    "f,ax = plt.subplots(figsize=(4, 4))\n",
    "sns.heatmap(cm, annot=True, linewidths=0.01,cmap=\"Greens\",linecolor=\"gray\", fmt= '.1f',ax=ax)\n",
    "plt.xlabel(\"Predicted Label\")\n",
    "plt.ylabel(\"True Label\")\n",
    "plt.title(\"Confusion Matrix\")\n",
    "plt.show()\n",
    "plt.savefig('confusion_matrix.png')"
   ]
  },
  {
   "cell_type": "code",
   "execution_count": 26,
   "metadata": {},
   "outputs": [],
   "source": [
    "from sklearn.metrics import precision_score\n",
    "from sklearn.metrics import recall_score\n",
    "from sklearn.metrics import f1_score\n",
    "from sklearn.metrics import roc_curve\n",
    "from sklearn.metrics import roc_auc_score\n",
    "from sklearn import metrics\n",
    "tn, fp, fn, tp = cm.ravel()\n",
    "accuracy = (tn + tp)/(tn + tp + fn +fp)\n",
    "precision = precision_score(test_batches.labels, pred_label, average='binary')\n",
    "recall = recall_score(test_batches.labels, pred_label,average='binary')\n",
    "f1_score = f1_score(test_batches.labels, pred_label, average='binary')\n",
    "score = metrics.accuracy_score(test_batches.labels, pred_label)\n",
    "log_score = metrics.log_loss(pred_label, predictions)"
   ]
  },
  {
   "cell_type": "code",
   "execution_count": 27,
   "metadata": {},
   "outputs": [
    {
     "name": "stdout",
     "output_type": "stream",
     "text": [
      "Precision  98.87869520897044\n",
      "Recall  97.0\n",
      "F1 Score  97.0\n",
      "Accuracy of the model 97.95\n",
      "Accuracy score: 0.9795\n",
      "Log loss score: 0.020318736899259157\n"
     ]
    }
   ],
   "source": [
    "print(\"Precision \",precision*100)\n",
    "print(\"Recall \",recall*100)\n",
    "print(\"F1 Score \",recall*100)\n",
    "print(\"Accuracy of the model\",accuracy*100)\n",
    "print(\"Accuracy score: {}\".format(score))\n",
    "print(\"Log loss score: {}\".format(log_score))"
   ]
  },
  {
   "cell_type": "code",
   "execution_count": 28,
   "metadata": {
    "scrolled": true
   },
   "outputs": [
    {
     "data": {
      "image/png": "[encoded data removed]",
      "text/plain": [
       "<Figure size 432x288 with 1 Axes>"
      ]
     },
     "metadata": {
      "needs_background": "light"
     },
     "output_type": "display_data"
    }
   ],
   "source": [
    "from sklearn.metrics import roc_curve, auc\n",
    "def plot_roc(pred,y):\n",
    "    fpr, tpr, _ = roc_curve(y, pred)\n",
    "    roc_auc = auc(fpr, tpr)\n",
    "\n",
    "    plt.figure()\n",
    "    plt.plot(fpr, tpr, label='ROC curve (area = %0.2f)' % roc_auc)\n",
    "    plt.plot([0, 1], [0, 1], 'k--')\n",
    "    plt.xlim([0.0, 1.0])\n",
    "    plt.ylim([0.0, 1.05])\n",
    "    plt.xlabel('False Positive Rate')\n",
    "    plt.ylabel('True Positive Rate')\n",
    "    plt.title('Receiver Operating Characteristic (ROC)')\n",
    "    plt.legend(loc=\"lower right\")\n",
    "    plt.show()\n",
    "plot_roc(pred_label,test_batches.labels)"
   ]
  },
  {
   "cell_type": "code",
   "execution_count": null,
   "metadata": {},
   "outputs": [],
   "source": []
  }
 ],
 "metadata": {
  "kernelspec": {
   "display_name": "Python 3",
   "language": "python",
   "name": "python3"
  },
  "language_info": {
   "codemirror_mode": {
    "name": "ipython",
    "version": 3
   },
   "file_extension": ".py",
   "mimetype": "text/x-python",
   "name": "python",
   "nbconvert_exporter": "python",
   "pygments_lexer": "ipython3",
   "version": "3.7.6"
  }
 },
 "nbformat": 4,
 "nbformat_minor": 4
}
